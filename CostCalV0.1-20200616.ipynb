{
 "cells": [
  {
   "cell_type": "code",
   "execution_count": 1,
   "metadata": {},
   "outputs": [],
   "source": [
    "#连接ERP的DB2数据库，获取TACAIA2（前台：ACAI25）,TACACM4(ACAC80非产成品),TACACMM(ACACMM),TACACJ5(废钢入库履历)\n",
    "import ibm_db\n",
    "import pandas as pd\n",
    "connStr='DATABASE=BHBXA1;HOSTNAME=192.168.2.28;PORT=50000;PROTOCOL=TCPIP;UID=bhbxa1;PWD=bhbxa1'\n",
    "con=ibm_db.connect(connStr,'','')\n"
   ]
  },
  {
   "cell_type": "code",
   "execution_count": 2,
   "metadata": {},
   "outputs": [],
   "source": [
    "import ibm_db_dbi"
   ]
  },
  {
   "cell_type": "code",
   "execution_count": 3,
   "metadata": {},
   "outputs": [],
   "source": [
    "conn=ibm_db_dbi.Connection(con)"
   ]
  },
  {
   "cell_type": "code",
   "execution_count": 4,
   "metadata": {
    "tags": []
   },
   "outputs": [],
   "source": [
    "tacaia2=pd.read_sql('select * from tacaia2',conn,parse_dates={'APP_TRNC_TIME':'%Y%m%d%H%M%S'})"
   ]
  },
  {
   "cell_type": "code",
   "execution_count": 5,
   "metadata": {},
   "outputs": [
    {
     "output_type": "execute_result",
     "data": {
      "text/plain": "Index(['01', '33', '03', '31', '50', '51'], dtype='object')"
     },
     "metadata": {},
     "execution_count": 5
    }
   ],
   "source": [
    "from pandas.api.types import CategoricalDtype\n",
    "tacaia2['ACCOUNT_TITLE_ITEM']=tacaia2['ACCOUNT_TITLE_ITEM'].astype(CategoricalDtype(['01','33','03','31','50','51']))#这里对账务代码是01-33-03-31-50-51的顺序，因为先有产出这个材料，再有后续的专用充当和投入或销售，这里暂不考虑一个材料号被二次以上转用的情况，如上一个木材料转用经过工序加工后，转用产出一个材料号，当期这个材料又直接被专用挂了另外的订单号的情况\n",
    "tacaia2['ACCOUNT_TITLE_ITEM'].cat.categories"
   ]
  },
  {
   "cell_type": "code",
   "execution_count": 6,
   "metadata": {},
   "outputs": [],
   "source": [
    "tacaia2.set_index(['ACCOUNT_TITLE_ITEM','MAT_NO','UNIT_CODE','SALE_ORDER_SUB_NO'],inplace=True) #将账务代码提到顺序第1位，以方便下面在同一投入账务代码下，按有投入的材料号迭代。"
   ]
  },
  {
   "cell_type": "code",
   "execution_count": 14,
   "metadata": {},
   "outputs": [],
   "source": [
    "tacaia2.sort_index(level='MAT_NO',inplace=True) #如果按多层索引综合排序，不行，则单按账务代码排序"
   ]
  },
  {
   "cell_type": "code",
   "execution_count": 15,
   "metadata": {},
   "outputs": [],
   "source": [
    "from numpy import nan as NA\n",
    "tacaia2=tacaia2.dropna() #剔除第一行的空行"
   ]
  },
  {
   "cell_type": "code",
   "execution_count": 37,
   "metadata": {},
   "outputs": [],
   "source": [
    "tacaia2['MAT_TYPE']=tacaia2['MAT_TYPE'].astype('int64')"
   ]
  },
  {
   "cell_type": "code",
   "execution_count": 8,
   "metadata": {},
   "outputs": [],
   "source": [
    "tacaia2.insert(tacaia2.shape[1],'MAT_VALUE',0.00)\n",
    "tacaia2.insert(tacaia2.shape[1],'MAT_PRICE',0.00)\n",
    "tacaia2.insert(tacaia2.shape[1],'LOST_VALUE',0.00)\n",
    "tacaia2.insert(tacaia2.shape[1],'LOST_PRICE',0.00)\n",
    "tacaia2.insert(tacaia2.shape[1],'SALE_VALUE',0.00)\n",
    "tacaia2.insert(tacaia2.shape[1],'SALE_PRICE',0.00)"
   ]
  },
  {
   "cell_type": "code",
   "execution_count": 121,
   "metadata": {},
   "outputs": [],
   "source": [
    "def InputPrices(MAT_NO,PRODUCT_CODE,MTRL_NO,MAT_WT,ACC_TITLE):\n",
    "    if PRODUCT_CODE[0] in ['0','1','2']:\n",
    "        MatPrice=(tacacm4.loc[PRODUCT_CODE,'PRST_VRNC_AMOUNT'][0]+tacacm4.loc[PRODUCT_CODE,'OTHR_INCM_VRNC_AMT'][0]-tacacm4.loc[PRODUCT_CODE,'OTHER_SEND_VRNC_AMT'][0]+tacacm4.loc[PRODUCT_CODE,'CRRT_OTPT_VRNC_AMT'][0]+tacacm4.loc[PRODUCT_CODE,'IN_MATCH_VRNC_AMT'][0])/(tacacm4.loc[PRODUCT_CODE,'PERIOD_START_N'][0]+tacacm4.loc[PRODUCT_CODE,'OTHERS_RECEIVE_N'][0]-tacacm4.loc[PRODUCT_CODE,'OTHERS_SEND_N'][0]+tacacm4.loc[PRODUCT_CODE,'CURRENT_N'][0]+tacacm4.loc[PRODUCT_CODE,'IN_MATCH_N'][0])#投入材料单价=（期初金额+其他收入-其他支出+本期产出+本期转入）的金额/重量\n",
    "    elif PRODUCT_CODE[0] in ['3','4','5','9']:\n",
    "        MatPrice=(tacacmm.loc[PRODUCT_CODE,'START_AMOUNT'][0]+tacacmm.loc[PRODUCT_CODE,'OTHR_INCM_ACT_AMT'][0]-tacacmm.loc[PRODUCT_CODE,'OTHR_SEND_ACT_AMT'][0]+tacacmm.loc[PRODUCT_CODE,'CRRT_OTPT_ACT_AMT'][0]+tacacmm.loc[PRODUCT_CODE,'NEXT_MATCH_AMT'][0]\n",
    ")/(tacacmm.loc[PRODUCT_CODE,'PERIOD_START_N'][0]+tacacmm.loc[PRODUCT_CODE,'OTHERS_RECEIVE_N'][0]-tacacmm.loc[PRODUCT_CODE,'OTHERS_SEND_N'][0]+tacacmm.loc[PRODUCT_CODE,'CURRENT_N'][0]+tacacmm.loc[PRODUCT_CODE,'NEXT_MATCH_USED_N'][0]\n",
    ")#投入材料单价=（期初金额+其他收入-其他支出+本期产出+本期转入）的金额/重量\n",
    "    else:\n",
    "        raise Exception('MAT_TYPE not NORMAL!')\n",
    "    MatValue=MatPrice*MAT_WT\n",
    "    \n",
    "    LostPercent=0.4#次板和二级品的损失百分比（以后如果要跟着系统参数表，到时可另从数据库取数，这里暂时设成常用的40%）\n",
    "    #判断投入材料号为参数中材料号&物料形态数值大于3（即为二等品或废次）的计数是否大于0，是则分无聊形态为4和5、9计算损失金额；否则损失金额为0\n",
    "    if tacaia2.loc['0' + ACC_TITLE[1]][(tacaia2.loc['0' + ACC_TITLE[1]].IN_MAT_NO==MAT_NO) &(tacaia2.loc['0' + ACC_TITLE[1]].MAT_TYPE>3)].count()['MAT_WT']>0:\n",
    "        LostValue=tacaia2.loc['0' + ACC_TITLE[1]][(tacaia2.loc['0' + ACC_TITLE[1]].IN_MAT_NO==MAT_NO) & ((tacaia2.loc['0' + ACC_TITLE[1]].MAT_TYPE==4) | (tacaia2.loc['0' + ACC_TITLE[1]].MAT_TYPE==5))].sum()['MAT_WT']*MatPrice*LostPercent+tacaia2.loc['0' + ACC_TITLE[1]][(tacaia2.loc['0' + ACC_TITLE[1]].IN_MAT_NO==MAT_NO) &(tacaia2.loc['0' + ACC_TITLE[1]].MAT_TYPE==9)].sum()['MAT_WT']*(MatPrice-tacacj5.loc['900' + MTRL_NO + '000000','CRRT_YEAR_STD_AMT'][0])\n",
    "    else:\n",
    "        LostValue=0.00\n",
    "\n",
    "    if tacaia2.loc['0' + ACC_TITLE[1]][(tacaia2.loc['0' + ACC_TITLE[1]].IN_MAT_NO==MAT_NO)&(tacaia2.loc['0' + ACC_TITLE[1]].MAT_TYPE<=3)].count()['MAT_WT']>0:\n",
    "        LostPrice=LostValue/tacaia2.loc['0' + ACC_TITLE[1]][(tacaia2.loc['0' + ACC_TITLE[1]].IN_MAT_NO==MAT_NO)&(tacaia2.loc['0' + ACC_TITLE[1]].MAT_TYPE<=3)].sum()['MAT_WT']\n",
    "        OtherLostValue=0#如果投入没有正品产出，需将材料损失汇总分摊到产出最多的产副品上。\n",
    "    else:\n",
    "        OtherLostValue=LostValue\n",
    "    return {\n",
    "        'Mat_Value':MatValue,\n",
    "        'Mat_Price':MatPrice,\n",
    "        'Lost_Value':LostValue,\n",
    "        'Lost_Price':LostPrice,\n",
    "        'Other_Lost_Value':OtherLostValue\n",
    "    }"
   ]
  },
  {
   "cell_type": "code",
   "execution_count": 122,
   "metadata": {},
   "outputs": [],
   "source": [
    "def SalePrices(PRODUCT_CODE,MAT_WT):\n",
    "    if PRODUCT_CODE[0] in ['0','1','2']:\n",
    "        SalePrice=(tacacm4.loc[PRODUCT_CODE,'PRST_VRNC_AMOUNT'][0]+tacacm4.loc[PRODUCT_CODE,'OTHR_INCM_VRNC_AMT'][0]-tacacm4.loc[PRODUCT_CODE,'OTHER_SEND_VRNC_AMT'][0]+tacacm4.loc[PRODUCT_CODE,'CRRT_OTPT_VRNC_AMT'][0]+tacacm4.loc[PRODUCT_CODE,'IN_MATCH_VRNC_AMT'][0]-tacacm4.loc[PRODUCT_CODE,'NEXT_PRSP_VRNC_AMT'][0]-tacacm4.loc[PRODUCT_CODE,'NEXT_MATCH_VRNC_AMT'][0])/(tacacm4.loc[PRODUCT_CODE,'PERIOD_START_N'][0]+tacacm4.loc[PRODUCT_CODE,'OTHERS_RECEIVE_N'][0]-tacacm4.loc[PRODUCT_CODE,'OTHERS_SEND_N'][0]+tacacm4.loc[PRODUCT_CODE,'CURRENT_N'][0]+tacacm4.loc[PRODUCT_CODE,'IN_MATCH_N'][0]-tacacm4.loc[PRODUCT_CODE,'NEXT_PRSP_USED_N'][0]-tacacm4.loc[PRODUCT_CODE,'NEXT_MATCH_USED_N'][0])#销售材料单价=（期初金额+其他收入-其他支出+本期产出+本期转入-本期投入-本期转出）的金额/重量\n",
    "    elif PRODUCT_CODE[0] in ['3','4','5','9']:\n",
    "        SalePrice=(tacacmm.loc[PRODUCT_CODE,'START_AMOUNT'][0]+tacacmm.loc[PRODUCT_CODE,'OTHR_INCM_ACT_AMT'][0]-tacacmm.loc[PRODUCT_CODE,'OTHR_SEND_ACT_AMT'][0]+tacacmm.loc[PRODUCT_CODE,'CRRT_OTPT_ACT_AMT'][0]+tacacmm.loc[PRODUCT_CODE,'NEXT_MATCH_AMT'][0]-tacacmm.loc[PRODUCT_CODE,'NEXT_PRSP_STD_AMT'][0]-tacacmm.loc[PRODUCT_CODE,'NEXT_MATCH_AMT'][0]\n",
    ")/(tacacmm.loc[PRODUCT_CODE,'PERIOD_START_N'][0]+tacacmm.loc[PRODUCT_CODE,'OTHERS_RECEIVE_N'][0]-tacacmm.loc[PRODUCT_CODE,'OTHERS_SEND_N'][0]+tacacmm.loc[PRODUCT_CODE,'CURRENT_N'][0]+tacacmm.loc[PRODUCT_CODE,'NEXT_MATCH_USED_N'][0]-tacacmm.loc[PRODUCT_CODE,'NEXT_PRSP_USED_N'][0]-tacacmm.loc[PRODUCT_CODE,'NEXT_MATCH_USED_N'][0]\n",
    ")#销售材料单价=（期初金额+其他收入-其他支出+本期产出+本期转入-本期投入-本期转出）的金额/重量\n",
    "    SaleValue=SalePrice*MAT_WT\n",
    "    return {\n",
    "        'Sale_Value':SaleValue,\n",
    "        'Sale_Price':SalePrice\n",
    "    }"
   ]
  },
  {
   "cell_type": "code",
   "execution_count": 123,
   "metadata": {},
   "outputs": [],
   "source": [
    "def ProducePrices(INPUT_MAT,ACC_TITLE,MAT_TYPE,MAT_WT,MTRL_NO):\n",
    "    #tacaia2.loc[('3'+ACC_TITLE[1],Input_MAT),'']\n",
    "    if MAT_TYPE<=3:\n",
    "        MatPrice=tacaia2.loc[('3'+ACC_TITLE[1],INPUT_MAT),'MAT_PRICE'][0]\n",
    "        MatValue=MatPrice*MAT_WT\n",
    "        LostPrice=tacaia2.loc[('3'+ACC_TITLE[1],INPUT_MAT),'LOST_PRICE'][0]\n",
    "        LostValue=LostPrice*MAT_WT\n",
    "    elif MAT_TYPE in [4,5]:\n",
    "        LostPercent=0.4#次板和二级品的损失百分比（以后如果要跟着系统参数表，到时可另从数据库取数，这里暂时设成常用的40%）\n",
    "        MatPrice=tacaia2.loc[('3'+ACC_TITLE[1],INPUT_MAT),'MAT_PRICE'][0]*(1-LostPercent)\n",
    "        MatValue=MatPrice*MAT_WT\n",
    "        LostPrice=0.00\n",
    "        LostValue=LostPrice*MAT_WT\n",
    "    elif MAT_TYPE==9:\n",
    "        MatPrice=tacacj5.loc['900' + MTRL_NO + '000000','CRRT_YEAR_STD_AMT'][0]\n",
    "        MatValue=MatPrice*MAT_WT\n",
    "        LostPrice=0.00\n",
    "        LostValue=LostPrice*MAT_WT\n",
    "    return {\n",
    "        'Mat_Value':MatValue,\n",
    "        'Mat_Price':MatPrice,        \n",
    "        'Lost_Value':LostValue,\n",
    "        'Lost_Price':LostPrice\n",
    "    }"
   ]
  },
  {
   "cell_type": "code",
   "execution_count": 13,
   "metadata": {},
   "outputs": [],
   "source": [
    "#tacaia2.sort_index(level=['ACCOUNT_TITLE_ITEM','MAT_NO','UNIT_CODE','SALE_ORDER_SUB_NO'],inplace=True) #跟着前面重设索引，把账务代码提到第1位，对应改变索引排序"
   ]
  },
  {
   "cell_type": "code",
   "execution_count": 16,
   "metadata": {},
   "outputs": [],
   "source": [
    "#tacaia2.loc['31','KEY_SEQ']"
   ]
  },
  {
   "cell_type": "code",
   "execution_count": 19,
   "metadata": {
    "tags": []
   },
   "outputs": [],
   "source": [
    "#tacaia2.to_excel('tacaia2-202005.xlsx',sheet_name='tacaia2')\n",
    "#tacaia2.loc[('B2003125AFA','LF03','33','MD2005061901'),'PRODUCT_CODE'][0][:4] #Pandas多层索引的引用\n",
    "#[x[0] for x in tacaia2.index] #多层索引中一层所有元素的列表"
   ]
  },
  {
   "cell_type": "code",
   "execution_count": 20,
   "metadata": {
    "tags": []
   },
   "outputs": [
    {
     "output_type": "stream",
     "name": "stdout",
     "text": "202007\n"
    }
   ],
   "source": [
    "acc_period=tacaia2['ACCOUNT_PERIOD'][1]\n",
    "print(acc_period)"
   ]
  },
  {
   "cell_type": "code",
   "execution_count": 21,
   "metadata": {},
   "outputs": [],
   "source": [
    "tacacm4=pd.read_sql('select * from tacacm4 where YEAR=? and MON=?',conn,params=[acc_period[:4],acc_period[4:]])\n",
    "tacacm4.set_index(['PRODUCT_CODE'],inplace=True)\n",
    "tacacm4.drop(['REC_CREATOR', 'REC_CREATE_TIME', 'REC_REVISOR', 'REC_REVISE_TIME','ARCHIVE_FLAG', 'COMPANY_CODE', 'COMPANY_CNAME','COST_CENTER', 'STD_PRICE',\"CURRNT_STD_AMOUNT\",\"CRRT_OTPT_STD_AMT\",\"OTHR_INCM_STD_AMT\",\"SALE_STD_AMOUNT\",\"NEXT_PRSP_STD_AMT\",\"NEXT_MATCH_STD_AMT\",\"OTHER_SEND_STD_AMT\",\"PERIOD_END_STD_AMT\",\"IN_MATCH_STD_AMT\"],axis=1,inplace=True)\n",
    "tacacm4[[\"CURRENT_N\",\"CRRT_OTPT_VRNC_AMT\",\"SALE_N\",\"SALE_VRNC_AMOUNT\",\"NEXT_PRSP_USED_N\",\"NEXT_PRSP_VRNC_AMT\",\"NEXT_MATCH_USED_N\",\"NEXT_MATCH_VRNC_AMT\",\"PERIOD_END_N\",\"PERIOD_END_VRNC_AMT\",\"IN_MATCH_N\",\"IN_MATCH_VRNC_AMT\"]]=[0.00,0.00,0.00,0.00,0.00,0.00,0.00,0.00,0.00,0.00,0.00,0.00]"
   ]
  },
  {
   "cell_type": "code",
   "execution_count": 22,
   "metadata": {},
   "outputs": [],
   "source": [
    "#tacacmm.to_excel('tacacmm-202006.xlsx')"
   ]
  },
  {
   "cell_type": "code",
   "execution_count": 23,
   "metadata": {},
   "outputs": [],
   "source": [
    "#tacacm4[['PERIOD_END_N','PERIOD_END_VRNC_AMT']]#test"
   ]
  },
  {
   "cell_type": "code",
   "execution_count": 24,
   "metadata": {},
   "outputs": [],
   "source": [
    "#tacacm4[['PERIOD_END_N','PERIOD_END_VRNC_AMT']]=[0.00,0.00]\n",
    "#tacacm4[['PERIOD_END_N','PERIOD_END_VRNC_AMT']]#test"
   ]
  },
  {
   "cell_type": "code",
   "execution_count": 25,
   "metadata": {},
   "outputs": [
    {
     "output_type": "execute_result",
     "data": {
      "text/plain": "Index(['YEAR', 'MON', 'PERIOD_START_N', 'PRST_VRNC_AMOUNT', 'CURRENT_N',\n       'CRRT_OTPT_VRNC_AMT', 'OTHERS_RECEIVE_N', 'OTHR_INCM_VRNC_AMT',\n       'SALE_N', 'SALE_VRNC_AMOUNT', 'NEXT_PRSP_USED_N', 'NEXT_PRSP_VRNC_AMT',\n       'NEXT_MATCH_USED_N', 'NEXT_MATCH_VRNC_AMT', 'OTHERS_SEND_N',\n       'OTHER_SEND_VRNC_AMT', 'PERIOD_END_N', 'PERIOD_END_VRNC_AMT',\n       'IN_MATCH_N', 'IN_MATCH_VRNC_AMT'],\n      dtype='object')"
     },
     "metadata": {},
     "execution_count": 25
    }
   ],
   "source": [
    "tacacm4.columns#test"
   ]
  },
  {
   "cell_type": "code",
   "execution_count": 26,
   "metadata": {},
   "outputs": [],
   "source": [
    "tacacmm=pd.read_sql('select * from tacacmm where YEAR=? and MON=?',conn,params=[acc_period[:4],acc_period[4:]])\n",
    "tacacmm.set_index(['PRODUCT_CODE'],inplace=True)\n",
    "tacacmm.drop(['REC_CREATOR', 'REC_CREATE_TIME', 'REC_REVISOR', 'REC_REVISE_TIME','ARCHIVE_FLAG', 'COMPANY_CODE', 'COMPANY_CNAME', 'STD_PRICE'],axis=1,inplace=True)\n",
    "tacacmm[['CURRENT_N','CRRT_OTPT_ACT_AMT','NEXT_MATCH_AMT', 'NEXT_MATCH_USED_N', 'GM_N', 'GM_ACT_AMT', 'SY_N','SY_ACT_AMT', 'LL_N','LL_ACT_AMT','PERIOD_END_N', 'PERIOD_END_ACT_AMT','NEXT_PRSP_USED_N','NEXT_PRSP_STD_AMT', 'IN_MATCH_AMT', 'IN_MATCH_N']]=[0.00,0.00,0.00,0.00,0.00,0.00,0.00,0.00,0.00,0.00,0.00,0.00,0.00,0.00,0.00,0.00]"
   ]
  },
  {
   "cell_type": "code",
   "execution_count": 27,
   "metadata": {},
   "outputs": [],
   "source": [
    "tacacj5=pd.read_sql_query('select * from tacacj5 where YEAR_MON=?',conn,params=[acc_period])\n",
    "tacacj5.set_index(['PRODUCT_CODE'],inplace=True)\n",
    "tacacj5.drop(['REC_CREATOR', 'REC_CREATE_TIME', 'REC_REVISOR', 'REC_REVISE_TIME','ARCHIVE_FLAG', 'COMPANY_CODE', 'COMPANY_CNAME'],axis=1,inplace=True)"
   ]
  },
  {
   "cell_type": "code",
   "execution_count": 28,
   "metadata": {
    "tags": []
   },
   "outputs": [
    {
     "output_type": "stream",
     "name": "stdout",
     "text": "YEAR_MON PRODUCT_CODE_CNAME  CRRT_YEAR_STD_AMT\nPRODUCT_CODE                                               \n9001000000     202007                                3.5398\n9001100000     202007                                3.5398\n9002000000     202007                                4.1592\n9002400000     202007                                4.1592\n9002405893     202007                                4.1592\n              YEAR MON  PERIOD_START_N  PRST_VRNC_AMOUNT  CURRENT_N  \\\nPRODUCT_CODE                                                          \n0003100002    2020  07         6989.00          89829.95        0.0   \n0003100003    2020  07         5386.00          67926.77        0.0   \n0003100004    2020  07        78769.37         985215.95        0.0   \n0003100006    2020  07        48716.03         578597.51        0.0   \n0003100719    2020  07         4138.88          54112.68        0.0   \n\n              CRRT_OTPT_VRNC_AMT  OTHERS_RECEIVE_N  OTHR_INCM_VRNC_AMT  \\\nPRODUCT_CODE                                                             \n0003100002                   0.0            9742.0           125541.22   \n0003100003                   0.0               0.0                0.00   \n0003100004                   0.0           26519.0           342206.81   \n0003100006                   0.0          267695.0          3081659.80   \n0003100719                   0.0           31897.0           390798.12   \n\n              SALE_N  SALE_VRNC_AMOUNT  NEXT_PRSP_USED_N  NEXT_PRSP_VRNC_AMT  \\\nPRODUCT_CODE                                                                   \n0003100002       0.0               0.0               0.0                 0.0   \n0003100003       0.0               0.0               0.0                 0.0   \n0003100004       0.0               0.0               0.0                 0.0   \n0003100006       0.0               0.0               0.0                 0.0   \n0003100719       0.0               0.0               0.0                 0.0   \n\n              NEXT_MATCH_USED_N  NEXT_MATCH_VRNC_AMT  OTHERS_SEND_N  \\\nPRODUCT_CODE                                                          \n0003100002                  0.0                  0.0            0.0   \n0003100003                  0.0                  0.0            0.0   \n0003100004                  0.0                  0.0            0.0   \n0003100006                  0.0                  0.0            0.0   \n0003100719                  0.0                  0.0            0.0   \n\n              OTHER_SEND_VRNC_AMT  PERIOD_END_N  PERIOD_END_VRNC_AMT  \\\nPRODUCT_CODE                                                           \n0003100002                    0.0           0.0                  0.0   \n0003100003                    0.0           0.0                  0.0   \n0003100004                    0.0           0.0                  0.0   \n0003100006                    0.0           0.0                  0.0   \n0003100719                    0.0           0.0                  0.0   \n\n              IN_MATCH_N  IN_MATCH_VRNC_AMT  \nPRODUCT_CODE                                 \n0003100002           0.0                0.0  \n0003100003           0.0                0.0  \n0003100004           0.0                0.0  \n0003100006           0.0                0.0  \n0003100719           0.0                0.0  \n              YEAR MON  PERIOD_START_N  START_AMOUNT  CURRENT_N  \\\nPRODUCT_CODE                                                      \n3003100246    2020  07            0.00          0.00        0.0   \n3003200594    2020  07            0.00          0.00        0.0   \n30033Z0061    2020  07            0.00          0.00        0.0   \n30033Z11135   2020  07          904.26      17461.87        0.0   \n30033Z11136   2020  07           39.88        827.80        0.0   \n\n              CRRT_OTPT_ACT_AMT  OTHERS_RECEIVE_N  OTHR_INCM_ACT_AMT  \\\nPRODUCT_CODE                                                           \n3003100246                  0.0               0.0                0.0   \n3003200594                  0.0               0.0                0.0   \n30033Z0061                  0.0               0.0                0.0   \n30033Z11135                 0.0               0.0                0.0   \n30033Z11136                 0.0               0.0                0.0   \n\n              NEXT_MATCH_AMT  NEXT_MATCH_USED_N     ...      LL_N  LL_ACT_AMT  \\\nPRODUCT_CODE                                        ...                         \n3003100246               0.0                0.0     ...       0.0         0.0   \n3003200594               0.0                0.0     ...       0.0         0.0   \n30033Z0061               0.0                0.0     ...       0.0         0.0   \n30033Z11135              0.0                0.0     ...       0.0         0.0   \n30033Z11136              0.0                0.0     ...       0.0         0.0   \n\n              OTHERS_SEND_N  OTHR_SEND_ACT_AMT  PERIOD_END_N  \\\nPRODUCT_CODE                                                   \n3003100246              0.0                0.0           0.0   \n3003200594              0.0                0.0           0.0   \n30033Z0061              0.0                0.0           0.0   \n30033Z11135             0.0                0.0           0.0   \n30033Z11136             0.0                0.0           0.0   \n\n              PERIOD_END_ACT_AMT  NEXT_PRSP_USED_N  NEXT_PRSP_STD_AMT  \\\nPRODUCT_CODE                                                            \n3003100246                   0.0               0.0                0.0   \n3003200594                   0.0               0.0                0.0   \n30033Z0061                   0.0               0.0                0.0   \n30033Z11135                  0.0               0.0                0.0   \n30033Z11136                  0.0               0.0                0.0   \n\n              IN_MATCH_AMT  IN_MATCH_N  \nPRODUCT_CODE                            \n3003100246             0.0         0.0  \n3003200594             0.0         0.0  \n30033Z0061             0.0         0.0  \n30033Z11135            0.0         0.0  \n30033Z11136            0.0         0.0  \n\n[5 rows x 24 columns]\n"
    }
   ],
   "source": [
    "print(tacacj5.head())\n",
    "print(tacacm4.head())\n",
    "print(tacacmm.head())"
   ]
  },
  {
   "cell_type": "code",
   "execution_count": 29,
   "metadata": {},
   "outputs": [],
   "source": [
    "#将ACAI25表按1、材料号升序；2、账务代码：按33 03 31 01 50 51 的顺序排列；3、销售合同号按升序排列\n",
    "#tacaia2[tacaia2['MAT_WT'].rank(method='dense',ascending=False)==3]"
   ]
  },
  {
   "cell_type": "code",
   "execution_count": 30,
   "metadata": {
    "tags": []
   },
   "outputs": [
    {
     "output_type": "execute_result",
     "data": {
      "text/plain": "\"acc_ttl_list=['33','03','31','01','50','51']\\ntacaia2['ACCOUNT_TITLE_ITEM']=tacaia2['ACCOUNT_TITLE_ITEM'].astype('category')\\ntacaia2['ACCOUNT_TITLE_ITEM'].cat.set_category(acc_ttl_list,inplace=True)\\ntacaia2.sortvalues(['MAT_NO','ACCOUNT_TITLE_ITEM','SALE_ORDER_SUB_NO'],ascending=True,inplace=True)\\ntacaia2\""
     },
     "metadata": {},
     "execution_count": 30
    }
   ],
   "source": [
    "#对账务代码自定义排序：先设排序的列表；将账务代码列的数据类型改成‘category’（astype)；用set_category，设置账务代码的顺序；用sort_values使排序生效，同时，也将材料号和销售合同升序排列\n",
    "'''acc_ttl_list=['33','03','31','01','50','51']\n",
    "tacaia2['ACCOUNT_TITLE_ITEM']=tacaia2['ACCOUNT_TITLE_ITEM'].astype('category')\n",
    "tacaia2['ACCOUNT_TITLE_ITEM'].cat.set_category(acc_ttl_list,inplace=True)\n",
    "tacaia2.sortvalues(['MAT_NO','ACCOUNT_TITLE_ITEM','SALE_ORDER_SUB_NO'],ascending=True,inplace=True)\n",
    "tacaia2'''"
   ]
  },
  {
   "cell_type": "code",
   "execution_count": 127,
   "metadata": {
    "tags": []
   },
   "outputs": [
    {
     "output_type": "stream",
     "name": "stdout",
     "text": "UNIT_CODE  SALE_ORDER_SUB_NO\nLA01       MD2007173301         15199\nName: KEY_SEQ, dtype: int64\nUNIT_CODE  SALE_ORDER_SUB_NO\nLA01       MD2007173301         15200\nName: KEY_SEQ, dtype: int64\nUNIT_CODE  SALE_ORDER_SUB_NO\nLA01       MD2007173301         4496\nName: KEY_SEQ, dtype: int64\nUNIT_CODE  SALE_ORDER_SUB_NO\nLA01       MD2007173301         15199\nName: KEY_SEQ, dtype: int64\nUNIT_CODE  SALE_ORDER_SUB_NO\nLA01       MD2007173301         15200\nName: KEY_SEQ, dtype: int64\nUNIT_CODE  SALE_ORDER_SUB_NO\nLA01       MD2007173301         4496\nName: KEY_SEQ, dtype: int64\nUNIT_CODE  SALE_ORDER_SUB_NO\nLA01       MD2007173301         15199\nName: KEY_SEQ, dtype: int64\nUNIT_CODE  SALE_ORDER_SUB_NO\nLA01       MD2007173301         15200\nName: KEY_SEQ, dtype: int64\nUNIT_CODE  SALE_ORDER_SUB_NO\nLA01       MD2007173301         4496\nName: KEY_SEQ, dtype: int64\nUNIT_CODE  SALE_ORDER_SUB_NO\nLA03       MD2007173301         4497\nName: KEY_SEQ, dtype: int64\nUNIT_CODE  SALE_ORDER_SUB_NO\nLA03       MD2007173301         17067\nName: KEY_SEQ, dtype: int64\nUNIT_CODE  SALE_ORDER_SUB_NO\nLA03       MD2007173301         4497\nName: KEY_SEQ, dtype: int64\nUNIT_CODE  SALE_ORDER_SUB_NO\nLA03       MD2007173301         17067\nName: KEY_SEQ, dtype: int64\nUNIT_CODE  SALE_ORDER_SUB_NO\nLA03       MD2007173301         4498\nName: KEY_SEQ, dtype: int64\nUNIT_CODE  SALE_ORDER_SUB_NO\nLC02       MD2007290816         16633\nName: KEY_SEQ, dtype: int64\nUNIT_CODE  SALE_ORDER_SUB_NO\nLC02       MD2007290816         16634\nName: KEY_SEQ, dtype: int64\nUNIT_CODE  SALE_ORDER_SUB_NO\nLC02       MD2007290816         16633\nName: KEY_SEQ, dtype: int64\nUNIT_CODE  SALE_ORDER_SUB_NO\nLC02       MD2007290816         16634\nName: KEY_SEQ, dtype: int64\nUNIT_CODE  SALE_ORDER_SUB_NO\nLA01       MD2007174405         15315\nName: KEY_SEQ, dtype: int64\nUNIT_CODE  SALE_ORDER_SUB_NO\nLA01       MD2007174405         15316\nName: KEY_SEQ, dtype: int64\nUNIT_CODE  SALE_ORDER_SUB_NO\nLA01       MD2007174405         10103\nName: KEY_SEQ, dtype: int64\nUNIT_CODE  SALE_ORDER_SUB_NO\nLA01       MD2007174405         15315\nName: KEY_SEQ, dtype: int64\nUNIT_CODE  SALE_ORDER_SUB_NO\nLA01       MD2007174405         15316\nName: KEY_SEQ, dtype: int64\nUNIT_CODE  SALE_ORDER_SUB_NO\nLA01       MD2007174405         10103\nName: KEY_SEQ, dtype: int64\nUNIT_CODE  SALE_ORDER_SUB_NO\nLA01       MD2007174405         15315\nName: KEY_SEQ, dtype: int64\nUNIT_CODE  SALE_ORDER_SUB_NO\nLA01       MD2007174405         15316\nName: KEY_SEQ, dtype: int64\nUNIT_CODE  SALE_ORDER_SUB_NO\nLA01       MD2007174405         10103\nName: KEY_SEQ, dtype: int64\nUNIT_CODE  SALE_ORDER_SUB_NO\nLK01       MD2007174405         10299\nName: KEY_SEQ, dtype: int64\nUNIT_CODE  SALE_ORDER_SUB_NO\nLK01       MD2007174405         17068\nName: KEY_SEQ, dtype: int64\nUNIT_CODE  SALE_ORDER_SUB_NO\nLK01       MD2007174405         10299\nName: KEY_SEQ, dtype: int64\nUNIT_CODE  SALE_ORDER_SUB_NO\nLK01       MD2007174405         17068\nName: KEY_SEQ, dtype: int64\nUNIT_CODE  SALE_ORDER_SUB_NO\nLK01       MD2007174405         10298\nName: KEY_SEQ, dtype: int64\nUNIT_CODE  SALE_ORDER_SUB_NO\nLC01       MD2007290816         16645\nName: KEY_SEQ, dtype: int64\nUNIT_CODE  SALE_ORDER_SUB_NO\nLC01       MD2007290816         16646\nName: KEY_SEQ, dtype: int64\nUNIT_CODE  SALE_ORDER_SUB_NO\nLC01       MD2007290816         16645\nName: KEY_SEQ, dtype: int64\nUNIT_CODE  SALE_ORDER_SUB_NO\nLC01       MD2007290816         16646\nName: KEY_SEQ, dtype: int64\nUNIT_CODE  SALE_ORDER_SUB_NO\nLA01       MD2006220701         13489\nName: KEY_SEQ, dtype: int64\nUNIT_CODE  SALE_ORDER_SUB_NO\nLA01       MD2006220701         13490\nName: KEY_SEQ, dtype: int64\nUNIT_CODE  SALE_ORDER_SUB_NO\nLA01       MD2006220701         4499\nName: KEY_SEQ, dtype: int64\nUNIT_CODE  SALE_ORDER_SUB_NO\nLA01       MD2006220701         13489\nName: KEY_SEQ, dtype: int64\nUNIT_CODE  SALE_ORDER_SUB_NO\nLA01       MD2006220701         13490\nName: KEY_SEQ, dtype: int64\nUNIT_CODE  SALE_ORDER_SUB_NO\nLA01       MD2006220701         4499\nName: KEY_SEQ, dtype: int64\nUNIT_CODE  SALE_ORDER_SUB_NO\nLA01       MD2006220701         13489\nName: KEY_SEQ, dtype: int64\nUNIT_CODE  SALE_ORDER_SUB_NO\nLA01       MD2006220701         13490\nName: KEY_SEQ, dtype: int64\nUNIT_CODE  SALE_ORDER_SUB_NO\nLA01       MD2006220701         4499\nName: KEY_SEQ, dtype: int64\nUNIT_CODE  SALE_ORDER_SUB_NO\nLA03       MD2006220701         4500\nName: KEY_SEQ, dtype: int64\nUNIT_CODE  SALE_ORDER_SUB_NO\nLA03       MD2006220701         17069\nName: KEY_SEQ, dtype: int64\nUNIT_CODE  SALE_ORDER_SUB_NO\nLA03       MD2006220701         4500\nName: KEY_SEQ, dtype: int64\nUNIT_CODE  SALE_ORDER_SUB_NO\nLA03       MD2006220701         17069\nName: KEY_SEQ, dtype: int64\nUNIT_CODE  SALE_ORDER_SUB_NO\nLA03       MD2006220701         4501\nName: KEY_SEQ, dtype: int64\nUNIT_CODE  SALE_ORDER_SUB_NO\nLA01       MD2006291801         13563\nName: KEY_SEQ, dtype: int64\nUNIT_CODE  SALE_ORDER_SUB_NO\nLA01       MD2006291801         13564\nName: KEY_SEQ, dtype: int64\nUNIT_CODE  SALE_ORDER_SUB_NO\nLA01       MD2006291801         4502\nName: KEY_SEQ, dtype: int64\nUNIT_CODE  SALE_ORDER_SUB_NO\nLA01       MD2006291801         13563\nName: KEY_SEQ, dtype: int64\nUNIT_CODE  SALE_ORDER_SUB_NO\nLA01       MD2006291801         13564\nName: KEY_SEQ, dtype: int64\nUNIT_CODE  SALE_ORDER_SUB_NO\nLA01       MD2006291801         4502\nName: KEY_SEQ, dtype: int64\nUNIT_CODE  SALE_ORDER_SUB_NO\nLA01       MD2006291801         13563\nName: KEY_SEQ, dtype: int64\nUNIT_CODE  SALE_ORDER_SUB_NO\nLA01       MD2006291801         13564\nName: KEY_SEQ, dtype: int64\nUNIT_CODE  SALE_ORDER_SUB_NO\nLA01       MD2006291801         4502\nName: KEY_SEQ, dtype: int64\nUNIT_CODE  SALE_ORDER_SUB_NO\nLA03       MD2006291801         4503\nName: KEY_SEQ, dtype: int64\nUNIT_CODE  SALE_ORDER_SUB_NO\nLA03       MD2006291801         17070\nName: KEY_SEQ, dtype: int64\nUNIT_CODE  SALE_ORDER_SUB_NO\nLA03       MD2006291801         4503\nName: KEY_SEQ, dtype: int64\nUNIT_CODE  SALE_ORDER_SUB_NO\nLA03       MD2006291801         17070\nName: KEY_SEQ, dtype: int64\nUNIT_CODE  SALE_ORDER_SUB_NO\nLA03       MD2006291801         4504\nName: KEY_SEQ, dtype: int64\nUNIT_CODE  SALE_ORDER_SUB_NO\nLA01                            257\nName: KEY_SEQ, dtype: int64\nUNIT_CODE  SALE_ORDER_SUB_NO\nL001                            258\nName: KEY_SEQ, dtype: int64\nUNIT_CODE  SALE_ORDER_SUB_NO\nLG01       MD2007130915         14743\nName: KEY_SEQ, dtype: int64\nUNIT_CODE  SALE_ORDER_SUB_NO\nLG01       MD2007130915         14744\nName: KEY_SEQ, dtype: int64\nUNIT_CODE  SALE_ORDER_SUB_NO\nLG01       MD2007130915         17071\nName: KEY_SEQ, dtype: int64\nUNIT_CODE  SALE_ORDER_SUB_NO\nLG01       MD2007130915         14743\nName: KEY_SEQ, dtype: int64\nUNIT_CODE  SALE_ORDER_SUB_NO\nLG01       MD2007130915         14744\nName: KEY_SEQ, dtype: int64\nUNIT_CODE  SALE_ORDER_SUB_NO\nLG01       MD2007130915         17071\nName: KEY_SEQ, dtype: int64\nUNIT_CODE  SALE_ORDER_SUB_NO\nLG01       MD2007130915         14743\nName: KEY_SEQ, dtype: int64\nUNIT_CODE  SALE_ORDER_SUB_NO\nLG01       MD2007130915         14744\nName: KEY_SEQ, dtype: int64\nUNIT_CODE  SALE_ORDER_SUB_NO\nLG01       MD2007130915         17071\nName: KEY_SEQ, dtype: int64\nUNIT_CODE  SALE_ORDER_SUB_NO\nLI01       ND2007160312         15223\nName: KEY_SEQ, dtype: int64\nUNIT_CODE  SALE_ORDER_SUB_NO\nLI01       ND2007160312         15224\nName: KEY_SEQ, dtype: int64\nUNIT_CODE  SALE_ORDER_SUB_NO\nLI01       ND2007160312         7989\nName: KEY_SEQ, dtype: int64\nUNIT_CODE  SALE_ORDER_SUB_NO\nLI01       ND2007160312         15223\nName: KEY_SEQ, dtype: int64\nUNIT_CODE  SALE_ORDER_SUB_NO\nLI01       ND2007160312         15224\nName: KEY_SEQ, dtype: int64\nUNIT_CODE  SALE_ORDER_SUB_NO\nLI01       ND2007160312         7989\nName: KEY_SEQ, dtype: int64\nUNIT_CODE  SALE_ORDER_SUB_NO\nLI01       ND2007160312         15223\nName: KEY_SEQ, dtype: int64\nUNIT_CODE  SALE_ORDER_SUB_NO\nLI01       ND2007160312         15224\nName: KEY_SEQ, dtype: int64\nUNIT_CODE  SALE_ORDER_SUB_NO\nLI01       ND2007160312         7989\nName: KEY_SEQ, dtype: int64\nUNIT_CODE  SALE_ORDER_SUB_NO\nLK01       ND2007160312         10302\nName: KEY_SEQ, dtype: int64\nUNIT_CODE  SALE_ORDER_SUB_NO\nLK01       ND2007160312         10301\nName: KEY_SEQ, dtype: int64\nUNIT_CODE  SALE_ORDER_SUB_NO\nLI01       ND2007280101         16481\nName: KEY_SEQ, dtype: int64\nUNIT_CODE  SALE_ORDER_SUB_NO\nLI01       ND2007280101         16482\nName: KEY_SEQ, dtype: int64\nUNIT_CODE  SALE_ORDER_SUB_NO\nLI01       ND2007280101         7661\nName: KEY_SEQ, dtype: int64\nUNIT_CODE  SALE_ORDER_SUB_NO\nLI01       ND2007280101         16481\nName: KEY_SEQ, dtype: int64\nUNIT_CODE  SALE_ORDER_SUB_NO\nLI01       ND2007280101         16482\nName: KEY_SEQ, dtype: int64\nUNIT_CODE  SALE_ORDER_SUB_NO\nLI01       ND2007280101         7661\nName: KEY_SEQ, dtype: int64\nUNIT_CODE  SALE_ORDER_SUB_NO\nLI01       ND2007280101         16481\nName: KEY_SEQ, dtype: int64\nUNIT_CODE  SALE_ORDER_SUB_NO\nLI01       ND2007280101         16482\nName: KEY_SEQ, dtype: int64\nUNIT_CODE  SALE_ORDER_SUB_NO\nLI01       ND2007280101         7661\nName: KEY_SEQ, dtype: int64\nUNIT_CODE  SALE_ORDER_SUB_NO\nLK01       ND2007280101         10305\nName: KEY_SEQ, dtype: int64\nUNIT_CODE  SALE_ORDER_SUB_NO\nLK01       ND2007280101         17072\nName: KEY_SEQ, dtype: int64\nUNIT_CODE  SALE_ORDER_SUB_NO\nLK01       ND2007280101         10305\nName: KEY_SEQ, dtype: int64\nUNIT_CODE  SALE_ORDER_SUB_NO\nLK01       ND2007280101         17072\nName: KEY_SEQ, dtype: int64\nUNIT_CODE  SALE_ORDER_SUB_NO\nLK01       ND2007280101         10304\nName: KEY_SEQ, dtype: int64\nUNIT_CODE  SALE_ORDER_SUB_NO\nLC01       MD2006281601         6033\nName: KEY_SEQ, dtype: int64\nUNIT_CODE  SALE_ORDER_SUB_NO\nLG01       MD2006281601         8997\nName: KEY_SEQ, dtype: int64\nUNIT_CODE  SALE_ORDER_SUB_NO\nLG01       MD2006281601         17073\nName: KEY_SEQ, dtype: int64\nUNIT_CODE  SALE_ORDER_SUB_NO\nLG01       MD2006281601         8997\nName: KEY_SEQ, dtype: int64\nUNIT_CODE  SALE_ORDER_SUB_NO\nLG01       MD2006281601         17073\nName: KEY_SEQ, dtype: int64\nUNIT_CODE  SALE_ORDER_SUB_NO\nLC01       MD2006281601         6035\nName: KEY_SEQ, dtype: int64\nUNIT_CODE  SALE_ORDER_SUB_NO\nLG01       MD2006281601         8999\nName: KEY_SEQ, dtype: int64\nUNIT_CODE  SALE_ORDER_SUB_NO\nLG01       MD2006281601         17074\nName: KEY_SEQ, dtype: int64\nUNIT_CODE  SALE_ORDER_SUB_NO\nLG01       MD2006281601         8999\nName: KEY_SEQ, dtype: int64\nUNIT_CODE  SALE_ORDER_SUB_NO\nLG01       MD2006281601         17074\nName: KEY_SEQ, dtype: int64\n"
    }
   ],
   "source": [
    "#tacaia2.index.get_level_values('MAT_NO')[0]==' '  #因为排序后第一行[0]为空行，所以迭代时从第二行[1]开始（上面已删除空行，不用从第二行开始了）\n",
    "OTHER_LOST_VALUE=0.00\n",
    "for mat in tacaia2.index.get_level_values('MAT_NO')[:50]:\n",
    "    for acc in ['01','33','03','31','50','51']:\n",
    "        try:\n",
    "            print(tacaia2.loc[(acc,mat),'KEY_SEQ'])\n",
    "            if acc=='01':\n",
    "                tacaia2.loc[(acc,mat),['MAT_VALUE','MAT_PRICE','LOST_VALUE','LOST_PRICE']]=list(ProducePrices(tacaia2.loc[(acc,mat),'IN_MAT_NO'][0],acc,tacaia2.loc[(acc,mat),'MAT_TYPE'][0],tacaia2.loc[(acc,mat),'MAT_WT'][0],tacaia2.loc[(acc,mat),'MTRL_NO'][0]).values())\n",
    "            if acc=='33':\n",
    "                if tacaia2.loc[(acc,mat),'DIVVY_FLAG'][0]=='0':\n",
    "                    INPUT_VALUE=list(InputPrices(mat,tacaia2.loc[(acc,mat),'PRODUCT_CODE'][0],tacaia2.loc[(acc,mat),'MTRL_NO'][0],tacaia2.loc[(acc,mat),'MAT_WT'][0],acc).values())\n",
    "                    tacaia2.loc[(acc,mat),['MAT_VALUE','MAT_PRICE','LOST_VALUE','LOST_PRICE']]=INPUT_VALUE[:4]\n",
    "                    OTHER_LOST_VALUE=OTHER_LOST_VALUE+INPUT_VALUE[4]\n",
    "            if acc=='03':\n",
    "                if tacaia2.loc[(acc,mat),'DIVVY_FLAG'][0]=='0':\n",
    "                    tacaia2.loc[(acc,mat),['MAT_VALUE','MAT_PRICE','LOST_VALUE','LOST_PRICE']]=list(ProducePrices(tacaia2.loc[(acc,mat),'IN_MAT_NO'][0],acc,tacaia2.loc[(acc,mat),'MAT_TYPE'][0],tacaia2.loc[(acc,mat),'MAT_WT'][0],tacaia2.loc[(acc,mat),'MTRL_NO'][0]).values())\n",
    "            if acc=='31':\n",
    "                INPUT_VALUE=list(InputPrices(mat,tacaia2.loc[(acc,mat),'PRODUCT_CODE'][0],tacaia2.loc[(acc,mat),'MTRL_NO'][0],tacaia2.loc[(acc,mat),'MAT_WT'][0],acc).values())\n",
    "                tacaia2.loc[(acc,mat),['MAT_VALUE','MAT_PRICE','LOST_VALUE','LOST_PRICE']]=INPUT_VALUE[:4]\n",
    "                OTHER_LOST_VALUE=OTHER_LOST_VALUE+INPUT_VALUE[4]\n",
    "            if acc in ['50','51']:\n",
    "                tacaia2.loc[(acc,mat),['SALE_VALUE','SALAE_PRICE']]=list(SalePrices(tacaia2.loc[(acc,mat),'PRODUCT_CODE'][0],tacaia2.loc[(acc,mat),'MAT_WT'][0]).values())\n",
    "        except:\n",
    "            continue"
   ]
  },
  {
   "cell_type": "code",
   "execution_count": 81,
   "metadata": {},
   "outputs": [],
   "source": [
    "tacaia2.to_excel('tacaia2-202007-r1.xlsx')"
   ]
  },
  {
   "cell_type": "code",
   "execution_count": 115,
   "metadata": {
    "tags": []
   },
   "outputs": [
    {
     "output_type": "stream",
     "name": "stdout",
     "text": "UNIT_CODE  SALE_ORDER_SUB_NO\nLA03       MD2007173301         4497\nName: KEY_SEQ, dtype: int64\n"
    }
   ],
   "source": [
    "print(tacaia2.loc[('01','B1804068AJAAA'),'KEY_SEQ'])"
   ]
  },
  {
   "cell_type": "code",
   "execution_count": 124,
   "metadata": {},
   "outputs": [
    {
     "output_type": "execute_result",
     "data": {
      "text/plain": "[1572.5549117045666,\n 14.716029493772849,\n 108.69801484974288,\n 1.0172002138287748]"
     },
     "metadata": {},
     "execution_count": 124
    }
   ],
   "source": [
    "list(ProducePrices(tacaia2.loc[('01','B1804068AJAAA'),'IN_MAT_NO'][0],'01',tacaia2.loc[('01','B1804068AJAAA'),'MAT_TYPE'][0],tacaia2.loc[('01','B1804068AJAAA'),'MAT_WT'][0],tacaia2.loc[('01','B1804068AJAAA'),'MTRL_NO'][0]).values())"
   ]
  },
  {
   "cell_type": "code",
   "execution_count": 107,
   "metadata": {},
   "outputs": [
    {
     "output_type": "execute_result",
     "data": {
      "text/plain": "[1809.4829865543095,\n 14.716029493772849,\n 108.69801484974288,\n 1.0172002138287748]"
     },
     "metadata": {},
     "execution_count": 107
    }
   ],
   "source": [
    "list(InputPrices('B1804068AJAA','10033Z3124','3',122.96,'31').values())[:4]"
   ]
  },
  {
   "cell_type": "code",
   "execution_count": 94,
   "metadata": {},
   "outputs": [
    {
     "output_type": "execute_result",
     "data": {
      "text/plain": "'10033Z3124'"
     },
     "metadata": {},
     "execution_count": 94
    }
   ],
   "source": [
    "tacaia2.loc[('31','B1804068AJAA'),'PRODUCT_CODE'][0]"
   ]
  },
  {
   "cell_type": "code",
   "execution_count": 128,
   "metadata": {},
   "outputs": [
    {
     "output_type": "execute_result",
     "data": {
      "text/plain": "AA   LK01      MD2007174405       16.199393   \n50                 B1806009IDCBAAAAA   LK01      MD2007174405        0.000000   \n01                 B1806009IDCBAAAAB   LK01      MD2007174405        0.000000   \n33                 B1806174DA          LC01      MD2007290816        0.000000   \n03                 B1806174DA          LC01      MD2007290816        0.000000   \n33                 B1807001AGDDBAAA    LA01      MD2006220701        0.000000   \n03                 B1807001AGDDBAAA    LA01      MD2006220701        0.000000   \n31                 B1807001AGDDBAAA    LA01      MD2006220701        0.000000   \n01                 B1807001AGDDBAAAA   LA03      MD2006220701        0.000000   \n50                 B1807001AGDDBAAAA   LA03      MD2006220701        0.000000   \n01                 B1807001AGDDBAAAB   LA03      MD2006220701        0.000000   \n33                 B1903069DAHEDCBA    LA01      MD2006291801        0.000000   \n03                 B1903069DAHEDCBA    LA01      MD2006291801        0.000000   \n31                 B1903069DAHEDCBA    LA01      MD2006291801        0.000000   \n01                 B1903069DAHEDCBAA   LA03      MD2006291801        0.000000   \n50                 B1903069DAHEDCBAA   LA03      MD2006291801        0.000000   \n01                 B1903069DAHEDCBAB   LA03      MD2006291801        0.000000   \n31                 B1903087EAD         LA01                          0.000000   \n01                 B1903087EADA        L001                          0.000000   \n33                 B1903170CAADBBA     LG01      MD2007130915        0.000000   \n03                 B1903170CAADBBA     LG01      MD2007130915        0.000000   \n50                 B1903170CAADBBA     LG01      MD2007130915        0.000000   \n33                 B1903224BACAAAA     LI01      ND2007160312        0.000000   \n03                 B1903224BACAAAA     LI01      ND2007160312        0.000000   \n31                 B1903224BACAAAA     LI01      ND2007160312        0.000000   \n01                 B1903224BACAAAAAAA  LK01      ND2007160312        0.000000   \n                   B1903224BACAAAAAAB  LK01      ND2007160312        0.000000   \n33                 B1903224BACAAABA    LI01      ND2007280101        0.000000   \n03                 B1903224BACAAABA    LI01      ND2007280101        0.000000   \n31                 B1903224BACAAABA    LI01      ND2007280101        0.000000   \n01                 B1903224BACAAABAAAA LK01      ND2007280101        0.000000   \n50                 B1903224BACAAABAAAA LK01      ND2007280101        0.000000   \n01                 B1903224BACAAABAAAB LK01      ND2007280101        0.000000   \n31                 B1904121EAA         LC01      MD2006281601        0.000000   \n01                 B1904121EAAAA       LG01      MD2006281601        0.000000   \n50                 B1904121EAAAA       LG01      MD2006281601        0.000000   \n31                 B1904121EAB         LC01      MD2006281601        0.000000   \n01                 B1904121EABAA       LG01      MD2006281601        0.000000   \n50                 B1904121EABAA       LG01      MD2006281601        0.000000   \n\n                                                                    LOST_VALUE  \\\nACCOUNT_TITLE_ITEM MAT_NO              UNIT_CODE SALE_ORDER_SUB_NO               \n33                 B1804068AJAA        LA01      MD2007173301         0.000000   \n03                 B1804068AJAA        LA01      MD2007173301         0.000000   \n31                 B1804068AJAA        LA01      MD2007173301       108.698015   \n01                 B1804068AJAAA       LA03      MD2007173301       108.698015   \n50                 B1804068AJAAA       LA03      MD2007173301         0.000000   \n01                 B1804068AJAAB       LA03      MD2007173301         0.000000   \n33                 B1804141CB          LC02      MD2007290816         0.000000   \n03                 B1804141CB          LC02      MD2007290816         0.000000   \n33                 B1806009IDCBAA      LA01      MD2007174405         0.000000   \n03                 B1806009IDCBAA      LA01      MD2007174405         0.000000   \n31                 B1806009IDCBAA      LA01      MD2007174405       201.093644   \n01                 B1806009IDCBAAAAA   LK01      MD2007174405       201.093644   \n50                 B1806009IDCBAAAAA   LK01      MD2007174405         0.000000   \n01                 B1806009IDCBAAAAB   LK01      MD2007174405         0.000000   \n33                 B1806174DA          LC01      MD2007290816         0.000000   \n03                 B1806174DA          LC01      MD2007290816         0.000000   \n33                 B1807001AGDDBAAA    LA01      MD2006220701         0.000000   \n03                 B1807001AGDDBAAA    LA01      MD2006220701         0.000000   \n31                 B1807001AGDDBAAA    LA01      MD2006220701         0.000000   \n01                 B1807001AGDDBAAAA   LA03      MD2006220701         0.000000   \n50                 B1807001AGDDBAAAA   LA03      MD2006220701         0.000000   \n01                 B1807001AGDDBAAAB   LA03      MD2006220701         0.000000   \n33                 B1903069DAHEDCBA    LA01      MD2006291801         0.000000   \n03                 B1903069DAHEDCBA    LA01      MD2006291801         0.000000   \n31                 B1903069DAHEDCBA    LA01      MD2006291801         0.000000   \n01                 B1903069DAHEDCBAA   LA03      MD2006291801         0.000000   \n50                 B1903069DAHEDCBAA   LA03      MD2006291801         0.000000   \n01                 B1903069DAHEDCBAB   LA03      MD2006291801         0.000000   \n31                 B1903087EAD         LA01                           0.000000   \n01                 B1903087EADA        L001                           0.000000   \n33                 B1903170CAADBBA     LG01      MD2007130915         0.000000   \n03                 B1903170CAADBBA     LG01      MD2007130915         0.000000   \n50                 B1903170CAADBBA     LG01      MD2007130915         0.000000   \n33                 B1903224BACAAAA     LI01      ND2007160312         0.000000   \n03                 B1903224BACAAAA     LI01      ND2007160312         0.000000   \n31                 B1903224BACAAAA     LI01      ND2007160312         0.000000   \n01                 B1903224BACAAAAAAA  LK01      ND2007160312         0.000000   \n                   B1903224BACAAAAAAB  LK01      ND2007160312         0.000000   \n33                 B1903224BACAAABA    LI01      ND2007280101         0.000000   \n03                 B1903224BACAAABA    LI01      ND2007280101         0.000000   \n31                 B1903224BACAAABA    LI01      ND2007280101         0.000000   \n01                 B1903224BACAAABAAAA LK01      ND2007280101         0.000000   \n50                 B1903224BACAAABAAAA LK01      ND2007280101         0.000000   \n01                 B1903224BACAAABAAAB LK01      ND2007280101         0.000000   \n31                 B1904121EAA         LC01      MD2006281601         0.000000   \n01                 B1904121EAAAA       LG01      MD2006281601         0.000000   \n50                 B1904121EAAAA       LG01      MD2006281601         0.000000   \n31                 B1904121EAB         LC01      MD2006281601         0.000000   \n01                 B1904121EABAA       LG01      MD2006281601         0.000000   \n50                 B1904121EABAA       LG01      MD2006281601         0.000000   \n\n                                                                   LOST_PRICE  \\\nACCOUNT_TITLE_ITEM MAT_NO              UNIT_CODE SALE_ORDER_SUB_NO              \n33                 B1804068AJAA        LA01      MD2007173301        0.000000   \n03                 B1804068AJAA        LA01      MD2007173301        0.000000   \n31                 B1804068AJAA        LA01      MD2007173301        1.017200   \n01                 B1804068AJAAA       LA03      MD2007173301        1.017200   \n50                 B1804068AJAAA       LA03      MD2007173301        0.000000   \n01                 B1804068AJAAB       LA03      MD2007173301        0.000000   \n33                 B1804141CB          LC02      MD2007290816        0.000000   \n03                 B1804141CB          LC02      MD2007290816        0.000000   \n33                 B1806009IDCBAA      LA01      MD2007174405        0.000000   \n03                 B1806009IDCBAA      LA01      MD2007174405        0.000000   \n31                 B1806009IDCBAA      LA01      MD2007174405        4.637769   \n01                 B1806009IDCBAAAAA   LK01      MD2007174405        4.637769   \n50                 B1806009IDCBAAAAA   LK01      MD2007174405        0.000000   \n01                 B1806009IDCBAAAAB   LK01      MD2007174405        0.000000   \n33                 B1806174DA          LC01      MD2007290816        0.000000   \n03                 B1806174DA          LC01      MD2007290816        0.000000   \n33                 B1807001AGDDBAAA    LA01      MD2006220701        0.000000   \n03                 B1807001AGDDBAAA    LA01      MD2006220701        0.000000   \n31                 B1807001AGDDBAAA    LA01      MD2006220701        0.000000   \n01                 B1807001AGDDBAAAA   LA03      MD2006220701        0.000000   \n50                 B1807001AGDDBAAAA   LA03      MD2006220701        0.000000   \n01                 B1807001AGDDBAAAB   LA03      MD2006220701        0.000000   \n33                 B1903069DAHEDCBA    LA01      MD2006291801        0.000000   \n03                 B1903069DAHEDCBA    LA01      MD2006291801        0.000000   \n31                 B1903069DAHEDCBA    LA01      MD2006291801        0.000000   \n01                 B1903069DAHEDCBAA   LA03      MD2006291801        0.000000   \n50                 B1903069DAHEDCBAA   LA03      MD2006291801        0.000000   \n01                 B1903069DAHEDCBAB   LA03      MD2006291801        0.000000   \n31                 B1903087EAD         LA01                          0.000000   \n01                 B1903087EADA        L001                          0.000000   \n33                 B1903170CAADBBA     LG01      MD2007130915        0.000000   \n03                 B1903170CAADBBA     LG01      MD2007130915        0.000000   \n50                 B1903170CAADBBA     LG01      MD2007130915        0.000000   \n33                 B1903224BACAAAA     LI01      ND2007160312        0.000000   \n03                 B1903224BACAAAA     LI01      ND2007160312        0.000000   \n31                 B1903224BACAAAA     LI01      ND2007160312        0.000000   \n01                 B1903224BACAAAAAAA  LK01      ND2007160312        0.000000   \n                   B1903224BACAAAAAAB  LK01      ND2007160312        0.000000   \n33                 B1903224BACAAABA    LI01      ND2007280101        0.000000   \n03                 B1903224BACAAABA    LI01      ND2007280101        0.000000   \n31                 B1903224BACAAABA    LI01      ND2007280101        0.000000   \n01                 B1903224BACAAABAAAA LK01      ND2007280101        0.000000   \n50                 B1903224BACAAABAAAA LK01      ND2007280101        0.000000   \n01                 B1903224BACAAABAAAB LK01      ND2007280101        0.000000   \n31                 B1904121EAA         LC01      MD2006281601        0.000000   \n01                 B1904121EAAAA       LG01      MD2006281601        0.000000   \n50                 B1904121EAAAA       LG01      MD2006281601        0.000000   \n31                 B1904121EAB         LC01      MD2006281601        0.000000   \n01                 B1904121EABAA       LG01      MD2006281601        0.000000   \n50                 B1904121EABAA       LG01      MD2006281601        0.000000   \n\n                                                                   SALE_VALUE  \\\nACCOUNT_TITLE_ITEM MAT_NO              UNIT_CODE SALE_ORDER_SUB_NO              \n33                 B1804068AJAA        LA01      MD2007173301             0.0   \n03                 B1804068AJAA        LA01      MD2007173301             0.0   \n31                 B1804068AJAA        LA01      MD2007173301             0.0   \n01                 B1804068AJAAA       LA03      MD2007173301             0.0   \n50                 B1804068AJAAA       LA03      MD2007173301             0.0   \n01                 B1804068AJAAB       LA03      MD2007173301             0.0   \n33                 B1804141CB          LC02      MD2007290816             0.0   \n03                 B1804141CB          LC02      MD2007290816             0.0   \n33                 B1806009IDCBAA      LA01      MD2007174405             0.0   \n03                 B1806009IDCBAA      LA01      MD2007174405             0.0   \n31                 B1806009IDCBAA      LA01      MD2007174405             0.0   \n01                 B1806009IDCBAAAAA   LK01      MD2007174405             0.0   \n50                 B1806009IDCBAAAAA   LK01      MD2007174405             0.0   \n01                 B1806009IDCBAAAAB   LK01      MD2007174405             0.0   \n33                 B1806174DA          LC01      MD2007290816             0.0   \n03                 B1806174DA          LC01      MD2007290816             0.0   \n33                 B1807001AGDDBAAA    LA01      MD2006220701             0.0   \n03                 B1807001AGDDBAAA    LA01      MD2006220701             0.0   \n31                 B1807001AGDDBAAA    LA01      MD2006220701             0.0   \n01                 B1807001AGDDBAAAA   LA03      MD2006220701             0.0   \n50                 B1807001AGDDBAAAA   LA03      MD2006220701             0.0   \n01                 B1807001AGDDBAAAB   LA03      MD2006220701             0.0   \n33                 B1903069DAHEDCBA    LA01      MD2006291801             0.0   \n03                 B1903069DAHEDCBA    LA01      MD2006291801             0.0   \n31                 B1903069DAHEDCBA    LA01      MD2006291801             0.0   \n01                 B1903069DAHEDCBAA   LA03      MD2006291801             0.0   \n50                 B1903069DAHEDCBAA   LA03      MD2006291801             0.0   \n01                 B1903069DAHEDCBAB   LA03      MD2006291801             0.0   \n31                 B1903087EAD         LA01                               0.0   \n01                 B1903087EADA        L001                               0.0   \n33                 B1903170CAADBBA     LG01      MD2007130915             0.0   \n03                 B1903170CAADBBA     LG01      MD2007130915             0.0   \n50                 B1903170CAADBBA     LG01      MD2007130915             0.0   \n33                 B1903224BACAAAA     LI01      ND2007160312             0.0   \n03                 B1903224BACAAAA     LI01      ND2007160312             0.0   \n31                 B1903224BACAAAA     LI01      ND2007160312             0.0   \n01                 B1903224BACAAAAAAA  LK01      ND2007160312             0.0   \n                   B1903224BACAAAAAAB  LK01      ND2007160312             0.0   \n33                 B1903224BACAAABA    LI01      ND2007280101             0.0   \n03                 B1903224BACAAABA    LI01      ND2007280101             0.0   \n31                 B1903224BACAAABA    LI01      ND2007280101             0.0   \n01                 B1903224BACAAABAAAA LK01      ND2007280101             0.0   \n50                 B1903224BACAAABAAAA LK01      ND2007280101             0.0   \n01                 B1903224BACAAABAAAB LK01      ND2007280101             0.0   \n31                 B1904121EAA         LC01      MD2006281601             0.0   \n01                 B1904121EAAAA       LG01      MD2006281601             0.0   \n50                 B1904121EAAAA       LG01      MD2006281601             0.0   \n31                 B1904121EAB         LC01      MD2006281601             0.0   \n01                 B1904121EABAA       LG01      MD2006281601             0.0   \n50                 B1904121EABAA       LG01      MD2006281601             0.0   \n\n                                                                   SALE_PRICE  \nACCOUNT_TITLE_ITEM MAT_NO              UNIT_CODE SALE_ORDER_SUB_NO             \n33                 B1804068AJAA        LA01      MD2007173301             0.0  \n03                 B1804068AJAA        LA01      MD2007173301             0.0  \n31                 B1804068AJAA        LA01      MD2007173301             0.0  \n01                 B1804068AJAAA       LA03      MD2007173301             0.0  \n50                 B1804068AJAAA       LA03      MD2007173301             0.0  \n01                 B1804068AJAAB       LA03      MD2007173301             0.0  \n33                 B1804141CB          LC02      MD2007290816             0.0  \n03                 B1804141CB          LC02      MD2007290816             0.0  \n33                 B1806009IDCBAA      LA01      MD2007174405             0.0  \n03                 B1806009IDCBAA      LA01      MD2007174405             0.0  \n31                 B1806009IDCBAA      LA01      MD2007174405             0.0  \n01                 B1806009IDCBAAAAA   LK01      MD2007174405             0.0  \n50                 B1806009IDCBAAAAA   LK01      MD2007174405             0.0  \n01                 B1806009IDCBAAAAB   LK01      MD2007174405             0.0  \n33                 B1806174DA          LC01      MD2007290816             0.0  \n03                 B1806174DA          LC01      MD2007290816             0.0  \n33                 B1807001AGDDBAAA    LA01      MD2006220701             0.0  \n03                 B1807001AGDDBAAA    LA01      MD2006220701             0.0  \n31                 B1807001AGDDBAAA    LA01      MD2006220701             0.0  \n01                 B1807001AGDDBAAAA   LA03      MD2006220701             0.0  \n50                 B1807001AGDDBAAAA   LA03      MD2006220701             0.0  \n01                 B1807001AGDDBAAAB   LA03      MD2006220701             0.0  \n33                 B1903069DAHEDCBA    LA01      MD2006291801             0.0  \n03                 B1903069DAHEDCBA    LA01      MD2006291801             0.0  \n31                 B1903069DAHEDCBA    LA01      MD2006291801             0.0  \n01                 B1903069DAHEDCBAA   LA03      MD2006291801             0.0  \n50                 B1903069DAHEDCBAA   LA03      MD2006291801             0.0  \n01                 B1903069DAHEDCBAB   LA03      MD2006291801             0.0  \n31                 B1903087EAD         LA01                               0.0  \n01                 B1903087EADA        L001                               0.0  \n33                 B1903170CAADBBA     LG01      MD2007130915             0.0  \n03                 B1903170CAADBBA     LG01      MD2007130915             0.0  \n50                 B1903170CAADBBA     LG01      MD2007130915             0.0  \n33                 B1903224BACAAAA     LI01      ND2007160312             0.0  \n03                 B1903224BACAAAA     LI01      ND2007160312             0.0  \n31                 B1903224BACAAAA     LI01      ND2007160312             0.0  \n01                 B1903224BACAAAAAAA  LK01      ND2007160312             0.0  \n                   B1903224BACAAAAAAB  LK01      ND2007160312             0.0  \n33                 B1903224BACAAABA    LI01      ND2007280101             0.0  \n03                 B1903224BACAAABA    LI01      ND2007280101             0.0  \n31                 B1903224BACAAABA    LI01      ND2007280101             0.0  \n01                 B1903224BACAAABAAAA LK01      ND2007280101             0.0  \n50                 B1903224BACAAABAAAA LK01      ND2007280101             0.0  \n01                 B1903224BACAAABAAAB LK01      ND2007280101             0.0  \n31                 B1904121EAA         LC01      MD2006281601             0.0  \n01                 B1904121EAAAA       LG01      MD2006281601             0.0  \n50                 B1904121EAAAA       LG01      MD2006281601             0.0  \n31                 B1904121EAB         LC01      MD2006281601             0.0  \n01                 B1904121EABAA       LG01      MD2006281601             0.0  \n50                 B1904121EABAA       LG01      MD2006281601             0.0  \n\n[50 rows x 78 columns]",
      "text/html": "<div>\n<style scoped>\n    .dataframe tbody tr th:only-of-type {\n        vertical-align: middle;\n    }\n\n    .dataframe tbody tr th {\n        vertical-align: top;\n    }\n\n    .dataframe thead th {\n        text-align: right;\n    }\n</style>\n<table border=\"1\" class=\"dataframe\">\n  <thead>\n    <tr style=\"text-align: right;\">\n      <th></th>\n      <th></th>\n      <th></th>\n      <th></th>\n      <th>REC_CREATOR</th>\n      <th>REC_CREATE_TIME</th>\n      <th>REC_REVISOR</th>\n      <th>REC_REVISE_TIME</th>\n      <th>ARCHIVE_FLAG</th>\n      <th>COMPANY_CODE</th>\n      <th>COMPANY_CNAME</th>\n      <th>WHOLE_BACKLOG</th>\n      <th>WHOLE_BACKLOG_ACT</th>\n      <th>JOB_CODE</th>\n      <th>...</th>\n      <th>SURFACE_PLATE_CODE</th>\n      <th>STD_CODE</th>\n      <th>UNDERLAY_CODE</th>\n      <th>SLEEVE_STYLE</th>\n      <th>MAT_VALUE</th>\n      <th>MAT_PRICE</th>\n      <th>LOST_VALUE</th>\n      <th>LOST_PRICE</th>\n      <th>SALE_VALUE</th>\n      <th>SALE_PRICE</th>\n    </tr>\n    <tr>\n      <th>ACCOUNT_TITLE_ITEM</th>\n      <th>MAT_NO</th>\n      <th>UNIT_CODE</th>\n      <th>SALE_ORDER_SUB_NO</th>\n      <th></th>\n      <th></th>\n      <th></th>\n      <th></th>\n      <th></th>\n      <th></th>\n      <th></th>\n      <th></th>\n      <th></th>\n      <th></th>\n      <th></th>\n      <th></th>\n      <th></th>\n      <th></th>\n      <th></th>\n      <th></th>\n      <th></th>\n      <th></th>\n      <th></th>\n      <th></th>\n      <th></th>\n    </tr>\n  </thead>\n  <tbody>\n    <tr>\n      <th>33</th>\n      <th>B1804068AJAA</th>\n      <th>LA01</th>\n      <th>MD2007173301</th>\n      <td>001161</td>\n      <td>20200803132002</td>\n      <td></td>\n      <td></td>\n      <td></td>\n      <td>BH</td>\n      <td></td>\n      <td>L0L4L1L2L3LK9A</td>\n      <td>LWL1</td>\n      <td>LA10</td>\n      <td>...</td>\n      <td>1</td>\n      <td></td>\n      <td></td>\n      <td></td>\n      <td>0.000000</td>\n      <td>0.000000</td>\n      <td>0.000000</td>\n      <td>0.000000</td>\n      <td>0.0</td>\n      <td>0.0</td>\n    </tr>\n    <tr>\n      <th>03</th>\n      <th>B1804068AJAA</th>\n      <th>LA01</th>\n      <th>MD2007173301</th>\n      <td>001161</td>\n      <td>20200803132002</td>\n      <td></td>\n      <td></td>\n      <td></td>\n      <td>BH</td>\n      <td></td>\n      <td>L0L4L1L2L3LK9A</td>\n      <td>LWL1</td>\n      <td>LA10</td>\n      <td>...</td>\n      <td>1</td>\n      <td></td>\n      <td></td>\n      <td></td>\n      <td>0.000000</td>\n      <td>0.000000</td>\n      <td>0.000000</td>\n      <td>0.000000</td>\n      <td>0.0</td>\n      <td>0.0</td>\n    </tr>\n    <tr>\n      <th>31</th>\n      <th>B1804068AJAA</th>\n      <th>LA01</th>\n      <th>MD2007173301</th>\n      <td>001161</td>\n      <td>20200803132002</td>\n      <td></td>\n      <td></td>\n      <td></td>\n      <td>BH</td>\n      <td></td>\n      <td>L0L4L1L2L3LK9A</td>\n      <td>LWL1</td>\n      <td>LA18</td>\n      <td>...</td>\n      <td>1</td>\n      <td>F1</td>\n      <td>AM001</td>\n      <td></td>\n      <td>1809.482987</td>\n      <td>14.716029</td>\n      <td>108.698015</td>\n      <td>1.017200</td>\n      <td>0.0</td>\n      <td>0.0</td>\n    </tr>\n    <tr>\n      <th>01</th>\n      <th>B1804068AJAAA</th>\n      <th>LA03</th>\n      <th>MD2007173301</th>\n      <td>001161</td>\n      <td>20200803132002</td>\n      <td></td>\n      <td></td>\n      <td></td>\n      <td>BH</td>\n      <td></td>\n      <td>L0L4L1L2L3LK9A</td>\n      <td>LWL1L3</td>\n      <td>LA18</td>\n      <td>...</td>\n      <td>1</td>\n      <td>F1</td>\n      <td>AM001</td>\n      <td></td>\n      <td>1572.554912</td>\n      <td>14.716029</td>\n      <td>108.698015</td>\n      <td>1.017200</td>\n      <td>0.0</td>\n      <td>0.0</td>\n    </tr>\n    <tr>\n      <th>50</th>\n      <th>B1804068AJAAA</th>\n      <th>LA03</th>\n      <th>MD2007173301</th>\n      <td>001161</td>\n      <td>20200803132002</td>\n      <td></td>\n      <td></td>\n      <td></td>\n      <td>BH</td>\n      <td></td>\n      <td>L0L4L1L2L3LK9A</td>\n      <td>LWL1L3</td>\n      <td>LA18</td>\n      <td>...</td>\n      <td>1</td>\n      <td></td>\n      <td></td>\n      <td></td>\n      <td>0.000000</td>\n      <td>0.000000</td>\n      <td>0.000000</td>\n      <td>0.000000</td>\n      <td>0.0</td>\n      <td>0.0</td>\n    </tr>\n    <tr>\n      <th>01</th>\n      <th>B1804068AJAAB</th>\n      <th>LA03</th>\n      <th>MD2007173301</th>\n      <td>001161</td>\n      <td>20200803132002</td>\n      <td></td>\n      <td></td>\n      <td></td>\n      <td>BH</td>\n      <td></td>\n      <td>L0L4L1L2L3LK9A</td>\n      <td>LWL1L3</td>\n      <td>LA18</td>\n      <td>...</td>\n      <td>1</td>\n      <td>F1</td>\n      <td>AM001</td>\n      <td></td>\n      <td>128.230060</td>\n      <td>7.964600</td>\n      <td>0.000000</td>\n      <td>0.000000</td>\n      <td>0.0</td>\n      <td>0.0</td>\n    </tr>\n    <tr>\n      <th>33</th>\n      <th>B1804141CB</th>\n      <th>LC02</th>\n      <th>MD2007290816</th>\n      <td>001161</td>\n      <td>20200803132002</td>\n      <td></td>\n      <td></td>\n      <td></td>\n      <td>BH</td>\n      <td></td>\n      <td>L0L4L1L2L3LCLK9A</td>\n      <td>L1LC</td>\n      <td>LC07</td>\n      <td>...</td>\n      <td></td>\n      <td></td>\n      <td></td>\n      <td></td>\n      <td>0.000000</td>\n      <td>0.000000</td>\n      <td>0.000000</td>\n      <td>0.000000</td>\n      <td>0.0</td>\n      <td>0.0</td>\n    </tr>\n    <tr>\n      <th>03</th>\n      <th>B1804141CB</th>\n      <th>LC02</th>\n      <th>MD2007290816</th>\n      <td>001161</td>\n      <td>20200803132002</td>\n      <td></td>\n      <td></td>\n      <td></td>\n      <td>BH</td>\n      <td></td>\n      <td>L0L4L1L2L3LCLK9A</td>\n      <td>L1LC</td>\n      <td>LC07</td>\n      <td>...</td>\n      <td></td>\n      <td></td>\n      <td></td>\n      <td></td>\n      <td>0.000000</td>\n      <td>0.000000</td>\n      <td>0.000000</td>\n      <td>0.000000</td>\n      <td>0.0</td>\n      <td>0.0</td>\n    </tr>\n    <tr>\n      <th>33</th>\n      <th>B1806009IDCBAA</th>\n      <th>LA01</th>\n      <th>MD2007174405</th>\n      <td>001161</td>\n      <td>20200803132002</td>\n      <td></td>\n      <td></td>\n      <td></td>\n      <td>BH</td>\n      <td></td>\n      <td>L0L4L1L2L3LJLFLK9A</td>\n      <td>L1</td>\n      <td>LA10</td>\n      <td>...</td>\n      <td></td>\n      <td></td>\n      <td></td>\n      <td></td>\n      <td>0.000000</td>\n      <td>0.000000</td>\n      <td>0.000000</td>\n      <td>0.000000</td>\n      <td>0.0</td>\n      <td>0.0</td>\n    </tr>\n    <tr>\n      <th>03</th>\n      <th>B1806009IDCBAA</th>\n      <th>LA01</th>\n      <th>MD2007174405</th>\n      <td>001161</td>\n      <td>20200803132002</td>\n      <td></td>\n      <td></td>\n      <td></td>\n      <td>BH</td>\n      <td></td>\n      <td>L0L4L1L2L3LJLFLK9A</td>\n      <td>L1</td>\n      <td>LA10</td>\n      <td>...</td>\n      <td></td>\n      <td></td>\n      <td></td>\n      <td></td>\n      <td>0.000000</td>\n      <td>0.000000</td>\n      <td>0.000000</td>\n      <td>0.000000</td>\n      <td>0.0</td>\n      <td>0.0</td>\n    </tr>\n    <tr>\n      <th>31</th>\n      <th>B1806009IDCBAA</th>\n      <th>LA01</th>\n      <th>MD2007174405</th>\n      <td>001161</td>\n      <td>20200803132002</td>\n      <td></td>\n      <td></td>\n      <td></td>\n      <td>BH</td>\n      <td></td>\n      <td>L0L4L1L2L3LJLFLK9A</td>\n      <td>L1</td>\n      <td>LJ01</td>\n      <td>...</td>\n      <td></td>\n      <td>F1</td>\n      <td>AM001</td>\n      <td></td>\n      <td>1097.994855</td>\n      <td>16.199393</td>\n      <td>201.093644</td>\n      <td>4.637769</td>\n      <td>0.0</td>\n      <td>0.0</td>\n    </tr>\n    <tr>\n      <th>01</th>\n      <th>B1806009IDCBAAAAA</th>\n      <th>LK01</th>\n      <th>MD2007174405</th>\n      <td>001161</td>\n      <td>20200803132002</td>\n      <td></td>\n      <td></td>\n      <td></td>\n      <td>BH</td>\n      <td></td>\n      <td>L0L4L1L2L3LJLFLK9A</td>\n      <td>L1LJLFLK</td>\n      <td>LK01</td>\n      <td>...</td>\n      <td></td>\n      <td>F1</td>\n      <td>AM001</td>\n      <td></td>\n      <td>702.405679</td>\n      <td>16.199393</td>\n      <td>201.093644</td>\n      <td>4.637769</td>\n      <td>0.0</td>\n      <td>0.0</td>\n    </tr>\n    <tr>\n      <th>50</th>\n      <th>B1806009IDCBAAAAA</th>\n      <th>LK01</th>\n      <th>MD2007174405</th>\n      <td>001161</td>\n      <td>20200803132002</td>\n      <td></td>\n      <td></td>\n      <td></td>\n      <td>BH</td>\n      <td></td>\n      <td>L0L4L1L2L3LJLFLK9A</td>\n      <td>L1LJLFLK</td>\n      <td>LK01</td>\n      <td>...</td>\n      <td></td>\n      <td></td>\n      <td></td>\n      <td></td>\n      <td>0.000000</td>\n      <td>0.000000</td>\n      <td>0.000000</td>\n      <td>0.000000</td>\n      <td>0.0</td>\n      <td>0.0</td>\n    </tr>\n    <tr>\n      <th>01</th>\n      <th>B1806009IDCBAAAAB</th>\n      <th>LK01</th>\n      <th>MD2007174405</th>\n      <td>001161</td>\n      <td>20200803132002</td>\n      <td></td>\n      <td></td>\n      <td></td>\n      <td>BH</td>\n      <td></td>\n      <td>L0L4L1L2L3LJLFLK9A</td>\n      <td>L1LJLFLK</td>\n      <td>LK01</td>\n      <td>...</td>\n      <td></td>\n      <td>F1</td>\n      <td>AM001</td>\n      <td></td>\n      <td>0.000000</td>\n      <td>0.000000</td>\n      <td>0.000000</td>\n      <td>0.000000</td>\n      <td>0.0</td>\n      <td>0.0</td>\n    </tr>\n    <tr>\n      <th>33</th>\n      <th>B1806174DA</th>\n      <th>LC01</th>\n      <th>MD2007290816</th>\n      <td>001161</td>\n      <td>20200803132002</td>\n      <td></td>\n      <td></td>\n      <td></td>\n      <td>BH</td>\n      <td></td>\n      <td>L0L4L1L2L3LCLK9A</td>\n      <td>L1LC</td>\n      <td>LC03</td>\n      <td>...</td>\n      <td></td>\n      <td></td>\n      <td></td>\n      <td></td>\n      <td>0.000000</td>\n      <td>0.000000</td>\n      <td>0.000000</td>\n      <td>0.000000</td>\n      <td>0.0</td>\n      <td>0.0</td>\n    </tr>\n    <tr>\n      <th>03</th>\n      <th>B1806174DA</th>\n      <th>LC01</th>\n      <th>MD2007290816</th>\n      <td>001161</td>\n      <td>20200803132002</td>\n      <td></td>\n      <td></td>\n      <td></td>\n      <td>BH</td>\n      <td></td>\n      <td>L0L4L1L2L3LCLK9A</td>\n      <td>L1LC</td>\n      <td>LC03</td>\n      <td>...</td>\n      <td></td>\n      <td></td>\n      <td></td>\n      <td></td>\n      <td>0.000000</td>\n      <td>0.000000</td>\n      <td>0.000000</td>\n      <td>0.000000</td>\n      <td>0.0</td>\n      <td>0.0</td>\n    </tr>\n    <tr>\n      <th>33</th>\n      <th>B1807001AGDDBAAA</th>\n      <th>LA01</th>\n      <th>MD2006220701</th>\n      <td>001161</td>\n      <td>20200803132002</td>\n      <td></td>\n      <td></td>\n      <td></td>\n      <td>BH</td>\n      <td></td>\n      <td>L0L4L1L2L3LK9A</td>\n      <td>LWL1</td>\n      <td>LA10</td>\n      <td>...</td>\n      <td>1</td>\n      <td></td>\n      <td></td>\n      <td></td>\n      <td>0.000000</td>\n      <td>0.000000</td>\n      <td>0.000000</td>\n      <td>0.000000</td>\n      <td>0.0</td>\n      <td>0.0</td>\n    </tr>\n    <tr>\n      <th>03</th>\n      <th>B1807001AGDDBAAA</th>\n      <th>LA01</th>\n      <th>MD2006220701</th>\n      <td>001161</td>\n      <td>20200803132002</td>\n      <td></td>\n      <td></td>\n      <td></td>\n      <td>BH</td>\n      <td></td>\n      <td>L0L4L1L2L3LK9A</td>\n      <td>LWL1</td>\n      <td>LA10</td>\n      <td>...</td>\n      <td>1</td>\n      <td></td>\n      <td></td>\n      <td></td>\n      <td>0.000000</td>\n      <td>0.000000</td>\n      <td>0.000000</td>\n      <td>0.000000</td>\n      <td>0.0</td>\n      <td>0.0</td>\n    </tr>\n    <tr>\n      <th>31</th>\n      <th>B1807001AGDDBAAA</th>\n      <th>LA01</th>\n      <th>MD2006220701</th>\n      <td>001161</td>\n      <td>20200803132002</td>\n      <td></td>\n      <td></td>\n      <td></td>\n      <td>BH</td>\n      <td></td>\n      <td>L0L4L1L2L3LK9A</td>\n      <td>LWL1</td>\n      <td>LA18</td>\n      <td>...</td>\n      <td>1</td>\n      <td>F1</td>\n      <td>AM001</td>\n      <td></td>\n      <td>0.000000</td>\n      <td>0.000000</td>\n      <td>0.000000</td>\n      <td>0.000000</td>\n      <td>0.0</td>\n      <td>0.0</td>\n    </tr>\n    <tr>\n      <th>01</th>\n      <th>B1807001AGDDBAAAA</th>\n      <th>LA03</th>\n      <th>MD2006220701</th>\n      <td>001161</td>\n      <td>20200803132002</td>\n      <td></td>\n      <td></td>\n      <td></td>\n      <td>BH</td>\n      <td></td>\n      <td>L0L4L1L2L3LK9A</td>\n      <td>LWL1L3</td>\n      <td>LA18</td>\n      <td>...</td>\n      <td>1</td>\n      <td>F1</td>\n      <td>AM001</td>\n      <td></td>\n      <td>0.000000</td>\n      <td>0.000000</td>\n      <td>0.000000</td>\n      <td>0.000000</td>\n      <td>0.0</td>\n      <td>0.0</td>\n    </tr>\n    <tr>\n      <th>50</th>\n      <th>B1807001AGDDBAAAA</th>\n      <th>LA03</th>\n      <th>MD2006220701</th>\n      <td>001161</td>\n      <td>20200803132002</td>\n      <td></td>\n      <td></td>\n      <td></td>\n      <td>BH</td>\n      <td></td>\n      <td>L0L4L1L2L3LK9A</td>\n      <td>LWL1L3</td>\n      <td>LA18</td>\n      <td>...</td>\n      <td>1</td>\n      <td></td>\n      <td></td>\n      <td></td>\n      <td>0.000000</td>\n      <td>0.000000</td>\n      <td>0.000000</td>\n      <td>0.000000</td>\n      <td>0.0</td>\n      <td>0.0</td>\n    </tr>\n    <tr>\n      <th>01</th>\n      <th>B1807001AGDDBAAAB</th>\n      <th>LA03</th>\n      <th>MD2006220701</th>\n      <td>001161</td>\n      <td>20200803132002</td>\n      <td></td>\n      <td></td>\n      <td></td>\n      <td>BH</td>\n      <td></td>\n      <td>L0L4L1L2L3LK9A</td>\n      <td>LWL1L3</td>\n      <td>LA18</td>\n      <td>...</td>\n      <td>1</td>\n      <td>F1</td>\n      <td>AM001</td>\n      <td></td>\n      <td>0.000000</td>\n      <td>0.000000</td>\n      <td>0.000000</td>\n      <td>0.000000</td>\n      <td>0.0</td>\n      <td>0.0</td>\n    </tr>\n    <tr>\n      <th>33</th>\n      <th>B1903069DAHEDCBA</th>\n      <th>LA01</th>\n      <th>MD2006291801</th>\n      <td>001161</td>\n      <td>20200803132002</td>\n      <td></td>\n      <td></td>\n      <td></td>\n      <td>BH</td>\n      <td></td>\n      <td>L0L4L1L2L3LK9A</td>\n      <td>L0L1</td>\n      <td>LA10</td>\n      <td>...</td>\n      <td>2</td>\n      <td></td>\n      <td></td>\n      <td></td>\n      <td>0.000000</td>\n      <td>0.000000</td>\n      <td>0.000000</td>\n      <td>0.000000</td>\n      <td>0.0</td>\n      <td>0.0</td>\n    </tr>\n    <tr>\n      <th>03</th>\n      <th>B1903069DAHEDCBA</th>\n      <th>LA01</th>\n      <th>MD2006291801</th>\n      <td>001161</td>\n      <td>20200803132002</td>\n      <td></td>\n      <td></td>\n      <td></td>\n      <td>BH</td>\n      <td></td>\n      <td>L0L4L1L2L3LK9A</td>\n      <td>L0L1</td>\n      <td>LA10</td>\n      <td>...</td>\n      <td>2</td>\n      <td></td>\n      <td></td>\n      <td></td>\n      <td>0.000000</td>\n      <td>0.000000</td>\n      <td>0.000000</td>\n      <td>0.000000</td>\n      <td>0.0</td>\n      <td>0.0</td>\n    </tr>\n    <tr>\n      <th>31</th>\n      <th>B1903069DAHEDCBA</th>\n      <th>LA01</th>\n      <th>MD2006291801</th>\n      <td>001161</td>\n      <td>20200803132002</td>\n      <td></td>\n      <td></td>\n      <td></td>\n      <td>BH</td>\n      <td></td>\n      <td>L0L4L1L2L3LK9A</td>\n      <td>L0L1</td>\n      <td>LA18</td>\n      <td>...</td>\n      <td>2</td>\n      <td>F1</td>\n      <td>AM001</td>\n      <td></td>\n      <td>0.000000</td>\n      <td>0.000000</td>\n      <td>0.000000</td>\n      <td>0.000000</td>\n      <td>0.0</td>\n      <td>0.0</td>\n    </tr>\n    <tr>\n      <th>01</th>\n      <th>B1903069DAHEDCBAA</th>\n      <th>LA03</th>\n      <th>MD2006291801</th>\n      <td>001161</td>\n      <td>20200803132002</td>\n      <td></td>\n      <td></td>\n      <td></td>\n      <td>BH</td>\n      <td></td>\n      <td>L0L4L1L2L3LK9A</td>\n      <td>L0L1L3</td>\n      <td>LA18</td>\n      <td>...</td>\n      <td>2</td>\n      <td>F1</td>\n      <td>AM001</td>\n      <td></td>\n      <td>0.000000</td>\n      <td>0.000000</td>\n      <td>0.000000</td>\n      <td>0.000000</td>\n      <td>0.0</td>\n      <td>0.0</td>\n    </tr>\n    <tr>\n      <th>50</th>\n      <th>B1903069DAHEDCBAA</th>\n      <th>LA03</th>\n      <th>MD2006291801</th>\n      <td>001161</td>\n      <td>20200803132002</td>\n      <td></td>\n      <td></td>\n      <td></td>\n      <td>BH</td>\n      <td></td>\n      <td>L0L4L1L2L3LK9A</td>\n      <td>L0L1L3</td>\n      <td>LA18</td>\n      <td>...</td>\n      <td>2</td>\n      <td></td>\n      <td></td>\n      <td></td>\n      <td>0.000000</td>\n      <td>0.000000</td>\n      <td>0.000000</td>\n      <td>0.000000</td>\n      <td>0.0</td>\n      <td>0.0</td>\n    </tr>\n    <tr>\n      <th>01</th>\n      <th>B1903069DAHEDCBAB</th>\n      <th>LA03</th>\n      <th>MD2006291801</th>\n      <td>001161</td>\n      <td>20200803132002</td>\n      <td></td>\n      <td></td>\n      <td></td>\n      <td>BH</td>\n      <td></td>\n      <td>L0L4L1L2L3LK9A</td>\n      <td>L0L1L3</td>\n      <td>LA18</td>\n      <td>...</td>\n      <td>2</td>\n      <td>F1</td>\n      <td>AM001</td>\n      <td></td>\n      <td>0.000000</td>\n      <td>0.000000</td>\n      <td>0.000000</td>\n      <td>0.000000</td>\n      <td>0.0</td>\n      <td>0.0</td>\n    </tr>\n    <tr>\n      <th>31</th>\n      <th>B1903087EAD</th>\n      <th>LA01</th>\n      <th></th>\n      <td>001161</td>\n      <td>20200803132002</td>\n      <td></td>\n      <td></td>\n      <td></td>\n      <td>BH</td>\n      <td></td>\n      <td></td>\n      <td>L0</td>\n      <td>L011</td>\n      <td>...</td>\n      <td>2</td>\n      <td>F1</td>\n      <td>AM001</td>\n      <td></td>\n      <td>0.000000</td>\n      <td>0.000000</td>\n      <td>0.000000</td>\n      <td>0.000000</td>\n      <td>0.0</td>\n      <td>0.0</td>\n    </tr>\n    <tr>\n      <th>01</th>\n      <th>B1903087EADA</th>\n      <th>L001</th>\n      <th></th>\n      <td>001161</td>\n      <td>20200803132002</td>\n      <td></td>\n      <td></td>\n      <td></td>\n      <td>BH</td>\n      <td></td>\n      <td></td>\n      <td>L0L0</td>\n      <td>L011</td>\n      <td>...</td>\n      <td>2</td>\n      <td>F1</td>\n      <td>AM001</td>\n      <td></td>\n      <td>0.000000</td>\n      <td>0.000000</td>\n      <td>0.000000</td>\n      <td>0.000000</td>\n      <td>0.0</td>\n      <td>0.0</td>\n    </tr>\n    <tr>\n      <th>33</th>\n      <th>B1903170CAADBBA</th>\n      <th>LG01</th>\n      <th>MD2007130915</th>\n      <td>001161</td>\n      <td>20200803132002</td>\n      <td></td>\n      <td></td>\n      <td></td>\n      <td>BH</td>\n      <td></td>\n      <td>L0L4L1L2L3LCLGLK9A</td>\n      <td>L1LCLG</td>\n      <td>LG01</td>\n      <td>...</td>\n      <td></td>\n      <td></td>\n      <td></td>\n      <td></td>\n      <td>0.000000</td>\n      <td>0.000000</td>\n      <td>0.000000</td>\n      <td>0.000000</td>\n      <td>0.0</td>\n      <td>0.0</td>\n    </tr>\n    <tr>\n      <th>03</th>\n      <th>B1903170CAADBBA</th>\n      <th>LG01</th>\n      <th>MD2007130915</th>\n      <td>001161</td>\n      <td>20200803132002</td>\n      <td></td>\n      <td></td>\n      <td></td>\n      <td>BH</td>\n      <td></td>\n      <td>L0L4L1L2L3LCLGLK9A</td>\n      <td>L1LCLG</td>\n      <td>LG01</td>\n      <td>...</td>\n      <td></td>\n      <td></td>\n      <td></td>\n      <td></td>\n      <td>0.000000</td>\n      <td>0.000000</td>\n      <td>0.000000</td>\n      <td>0.000000</td>\n      <td>0.0</td>\n      <td>0.0</td>\n    </tr>\n    <tr>\n      <th>50</th>\n      <th>B1903170CAADBBA</th>\n      <th>LG01</th>\n      <th>MD2007130915</th>\n      <td>001161</td>\n      <td>20200803132002</td>\n      <td></td>\n      <td></td>\n      <td></td>\n      <td>BH</td>\n      <td></td>\n      <td>L0L4L1L2L3LCLGLK9A</td>\n      <td>L1LCLG</td>\n      <td>LG01</td>\n      <td>...</td>\n      <td></td>\n      <td></td>\n      <td></td>\n      <td></td>\n      <td>0.000000</td>\n      <td>0.000000</td>\n      <td>0.000000</td>\n      <td>0.000000</td>\n      <td>0.0</td>\n      <td>0.0</td>\n    </tr>\n    <tr>\n      <th>33</th>\n      <th>B1903224BACAAAA</th>\n      <th>LI01</th>\n      <th>ND2007160312</th>\n      <td>001161</td>\n      <td>20200803132002</td>\n      <td></td>\n      <td></td>\n      <td></td>\n      <td>BH</td>\n      <td></td>\n      <td>L0L4L1L2L3LFLILK9A</td>\n      <td>L0L0L1</td>\n      <td>LA10</td>\n      <td>...</td>\n      <td>2</td>\n      <td></td>\n      <td></td>\n      <td></td>\n      <td>0.000000</td>\n      <td>0.000000</td>\n      <td>0.000000</td>\n      <td>0.000000</td>\n      <td>0.0</td>\n      <td>0.0</td>\n    </tr>\n    <tr>\n      <th>03</th>\n      <th>B1903224BACAAAA</th>\n      <th>LI01</th>\n      <th>ND2007160312</th>\n      <td>001161</td>\n      <td>20200803132002</td>\n      <td></td>\n      <td></td>\n      <td></td>\n      <td>BH</td>\n      <td></td>\n      <td>L0L4L1L2L3LFLILK9A</td>\n      <td>L0L0L1</td>\n      <td>LA10</td>\n      <td>...</td>\n      <td>2</td>\n      <td></td>\n      <td></td>\n      <td></td>\n      <td>0.000000</td>\n      <td>0.000000</td>\n      <td>0.000000</td>\n      <td>0.000000</td>\n      <td>0.0</td>\n      <td>0.0</td>\n    </tr>\n    <tr>\n      <th>31</th>\n      <th>B1903224BACAAAA</th>\n      <th>LI01</th>\n      <th>ND2007160312</th>\n      <td>001161</td>\n      <td>20200803132002</td>\n      <td></td>\n      <td></td>\n      <td></td>\n      <td>BH</td>\n      <td></td>\n      <td>L0L4L1L2L3LFLILK9A</td>\n      <td>L0L0L1</td>\n      <td>LF03</td>\n      <td>...</td>\n      <td>2</td>\n      <td>C1</td>\n      <td>AM001</td>\n      <td></td>\n      <td>0.000000</td>\n      <td>0.000000</td>\n      <td>0.000000</td>\n      <td>0.000000</td>\n      <td>0.0</td>\n      <td>0.0</td>\n    </tr>\n    <tr>\n      <th rowspan=\"2\" valign=\"top\">01</th>\n      <th>B1903224BACAAAAAAA</th>\n      <th>LK01</th>\n      <th>ND2007160312</th>\n      <td>001161</td>\n      <td>20200803132002</td>\n      <td></td>\n      <td></td>\n      <td></td>\n      <td>BH</td>\n      <td></td>\n      <td>L0L4L1L2L3LFLILK9A</td>\n      <td>L0L0L1LFLILK</td>\n      <td>LK01</td>\n      <td>...</td>\n      <td></td>\n      <td>C1</td>\n      <td>AM001</td>\n      <td></td>\n      <td>0.000000</td>\n      <td>0.000000</td>\n      <td>0.000000</td>\n      <td>0.000000</td>\n      <td>0.0</td>\n      <td>0.0</td>\n    </tr>\n    <tr>\n      <th>B1903224BACAAAAAAB</th>\n      <th>LK01</th>\n      <th>ND2007160312</th>\n      <td>001161</td>\n      <td>20200803132002</td>\n      <td></td>\n      <td></td>\n      <td></td>\n      <td>BH</td>\n      <td></td>\n      <td>L0L4L1L2L3LFLILK9A</td>\n      <td>L0L0L1LFLILK</td>\n      <td>LK01</td>\n      <td>...</td>\n      <td></td>\n      <td>C1</td>\n      <td>AM001</td>\n      <td></td>\n      <td>0.000000</td>\n      <td>0.000000</td>\n      <td>0.000000</td>\n      <td>0.000000</td>\n      <td>0.0</td>\n      <td>0.0</td>\n    </tr>\n    <tr>\n      <th>33</th>\n      <th>B1903224BACAAABA</th>\n      <th>LI01</th>\n      <th>ND2007280101</th>\n      <td>001161</td>\n      <td>20200803132002</td>\n      <td></td>\n      <td></td>\n      <td></td>\n      <td>BH</td>\n      <td></td>\n      <td>L0L4L1L2L3LFLILK9A</td>\n      <td>L0L0L1</td>\n      <td>LA10</td>\n      <td>...</td>\n      <td>2</td>\n      <td></td>\n      <td></td>\n      <td></td>\n      <td>0.000000</td>\n      <td>0.000000</td>\n      <td>0.000000</td>\n      <td>0.000000</td>\n      <td>0.0</td>\n      <td>0.0</td>\n    </tr>\n    <tr>\n      <th>03</th>\n      <th>B1903224BACAAABA</th>\n      <th>LI01</th>\n      <th>ND2007280101</th>\n      <td>001161</td>\n      <td>20200803132002</td>\n      <td></td>\n      <td></td>\n      <td></td>\n      <td>BH</td>\n      <td></td>\n      <td>L0L4L1L2L3LFLILK9A</td>\n      <td>L0L0L1</td>\n      <td>LA10</td>\n      <td>...</td>\n      <td>2</td>\n      <td></td>\n      <td></td>\n      <td></td>\n      <td>0.000000</td>\n      <td>0.000000</td>\n      <td>0.000000</td>\n      <td>0.000000</td>\n      <td>0.0</td>\n      <td>0.0</td>\n    </tr>\n    <tr>\n      <th>31</th>\n      <th>B1903224BACAAABA</th>\n      <th>LI01</th>\n      <th>ND2007280101</th>\n      <td>001161</td>\n      <td>20200803132002</td>\n      <td></td>\n      <td></td>\n      <td></td>\n      <td>BH</td>\n      <td></td>\n      <td>L0L4L1L2L3LFLILK9A</td>\n      <td>L0L0L1</td>\n      <td>LF02</td>\n      <td>...</td>\n      <td>2</td>\n      <td>C1</td>\n      <td>AM001</td>\n      <td></td>\n      <td>0.000000</td>\n      <td>0.000000</td>\n      <td>0.000000</td>\n      <td>0.000000</td>\n      <td>0.0</td>\n      <td>0.0</td>\n    </tr>\n    <tr>\n      <th>01</th>\n      <th>B1903224BACAAABAAAA</th>\n      <th>LK01</th>\n      <th>ND2007280101</th>\n      <td>001161</td>\n      <td>20200803132002</td>\n      <td></td>\n      <td></td>\n      <td></td>\n      <td>BH</td>\n      <td></td>\n      <td>L0L4L1L2L3LFLILK9A</td>\n      <td>L0L0L1LFLILK</td>\n      <td>LK01</td>\n      <td>...</td>\n      <td></td>\n      <td>C1</td>\n      <td>AM001</td>\n      <td></td>\n      <td>0.000000</td>\n      <td>0.000000</td>\n      <td>0.000000</td>\n      <td>0.000000</td>\n      <td>0.0</td>\n      <td>0.0</td>\n    </tr>\n    <tr>\n      <th>50</th>\n      <th>B1903224BACAAABAAAA</th>\n      <th>LK01</th>\n      <th>ND2007280101</th>\n      <td>001161</td>\n      <td>20200803132002</td>\n      <td></td>\n      <td></td>\n      <td></td>\n      <td>BH</td>\n      <td></td>\n      <td>L0L4L1L2L3LFLILK9A</td>\n      <td>L0L0L1LFLILK</td>\n      <td>LK01</td>\n      <td>...</td>\n      <td></td>\n      <td></td>\n      <td></td>\n      <td></td>\n      <td>0.000000</td>\n      <td>0.000000</td>\n      <td>0.000000</td>\n      <td>0.000000</td>\n      <td>0.0</td>\n      <td>0.0</td>\n    </tr>\n    <tr>\n      <th>01</th>\n      <th>B1903224BACAAABAAAB</th>\n      <th>LK01</th>\n      <th>ND2007280101</th>\n      <td>001161</td>\n      <td>20200803132002</td>\n      <td></td>\n      <td></td>\n      <td></td>\n      <td>BH</td>\n      <td></td>\n      <td>L0L4L1L2L3LFLILK9A</td>\n      <td>L0L0L1LFLILK</td>\n      <td>LK01</td>\n      <td>...</td>\n      <td></td>\n      <td>C1</td>\n      <td>AM001</td>\n      <td></td>\n      <td>0.000000</td>\n      <td>0.000000</td>\n      <td>0.000000</td>\n      <td>0.000000</td>\n      <td>0.0</td>\n      <td>0.0</td>\n    </tr>\n    <tr>\n      <th>31</th>\n      <th>B1904121EAA</th>\n      <th>LC01</th>\n      <th>MD2006281601</th>\n      <td>001161</td>\n      <td>20200803132002</td>\n      <td></td>\n      <td></td>\n      <td></td>\n      <td>BH</td>\n      <td></td>\n      <td>L0L4L1L2L3LCLG9A</td>\n      <td>L1</td>\n      <td>LC03</td>\n      <td>...</td>\n      <td></td>\n      <td>F1</td>\n      <td>AM001</td>\n      <td></td>\n      <td>0.000000</td>\n      <td>0.000000</td>\n      <td>0.000000</td>\n      <td>0.000000</td>\n      <td>0.0</td>\n      <td>0.0</td>\n    </tr>\n    <tr>\n      <th>01</th>\n      <th>B1904121EAAAA</th>\n      <th>LG01</th>\n      <th>MD2006281601</th>\n      <td>001161</td>\n      <td>20200803132002</td>\n      <td></td>\n      <td></td>\n      <td></td>\n      <td>BH</td>\n      <td></td>\n      <td>L0L4L1L2L3LCLG9A</td>\n      <td>L1LCLG</td>\n      <td>LG01</td>\n      <td>...</td>\n      <td></td>\n      <td>F1</td>\n      <td>AM001</td>\n      <td></td>\n      <td>0.000000</td>\n      <td>0.000000</td>\n      <td>0.000000</td>\n      <td>0.000000</td>\n      <td>0.0</td>\n      <td>0.0</td>\n    </tr>\n    <tr>\n      <th>50</th>\n      <th>B1904121EAAAA</th>\n      <th>LG01</th>\n      <th>MD2006281601</th>\n      <td>001161</td>\n      <td>20200803132002</td>\n      <td></td>\n      <td></td>\n      <td></td>\n      <td>BH</td>\n      <td></td>\n      <td>L0L4L1L2L3LCLG9A</td>\n      <td>L1LCLG</td>\n      <td>LG01</td>\n      <td>...</td>\n      <td></td>\n      <td></td>\n      <td></td>\n      <td></td>\n      <td>0.000000</td>\n      <td>0.000000</td>\n      <td>0.000000</td>\n      <td>0.000000</td>\n      <td>0.0</td>\n      <td>0.0</td>\n    </tr>\n    <tr>\n      <th>31</th>\n      <th>B1904121EAB</th>\n      <th>LC01</th>\n      <th>MD2006281601</th>\n      <td>001161</td>\n      <td>20200803132002</td>\n      <td></td>\n      <td></td>\n      <td></td>\n      <td>BH</td>\n      <td></td>\n      <td>L0L4L1L2L3LCLG9A</td>\n      <td>L1</td>\n      <td>LC03</td>\n      <td>...</td>\n      <td></td>\n      <td>F1</td>\n      <td>AM001</td>\n      <td></td>\n      <td>0.000000</td>\n      <td>0.000000</td>\n      <td>0.000000</td>\n      <td>0.000000</td>\n      <td>0.0</td>\n      <td>0.0</td>\n    </tr>\n    <tr>\n      <th>01</th>\n      <th>B1904121EABAA</th>\n      <th>LG01</th>\n      <th>MD2006281601</th>\n      <td>001161</td>\n      <td>20200803132002</td>\n      <td></td>\n      <td></td>\n      <td></td>\n      <td>BH</td>\n      <td></td>\n      <td>L0L4L1L2L3LCLG9A</td>\n      <td>L1LCLG</td>\n      <td>LG01</td>\n      <td>...</td>\n      <td></td>\n      <td>F1</td>\n      <td>AM001</td>\n      <td></td>\n      <td>0.000000</td>\n      <td>0.000000</td>\n      <td>0.000000</td>\n      <td>0.000000</td>\n      <td>0.0</td>\n      <td>0.0</td>\n    </tr>\n    <tr>\n      <th>50</th>\n      <th>B1904121EABAA</th>\n      <th>LG01</th>\n      <th>MD2006281601</th>\n      <td>001161</td>\n      <td>20200803132002</td>\n      <td></td>\n      <td></td>\n      <td></td>\n      <td>BH</td>\n      <td></td>\n      <td>L0L4L1L2L3LCLG9A</td>\n      <td>L1LCLG</td>\n      <td>LG01</td>\n      <td>...</td>\n      <td></td>\n      <td></td>\n      <td></td>\n      <td></td>\n      <td>0.000000</td>\n      <td>0.000000</td>\n      <td>0.000000</td>\n      <td>0.000000</td>\n      <td>0.0</td>\n      <td>0.0</td>\n    </tr>\n  </tbody>\n</table>\n<p>50 rows × 78 columns</p>\n</div>"
     },
     "metadata": {},
     "execution_count": 128
    }
   ],
   "source": [
    "tacaia2.head(50)"
   ]
  },
  {
   "cell_type": "code",
   "execution_count": 117,
   "metadata": {},
   "outputs": [],
   "source": [
    "tacaia2.loc[('31','B1804068AJAA'),['MAT_VALUE','MAT_PRICE','LOST_VALUE','LOST_PRICE']]=list(InputPrices('B1804068AJAA','10033Z3124','3',122.96,'31').values())[:4]"
   ]
  }
 ],
 "metadata": {
  "language_info": {
   "codemirror_mode": {
    "name": "ipython",
    "version": 3
   },
   "file_extension": ".py",
   "mimetype": "text/x-python",
   "name": "python",
   "nbconvert_exporter": "python",
   "pygments_lexer": "ipython3",
   "version": "3.7.6-final"
  },
  "orig_nbformat": 2,
  "kernelspec": {
   "name": "python_defaultSpec_1597195369536",
   "display_name": "Python 3.7.1 64-bit"
  }
 },
 "nbformat": 4,
 "nbformat_minor": 2
}