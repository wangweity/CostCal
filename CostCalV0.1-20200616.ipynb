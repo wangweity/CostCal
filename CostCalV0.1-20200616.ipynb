{
 "cells": [
  {
   "cell_type": "code",
   "execution_count": 3,
   "metadata": {},
   "outputs": [],
   "source": [
    "#连接ERP的DB2数据库，获取TACAIA2（前台：ACAI25）,TACACM4(ACAC80非产成品),TACACMM(ACACMM),TACACJ5(废钢入库履历)\n",
    "import ibm_db\n",
    "import pandas as pd\n",
    "connStr='DATABASE=BHBXA1;HOSTNAME=192.168.2.28;PORT=50000;PROTOCOL=TCPIP;UID=bhbxa1;PWD=bhbxa1'\n",
    "con=ibm_db.connect(connStr,'','')\n"
   ]
  },
  {
   "cell_type": "code",
   "execution_count": 4,
   "metadata": {},
   "outputs": [],
   "source": [
    "import ibm_db_dbi"
   ]
  },
  {
   "cell_type": "code",
   "execution_count": 5,
   "metadata": {},
   "outputs": [],
   "source": [
    "conn=ibm_db_dbi.Connection(con)"
   ]
  },
  {
   "cell_type": "code",
   "execution_count": 6,
   "metadata": {
    "tags": []
   },
   "outputs": [],
   "source": [
    "tacaia2=pd.read_sql('select * from tacaia2',conn,index_col=['MAT_NO','UNIT_CODE','ACCOUNT_TITLE_ITEM','SALE_ORDER_SUB_NO'],parse_dates={'APP_TRNC_TIME':'%Y%m%d%H%M%S'})"
   ]
  },
  {
   "cell_type": "code",
   "execution_count": 48,
   "metadata": {
    "tags": []
   },
   "outputs": [
    {
     "output_type": "execute_result",
     "data": {
      "text/plain": "'1003'"
     },
     "metadata": {},
     "execution_count": 48
    }
   ],
   "source": [
    "#tacaia2.to_excel('tacaia2-202005.xlsx',sheet_name='tacaia2')\n",
    "tacaia2.loc[('B2003125AFA','LF03','33','MD2005061901'),'PRODUCT_CODE'][0][:4]"
   ]
  },
  {
   "cell_type": "code",
   "execution_count": 7,
   "metadata": {
    "tags": []
   },
   "outputs": [
    {
     "output_type": "stream",
     "name": "stdout",
     "text": "202005\n"
    }
   ],
   "source": [
    "acc_period=tacaia2['ACCOUNT_PERIOD'][1]\n",
    "print(acc_period)"
   ]
  },
  {
   "cell_type": "code",
   "execution_count": 6,
   "metadata": {},
   "outputs": [],
   "source": [
    "tacacm4=pd.read_sql('select * from tacacm4 where YEAR=? and MON=?',conn,params=[acc_period[:4],acc_period[4:]])"
   ]
  },
  {
   "cell_type": "code",
   "execution_count": 7,
   "metadata": {},
   "outputs": [],
   "source": [
    "tacacmm=pd.read_sql('select * from tacacmm where YEAR=? and MON=?',conn,params=[acc_period[:4],acc_period[4:]])"
   ]
  },
  {
   "cell_type": "code",
   "execution_count": 8,
   "metadata": {},
   "outputs": [],
   "source": [
    "tacacj5=pd.read_sql_query('select * from tacacj5 where YEAR_MON=?',conn,params=[acc_period])"
   ]
  },
  {
   "cell_type": "code",
   "execution_count": 9,
   "metadata": {
    "tags": []
   },
   "outputs": [
    {
     "output_type": "stream",
     "name": "stdout",
     "text": "REC_CREATOR REC_CREATE_TIME REC_REVISOR REC_REVISE_TIME ARCHIVE_FLAG  \\\n0      001161  20200601150908                                            \n1      001161  20200601150908                                            \n2      001161  20200601150908                                            \n3      001161  20200601150908                                            \n4      001161  20200601150908                                            \n\n  COMPANY_CODE COMPANY_CNAME YEAR_MON PRODUCT_CODE PRODUCT_CODE_CNAME  \\\n0           BH       浙江宝鸿不锈钢   202005   9001000000                      \n1           BH       浙江宝鸿不锈钢   202005   9001100000                      \n2           BH       浙江宝鸿不锈钢   202005   9002000000                      \n3           BH       浙江宝鸿不锈钢   202005   9002400000                      \n4           BH       浙江宝鸿不锈钢   202005   9002405893                      \n\n   CRRT_YEAR_STD_AMT  \n0             3.5398  \n1             3.5398  \n2             4.2035  \n3             4.2035  \n4             4.2035  \n  REC_CREATOR REC_CREATE_TIME REC_REVISOR REC_REVISE_TIME ARCHIVE_FLAG  \\\n0      001161  20200601083507                                            \n1      001161  20200601083507                                            \n2      001161  20200601083507                                            \n3      001161  20200601083507                                            \n4      001161  20200601083507                                            \n\n  COMPANY_CODE COMPANY_CNAME  YEAR MON PRODUCT_CODE        ...          \\\n0           BH                2020  05   0003100002        ...           \n1           BH                2020  05   0003100003        ...           \n2           BH                2020  05   0003100004        ...           \n3           BH                2020  05   0003100006        ...           \n4           BH                2020  05   0003100719        ...           \n\n  NEXT_MATCH_VRNC_AMT  OTHERS_SEND_N  OTHER_SEND_STD_AMT  OTHER_SEND_VRNC_AMT  \\\n0                 0.0            0.0                 0.0                  0.0   \n1                 0.0            0.0                 0.0                  0.0   \n2                 0.0            0.0                 0.0                  0.0   \n3                 0.0            0.0                 0.0                  0.0   \n4                 0.0            0.0                 0.0                  0.0   \n\n   PERIOD_END_N  PERIOD_END_STD_AMT  PERIOD_END_VRNC_AMT  IN_MATCH_N  \\\n0       3419.47                 0.0             43344.43         0.0   \n1      25839.00                 0.0            325843.47         0.0   \n2      59898.95                 0.0            743346.32         0.0   \n3      84130.51                 0.0           1060801.22         0.0   \n4      36015.88                 0.0            470879.95         0.0   \n\n   IN_MATCH_STD_AMT  IN_MATCH_VRNC_AMT  \n0               0.0                0.0  \n1               0.0                0.0  \n2               0.0                0.0  \n3               0.0                0.0  \n4               0.0                0.0  \n\n[5 rows x 39 columns]\n  REC_CREATOR REC_CREATE_TIME REC_REVISOR REC_REVISE_TIME ARCHIVE_FLAG  \\\n0      001161  20200608102216                                            \n1      001161  20200608102216                                            \n2      001161  20200608102216                                            \n3      001161  20200601083507                                            \n4      001161  20200601083507                                            \n\n  COMPANY_CODE COMPANY_CNAME  YEAR MON PRODUCT_CODE     ...      LL_N  \\\n0           BH                2020  05   3003100246     ...       0.0   \n1           BH                2020  05   3003102951     ...       0.0   \n2           BH                2020  05  30033Z0029L     ...       0.0   \n3           BH                2020  05  30033Z11135     ...       0.0   \n4           BH                2020  05  30033Z11136     ...       0.0   \n\n   LL_ACT_AMT  OTHERS_SEND_N  OTHR_SEND_ACT_AMT  PERIOD_END_N  \\\n0         0.0            0.0                0.0          0.00   \n1         0.0            0.0                0.0          0.00   \n2         0.0            0.0                0.0          0.00   \n3         0.0            0.0                0.0        904.26   \n4         0.0            0.0                0.0         39.88   \n\n   PERIOD_END_ACT_AMT  NEXT_PRSP_USED_N  NEXT_PRSP_STD_AMT  IN_MATCH_AMT  \\\n0                0.00               0.0                0.0           0.0   \n1                0.00               0.0                0.0           0.0   \n2                0.00               0.0                0.0           0.0   \n3            17461.87               0.0                0.0           0.0   \n4              827.80               0.0                0.0           0.0   \n\n   IN_MATCH_N  \n0         0.0  \n1         0.0  \n2         0.0  \n3         0.0  \n4         0.0  \n\n[5 rows x 33 columns]\n"
    }
   ],
   "source": [
    "print(tacacj5.head())\n",
    "print(tacacm4.head())\n",
    "print(tacacmm.head())"
   ]
  },
  {
   "cell_type": "code",
   "execution_count": 17,
   "metadata": {},
   "outputs": [
    {
     "output_type": "execute_result",
     "data": {
      "text/plain": "        REC_CREATOR REC_CREATE_TIME REC_REVISOR REC_REVISE_TIME ARCHIVE_FLAG  \\\nKEY_SEQ                                                                        \n190          001161  20200602195038                                            \n\n        COMPANY_CODE COMPANY_CNAME WHOLE_BACKLOG WHOLE_BACKLOG_ACT JOB_CODE  \\\nKEY_SEQ                                                                       \n190               BH                                                   L008   \n\n            ...      ORDER_FLAG CLOSE_FLAG PROJECT_FLAG PROJECT_CON_FLAG  \\\nKEY_SEQ     ...                                                            \n190         ...               1          1                                 \n\n        PROJECT_CHO_FLAG AMOUNT SURFACE_PLATE_CODE STD_CODE UNDERLAY_CODE  \\\nKEY_SEQ                                                                     \n190                         0.0                          F1         AM001   \n\n        SLEEVE_STYLE  \nKEY_SEQ               \n190                   \n\n[1 rows x 75 columns]",
      "text/html": "<div>\n<style scoped>\n    .dataframe tbody tr th:only-of-type {\n        vertical-align: middle;\n    }\n\n    .dataframe tbody tr th {\n        vertical-align: top;\n    }\n\n    .dataframe thead th {\n        text-align: right;\n    }\n</style>\n<table border=\"1\" class=\"dataframe\">\n  <thead>\n    <tr style=\"text-align: right;\">\n      <th></th>\n      <th>REC_CREATOR</th>\n      <th>REC_CREATE_TIME</th>\n      <th>REC_REVISOR</th>\n      <th>REC_REVISE_TIME</th>\n      <th>ARCHIVE_FLAG</th>\n      <th>COMPANY_CODE</th>\n      <th>COMPANY_CNAME</th>\n      <th>WHOLE_BACKLOG</th>\n      <th>WHOLE_BACKLOG_ACT</th>\n      <th>JOB_CODE</th>\n      <th>...</th>\n      <th>ORDER_FLAG</th>\n      <th>CLOSE_FLAG</th>\n      <th>PROJECT_FLAG</th>\n      <th>PROJECT_CON_FLAG</th>\n      <th>PROJECT_CHO_FLAG</th>\n      <th>AMOUNT</th>\n      <th>SURFACE_PLATE_CODE</th>\n      <th>STD_CODE</th>\n      <th>UNDERLAY_CODE</th>\n      <th>SLEEVE_STYLE</th>\n    </tr>\n    <tr>\n      <th>KEY_SEQ</th>\n      <th></th>\n      <th></th>\n      <th></th>\n      <th></th>\n      <th></th>\n      <th></th>\n      <th></th>\n      <th></th>\n      <th></th>\n      <th></th>\n      <th></th>\n      <th></th>\n      <th></th>\n      <th></th>\n      <th></th>\n      <th></th>\n      <th></th>\n      <th></th>\n      <th></th>\n      <th></th>\n      <th></th>\n    </tr>\n  </thead>\n  <tbody>\n    <tr>\n      <th>190</th>\n      <td>001161</td>\n      <td>20200602195038</td>\n      <td></td>\n      <td></td>\n      <td></td>\n      <td>BH</td>\n      <td></td>\n      <td></td>\n      <td></td>\n      <td>L008</td>\n      <td>...</td>\n      <td>1</td>\n      <td>1</td>\n      <td></td>\n      <td></td>\n      <td></td>\n      <td>0.0</td>\n      <td></td>\n      <td>F1</td>\n      <td>AM001</td>\n      <td></td>\n    </tr>\n  </tbody>\n</table>\n<p>1 rows × 75 columns</p>\n</div>"
     },
     "metadata": {},
     "execution_count": 17
    }
   ],
   "source": [
    "#将ACAI25表按1、材料号升序；2、账务代码：按33 03 31 01 50 51 的顺序排列；3、销售合同号按升序排列\n",
    "#tacaia2[tacaia2['MAT_WT'].rank(method='dense',ascending=False)==3]"
   ]
  },
  {
   "cell_type": "code",
   "execution_count": 18,
   "metadata": {
    "tags": []
   },
   "outputs": [
    {
     "output_type": "stream",
     "name": "stdout",
     "text": "REC_CREATOR REC_CREATE_TIME REC_REVISOR REC_REVISE_TIME ARCHIVE_FLAG  \\\nKEY_SEQ                                                                        \n10899        001161  20200602195038                                            \n10900        001161  20200602195038                                            \n10901        001161  20200602195038                                            \n10902        001161  20200602195038                                            \n10903        001161  20200602195038                                            \n\n        COMPANY_CODE COMPANY_CNAME   WHOLE_BACKLOG WHOLE_BACKLOG_ACT JOB_CODE  \\\nKEY_SEQ                                                                         \n10899             BH                L0L4L1L2L3LK9A              L0L1     LA10   \n10900             BH                L0L4L1L2L3LK9A              L0L1     LA10   \n10901             BH                L0L4L1L2L3LK9A              L0L1     LA10   \n10902             BH                L0L4L1L2L3LK9A              L0L1     LA10   \n10903             BH                L0L4L1L2L3LK9A              L0L1     LA10   \n\n            ...      ORDER_FLAG CLOSE_FLAG PROJECT_FLAG PROJECT_CON_FLAG  \\\nKEY_SEQ     ...                                                            \n10899       ...               0          1                                 \n10900       ...               0          1                                 \n10901       ...               0          1                                 \n10902       ...               0          1                                 \n10903       ...               0          1                                 \n\n        PROJECT_CHO_FLAG AMOUNT SURFACE_PLATE_CODE STD_CODE UNDERLAY_CODE  \\\nKEY_SEQ                                                                     \n10899                       0.0                  2                          \n10900                       0.0                  2                          \n10901                       0.0                  2                          \n10902                       0.0                  2                          \n10903                       0.0                  2                          \n\n        SLEEVE_STYLE  \nKEY_SEQ               \n10899                 \n10900                 \n10901                 \n10902                 \n10903                 \n\n[5 rows x 75 columns]\n"
    }
   ],
   "source": [
    "#对账务代码自定义排序：先设排序的列表；将账务代码列的数据类型改成‘category’（astype)；用set_category，设置账务代码的顺序；用sort_values使排序生效，同时，也将材料号和销售合同升序排列\n",
    "acc_ttl_list=['33','03','31','01','50','51']\n",
    "tacaia2['ACCOUNT_TITLE_ITEM']=tacaia2['ACCOUNT_TITLE_ITEM'].astype('category')\n",
    "tacaia2['ACCOUNT_TITLE_ITEM'].cat.set_category(acc_ttl_list,inplace=True)\n",
    "tacaia2.sortvalues(['MAT_NO','ACCOUNT_TITLE_ITEM','SALE_ORDER_SUB_NO'],ascending=True,inplace=True)\n",
    "tacaia2"
   ]
  }
 ],
 "metadata": {
  "language_info": {
   "codemirror_mode": {
    "name": "ipython",
    "version": 3
   },
   "file_extension": ".py",
   "mimetype": "text/x-python",
   "name": "python",
   "nbconvert_exporter": "python",
   "pygments_lexer": "ipython3",
   "version": "3.7.1-final"
  },
  "orig_nbformat": 2,
  "kernelspec": {
   "name": "python3",
   "display_name": "Python 3"
  }
 },
 "nbformat": 4,
 "nbformat_minor": 2
}