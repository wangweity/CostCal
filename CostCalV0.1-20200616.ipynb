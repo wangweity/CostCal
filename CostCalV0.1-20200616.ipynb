{
 "cells": [
  {
   "cell_type": "code",
   "execution_count": 8,
   "metadata": {},
   "outputs": [],
   "source": [
    "#连接ERP的DB2数据库，获取TACAIA2（前台：ACAI25）,TACACM4(ACAC80非产成品),TACACMM(ACACMM),TACACJ5(废钢入库履历)\n",
    "import ibm_db\n",
    "import pandas as pd\n",
    "connStr='DATABASE=BHBXA1;HOSTNAME=192.168.2.28;PORT=50000;PROTOCOL=TCPIP;UID=bhbxa1;PWD=bhbxa1'\n",
    "con=ibm_db.connect(connStr,'','')\n"
   ]
  },
  {
   "cell_type": "code",
   "execution_count": 9,
   "metadata": {},
   "outputs": [],
   "source": [
    "import ibm_db_dbi"
   ]
  },
  {
   "cell_type": "code",
   "execution_count": 10,
   "metadata": {},
   "outputs": [],
   "source": [
    "conn=ibm_db_dbi.Connection(con)"
   ]
  },
  {
   "cell_type": "code",
   "execution_count": 11,
   "metadata": {
    "tags": []
   },
   "outputs": [],
   "source": [
    "tacaia2=pd.read_sql('select * from tacaia2',conn,parse_dates={'APP_TRNC_TIME':'%Y%m%d%H%M%S'})"
   ]
  },
  {
   "cell_type": "code",
   "execution_count": 12,
   "metadata": {},
   "outputs": [
    {
     "output_type": "execute_result",
     "data": {
      "text/plain": "Index(['33', '03', '31', '01', '50', '51'], dtype='object')"
     },
     "metadata": {},
     "execution_count": 12
    }
   ],
   "source": [
    "from pandas.api.types import CategoricalDtype\n",
    "tacaia2['ACCOUNT_TITLE_ITEM']=tacaia2['ACCOUNT_TITLE_ITEM'].astype(CategoricalDtype(['33','03','31','01','50','51']))\n",
    "tacaia2['ACCOUNT_TITLE_ITEM'].cat.categories"
   ]
  },
  {
   "cell_type": "code",
   "execution_count": 13,
   "metadata": {},
   "outputs": [],
   "source": [
    "tacaia2.set_index(['ACCOUNT_TITLE_ITEM','MAT_NO','UNIT_CODE','SALE_ORDER_SUB_NO'],inplace=True) #降账务代码提到顺序第1位，以方便下面在同一投入账务代码下，按有投入的材料号迭代。"
   ]
  },
  {
   "cell_type": "code",
   "execution_count": 14,
   "metadata": {},
   "outputs": [
    {
     "output_type": "execute_result",
     "data": {
      "text/plain": "FrozenList(['ACCOUNT_TITLE_ITEM', 'MAT_NO', 'UNIT_CODE', 'SALE_ORDER_SUB_NO'])"
     },
     "metadata": {},
     "execution_count": 14
    }
   ],
   "source": [
    "tacaia2.index.names"
   ]
  },
  {
   "cell_type": "code",
   "execution_count": null,
   "metadata": {},
   "outputs": [],
   "source": [
    "#tacaia2.sort_index(level=['ACCOUNT_TITLE_ITEM','MAT_NO','UNIT_CODE','SALE_ORDER_SUB_NO'],inplace=True) #跟着前面重设索引，把账务代码提到第1位，对应改变索引排序"
   ]
  },
  {
   "cell_type": "code",
   "execution_count": 15,
   "metadata": {},
   "outputs": [],
   "source": [
    "tacaia2.sort_index(level='MAT_NO',inplace=True) #如果按多层索引综合排序，不行，则单按账务代码排序"
   ]
  },
  {
   "cell_type": "code",
   "execution_count": 16,
   "metadata": {},
   "outputs": [],
   "source": [
    "from numpy import nan as NA\n",
    "tacaia2=tacaia2.dropna() #剔除第一行的空行"
   ]
  },
  {
   "cell_type": "code",
   "execution_count": 31,
   "metadata": {},
   "outputs": [
    {
     "output_type": "execute_result",
     "data": {
      "text/plain": "MAT_NO                             UNIT_CODE  SALE_ORDER_SUB_NO\nB1607078FEAEBA                     LA01       MD2005094001          5415\nB1607078FEAEBBA                    LA01       MD2005094001          5417\nB1607078FEAEBBB                    LA01       MD2005094001          5419\nB1607078FEAEDDA                    LA01       MD2005094001          5421\nB1607078FEAEDDBA                   LA01       NE2005200101          4607\nB1611098HHEABBA                    LA01       NE2005150201          6549\nB1804076BHEB                       LA01       MD2005061811          3814\nB1804076BHEFC                      LA01       MD2004301209          9619\n                                              MD2004301211          9620\n                                              ND1809030402          9618\nB1804076BHEFCD                     LA01       MD2005061809          3817\nB1807001AGDDBAAB                   LA01       MD2005181901          3820\nB1808017AGA                        LA01                               50\nB1808017AGAA                       L001       MD2005061811          9621\nB1808126EEBBA                      LA01       MD2005112104          7883\nB1808126EEBBBB                     LA01       MD2005132901          7591\nB1903063EFKEAABABAA                LJ01       MD2005133111          3823\nB1903063EFKEAABABB                 LA01       MD2005133111          3826\nB1903069DAHEDCA                    LA01       MD2005151301          3829\nB1903098AEAABB                     LF03       MD2004303201          3832\nB1904001GAAB                       LA03       ND2005080101          3835\nB1904001GAAC                       LA03       ND2005080101          3838\nB1904160BHD                        LJ01       MD2005133111          3841\nB1904161BGA                        LH01       MD2005133111          3844\nB1904161BHEBBA                     LH01       MD2005133111          3847\nB1905001EEFFGGCABB                 LA01       MD2005132701          7957\nB1905030FAAAA                      LK01       MD2005112001          8004\nB1905065BJED                       LA01       MD2005251307          9622\n                                              ND1809030401          9623\nB1905065BJEDB                      LA01       MD2005251307          3850\n                                                                   ...  \nB2005206                                                             229\nB2005212                                                             231\nB2005213                                                             233\nB2005214                                                             235\nB2005215                                                             237\nB2005216                                                             239\nP1909003ACAAAABBAAA                LF04       MD2005071501          6538\nP1910010ACA                                   LD2005140101           247\nP1910010ACAA                       LA02       LD2005140101          6540\nP1910010ACB                                   LD2005140102           250\nP1910010ACBA                       LA02       LD2005140102          7057\nP1910010ACC                                   LD2005140103           252\nP1910010ACCA                       LA02       LD2005140103          6154\nP1910012B                                     LD2005140103           254\nP1910012BA                         LA02       LD2005140103          6156\nP1910012C                                     LD2005140103           256\nP1910012CA                         LA02       LD2005140103          6158\nP1911004BBBBBAADBBCBBBBBBBBBBAAAA  LC01       MD2004300801          7692\nP2003003B                                     MD2005201401           259\nP2003006CA                                    ME2005130102          4601\nP2005001                                      LD2005070101          7698\nP2005002A                                     LD2005110101          5821\nP2005002B                                     LD2005110101          5384\nP2005003A                                     MD2005071801          4604\nP2005004A                                     LD2005200104          7869\nP2005004BAA                                   LD2005200102          7876\nP2005004BAB                                   LD2005200102          7878\nP2005004BB                                    LD2005200101         12331\nP2005005A                                     MD2005201402           261\nP2005006B                                     MD2005210201           265\nName: KEY_SEQ, Length: 2613, dtype: int64"
     },
     "metadata": {},
     "execution_count": 31
    }
   ],
   "source": [
    "#tacaia2.loc['31','KEY_SEQ']"
   ]
  },
  {
   "cell_type": "code",
   "execution_count": 32,
   "metadata": {
    "tags": []
   },
   "outputs": [
    {
     "output_type": "execute_result",
     "data": {
      "text/plain": "'B1603024QFEEGA'"
     },
     "metadata": {},
     "execution_count": 32
    }
   ],
   "source": [
    "tacaia2.index.get_level_values('MAT_NO')[0]"
   ]
  },
  {
   "cell_type": "code",
   "execution_count": 25,
   "metadata": {
    "tags": [
     "outputPrepend"
    ]
   },
   "outputs": [
    {
     "output_type": "stream",
     "name": "stdout",
     "text": "                    202\nName: KEY_SEQ, dtype: int64\nUNIT_CODE  SALE_ORDER_SUB_NO\nLW11       ND1702060201         347\nName: KEY_SEQ, dtype: int64\nUNIT_CODE  SALE_ORDER_SUB_NO\nLW11       MD2005132001         10597\n           MD2005140501         10598\nName: KEY_SEQ, dtype: int64\nUNIT_CODE  SALE_ORDER_SUB_NO\nLW11       MD2005132001         10597\n           MD2005140501         10598\nName: KEY_SEQ, dtype: int64\nUNIT_CODE  SALE_ORDER_SUB_NO\nLW11       MD2005132001         10600\n           MD2005200301         10599\nName: KEY_SEQ, dtype: int64\nUNIT_CODE  SALE_ORDER_SUB_NO\nLW11       MD2005132001         10600\n           MD2005200301         10599\nName: KEY_SEQ, dtype: int64\nUNIT_CODE  SALE_ORDER_SUB_NO\n                                204\nName: KEY_SEQ, dtype: int64\nUNIT_CODE  SALE_ORDER_SUB_NO\nLW11       ND1702060201         352\nName: KEY_SEQ, dtype: int64\nUNIT_CODE  SALE_ORDER_SUB_NO\nLW11       ND1907220201         10601\nName: KEY_SEQ, dtype: int64\nUNIT_CODE  SALE_ORDER_SUB_NO\n                                206\nName: KEY_SEQ, dtype: int64\nUNIT_CODE  SALE_ORDER_SUB_NO\n                                208\nName: KEY_SEQ, dtype: int64\nUNIT_CODE  SALE_ORDER_SUB_NO\n                                38\nName: KEY_SEQ, dtype: int64\nUNIT_CODE  SALE_ORDER_SUB_NO\n                                40\nName: KEY_SEQ, dtype: int64\nUNIT_CODE  SALE_ORDER_SUB_NO\nL001       MD2005292401         10602\nName: KEY_SEQ, dtype: int64\nUNIT_CODE  SALE_ORDER_SUB_NO\nLA01       MD2005292401         4580\nName: KEY_SEQ, dtype: int64\nUNIT_CODE  SALE_ORDER_SUB_NO\nLA01       MD2005292401         4583\nName: KEY_SEQ, dtype: int64\nUNIT_CODE  SALE_ORDER_SUB_NO\nLA01       MD2005292401         4586\nName: KEY_SEQ, dtype: int64\nUNIT_CODE  SALE_ORDER_SUB_NO\n                                42\nName: KEY_SEQ, dtype: int64\nUNIT_CODE  SALE_ORDER_SUB_NO\nL001       MD2005274301         10591\n           MD2005292401         10590\nName: KEY_SEQ, dtype: int64\nUNIT_CODE  SALE_ORDER_SUB_NO\nL001       MD2005274301         10591\n           MD2005292401         10590\nName: KEY_SEQ, dtype: int64\nUNIT_CODE  SALE_ORDER_SUB_NO\nLA01       MD2005274301         4589\nName: KEY_SEQ, dtype: int64\nUNIT_CODE  SALE_ORDER_SUB_NO\nLA01       MD2005274301         4592\nName: KEY_SEQ, dtype: int64\nUNIT_CODE  SALE_ORDER_SUB_NO\nLA01       MD2005292401         4595\nName: KEY_SEQ, dtype: int64\nUNIT_CODE  SALE_ORDER_SUB_NO\n           MD2005110617         10594\n           MD2005183204         10595\n           MD2005183207         10592\n           MD2005183305         10593\n           ND1809030401         10596\nName: KEY_SEQ, dtype: int64\nUNIT_CODE  SALE_ORDER_SUB_NO\n           MD2005110617         10594\n           MD2005183204         10595\n           MD2005183207         10592\n           MD2005183305         10593\n           ND1809030401         10596\nName: KEY_SEQ, dtype: int64\nUNIT_CODE  SALE_ORDER_SUB_NO\n           MD2005110617         10594\n           MD2005183204         10595\n           MD2005183207         10592\n           MD2005183305         10593\n           ND1809030401         10596\nName: KEY_SEQ, dtype: int64\nUNIT_CODE  SALE_ORDER_SUB_NO\n           MD2005110617         10594\n           MD2005183204         10595\n           MD2005183207         10592\n           MD2005183305         10593\n           ND1809030401         10596\nName: KEY_SEQ, dtype: int64\nUNIT_CODE  SALE_ORDER_SUB_NO\n           MD2005110617         10594\n           MD2005183204         10595\n           MD2005183207         10592\n           MD2005183305         10593\n           ND1809030401         10596\nName: KEY_SEQ, dtype: int64\nUNIT_CODE  SALE_ORDER_SUB_NO\nLA01       MD2005110617         7055\nName: KEY_SEQ, dtype: int64\nUNIT_CODE  SALE_ORDER_SUB_NO\nLA01       MD2005183207         6523\nName: KEY_SEQ, dtype: int64\nUNIT_CODE  SALE_ORDER_SUB_NO\nLA01       MD2005183305         6525\nName: KEY_SEQ, dtype: int64\nUNIT_CODE  SALE_ORDER_SUB_NO\n           MD2005270201         10607\nName: KEY_SEQ, dtype: int64\nUNIT_CODE  SALE_ORDER_SUB_NO\nLA01       MD2005270201         5340\nName: KEY_SEQ, dtype: int64\nUNIT_CODE  SALE_ORDER_SUB_NO\nLA01       MD2005270201         5342\nName: KEY_SEQ, dtype: int64\nUNIT_CODE  SALE_ORDER_SUB_NO\nLA01       MD2005270201         5344\nName: KEY_SEQ, dtype: int64\nUNIT_CODE  SALE_ORDER_SUB_NO\n           MD2005252205         10608\n           ND1809030401         10609\nName: KEY_SEQ, dtype: int64\nUNIT_CODE  SALE_ORDER_SUB_NO\n           MD2005252205         10608\n           ND1809030401         10609\nName: KEY_SEQ, dtype: int64\nUNIT_CODE  SALE_ORDER_SUB_NO\nLA01       MD2005182214         7577\nName: KEY_SEQ, dtype: int64\nUNIT_CODE  SALE_ORDER_SUB_NO\nLA01       MD2005182213         7579\nName: KEY_SEQ, dtype: int64\nUNIT_CODE  SALE_ORDER_SUB_NO\nLA01       MD2005182215         7581\nName: KEY_SEQ, dtype: int64\nUNIT_CODE  SALE_ORDER_SUB_NO\nLA01       MD2005182216         7583\nName: KEY_SEQ, dtype: int64\nUNIT_CODE  SALE_ORDER_SUB_NO\nLA01       MD2005182217         7585\nName: KEY_SEQ, dtype: int64\nUNIT_CODE  SALE_ORDER_SUB_NO\nLA01       MD2005211912         7867\nName: KEY_SEQ, dtype: int64\nUNIT_CODE  SALE_ORDER_SUB_NO\nLA01       MD2005183205         6152\nName: KEY_SEQ, dtype: int64\nUNIT_CODE  SALE_ORDER_SUB_NO\nLA01       MD2005183301         6527\nName: KEY_SEQ, dtype: int64\nUNIT_CODE  SALE_ORDER_SUB_NO\nLA01       MD2005183303         6529\nName: KEY_SEQ, dtype: int64\nUNIT_CODE  SALE_ORDER_SUB_NO\nLA01       MD2005252205         6531\nName: KEY_SEQ, dtype: int64\nUNIT_CODE  SALE_ORDER_SUB_NO\nLA01       MD2005252403         6533\nName: KEY_SEQ, dtype: int64\nUNIT_CODE  SALE_ORDER_SUB_NO\nLA01       MD2005252401         6535\nName: KEY_SEQ, dtype: int64\nUNIT_CODE  SALE_ORDER_SUB_NO\nLA01       MD2005274101         10612\n           MD2005274102         10611\n           MD2005274103         10610\nName: KEY_SEQ, dtype: int64\nUNIT_CODE  SALE_ORDER_SUB_NO\nLA01       MD2005274101         10612\n           MD2005274102         10611\n           MD2005274103         10610\nName: KEY_SEQ, dtype: int64\nUNIT_CODE  SALE_ORDER_SUB_NO\nLA01       MD2005274101         10612\n           MD2005274102         10611\n           MD2005274103         10610\nName: KEY_SEQ, dtype: int64\nUNIT_CODE  SALE_ORDER_SUB_NO\nLW11       ND1702060201         357\nName: KEY_SEQ, dtype: int64\nUNIT_CODE  SALE_ORDER_SUB_NO\nLW11                            210\nName: KEY_SEQ, dtype: int64\nUNIT_CODE  SALE_ORDER_SUB_NO\nL001       MD2005212304         10614\n           MD2005212305         10613\n           ND1809030401         10615\nName: KEY_SEQ, dtype: int64\nUNIT_CODE  SALE_ORDER_SUB_NO\nL001       MD2005212304         10614\n           MD2005212305         10613\n           ND1809030401         10615\nName: KEY_SEQ, dtype: int64\nUNIT_CODE  SALE_ORDER_SUB_NO\nL001       MD2005212304         10614\n           MD2005212305         10613\n           ND1809030401         10615\nName: KEY_SEQ, dtype: int64\nUNIT_CODE  SALE_ORDER_SUB_NO\nLA01       MD2005251304         12995\nName: KEY_SEQ, dtype: int64\nUNIT_CODE  SALE_ORDER_SUB_NO\nLA01       MD2005270304         13049\nName: KEY_SEQ, dtype: int64\nUNIT_CODE  SALE_ORDER_SUB_NO\nLW11       ND1702060201         361\nName: KEY_SEQ, dtype: int64\nUNIT_CODE  SALE_ORDER_SUB_NO\nLW11                            212\nName: KEY_SEQ, dtype: int64\nUNIT_CODE  SALE_ORDER_SUB_NO\nL001       MD2005251305         10605\n           MD2005270305         10604\n           ND1809030401         10603\nName: KEY_SEQ, dtype: int64\nUNIT_CODE  SALE_ORDER_SUB_NO\nL001       MD2005251305         10605\n           MD2005270305         10604\n           ND1809030401         10603\nName: KEY_SEQ, dtype: int64\nUNIT_CODE  SALE_ORDER_SUB_NO\nL001       MD2005251305         10605\n           MD2005270305         10604\n           ND1809030401         10603\nName: KEY_SEQ, dtype: int64\nUNIT_CODE  SALE_ORDER_SUB_NO\nLA01       MD2005270304         10606\nName: KEY_SEQ, dtype: int64\nUNIT_CODE  SALE_ORDER_SUB_NO\nLW11       ND1702060201         365\nName: KEY_SEQ, dtype: int64\nUNIT_CODE  SALE_ORDER_SUB_NO\nLW11                            214\nName: KEY_SEQ, dtype: int64\nUNIT_CODE  SALE_ORDER_SUB_NO\nLW11       ND1702060201         369\nName: KEY_SEQ, dtype: int64\nUNIT_CODE  SALE_ORDER_SUB_NO\nLW11                            216\nName: KEY_SEQ, dtype: int64\nUNIT_CODE  SALE_ORDER_SUB_NO\n                                44\nName: KEY_SEQ, dtype: int64\nUNIT_CODE  SALE_ORDER_SUB_NO\nLW11       ND1702060201         373\nName: KEY_SEQ, dtype: int64\nUNIT_CODE  SALE_ORDER_SUB_NO\nLW11       ND1702060201         9628\nName: KEY_SEQ, dtype: int64\nUNIT_CODE  SALE_ORDER_SUB_NO\nLW11       MD2005271001         13423\nName: KEY_SEQ, dtype: int64\nUNIT_CODE  SALE_ORDER_SUB_NO\nLW11       ND1702060201         377\nName: KEY_SEQ, dtype: int64\nUNIT_CODE  SALE_ORDER_SUB_NO\nLW11       ND1702060201         9629\nName: KEY_SEQ, dtype: int64\nUNIT_CODE  SALE_ORDER_SUB_NO\nLW11       MD2005271001         13431\nName: KEY_SEQ, dtype: int64\nUNIT_CODE  SALE_ORDER_SUB_NO\nLW11       ND1702060201         381\nName: KEY_SEQ, dtype: int64\nUNIT_CODE  SALE_ORDER_SUB_NO\nLW11       ND1702060201         9630\nName: KEY_SEQ, dtype: int64\nUNIT_CODE  SALE_ORDER_SUB_NO\nLW11       MD2005271001         13427\nName: KEY_SEQ, dtype: int64\nUNIT_CODE  SALE_ORDER_SUB_NO\n           MD2005273301         10616\n           MD2005273303         10618\n           MD2005274701         10617\n           ND1809030401         10619\nName: KEY_SEQ, dtype: int64\nUNIT_CODE  SALE_ORDER_SUB_NO\n           MD2005273301         10616\n           MD2005273303         10618\n           MD2005274701         10617\n           ND1809030401         10619\nName: KEY_SEQ, dtype: int64\nUNIT_CODE  SALE_ORDER_SUB_NO\n           MD2005273301         10616\n           MD2005273303         10618\n           MD2005274701         10617\n           ND1809030401         10619\nName: KEY_SEQ, dtype: int64\nUNIT_CODE  SALE_ORDER_SUB_NO\n           MD2005273301         10616\n           MD2005273303         10618\n           MD2005274701         10617\n           ND1809030401         10619\nName: KEY_SEQ, dtype: int64\nUNIT_CODE  SALE_ORDER_SUB_NO\nLA01       MD2005273303         5346\nName: KEY_SEQ, dtype: int64\nUNIT_CODE  SALE_ORDER_SUB_NO\nLA01       MD2005273301         5348\nName: KEY_SEQ, dtype: int64\nUNIT_CODE  SALE_ORDER_SUB_NO\nLA01       MD2005274701         5350\nName: KEY_SEQ, dtype: int64\nUNIT_CODE  SALE_ORDER_SUB_NO\n                                218\nName: KEY_SEQ, dtype: int64\nUNIT_CODE  SALE_ORDER_SUB_NO\n           MD2005262001         10620\nName: KEY_SEQ, dtype: int64\nUNIT_CODE  SALE_ORDER_SUB_NO\n           MD2005291401         10621\nName: KEY_SEQ, dtype: int64\nUNIT_CODE  SALE_ORDER_SUB_NO\n           MD2005262001         10622\nName: KEY_SEQ, dtype: int64\nUNIT_CODE  SALE_ORDER_SUB_NO\n           MD2005292502         10624\n           MD2005300401         10627\n           MD2005300701         10625\n           MD2005300703         10626\n           ND1809030401         10623\nName: KEY_SEQ, dtype: int64\nUNIT_CODE  SALE_ORDER_SUB_NO\n           MD2005292502         10624\n           MD2005300401         10627\n           MD2005300701         10625\n           MD2005300703         10626\n           ND1809030401         10623\nName: KEY_SEQ, dtype: int64\nUNIT_CODE  SALE_ORDER_SUB_NO\n           MD2005292502         10624\n           MD2005300401         10627\n           MD2005300701         10625\n           MD2005300703         10626\n           ND1809030401         10623\nName: KEY_SEQ, dtype: int64\nUNIT_CODE  SALE_ORDER_SUB_NO\n           MD2005292502         10624\n           MD2005300401         10627\n           MD2005300701         10625\n           MD2005300703         10626\n           ND1809030401         10623\nName: KEY_SEQ, dtype: int64\nUNIT_CODE  SALE_ORDER_SUB_NO\n           MD2005292502         10624\n           MD2005300401         10627\n           MD2005300701         10625\n           MD2005300703         10626\n           ND1809030401         10623\nName: KEY_SEQ, dtype: int64\nUNIT_CODE  SALE_ORDER_SUB_NO\n           MD2005262101         10628\n           ND1809030401         10629\nName: KEY_SEQ, dtype: int64\nUNIT_CODE  SALE_ORDER_SUB_NO\n           MD2005262101         10628\n           ND1809030401         10629\nName: KEY_SEQ, dtype: int64\nUNIT_CODE  SALE_ORDER_SUB_NO\nLA01       MD2005262101         5808\nName: KEY_SEQ, dtype: int64\nUNIT_CODE  SALE_ORDER_SUB_NO\nLA01       MD2005290355         5352\nName: KEY_SEQ, dtype: int64\nUNIT_CODE  SALE_ORDER_SUB_NO\nLA01       MD2005290356         5354\nName: KEY_SEQ, dtype: int64\nUNIT_CODE  SALE_ORDER_SUB_NO\nLA01       MD2005290357         5357\nName: KEY_SEQ, dtype: int64\nUNIT_CODE  SALE_ORDER_SUB_NO\nLA01       MD2005290358         5359\nName: KEY_SEQ, dtype: int64\nUNIT_CODE  SALE_ORDER_SUB_NO\nLA01       MD2005290360         5361\nName: KEY_SEQ, dtype: int64\nUNIT_CODE  SALE_ORDER_SUB_NO\nLA01       MD2005290359         5363\nName: KEY_SEQ, dtype: int64\nUNIT_CODE  SALE_ORDER_SUB_NO\nLA01       MD2005291764         5366\nName: KEY_SEQ, dtype: int64\nUNIT_CODE  SALE_ORDER_SUB_NO\nLA01       MD2005271372         5810\nName: KEY_SEQ, dtype: int64\nUNIT_CODE  SALE_ORDER_SUB_NO\nLA01       MD2005271375         5812\nName: KEY_SEQ, dtype: int64\nUNIT_CODE  SALE_ORDER_SUB_NO\nLA01       MD2005271374         5814\nName: KEY_SEQ, dtype: int64\nUNIT_CODE  SALE_ORDER_SUB_NO\nLA01       MD2005260501         5368\nName: KEY_SEQ, dtype: int64\nUNIT_CODE  SALE_ORDER_SUB_NO\nLA01       MD2005271377         5816\nName: KEY_SEQ, dtype: int64\nUNIT_CODE  SALE_ORDER_SUB_NO\nLA01       MD2005271355         5818\nName: KEY_SEQ, dtype: int64\nUNIT_CODE  SALE_ORDER_SUB_NO\n           MD2005262306         10631\n           MD2005273801         10634\n           MD2005273901         10633\n           MD2005274401         10630\n           ND1809030401         10632\nName: KEY_SEQ, dtype: int64\nUNIT_CODE  SALE_ORDER_SUB_NO\n           MD2005262306         10631\n           MD2005273801         10634\n           MD2005273901         10633\n           MD2005274401         10630\n           ND1809030401         10632\nName: KEY_SEQ, dtype: int64\nUNIT_CODE  SALE_ORDER_SUB_NO\n           MD2005262306         10631\n           MD2005273801         10634\n           MD2005273901         10633\n           MD2005274401         10630\n           ND1809030401         10632\nName: KEY_SEQ, dtype: int64\nUNIT_CODE  SALE_ORDER_SUB_NO\n           MD2005262306         10631\n           MD2005273801         10634\n           MD2005273901         10633\n           MD2005274401         10630\n           ND1809030401         10632\nName: KEY_SEQ, dtype: int64\nUNIT_CODE  SALE_ORDER_SUB_NO\n           MD2005262306         10631\n           MD2005273801         10634\n           MD2005273901         10633\n           MD2005274401         10630\n           ND1809030401         10632\nName: KEY_SEQ, dtype: int64\nUNIT_CODE  SALE_ORDER_SUB_NO\nLA01       MD2005273901         5370\nName: KEY_SEQ, dtype: int64\nUNIT_CODE  SALE_ORDER_SUB_NO\nLA01       MD2005273801         5372\nName: KEY_SEQ, dtype: int64\nUNIT_CODE  SALE_ORDER_SUB_NO\nLA01       MD2005262306         5374\nName: KEY_SEQ, dtype: int64\nUNIT_CODE  SALE_ORDER_SUB_NO\nLA01       MD2005262306         5378\nName: KEY_SEQ, dtype: int64\nUNIT_CODE  SALE_ORDER_SUB_NO\nLA01       MD2005262306         5380\nName: KEY_SEQ, dtype: int64\nUNIT_CODE  SALE_ORDER_SUB_NO\nLA01       MD2005292501         5382\nName: KEY_SEQ, dtype: int64\nUNIT_CODE  SALE_ORDER_SUB_NO\n                                220\nName: KEY_SEQ, dtype: int64\nUNIT_CODE  SALE_ORDER_SUB_NO\nL001       MD2005270102         10636\n           MD2005270306         10637\n           ND1809030401         10635\nName: KEY_SEQ, dtype: int64\nUNIT_CODE  SALE_ORDER_SUB_NO\nL001       MD2005270102         10636\n           MD2005270306         10637\n           ND1809030401         10635\nName: KEY_SEQ, dtype: int64\nUNIT_CODE  SALE_ORDER_SUB_NO\nL001       MD2005270102         10636\n           MD2005270306         10637\n           ND1809030401         10635\nName: KEY_SEQ, dtype: int64\nUNIT_CODE  SALE_ORDER_SUB_NO\nLA01       MD2005270306         4598\nName: KEY_SEQ, dtype: int64\nUNIT_CODE  SALE_ORDER_SUB_NO\n           MD2005270201         10639\n           ND1809030401         10638\nName: KEY_SEQ, dtype: int64\nUNIT_CODE  SALE_ORDER_SUB_NO\n           MD2005270201         10639\n           ND1809030401         10638\nName: KEY_SEQ, dtype: int64\nUNIT_CODE  SALE_ORDER_SUB_NO\n                                46\nName: KEY_SEQ, dtype: int64\nUNIT_CODE  SALE_ORDER_SUB_NO\n                                48\nName: KEY_SEQ, dtype: int64\nUNIT_CODE  SALE_ORDER_SUB_NO\n                                222\nName: KEY_SEQ, dtype: int64\nUNIT_CODE  SALE_ORDER_SUB_NO\n                                225\nName: KEY_SEQ, dtype: int64\nUNIT_CODE  SALE_ORDER_SUB_NO\nL001       MD2005270307         10640\n           MD2005290807         10641\n           ND1809030401         10642\nName: KEY_SEQ, dtype: int64\nUNIT_CODE  SALE_ORDER_SUB_NO\nL001       MD2005270307         10640\n           MD2005290807         10641\n           ND1809030401         10642\nName: KEY_SEQ, dtype: int64\nUNIT_CODE  SALE_ORDER_SUB_NO\nL001       MD2005270307         10640\n           MD2005290807         10641\n           ND1809030401         10642\nName: KEY_SEQ, dtype: int64\nUNIT_CODE  SALE_ORDER_SUB_NO\n                                227\nName: KEY_SEQ, dtype: int64\nUNIT_CODE  SALE_ORDER_SUB_NO\n                                229\nName: KEY_SEQ, dtype: int64\nUNIT_CODE  SALE_ORDER_SUB_NO\n                                231\nName: KEY_SEQ, dtype: int64\nUNIT_CODE  SALE_ORDER_SUB_NO\n                                233\nName: KEY_SEQ, dtype: int64\nUNIT_CODE  SALE_ORDER_SUB_NO\n                                235\nName: KEY_SEQ, dtype: int64\nUNIT_CODE  SALE_ORDER_SUB_NO\n                                237\nName: KEY_SEQ, dtype: int64\nUNIT_CODE  SALE_ORDER_SUB_NO\n                                239\nName: KEY_SEQ, dtype: int64\nUNIT_CODE  SALE_ORDER_SUB_NO\nLF04       MD2005071501         6538\nName: KEY_SEQ, dtype: int64\nUNIT_CODE  SALE_ORDER_SUB_NO\n           LD2005140101         247\nName: KEY_SEQ, dtype: int64\nUNIT_CODE  SALE_ORDER_SUB_NO\nLA02       LD2005140101         6540\nName: KEY_SEQ, dtype: int64\nUNIT_CODE  SALE_ORDER_SUB_NO\n           LD2005140102         250\nName: KEY_SEQ, dtype: int64\nUNIT_CODE  SALE_ORDER_SUB_NO\nLA02       LD2005140102         7057\nName: KEY_SEQ, dtype: int64\nUNIT_CODE  SALE_ORDER_SUB_NO\n           LD2005140103         252\nName: KEY_SEQ, dtype: int64\nUNIT_CODE  SALE_ORDER_SUB_NO\nLA02       LD2005140103         6154\nName: KEY_SEQ, dtype: int64\nUNIT_CODE  SALE_ORDER_SUB_NO\n           LD2005140103         254\nName: KEY_SEQ, dtype: int64\nUNIT_CODE  SALE_ORDER_SUB_NO\nLA02       LD2005140103         6156\nName: KEY_SEQ, dtype: int64\nUNIT_CODE  SALE_ORDER_SUB_NO\n           LD2005140103         256\nName: KEY_SEQ, dtype: int64\nUNIT_CODE  SALE_ORDER_SUB_NO\nLA02       LD2005140103         6158\nName: KEY_SEQ, dtype: int64\nUNIT_CODE  SALE_ORDER_SUB_NO\nLC01       MD2004300801         7692\nName: KEY_SEQ, dtype: int64\nUNIT_CODE  SALE_ORDER_SUB_NO\n           MD2005201401         259\nName: KEY_SEQ, dtype: int64\nUNIT_CODE  SALE_ORDER_SUB_NO\n           ME2005130102         4601\nName: KEY_SEQ, dtype: int64\nUNIT_CODE  SALE_ORDER_SUB_NO\n           LD2005070101         7698\nName: KEY_SEQ, dtype: int64\nUNIT_CODE  SALE_ORDER_SUB_NO\n           LD2005110101         5821\nName: KEY_SEQ, dtype: int64\nUNIT_CODE  SALE_ORDER_SUB_NO\n           LD2005110101         5384\nName: KEY_SEQ, dtype: int64\nUNIT_CODE  SALE_ORDER_SUB_NO\n           MD2005071801         4604\nName: KEY_SEQ, dtype: int64\nUNIT_CODE  SALE_ORDER_SUB_NO\n           LD2005200104         7869\nName: KEY_SEQ, dtype: int64\nUNIT_CODE  SALE_ORDER_SUB_NO\n           LD2005200102         7876\nName: KEY_SEQ, dtype: int64\nUNIT_CODE  SALE_ORDER_SUB_NO\n           LD2005200102         7878\nName: KEY_SEQ, dtype: int64\nUNIT_CODE  SALE_ORDER_SUB_NO\n           LD2005200101         12331\nName: KEY_SEQ, dtype: int64\nUNIT_CODE  SALE_ORDER_SUB_NO\n           MD2005201402         261\nName: KEY_SEQ, dtype: int64\nUNIT_CODE  SALE_ORDER_SUB_NO\n           MD2005210201         265\nName: KEY_SEQ, dtype: int64\n"
    }
   ],
   "source": [
    "#tacaia2.index.get_level_values('MAT_NO')[0]==' '  #因为排序后第一行[0]为空行，所以迭代时从第二行[1]开始（上面已删除空行，不用从第二行开始了）\n",
    "for mat in tacaia2.loc['31'].index.get_level_values('MAT_NO'):\n",
    "    print(tacaia2.loc[('31',mat),'KEY_SEQ'])"
   ]
  },
  {
   "cell_type": "code",
   "execution_count": null,
   "metadata": {},
   "outputs": [],
   "source": [
    "tacaia2.to_excel('tacaia2-202005.xlsx')"
   ]
  },
  {
   "cell_type": "code",
   "execution_count": null,
   "metadata": {
    "tags": []
   },
   "outputs": [],
   "source": [
    "#tacaia2.to_excel('tacaia2-202005.xlsx',sheet_name='tacaia2')\n",
    "#tacaia2.loc[('B2003125AFA','LF03','33','MD2005061901'),'PRODUCT_CODE'][0][:4] #Pandas多层索引的引用\n",
    "#[x[0] for x in tacaia2.index] #多层索引中一层所有元素的列表"
   ]
  },
  {
   "cell_type": "code",
   "execution_count": null,
   "metadata": {
    "tags": []
   },
   "outputs": [],
   "source": [
    "acc_period=tacaia2['ACCOUNT_PERIOD'][1]\n",
    "print(acc_period)"
   ]
  },
  {
   "cell_type": "code",
   "execution_count": null,
   "metadata": {},
   "outputs": [],
   "source": [
    "tacacm4=pd.read_sql('select * from tacacm4 where YEAR=? and MON=?',conn,params=[acc_period[:4],acc_period[4:]])"
   ]
  },
  {
   "cell_type": "code",
   "execution_count": null,
   "metadata": {},
   "outputs": [],
   "source": [
    "tacacmm=pd.read_sql('select * from tacacmm where YEAR=? and MON=?',conn,params=[acc_period[:4],acc_period[4:]])"
   ]
  },
  {
   "cell_type": "code",
   "execution_count": null,
   "metadata": {},
   "outputs": [],
   "source": [
    "tacacj5=pd.read_sql_query('select * from tacacj5 where YEAR_MON=?',conn,params=[acc_period])"
   ]
  },
  {
   "cell_type": "code",
   "execution_count": null,
   "metadata": {
    "tags": []
   },
   "outputs": [],
   "source": [
    "print(tacacj5.head())\n",
    "print(tacacm4.head())\n",
    "print(tacacmm.head())"
   ]
  },
  {
   "cell_type": "code",
   "execution_count": null,
   "metadata": {},
   "outputs": [],
   "source": [
    "#将ACAI25表按1、材料号升序；2、账务代码：按33 03 31 01 50 51 的顺序排列；3、销售合同号按升序排列\n",
    "#tacaia2[tacaia2['MAT_WT'].rank(method='dense',ascending=False)==3]"
   ]
  },
  {
   "cell_type": "code",
   "execution_count": null,
   "metadata": {
    "tags": []
   },
   "outputs": [],
   "source": [
    "#对账务代码自定义排序：先设排序的列表；将账务代码列的数据类型改成‘category’（astype)；用set_category，设置账务代码的顺序；用sort_values使排序生效，同时，也将材料号和销售合同升序排列\n",
    "acc_ttl_list=['33','03','31','01','50','51']\n",
    "tacaia2['ACCOUNT_TITLE_ITEM']=tacaia2['ACCOUNT_TITLE_ITEM'].astype('category')\n",
    "tacaia2['ACCOUNT_TITLE_ITEM'].cat.set_category(acc_ttl_list,inplace=True)\n",
    "tacaia2.sortvalues(['MAT_NO','ACCOUNT_TITLE_ITEM','SALE_ORDER_SUB_NO'],ascending=True,inplace=True)\n",
    "tacaia2"
   ]
  }
 ],
 "metadata": {
  "language_info": {
   "codemirror_mode": {
    "name": "ipython",
    "version": 3
   },
   "file_extension": ".py",
   "mimetype": "text/x-python",
   "name": "python",
   "nbconvert_exporter": "python",
   "pygments_lexer": "ipython3",
   "version": "3.7.1-final"
  },
  "orig_nbformat": 2,
  "kernelspec": {
   "name": "python37164bit35e9e4e8f1f14f41ae506b089450d436",
   "display_name": "Python 3.7.1 64-bit"
  }
 },
 "nbformat": 4,
 "nbformat_minor": 2
}