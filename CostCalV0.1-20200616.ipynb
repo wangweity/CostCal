{
 "cells": [
  {
   "cell_type": "code",
   "execution_count": 1,
   "metadata": {},
   "outputs": [],
   "source": [
    "#连接ERP的DB2数据库，获取TACAIA2（前台：ACAI25）,TACACM4(ACAC80非产成品),TACACMM(ACACMM),TACACJ5(废钢入库履历)\n",
    "import ibm_db\n",
    "import pandas as pd\n",
    "connStr='DATABASE=BHBXA1;HOSTNAME=192.168.2.28;PORT=50000;PROTOCOL=TCPIP;UID=bhbxa1;PWD=bhbxa1'\n",
    "con=ibm_db.connect(connStr,'','')\n"
   ]
  },
  {
   "cell_type": "code",
   "execution_count": 2,
   "metadata": {},
   "outputs": [],
   "source": [
    "import ibm_db_dbi"
   ]
  },
  {
   "cell_type": "code",
   "execution_count": 3,
   "metadata": {},
   "outputs": [],
   "source": [
    "conn=ibm_db_dbi.Connection(con)"
   ]
  },
  {
   "cell_type": "code",
   "execution_count": 4,
   "metadata": {
    "tags": []
   },
   "outputs": [],
   "source": [
    "tacaia2=pd.read_sql('select * from tacaia2',conn,parse_dates={'APP_TRNC_TIME':'%Y%m%d%H%M%S'})"
   ]
  },
  {
   "cell_type": "code",
   "execution_count": 5,
   "metadata": {},
   "outputs": [
    {
     "output_type": "execute_result",
     "data": {
      "text/plain": "Index(['01', '33', '03', '31', '50', '51'], dtype='object')"
     },
     "metadata": {},
     "execution_count": 5
    }
   ],
   "source": [
    "from pandas.api.types import CategoricalDtype\n",
    "tacaia2['ACCOUNT_TITLE_ITEM']=tacaia2['ACCOUNT_TITLE_ITEM'].astype(CategoricalDtype(['01','33','03','31','50','51']))#这里对账务代码是01-33-03-31-50-51的顺序，因为先有产出这个材料，再有后续的专用充当和投入或销售，这里暂不考虑一个材料号被二次以上转用的情况，如上一个木材料转用经过工序加工后，转用产出一个材料号，当期这个材料又直接被专用挂了另外的订单号的情况\n",
    "tacaia2['ACCOUNT_TITLE_ITEM'].cat.categories"
   ]
  },
  {
   "cell_type": "code",
   "execution_count": 6,
   "metadata": {},
   "outputs": [],
   "source": [
    "tacaia2.set_index(['ACCOUNT_TITLE_ITEM','MAT_NO','UNIT_CODE','SALE_ORDER_SUB_NO'],inplace=True) #将账务代码提到顺序第1位，以方便下面在同一投入账务代码下，按有投入的材料号迭代。"
   ]
  },
  {
   "cell_type": "code",
   "execution_count": 40,
   "metadata": {},
   "outputs": [],
   "source": [
    "tacaia2['MAT_TYPE']=tacaia2['MAT_TYPE'].astype('int64')"
   ]
  },
  {
   "cell_type": "code",
   "execution_count": 7,
   "metadata": {},
   "outputs": [],
   "source": [
    "tacaia2.insert(tacaia2.shape[1],'MAT_VALUE',0.00)\n",
    "tacaia2.insert(tacaia2.shape[1],'MAT_PRICE',0.00)\n",
    "tacaia2.insert(tacaia2.shape[1],'LOST_VALUE',0.00)\n",
    "tacaia2.insert(tacaia2.shape[1],'LOST_PRICE',0.00)\n",
    "tacaia2.insert(tacaia2.shape[1],'SALE_VALUE',0.00)\n",
    "tacaia2.insert(tacaia2.shape[1],'SALE_PRICE',0.00)"
   ]
  },
  {
   "cell_type": "code",
   "execution_count": 75,
   "metadata": {},
   "outputs": [],
   "source": [
    "def InputPrices(MAT_NO,PRODUCT_CODE,MTRL_NO,MAT_WT,ACC_TITLE):\n",
    "    if PRODUCT_CODE[0] in ['0','1','2']:\n",
    "        MatPrice=(tacacm4.loc[PRODUCT_CODE,'PRST_VRNC_AMOUNT']+tacacm4.loc[PRODUCT_CODE,'OTHR_INCM_VRNC_AMT']-tacacm4.loc[PRODUCT_CODE,'OTHER_SEND_VRNC_AMT']+tacacm4.loc[PRODUCT_CODE,'CRRT_OTPT_VRNC_AMT']+tacacm4.loc[PRODUCT_CODE,'IN_MATCH_VRNC_AMT'])/(tacacm4.loc[PRODUCT_CODE,'PERIOD_START_N']+tacacm4.loc[PRODUCT_CODE,'OTHERS_RECEIVE_N']-tacacm4.loc[PRODUCT_CODE,'OTHERS_SEND_N']+tacacm4.loc[PRODUCT_CODE,'CURRENT_N']+tacacm4.loc[PRODUCT_CODE,'IN_MATCH_N'])#投入材料单价=（期初金额+其他收入-其他支出+本期产出+本期转入）的金额/重量\n",
    "    elif PRODUCT_CODE[0] in ['3','4','5','9']:\n",
    "        MatPrice=(tacacmm.loc[PRODUCT_CODE,'START_AMOUNT']+tacacmm.loc[PRODUCT_CODE,'OTHR_INCM_ACT_AMT']-tacacmm.loc[PRODUCT_CODE,'OTHR_SEND_ACT_AMT']+tacacmm.loc[PRODUCT_CODE,'CRRT_OTPT_ACT_AMT']+tacacmm.loc[PRODUCT_CODE,'NEXT_MATCH_AMT']\n",
    ")/(tacacmm.loc[PRODUCT_CODE,'PERIOD_START_N']+tacacmm.loc[PRODUCT_CODE,'OTHERS_RECEIVE_N']-tacacmm.loc[PRODUCT_CODE,'OTHERS_SEND_N']+tacacmm.loc[PRODUCT_CODE,'CURRENT_N']+tacacmm.loc[PRODUCT_CODE,'NEXT_MATCH_USED_N']\n",
    ")#投入材料单价=（期初金额+其他收入-其他支出+本期产出+本期转入）的金额/重量\n",
    "    MatValue=MatPrice*MAT_WT\n",
    "    \n",
    "    LostPercent=0.4#次板和二级品的损失百分比（以后如果要跟着系统参数表，到时可另从数据库取数，这里暂时设成常用的40%）\n",
    "    #判断投入材料号为参数中材料号&物料形态数值大于3（即为二等品或废次）的计数是否大于0，是则分无聊形态为4和5、9计算损失金额；否则损失金额为0\n",
    "    if tacaia2[(tacaia2.IN_MAT_NO==MAT_NO)&(tacaia2.MAT_TYPE>3) & tacaia2.ACCOUNT_TITLE=='0' + ACC_TITLE[1]].count()>0:\n",
    "        LostValue=tacaia2[(tacaia2.IN_MAT_NO==MAT_NO)& ((tacaia2.MAT_TYPE==4) | (tacaia2.MAT_TYPE==5)) & tacaia2.ACCOUNT_TITLE=='0' + ACC_TITLE[1]].sum()['MAT_WT']*MatPrice*LostPercent+tacaia2[(tacaia2.IN_MAT_NO==MAT_NO)&(tacaia2.MAT_TYPE==9) & tacaia2.ACCOUNT_TITLE=='0' + ACC_TITLE[1]].sum()['MAT_WT']*(MatPrice-tacacj5.loc['900' + MTRL_NO + '000000','CRRT_YEAR_STD_AMT'])\n",
    "    if tacaia2[(tacaia2.IN_MAT_NO==MAT_NO)&(tacaia2.MAT_TYPE<=3) & tacaia2.ACCOUNT_TITLE=='0' + ACC_TITLE[1]].count()>0:\n",
    "        LostPrice=LostValue/tacaia2[(tacaia2.IN_MAT_NO==MAT_NO)&(tacaia2.MAT_TYPE<=3) & tacaia2.ACCOUNT_TITLE=='0' + ACC_TITLE[1]].sum()['MAT_WT']\n",
    "        OtherLostValue=0#如果投入没有正品产出，需将材料损失汇总分摊到产出最多的产副品上。\n",
    "    else:\n",
    "        OtherLostValue=LostValue\n",
    "    return {\n",
    "        'MatValue':MatValue,\n",
    "        'MatPrice':MatPrice,\n",
    "        'LostValue':LostValue,\n",
    "        'LostPrice':LostPrice,\n",
    "        'OtherLostValue':OtherLostValue\n",
    "    }"
   ]
  },
  {
   "cell_type": "code",
   "execution_count": 72,
   "metadata": {},
   "outputs": [],
   "source": [
    "def SalePrices(PRODUCT_CODE,MAT_WT):\n",
    "    if PRODUCT_CODE[0] in ['0','1','2']:\n",
    "        SalePrice=(tacacm4.loc[PRODUCT_CODE,'PRST_VRNC_AMOUNT']+tacacm4.loc[PRODUCT_CODE,'OTHR_INCM_VRNC_AMT']-tacacm4.loc[PRODUCT_CODE,'OTHER_SEND_VRNC_AMT']+tacacm4.loc[PRODUCT_CODE,'CRRT_OTPT_VRNC_AMT']+tacacm4.loc[PRODUCT_CODE,'IN_MATCH_VRNC_AMT']-tacacm4.loc[PRODUCT_CODE,'NEXT_PRSP_VRNC_AMT']-tacacm4.loc[PRODUCT_CODE,'NEXT_MATCH_VRNC_AMT'])/(tacacm4.loc[PRODUCT_CODE,'PERIOD_START_N']+tacacm4.loc[PRODUCT_CODE,'OTHERS_RECEIVE_N']-tacacm4.loc[PRODUCT_CODE,'OTHERS_SEND_N']+tacacm4.loc[PRODUCT_CODE,'CURRENT_N']+tacacm4.loc[PRODUCT_CODE,'IN_MATCH_N']-tacacm4.loc[PRODUCT_CODE,'NEXT_PRSP_USED_N']-tacacm4.loc[PRODUCT_CODE,'NEXT_MATCH_USED_N'])#销售材料单价=（期初金额+其他收入-其他支出+本期产出+本期转入-本期投入-本期转出）的金额/重量\n",
    "    elif PRODUCT_CODE[0] in ['3','4','5','9']:\n",
    "        SalePrice=(tacacmm.loc[PRODUCT_CODE,'START_AMOUNT']+tacacmm.loc[PRODUCT_CODE,'OTHR_INCM_ACT_AMT']-tacacmm.loc[PRODUCT_CODE,'OTHR_SEND_ACT_AMT']+tacacmm.loc[PRODUCT_CODE,'CRRT_OTPT_ACT_AMT']+tacacmm.loc[PRODUCT_CODE,'NEXT_MATCH_AMT']-tacacmm.loc[PRODUCT_CODE,'NEXT_PRSP_STD_AMT']-tacacmm.loc[PRODUCT_CODE,'NEXT_MATCH_AMT']\n",
    ")/(tacacmm.loc[PRODUCT_CODE,'PERIOD_START_N']+tacacmm.loc[PRODUCT_CODE,'OTHERS_RECEIVE_N']-tacacmm.loc[PRODUCT_CODE,'OTHERS_SEND_N']+tacacmm.loc[PRODUCT_CODE,'CURRENT_N']+tacacmm.loc[PRODUCT_CODE,'NEXT_MATCH_USED_N']-tacacmm.loc[PRODUCT_CODE,'NEXT_PRSP_USED_N']-tacacmm.loc[PRODUCT_CODE,'NEXT_MATCH_USED_N']\n",
    ")#销售材料单价=（期初金额+其他收入-其他支出+本期产出+本期转入-本期投入-本期转出）的金额/重量\n",
    "    SaleValue=SalePrice*MAT_WT\n",
    "    return {\n",
    "        'SaleValue':SaleValue,\n",
    "        'SalePrice':SalePrice\n",
    "    }"
   ]
  },
  {
   "cell_type": "code",
   "execution_count": 73,
   "metadata": {},
   "outputs": [],
   "source": [
    "def ProducePrices(INPUT_MAT,ACC_TITLE,MAT_TYPE,MAT_WT,MTRL_NO):\n",
    "    #tacaia2.loc[('3'+ACC_TITLE[1],Input_MAT),'']\n",
    "    if MAT_TYPE<=3:\n",
    "        MatPrice=tacaia2.loc[('3'+ACC_TITLE[1],INPUT_MAT),'MAT_PRICE']\n",
    "        MatValue=MatPrice*MAT_WT\n",
    "        LostPrice=tacaia2.loc[('3'+ACC_TITLE[1],INPUT_MAT),'LOST_PRICE']\n",
    "        LostValue=LostPrice*MAT_WT\n",
    "    elif MAT_TYPE in [4,5]:\n",
    "        LostPercent=0.4#次板和二级品的损失百分比（以后如果要跟着系统参数表，到时可另从数据库取数，这里暂时设成常用的40%）\n",
    "        MatPrice=tacaia2.loc[('3'+ACC_TITLE[1],INPUT_MAT),'MAT_PRICE']*(1-LostPercent)\n",
    "        MatValue=MatPrice*MAT_WT\n",
    "        LostPrice=0.00\n",
    "        LostValue=LostPrice*MAT_WT\n",
    "    elif MAT_TYPE==9:\n",
    "        MatPrice=tacacj5.loc['900' + MTRL_NO + '000000','CRRT_YEAR_STD_AMT']\n",
    "        MatValue=MatPrice*MAT_WT\n",
    "        LostPrice=0.00\n",
    "        LostValue=LostPrice*MAT_WT\n",
    "    return {\n",
    "        'MatValue':MatValue,\n",
    "        'MatPrice':MatPrice,        \n",
    "        'LostValue':LostValue,\n",
    "        'LostPrice':LostPrice\n",
    "    }"
   ]
  },
  {
   "cell_type": "code",
   "execution_count": 11,
   "metadata": {},
   "outputs": [
    {
     "output_type": "execute_result",
     "data": {
      "text/plain": "FrozenList(['ACCOUNT_TITLE_ITEM', 'MAT_NO', 'UNIT_CODE', 'SALE_ORDER_SUB_NO'])"
     },
     "metadata": {},
     "execution_count": 11
    }
   ],
   "source": [
    "tacaia2.index.names"
   ]
  },
  {
   "cell_type": "code",
   "execution_count": 12,
   "metadata": {},
   "outputs": [],
   "source": [
    "#tacaia2.sort_index(level=['ACCOUNT_TITLE_ITEM','MAT_NO','UNIT_CODE','SALE_ORDER_SUB_NO'],inplace=True) #跟着前面重设索引，把账务代码提到第1位，对应改变索引排序"
   ]
  },
  {
   "cell_type": "code",
   "execution_count": 13,
   "metadata": {},
   "outputs": [],
   "source": [
    "tacaia2.sort_index(level='MAT_NO',inplace=True) #如果按多层索引综合排序，不行，则单按账务代码排序"
   ]
  },
  {
   "cell_type": "code",
   "execution_count": 14,
   "metadata": {},
   "outputs": [],
   "source": [
    "from numpy import nan as NA\n",
    "tacaia2=tacaia2.dropna() #剔除第一行的空行"
   ]
  },
  {
   "cell_type": "code",
   "execution_count": 15,
   "metadata": {},
   "outputs": [],
   "source": [
    "#tacaia2.loc['31','KEY_SEQ']"
   ]
  },
  {
   "cell_type": "code",
   "execution_count": 16,
   "metadata": {
    "tags": []
   },
   "outputs": [
    {
     "output_type": "execute_result",
     "data": {
      "text/plain": "'B1804068AJAA'"
     },
     "metadata": {},
     "execution_count": 16
    }
   ],
   "source": [
    "tacaia2.index.get_level_values('MAT_NO')[0]"
   ]
  },
  {
   "cell_type": "code",
   "execution_count": 17,
   "metadata": {},
   "outputs": [
    {
     "output_type": "error",
     "ename": "PermissionError",
     "evalue": "[Errno 13] Permission denied: 'tacaia2-202007.xlsx'",
     "traceback": [
      "\u001b[1;31m---------------------------------------------------------------------------\u001b[0m",
      "\u001b[1;31mPermissionError\u001b[0m                           Traceback (most recent call last)",
      "\u001b[1;32m<ipython-input-17-a27c667d51e9>\u001b[0m in \u001b[0;36m<module>\u001b[1;34m\u001b[0m\n\u001b[1;32m----> 1\u001b[1;33m \u001b[0mtacaia2\u001b[0m\u001b[1;33m.\u001b[0m\u001b[0mto_excel\u001b[0m\u001b[1;33m(\u001b[0m\u001b[1;34m'tacaia2-202007.xlsx'\u001b[0m\u001b[1;33m)\u001b[0m\u001b[1;33m\u001b[0m\u001b[1;33m\u001b[0m\u001b[0m\n\u001b[0m",
      "\u001b[1;32mI:\\Program Files\\Python\\Python37\\lib\\site-packages\\pandas\\core\\frame.py\u001b[0m in \u001b[0;36mto_excel\u001b[1;34m(self, excel_writer, sheet_name, na_rep, float_format, columns, header, index, index_label, startrow, startcol, engine, merge_cells, encoding, inf_rep, verbose, freeze_panes)\u001b[0m\n\u001b[0;32m   1764\u001b[0m         formatter.write(excel_writer, sheet_name=sheet_name, startrow=startrow,\n\u001b[0;32m   1765\u001b[0m                         \u001b[0mstartcol\u001b[0m\u001b[1;33m=\u001b[0m\u001b[0mstartcol\u001b[0m\u001b[1;33m,\u001b[0m \u001b[0mfreeze_panes\u001b[0m\u001b[1;33m=\u001b[0m\u001b[0mfreeze_panes\u001b[0m\u001b[1;33m,\u001b[0m\u001b[1;33m\u001b[0m\u001b[1;33m\u001b[0m\u001b[0m\n\u001b[1;32m-> 1766\u001b[1;33m                         engine=engine)\n\u001b[0m\u001b[0;32m   1767\u001b[0m \u001b[1;33m\u001b[0m\u001b[0m\n\u001b[0;32m   1768\u001b[0m     def to_stata(self, fname, convert_dates=None, write_index=True,\n",
      "\u001b[1;32mI:\\Program Files\\Python\\Python37\\lib\\site-packages\\pandas\\io\\formats\\excel.py\u001b[0m in \u001b[0;36mwrite\u001b[1;34m(self, writer, sheet_name, startrow, startcol, freeze_panes, engine)\u001b[0m\n\u001b[0;32m    652\u001b[0m                            freeze_panes=freeze_panes)\n\u001b[0;32m    653\u001b[0m         \u001b[1;32mif\u001b[0m \u001b[0mneed_save\u001b[0m\u001b[1;33m:\u001b[0m\u001b[1;33m\u001b[0m\u001b[1;33m\u001b[0m\u001b[0m\n\u001b[1;32m--> 654\u001b[1;33m             \u001b[0mwriter\u001b[0m\u001b[1;33m.\u001b[0m\u001b[0msave\u001b[0m\u001b[1;33m(\u001b[0m\u001b[1;33m)\u001b[0m\u001b[1;33m\u001b[0m\u001b[1;33m\u001b[0m\u001b[0m\n\u001b[0m",
      "\u001b[1;32mI:\\Program Files\\Python\\Python37\\lib\\site-packages\\pandas\\io\\excel.py\u001b[0m in \u001b[0;36msave\u001b[1;34m(self)\u001b[0m\n\u001b[0;32m   1016\u001b[0m         \u001b[0mSave\u001b[0m \u001b[0mworkbook\u001b[0m \u001b[0mto\u001b[0m \u001b[0mdisk\u001b[0m\u001b[1;33m.\u001b[0m\u001b[1;33m\u001b[0m\u001b[1;33m\u001b[0m\u001b[0m\n\u001b[0;32m   1017\u001b[0m         \"\"\"\n\u001b[1;32m-> 1018\u001b[1;33m         \u001b[1;32mreturn\u001b[0m \u001b[0mself\u001b[0m\u001b[1;33m.\u001b[0m\u001b[0mbook\u001b[0m\u001b[1;33m.\u001b[0m\u001b[0msave\u001b[0m\u001b[1;33m(\u001b[0m\u001b[0mself\u001b[0m\u001b[1;33m.\u001b[0m\u001b[0mpath\u001b[0m\u001b[1;33m)\u001b[0m\u001b[1;33m\u001b[0m\u001b[1;33m\u001b[0m\u001b[0m\n\u001b[0m\u001b[0;32m   1019\u001b[0m \u001b[1;33m\u001b[0m\u001b[0m\n\u001b[0;32m   1020\u001b[0m     \u001b[1;33m@\u001b[0m\u001b[0mclassmethod\u001b[0m\u001b[1;33m\u001b[0m\u001b[1;33m\u001b[0m\u001b[0m\n",
      "\u001b[1;32mI:\\Program Files\\Python\\Python37\\lib\\site-packages\\openpyxl\\workbook\\workbook.py\u001b[0m in \u001b[0;36msave\u001b[1;34m(self, filename)\u001b[0m\n\u001b[0;32m    389\u001b[0m             \u001b[0msave_dump\u001b[0m\u001b[1;33m(\u001b[0m\u001b[0mself\u001b[0m\u001b[1;33m,\u001b[0m \u001b[0mfilename\u001b[0m\u001b[1;33m)\u001b[0m\u001b[1;33m\u001b[0m\u001b[1;33m\u001b[0m\u001b[0m\n\u001b[0;32m    390\u001b[0m         \u001b[1;32melse\u001b[0m\u001b[1;33m:\u001b[0m\u001b[1;33m\u001b[0m\u001b[1;33m\u001b[0m\u001b[0m\n\u001b[1;32m--> 391\u001b[1;33m             \u001b[0msave_workbook\u001b[0m\u001b[1;33m(\u001b[0m\u001b[0mself\u001b[0m\u001b[1;33m,\u001b[0m \u001b[0mfilename\u001b[0m\u001b[1;33m)\u001b[0m\u001b[1;33m\u001b[0m\u001b[1;33m\u001b[0m\u001b[0m\n\u001b[0m\u001b[0;32m    392\u001b[0m \u001b[1;33m\u001b[0m\u001b[0m\n\u001b[0;32m    393\u001b[0m \u001b[1;33m\u001b[0m\u001b[0m\n",
      "\u001b[1;32mI:\\Program Files\\Python\\Python37\\lib\\site-packages\\openpyxl\\writer\\excel.py\u001b[0m in \u001b[0;36msave_workbook\u001b[1;34m(workbook, filename)\u001b[0m\n\u001b[0;32m    280\u001b[0m \u001b[1;33m\u001b[0m\u001b[0m\n\u001b[0;32m    281\u001b[0m     \"\"\"\n\u001b[1;32m--> 282\u001b[1;33m     \u001b[0marchive\u001b[0m \u001b[1;33m=\u001b[0m \u001b[0mZipFile\u001b[0m\u001b[1;33m(\u001b[0m\u001b[0mfilename\u001b[0m\u001b[1;33m,\u001b[0m \u001b[1;34m'w'\u001b[0m\u001b[1;33m,\u001b[0m \u001b[0mZIP_DEFLATED\u001b[0m\u001b[1;33m,\u001b[0m \u001b[0mallowZip64\u001b[0m\u001b[1;33m=\u001b[0m\u001b[1;32mTrue\u001b[0m\u001b[1;33m)\u001b[0m\u001b[1;33m\u001b[0m\u001b[1;33m\u001b[0m\u001b[0m\n\u001b[0m\u001b[0;32m    283\u001b[0m     \u001b[0mwriter\u001b[0m \u001b[1;33m=\u001b[0m \u001b[0mExcelWriter\u001b[0m\u001b[1;33m(\u001b[0m\u001b[0mworkbook\u001b[0m\u001b[1;33m,\u001b[0m \u001b[0marchive\u001b[0m\u001b[1;33m)\u001b[0m\u001b[1;33m\u001b[0m\u001b[1;33m\u001b[0m\u001b[0m\n\u001b[0;32m    284\u001b[0m     \u001b[0mwriter\u001b[0m\u001b[1;33m.\u001b[0m\u001b[0msave\u001b[0m\u001b[1;33m(\u001b[0m\u001b[0mfilename\u001b[0m\u001b[1;33m)\u001b[0m\u001b[1;33m\u001b[0m\u001b[1;33m\u001b[0m\u001b[0m\n",
      "\u001b[1;32mI:\\Program Files\\Python\\Python37\\lib\\zipfile.py\u001b[0m in \u001b[0;36m__init__\u001b[1;34m(self, file, mode, compression, allowZip64, compresslevel)\u001b[0m\n\u001b[0;32m   1202\u001b[0m             \u001b[1;32mwhile\u001b[0m \u001b[1;32mTrue\u001b[0m\u001b[1;33m:\u001b[0m\u001b[1;33m\u001b[0m\u001b[1;33m\u001b[0m\u001b[0m\n\u001b[0;32m   1203\u001b[0m                 \u001b[1;32mtry\u001b[0m\u001b[1;33m:\u001b[0m\u001b[1;33m\u001b[0m\u001b[1;33m\u001b[0m\u001b[0m\n\u001b[1;32m-> 1204\u001b[1;33m                     \u001b[0mself\u001b[0m\u001b[1;33m.\u001b[0m\u001b[0mfp\u001b[0m \u001b[1;33m=\u001b[0m \u001b[0mio\u001b[0m\u001b[1;33m.\u001b[0m\u001b[0mopen\u001b[0m\u001b[1;33m(\u001b[0m\u001b[0mfile\u001b[0m\u001b[1;33m,\u001b[0m \u001b[0mfilemode\u001b[0m\u001b[1;33m)\u001b[0m\u001b[1;33m\u001b[0m\u001b[1;33m\u001b[0m\u001b[0m\n\u001b[0m\u001b[0;32m   1205\u001b[0m                 \u001b[1;32mexcept\u001b[0m \u001b[0mOSError\u001b[0m\u001b[1;33m:\u001b[0m\u001b[1;33m\u001b[0m\u001b[1;33m\u001b[0m\u001b[0m\n\u001b[0;32m   1206\u001b[0m                     \u001b[1;32mif\u001b[0m \u001b[0mfilemode\u001b[0m \u001b[1;32min\u001b[0m \u001b[0mmodeDict\u001b[0m\u001b[1;33m:\u001b[0m\u001b[1;33m\u001b[0m\u001b[1;33m\u001b[0m\u001b[0m\n",
      "\u001b[1;31mPermissionError\u001b[0m: [Errno 13] Permission denied: 'tacaia2-202007.xlsx'"
     ]
    }
   ],
   "source": [
    "tacaia2.to_excel('tacaia2-202007.xlsx')"
   ]
  },
  {
   "cell_type": "code",
   "execution_count": 18,
   "metadata": {
    "tags": []
   },
   "outputs": [],
   "source": [
    "#tacaia2.to_excel('tacaia2-202005.xlsx',sheet_name='tacaia2')\n",
    "#tacaia2.loc[('B2003125AFA','LF03','33','MD2005061901'),'PRODUCT_CODE'][0][:4] #Pandas多层索引的引用\n",
    "#[x[0] for x in tacaia2.index] #多层索引中一层所有元素的列表"
   ]
  },
  {
   "cell_type": "code",
   "execution_count": 19,
   "metadata": {
    "tags": []
   },
   "outputs": [
    {
     "output_type": "stream",
     "name": "stdout",
     "text": "202007\n"
    }
   ],
   "source": [
    "acc_period=tacaia2['ACCOUNT_PERIOD'][1]\n",
    "print(acc_period)"
   ]
  },
  {
   "cell_type": "code",
   "execution_count": 20,
   "metadata": {},
   "outputs": [],
   "source": [
    "tacacm4=pd.read_sql('select * from tacacm4 where YEAR=? and MON=?',conn,params=[acc_period[:4],acc_period[4:]])\n",
    "tacacm4.set_index(['PRODUCT_CODE'],inplace=True)\n",
    "tacacm4.drop(['REC_CREATOR', 'REC_CREATE_TIME', 'REC_REVISOR', 'REC_REVISE_TIME','ARCHIVE_FLAG', 'COMPANY_CODE', 'COMPANY_CNAME','COST_CENTER', 'STD_PRICE',\"CURRNT_STD_AMOUNT\",\"CRRT_OTPT_STD_AMT\",\"OTHR_INCM_STD_AMT\",\"SALE_STD_AMOUNT\",\"NEXT_PRSP_STD_AMT\",\"NEXT_MATCH_STD_AMT\",\"OTHER_SEND_STD_AMT\",\"PERIOD_END_STD_AMT\",\"IN_MATCH_STD_AMT\"],axis=1,inplace=True)\n",
    "tacacm4[[\"CURRENT_N\",\"CRRT_OTPT_VRNC_AMT\",\"SALE_N\",\"SALE_VRNC_AMOUNT\",\"NEXT_PRSP_USED_N\",\"NEXT_PRSP_VRNC_AMT\",\"NEXT_MATCH_USED_N\",\"NEXT_MATCH_VRNC_AMT\",\"PERIOD_END_N\",\"PERIOD_END_VRNC_AMT\",\"IN_MATCH_N\",\"IN_MATCH_VRNC_AMT\"]]=[0.00,0.00,0.00,0.00,0.00,0.00,0.00,0.00,0.00,0.00,0.00,0.00]"
   ]
  },
  {
   "cell_type": "code",
   "execution_count": 21,
   "metadata": {},
   "outputs": [],
   "source": [
    "#tacacmm.to_excel('tacacmm-202006.xlsx')"
   ]
  },
  {
   "cell_type": "code",
   "execution_count": 22,
   "metadata": {},
   "outputs": [],
   "source": [
    "#tacacm4[['PERIOD_END_N','PERIOD_END_VRNC_AMT']]#test"
   ]
  },
  {
   "cell_type": "code",
   "execution_count": 23,
   "metadata": {},
   "outputs": [],
   "source": [
    "#tacacm4[['PERIOD_END_N','PERIOD_END_VRNC_AMT']]=[0.00,0.00]\n",
    "#tacacm4[['PERIOD_END_N','PERIOD_END_VRNC_AMT']]#test"
   ]
  },
  {
   "cell_type": "code",
   "execution_count": 24,
   "metadata": {},
   "outputs": [
    {
     "output_type": "execute_result",
     "data": {
      "text/plain": "Index(['YEAR', 'MON', 'PERIOD_START_N', 'PRST_VRNC_AMOUNT', 'CURRENT_N',\n       'CRRT_OTPT_VRNC_AMT', 'OTHERS_RECEIVE_N', 'OTHR_INCM_VRNC_AMT',\n       'SALE_N', 'SALE_VRNC_AMOUNT', 'NEXT_PRSP_USED_N', 'NEXT_PRSP_VRNC_AMT',\n       'NEXT_MATCH_USED_N', 'NEXT_MATCH_VRNC_AMT', 'OTHERS_SEND_N',\n       'OTHER_SEND_VRNC_AMT', 'PERIOD_END_N', 'PERIOD_END_VRNC_AMT',\n       'IN_MATCH_N', 'IN_MATCH_VRNC_AMT'],\n      dtype='object')"
     },
     "metadata": {},
     "execution_count": 24
    }
   ],
   "source": [
    "tacacm4.columns#test"
   ]
  },
  {
   "cell_type": "code",
   "execution_count": 25,
   "metadata": {},
   "outputs": [],
   "source": [
    "tacacmm=pd.read_sql('select * from tacacmm where YEAR=? and MON=?',conn,params=[acc_period[:4],acc_period[4:]])\n",
    "tacacmm.set_index(['PRODUCT_CODE'],inplace=True)\n",
    "tacacmm.drop(['REC_CREATOR', 'REC_CREATE_TIME', 'REC_REVISOR', 'REC_REVISE_TIME','ARCHIVE_FLAG', 'COMPANY_CODE', 'COMPANY_CNAME', 'STD_PRICE'],axis=1,inplace=True)\n",
    "tacacmm[['CURRENT_N','CRRT_OTPT_ACT_AMT','NEXT_MATCH_AMT', 'NEXT_MATCH_USED_N', 'GM_N', 'GM_ACT_AMT', 'SY_N','SY_ACT_AMT', 'LL_N','LL_ACT_AMT','PERIOD_END_N', 'PERIOD_END_ACT_AMT','NEXT_PRSP_USED_N','NEXT_PRSP_STD_AMT', 'IN_MATCH_AMT', 'IN_MATCH_N']]=[0.00,0.00,0.00,0.00,0.00,0.00,0.00,0.00,0.00,0.00,0.00,0.00,0.00,0.00,0.00,0.00]"
   ]
  },
  {
   "cell_type": "code",
   "execution_count": 26,
   "metadata": {},
   "outputs": [],
   "source": [
    "tacacj5=pd.read_sql_query('select * from tacacj5 where YEAR_MON=?',conn,params=[acc_period])\n",
    "tacacj5.set_index(['PRODUCT_CODE'],inplace=True)\n",
    "tacacj5.drop(['REC_CREATOR', 'REC_CREATE_TIME', 'REC_REVISOR', 'REC_REVISE_TIME','ARCHIVE_FLAG', 'COMPANY_CODE', 'COMPANY_CNAME'],axis=1,inplace=True)"
   ]
  },
  {
   "cell_type": "code",
   "execution_count": 27,
   "metadata": {
    "tags": []
   },
   "outputs": [
    {
     "output_type": "stream",
     "name": "stdout",
     "text": "YEAR_MON PRODUCT_CODE_CNAME  CRRT_YEAR_STD_AMT\nPRODUCT_CODE                                               \n9001000000     202007                                3.5398\n9001100000     202007                                3.5398\n9002000000     202007                                4.1592\n9002400000     202007                                4.1592\n9002405893     202007                                4.1592\n              YEAR MON  PERIOD_START_N  PRST_VRNC_AMOUNT  CURRENT_N  \\\nPRODUCT_CODE                                                          \n0003100002    2020  07         6989.00          89829.95        0.0   \n0003100003    2020  07         5386.00          67926.77        0.0   \n0003100004    2020  07        78769.37         985215.95        0.0   \n0003100006    2020  07        48716.03         578597.51        0.0   \n0003100719    2020  07         4138.88          54112.68        0.0   \n\n              CRRT_OTPT_VRNC_AMT  OTHERS_RECEIVE_N  OTHR_INCM_VRNC_AMT  \\\nPRODUCT_CODE                                                             \n0003100002                   0.0            9742.0           125541.22   \n0003100003                   0.0               0.0                0.00   \n0003100004                   0.0           26519.0           342206.81   \n0003100006                   0.0          267695.0          3081659.80   \n0003100719                   0.0           31897.0           390798.12   \n\n              SALE_N  SALE_VRNC_AMOUNT  NEXT_PRSP_USED_N  NEXT_PRSP_VRNC_AMT  \\\nPRODUCT_CODE                                                                   \n0003100002       0.0               0.0               0.0                 0.0   \n0003100003       0.0               0.0               0.0                 0.0   \n0003100004       0.0               0.0               0.0                 0.0   \n0003100006       0.0               0.0               0.0                 0.0   \n0003100719       0.0               0.0               0.0                 0.0   \n\n              NEXT_MATCH_USED_N  NEXT_MATCH_VRNC_AMT  OTHERS_SEND_N  \\\nPRODUCT_CODE                                                          \n0003100002                  0.0                  0.0            0.0   \n0003100003                  0.0                  0.0            0.0   \n0003100004                  0.0                  0.0            0.0   \n0003100006                  0.0                  0.0            0.0   \n0003100719                  0.0                  0.0            0.0   \n\n              OTHER_SEND_VRNC_AMT  PERIOD_END_N  PERIOD_END_VRNC_AMT  \\\nPRODUCT_CODE                                                           \n0003100002                    0.0           0.0                  0.0   \n0003100003                    0.0           0.0                  0.0   \n0003100004                    0.0           0.0                  0.0   \n0003100006                    0.0           0.0                  0.0   \n0003100719                    0.0           0.0                  0.0   \n\n              IN_MATCH_N  IN_MATCH_VRNC_AMT  \nPRODUCT_CODE                                 \n0003100002           0.0                0.0  \n0003100003           0.0                0.0  \n0003100004           0.0                0.0  \n0003100006           0.0                0.0  \n0003100719           0.0                0.0  \n              YEAR MON  PERIOD_START_N  START_AMOUNT  CURRENT_N  \\\nPRODUCT_CODE                                                      \n30033Z11135   2020  07          904.26      17461.87        0.0   \n30033Z11136   2020  07           39.88        827.80        0.0   \n30033Z1440    2020  07         2351.67      32382.99        0.0   \n30034Z11113   2020  07           37.51        721.79        0.0   \n30034Z7497    2020  07          660.00      10513.69        0.0   \n\n              CRRT_OTPT_ACT_AMT  OTHERS_RECEIVE_N  OTHR_INCM_ACT_AMT  \\\nPRODUCT_CODE                                                           \n30033Z11135                 0.0               0.0                0.0   \n30033Z11136                 0.0               0.0                0.0   \n30033Z1440                  0.0               0.0                0.0   \n30034Z11113                 0.0               0.0                0.0   \n30034Z7497                  0.0               0.0                0.0   \n\n              NEXT_MATCH_AMT  NEXT_MATCH_USED_N     ...      LL_N  LL_ACT_AMT  \\\nPRODUCT_CODE                                        ...                         \n30033Z11135              0.0                0.0     ...       0.0         0.0   \n30033Z11136              0.0                0.0     ...       0.0         0.0   \n30033Z1440               0.0                0.0     ...       0.0         0.0   \n30034Z11113              0.0                0.0     ...       0.0         0.0   \n30034Z7497               0.0                0.0     ...       0.0         0.0   \n\n              OTHERS_SEND_N  OTHR_SEND_ACT_AMT  PERIOD_END_N  \\\nPRODUCT_CODE                                                   \n30033Z11135             0.0                0.0           0.0   \n30033Z11136             0.0                0.0           0.0   \n30033Z1440              0.0                0.0           0.0   \n30034Z11113             0.0                0.0           0.0   \n30034Z7497              0.0                0.0           0.0   \n\n              PERIOD_END_ACT_AMT  NEXT_PRSP_USED_N  NEXT_PRSP_STD_AMT  \\\nPRODUCT_CODE                                                            \n30033Z11135                  0.0               0.0                0.0   \n30033Z11136                  0.0               0.0                0.0   \n30033Z1440                   0.0               0.0                0.0   \n30034Z11113                  0.0               0.0                0.0   \n30034Z7497                   0.0               0.0                0.0   \n\n              IN_MATCH_AMT  IN_MATCH_N  \nPRODUCT_CODE                            \n30033Z11135            0.0         0.0  \n30033Z11136            0.0         0.0  \n30033Z1440             0.0         0.0  \n30034Z11113            0.0         0.0  \n30034Z7497             0.0         0.0  \n\n[5 rows x 24 columns]\n"
    }
   ],
   "source": [
    "print(tacacj5.head())\n",
    "print(tacacm4.head())\n",
    "print(tacacmm.head())"
   ]
  },
  {
   "cell_type": "code",
   "execution_count": 28,
   "metadata": {},
   "outputs": [],
   "source": [
    "#将ACAI25表按1、材料号升序；2、账务代码：按33 03 31 01 50 51 的顺序排列；3、销售合同号按升序排列\n",
    "#tacaia2[tacaia2['MAT_WT'].rank(method='dense',ascending=False)==3]"
   ]
  },
  {
   "cell_type": "code",
   "execution_count": 29,
   "metadata": {
    "tags": []
   },
   "outputs": [
    {
     "output_type": "execute_result",
     "data": {
      "text/plain": "\"acc_ttl_list=['33','03','31','01','50','51']\\ntacaia2['ACCOUNT_TITLE_ITEM']=tacaia2['ACCOUNT_TITLE_ITEM'].astype('category')\\ntacaia2['ACCOUNT_TITLE_ITEM'].cat.set_category(acc_ttl_list,inplace=True)\\ntacaia2.sortvalues(['MAT_NO','ACCOUNT_TITLE_ITEM','SALE_ORDER_SUB_NO'],ascending=True,inplace=True)\\ntacaia2\""
     },
     "metadata": {},
     "execution_count": 29
    }
   ],
   "source": [
    "#对账务代码自定义排序：先设排序的列表；将账务代码列的数据类型改成‘category’（astype)；用set_category，设置账务代码的顺序；用sort_values使排序生效，同时，也将材料号和销售合同升序排列\n",
    "'''acc_ttl_list=['33','03','31','01','50','51']\n",
    "tacaia2['ACCOUNT_TITLE_ITEM']=tacaia2['ACCOUNT_TITLE_ITEM'].astype('category')\n",
    "tacaia2['ACCOUNT_TITLE_ITEM'].cat.set_category(acc_ttl_list,inplace=True)\n",
    "tacaia2.sortvalues(['MAT_NO','ACCOUNT_TITLE_ITEM','SALE_ORDER_SUB_NO'],ascending=True,inplace=True)\n",
    "tacaia2'''"
   ]
  },
  {
   "cell_type": "code",
   "execution_count": 30,
   "metadata": {
    "tags": [
     "outputPrepend"
    ]
   },
   "outputs": [
    {
     "output_type": "stream",
     "name": "stdout",
     "text": "007311901         13396\n           MD2007312001         13394\n           MD2007312201         13393\n           MD2007312301         13395\nName: KEY_SEQ, dtype: int64\nUNIT_CODE  SALE_ORDER_SUB_NO\nL001                            243\nName: KEY_SEQ, dtype: int64\nUNIT_CODE  SALE_ORDER_SUB_NO\nL001       MD2007311901         13396\n           MD2007312001         13394\n           MD2007312201         13393\n           MD2007312301         13395\nName: KEY_SEQ, dtype: int64\nUNIT_CODE  SALE_ORDER_SUB_NO\nL001                            243\nName: KEY_SEQ, dtype: int64\nUNIT_CODE  SALE_ORDER_SUB_NO\nL001       MD2007311901         13396\n           MD2007312001         13394\n           MD2007312201         13393\n           MD2007312301         13395\nName: KEY_SEQ, dtype: int64\nUNIT_CODE  SALE_ORDER_SUB_NO\nLA01       MD2007312201         4442\nName: KEY_SEQ, dtype: int64\nUNIT_CODE  SALE_ORDER_SUB_NO\nLA01       MD2007312201         4443\nName: KEY_SEQ, dtype: int64\nUNIT_CODE  SALE_ORDER_SUB_NO\nLA01       MD2007311901         4444\nName: KEY_SEQ, dtype: int64\nUNIT_CODE  SALE_ORDER_SUB_NO\nLA01       MD2007312201         4445\nName: KEY_SEQ, dtype: int64\nUNIT_CODE  SALE_ORDER_SUB_NO\nLA01       MD2007312201         4446\nName: KEY_SEQ, dtype: int64\nUNIT_CODE  SALE_ORDER_SUB_NO\nLA01       MD2007311901         4447\nName: KEY_SEQ, dtype: int64\nUNIT_CODE  SALE_ORDER_SUB_NO\nLA01       MD2007311901         19495\nName: KEY_SEQ, dtype: int64\nUNIT_CODE  SALE_ORDER_SUB_NO\nLA01       MD2007311901         4447\nName: KEY_SEQ, dtype: int64\nUNIT_CODE  SALE_ORDER_SUB_NO\nLA01       MD2007311901         19495\nName: KEY_SEQ, dtype: int64\nUNIT_CODE  SALE_ORDER_SUB_NO\nLA01       MD2007312301         4448\nName: KEY_SEQ, dtype: int64\nUNIT_CODE  SALE_ORDER_SUB_NO\nLA01       MD2007312301         19496\nName: KEY_SEQ, dtype: int64\nUNIT_CODE  SALE_ORDER_SUB_NO\nLA01       MD2007312301         4448\nName: KEY_SEQ, dtype: int64\nUNIT_CODE  SALE_ORDER_SUB_NO\nLA01       MD2007312301         19496\nName: KEY_SEQ, dtype: int64\nUNIT_CODE  SALE_ORDER_SUB_NO\nLA01       MD2007312001         4449\nName: KEY_SEQ, dtype: int64\nUNIT_CODE  SALE_ORDER_SUB_NO\nLA01       MD2007312001         19497\nName: KEY_SEQ, dtype: int64\nUNIT_CODE  SALE_ORDER_SUB_NO\nLA01       MD2007312001         4449\nName: KEY_SEQ, dtype: int64\nUNIT_CODE  SALE_ORDER_SUB_NO\nLA01       MD2007312001         19497\nName: KEY_SEQ, dtype: int64\nUNIT_CODE  SALE_ORDER_SUB_NO\nLA01       MD2007312201         4450\nName: KEY_SEQ, dtype: int64\nUNIT_CODE  SALE_ORDER_SUB_NO\nLA01       MD2007312201         19498\nName: KEY_SEQ, dtype: int64\nUNIT_CODE  SALE_ORDER_SUB_NO\nLA01       MD2007312201         4450\nName: KEY_SEQ, dtype: int64\nUNIT_CODE  SALE_ORDER_SUB_NO\nLA01       MD2007312201         19498\nName: KEY_SEQ, dtype: int64\nUNIT_CODE  SALE_ORDER_SUB_NO\nLA01       MD2007312301         4451\nName: KEY_SEQ, dtype: int64\nUNIT_CODE  SALE_ORDER_SUB_NO\nLA01       MD2007312301         4452\nName: KEY_SEQ, dtype: int64\nUNIT_CODE  SALE_ORDER_SUB_NO\nLA01       MD2007312301         4453\nName: KEY_SEQ, dtype: int64\nUNIT_CODE  SALE_ORDER_SUB_NO\nLA01       MD2007312301         4454\nName: KEY_SEQ, dtype: int64\nUNIT_CODE  SALE_ORDER_SUB_NO\nLA01       MD2007312301         4455\nName: KEY_SEQ, dtype: int64\nUNIT_CODE  SALE_ORDER_SUB_NO\nLA01       MD2007312301         4456\nName: KEY_SEQ, dtype: int64\nUNIT_CODE  SALE_ORDER_SUB_NO\n                                93\nName: KEY_SEQ, dtype: int64\nUNIT_CODE  SALE_ORDER_SUB_NO\nL001                            94\nName: KEY_SEQ, dtype: int64\nUNIT_CODE  SALE_ORDER_SUB_NO\nL001                            95\nName: KEY_SEQ, dtype: int64\nUNIT_CODE  SALE_ORDER_SUB_NO\nL001       MD2007280801         13381\nName: KEY_SEQ, dtype: int64\nUNIT_CODE  SALE_ORDER_SUB_NO\nL001                            95\nName: KEY_SEQ, dtype: int64\nUNIT_CODE  SALE_ORDER_SUB_NO\nL001       MD2007280801         13381\nName: KEY_SEQ, dtype: int64\nUNIT_CODE  SALE_ORDER_SUB_NO\nLA01       MD2007280801         4458\nName: KEY_SEQ, dtype: int64\nUNIT_CODE  SALE_ORDER_SUB_NO\nLA01       MD2007280801         4459\nName: KEY_SEQ, dtype: int64\nUNIT_CODE  SALE_ORDER_SUB_NO\nLA01       MD2007280801         4460\nName: KEY_SEQ, dtype: int64\nUNIT_CODE  SALE_ORDER_SUB_NO\nLA01       MD2007280801         4461\nName: KEY_SEQ, dtype: int64\nUNIT_CODE  SALE_ORDER_SUB_NO\nLA01       MD2007280801         6012\nName: KEY_SEQ, dtype: int64\nUNIT_CODE  SALE_ORDER_SUB_NO\nLA01       MD2007280801         4461\nName: KEY_SEQ, dtype: int64\nUNIT_CODE  SALE_ORDER_SUB_NO\nLA01       MD2007280801         6012\nName: KEY_SEQ, dtype: int64\nUNIT_CODE  SALE_ORDER_SUB_NO\nLA03       MD2007280801         6013\nName: KEY_SEQ, dtype: int64\nUNIT_CODE  SALE_ORDER_SUB_NO\nLA03       MD2007280801         6014\nName: KEY_SEQ, dtype: int64\nUNIT_CODE  SALE_ORDER_SUB_NO\nLA03       MD2007280801         6015\nName: KEY_SEQ, dtype: int64\nUNIT_CODE  SALE_ORDER_SUB_NO\nLA01       MD2007280801         4462\nName: KEY_SEQ, dtype: int64\nUNIT_CODE  SALE_ORDER_SUB_NO\nLA01       MD2007280801         6016\nName: KEY_SEQ, dtype: int64\nUNIT_CODE  SALE_ORDER_SUB_NO\nLA01       MD2007280801         4462\nName: KEY_SEQ, dtype: int64\nUNIT_CODE  SALE_ORDER_SUB_NO\nLA01       MD2007280801         6016\nName: KEY_SEQ, dtype: int64\nUNIT_CODE  SALE_ORDER_SUB_NO\nLA03       MD2007280801         6017\nName: KEY_SEQ, dtype: int64\nUNIT_CODE  SALE_ORDER_SUB_NO\nLA03       MD2007280801         6018\nName: KEY_SEQ, dtype: int64\nUNIT_CODE  SALE_ORDER_SUB_NO\nLA01       MD2007280801         4463\nName: KEY_SEQ, dtype: int64\nUNIT_CODE  SALE_ORDER_SUB_NO\nLA01       MD2007280801         6019\nName: KEY_SEQ, dtype: int64\nUNIT_CODE  SALE_ORDER_SUB_NO\nLA01       MD2007280801         4463\nName: KEY_SEQ, dtype: int64\nUNIT_CODE  SALE_ORDER_SUB_NO\nLA01       MD2007280801         6019\nName: KEY_SEQ, dtype: int64\nUNIT_CODE  SALE_ORDER_SUB_NO\nLA03       MD2007280801         6020\nName: KEY_SEQ, dtype: int64\nUNIT_CODE  SALE_ORDER_SUB_NO\nLA03       MD2007280801         6021\nName: KEY_SEQ, dtype: int64\nUNIT_CODE  SALE_ORDER_SUB_NO\nLA01       MD2007280801         4464\nName: KEY_SEQ, dtype: int64\nUNIT_CODE  SALE_ORDER_SUB_NO\nLA01       MD2007280801         4465\nName: KEY_SEQ, dtype: int64\nUNIT_CODE  SALE_ORDER_SUB_NO\nLA01       MD2007280801         6022\nName: KEY_SEQ, dtype: int64\nUNIT_CODE  SALE_ORDER_SUB_NO\nLA01       MD2007280801         4465\nName: KEY_SEQ, dtype: int64\nUNIT_CODE  SALE_ORDER_SUB_NO\nLA01       MD2007280801         6022\nName: KEY_SEQ, dtype: int64\nUNIT_CODE  SALE_ORDER_SUB_NO\nLA03       MD2007280801         6023\nName: KEY_SEQ, dtype: int64\nUNIT_CODE  SALE_ORDER_SUB_NO\nLA03       MD2007280801         19521\n           MD2007280801         19564\nName: KEY_SEQ, dtype: int64\nUNIT_CODE  SALE_ORDER_SUB_NO\nLA03       MD2007280801         19521\n           MD2007280801         19564\nName: KEY_SEQ, dtype: int64\nUNIT_CODE  SALE_ORDER_SUB_NO\nLA03       MD2007280801         6024\nName: KEY_SEQ, dtype: int64\nUNIT_CODE  SALE_ORDER_SUB_NO\nLA03       MD2007280801         6025\nName: KEY_SEQ, dtype: int64\nUNIT_CODE  SALE_ORDER_SUB_NO\nLA01       MD2007280801         4466\nName: KEY_SEQ, dtype: int64\nUNIT_CODE  SALE_ORDER_SUB_NO\nLA01       MD2007280801         4467\nName: KEY_SEQ, dtype: int64\nUNIT_CODE  SALE_ORDER_SUB_NO\nLA01       MD2007280801         4468\nName: KEY_SEQ, dtype: int64\nUNIT_CODE  SALE_ORDER_SUB_NO\n                                244\nName: KEY_SEQ, dtype: int64\nUNIT_CODE  SALE_ORDER_SUB_NO\nL001                            245\nName: KEY_SEQ, dtype: int64\nUNIT_CODE  SALE_ORDER_SUB_NO\nL001       MD2007243101         13397\nName: KEY_SEQ, dtype: int64\nUNIT_CODE  SALE_ORDER_SUB_NO\nL001                            245\nName: KEY_SEQ, dtype: int64\nUNIT_CODE  SALE_ORDER_SUB_NO\nL001       MD2007243101         13397\nName: KEY_SEQ, dtype: int64\nUNIT_CODE  SALE_ORDER_SUB_NO\nLA01       MD2007243101         4470\nName: KEY_SEQ, dtype: int64\nUNIT_CODE  SALE_ORDER_SUB_NO\nLA01       MD2007243101         4471\nName: KEY_SEQ, dtype: int64\nUNIT_CODE  SALE_ORDER_SUB_NO\nLA01       MD2007243101         4474\nName: KEY_SEQ, dtype: int64\nUNIT_CODE  SALE_ORDER_SUB_NO\nLA01       MD2007243101         4472\nName: KEY_SEQ, dtype: int64\nUNIT_CODE  SALE_ORDER_SUB_NO\nLA01       MD2007243101         4473\nName: KEY_SEQ, dtype: int64\nUNIT_CODE  SALE_ORDER_SUB_NO\nLA01       MD2007243101         19499\nName: KEY_SEQ, dtype: int64\nUNIT_CODE  SALE_ORDER_SUB_NO\nLA01       MD2007243101         4473\nName: KEY_SEQ, dtype: int64\nUNIT_CODE  SALE_ORDER_SUB_NO\nLA01       MD2007243101         19499\nName: KEY_SEQ, dtype: int64\nUNIT_CODE  SALE_ORDER_SUB_NO\n                                246\nName: KEY_SEQ, dtype: int64\nUNIT_CODE  SALE_ORDER_SUB_NO\nL001                            247\nName: KEY_SEQ, dtype: int64\nUNIT_CODE  SALE_ORDER_SUB_NO\nL001       ND2007290401         13400\n           ND2007290402         13398\n           ND2007290403         13401\n           ND2007290404         13399\nName: KEY_SEQ, dtype: int64\nUNIT_CODE  SALE_ORDER_SUB_NO\nL001                            247\nName: KEY_SEQ, dtype: int64\nUNIT_CODE  SALE_ORDER_SUB_NO\nL001       ND2007290401         13400\n           ND2007290402         13398\n           ND2007290403         13401\n           ND2007290404         13399\nName: KEY_SEQ, dtype: int64\nUNIT_CODE  SALE_ORDER_SUB_NO\nL001                            247\nName: KEY_SEQ, dtype: int64\nUNIT_CODE  SALE_ORDER_SUB_NO\nL001       ND2007290401         13400\n           ND2007290402         13398\n           ND2007290403         13401\n           ND2007290404         13399\nName: KEY_SEQ, dtype: int64\nUNIT_CODE  SALE_ORDER_SUB_NO\nL001                            247\nName: KEY_SEQ, dtype: int64\nUNIT_CODE  SALE_ORDER_SUB_NO\nL001       ND2007290401         13400\n           ND2007290402         13398\n           ND2007290403         13401\n           ND2007290404         13399\nName: KEY_SEQ, dtype: int64\nUNIT_CODE  SALE_ORDER_SUB_NO\nL001                            247\nName: KEY_SEQ, dtype: int64\nUNIT_CODE  SALE_ORDER_SUB_NO\nL001       ND2007290401         13400\n           ND2007290402         13398\n           ND2007290403         13401\n           ND2007290404         13399\nName: KEY_SEQ, dtype: int64\nUNIT_CODE  SALE_ORDER_SUB_NO\nLA01       ND2007290402         4476\nName: KEY_SEQ, dtype: int64\nUNIT_CODE  SALE_ORDER_SUB_NO\nLA01       ND2007290402         4477\nName: KEY_SEQ, dtype: int64\nUNIT_CODE  SALE_ORDER_SUB_NO\nLA01       ND2007290402         4478\nName: KEY_SEQ, dtype: int64\nUNIT_CODE  SALE_ORDER_SUB_NO\nLA01       ND2007290401         4479\nName: KEY_SEQ, dtype: int64\nUNIT_CODE  SALE_ORDER_SUB_NO\nLA01       ND2007290401         4480\nName: KEY_SEQ, dtype: int64\nUNIT_CODE  SALE_ORDER_SUB_NO\nLA01       ND2007290403         4481\nName: KEY_SEQ, dtype: int64\nUNIT_CODE  SALE_ORDER_SUB_NO\nLA01       ND2007290402         4482\nName: KEY_SEQ, dtype: int64\nUNIT_CODE  SALE_ORDER_SUB_NO\nLA01       ND2007290404         4483\nName: KEY_SEQ, dtype: int64\nUNIT_CODE  SALE_ORDER_SUB_NO\nLA01       ND1809030402         13402\nName: KEY_SEQ, dtype: int64\nUNIT_CODE  SALE_ORDER_SUB_NO\nLA01       ND1809030402         4485\nName: KEY_SEQ, dtype: int64\nUNIT_CODE  SALE_ORDER_SUB_NO\nLA01       ND1809030402         4486\nName: KEY_SEQ, dtype: int64\nUNIT_CODE  SALE_ORDER_SUB_NO\nLA01       ND1809030402         4487\nName: KEY_SEQ, dtype: int64\nUNIT_CODE  SALE_ORDER_SUB_NO\nLA01       ND1809030402         4488\nName: KEY_SEQ, dtype: int64\nUNIT_CODE  SALE_ORDER_SUB_NO\n                                96\nName: KEY_SEQ, dtype: int64\nUNIT_CODE  SALE_ORDER_SUB_NO\nL001                            97\nName: KEY_SEQ, dtype: int64\nUNIT_CODE  SALE_ORDER_SUB_NO\nL001                            98\nName: KEY_SEQ, dtype: int64\nUNIT_CODE  SALE_ORDER_SUB_NO\nL001                            99\nName: KEY_SEQ, dtype: int64\nUNIT_CODE  SALE_ORDER_SUB_NO\n                                100\nName: KEY_SEQ, dtype: int64\nUNIT_CODE  SALE_ORDER_SUB_NO\nL001                            101\nName: KEY_SEQ, dtype: int64\nUNIT_CODE  SALE_ORDER_SUB_NO\nL001                            102\nName: KEY_SEQ, dtype: int64\nUNIT_CODE  SALE_ORDER_SUB_NO\n                                248\nName: KEY_SEQ, dtype: int64\nUNIT_CODE  SALE_ORDER_SUB_NO\nL001                            249\nName: KEY_SEQ, dtype: int64\nUNIT_CODE  SALE_ORDER_SUB_NO\nL001       MD2007310501         13404\n           MD2007310502         13403\nName: KEY_SEQ, dtype: int64\nUNIT_CODE  SALE_ORDER_SUB_NO\nL001                            249\nName: KEY_SEQ, dtype: int64\nUNIT_CODE  SALE_ORDER_SUB_NO\nL001       MD2007310501         13404\n           MD2007310502         13403\nName: KEY_SEQ, dtype: int64\nUNIT_CODE  SALE_ORDER_SUB_NO\nL001                            249\nName: KEY_SEQ, dtype: int64\nUNIT_CODE  SALE_ORDER_SUB_NO\nL001       MD2007310501         13404\n           MD2007310502         13403\nName: KEY_SEQ, dtype: int64\nUNIT_CODE  SALE_ORDER_SUB_NO\nLA01       MD2007310501         4490\nName: KEY_SEQ, dtype: int64\nUNIT_CODE  SALE_ORDER_SUB_NO\nLA01       MD2007310501         4491\nName: KEY_SEQ, dtype: int64\nUNIT_CODE  SALE_ORDER_SUB_NO\nLA01       MD2007310501         4492\nName: KEY_SEQ, dtype: int64\nUNIT_CODE  SALE_ORDER_SUB_NO\nLA01       MD2007310501         4493\nName: KEY_SEQ, dtype: int64\nUNIT_CODE  SALE_ORDER_SUB_NO\nLA01       MD2007310501         4494\nName: KEY_SEQ, dtype: int64\nUNIT_CODE  SALE_ORDER_SUB_NO\nLA01       MD2007310502         4495\nName: KEY_SEQ, dtype: int64\nUNIT_CODE  SALE_ORDER_SUB_NO\n                                250\nName: KEY_SEQ, dtype: int64\nUNIT_CODE  SALE_ORDER_SUB_NO\nL001                            251\nName: KEY_SEQ, dtype: int64\nUNIT_CODE  SALE_ORDER_SUB_NO\nL001                            252\nName: KEY_SEQ, dtype: int64\nUNIT_CODE  SALE_ORDER_SUB_NO\nL001                            253\nName: KEY_SEQ, dtype: int64\nUNIT_CODE  SALE_ORDER_SUB_NO\nLA03       FD2007300102         19512\nName: KEY_SEQ, dtype: int64\nUNIT_CODE  SALE_ORDER_SUB_NO\nLK01       FD2007300102         19513\nName: KEY_SEQ, dtype: int64\nUNIT_CODE  SALE_ORDER_SUB_NO\nLA01       FD2007070101         19514\n           FD2007300102         19516\n           FD2007300201         19515\nName: KEY_SEQ, dtype: int64\nUNIT_CODE  SALE_ORDER_SUB_NO\nLA01       FD2007070101         19514\n           FD2007300102         19516\n           FD2007300201         19515\nName: KEY_SEQ, dtype: int64\nUNIT_CODE  SALE_ORDER_SUB_NO\nLA01       FD2007070101         19514\n           FD2007300102         19516\n           FD2007300201         19515\nName: KEY_SEQ, dtype: int64\nUNIT_CODE  SALE_ORDER_SUB_NO\n           FD2007300102         19517\nName: KEY_SEQ, dtype: int64\nUNIT_CODE  SALE_ORDER_SUB_NO\nLC02       FD2007300101         19519\n           FD2007300102         19518\nName: KEY_SEQ, dtype: int64\nUNIT_CODE  SALE_ORDER_SUB_NO\nLC02       FD2007300101         19519\n           FD2007300102         19518\nName: KEY_SEQ, dtype: int64\nUNIT_CODE  SALE_ORDER_SUB_NO\nLJ01       MD2007060101         8986\nName: KEY_SEQ, dtype: int64\nUNIT_CODE  SALE_ORDER_SUB_NO\nLK01       MD2007060101         12128\nName: KEY_SEQ, dtype: int64\nUNIT_CODE  SALE_ORDER_SUB_NO\nLK01       MD2007060101         19500\nName: KEY_SEQ, dtype: int64\nUNIT_CODE  SALE_ORDER_SUB_NO\nLK01       MD2007060101         12128\nName: KEY_SEQ, dtype: int64\nUNIT_CODE  SALE_ORDER_SUB_NO\nLK01       MD2007060101         19500\nName: KEY_SEQ, dtype: int64\nUNIT_CODE  SALE_ORDER_SUB_NO\nLK01       MD2007060101         12127\nName: KEY_SEQ, dtype: int64\nUNIT_CODE  SALE_ORDER_SUB_NO\nLJ01       MD2007101802         8988\nName: KEY_SEQ, dtype: int64\nUNIT_CODE  SALE_ORDER_SUB_NO\nLK01       MD2007101802         12131\nName: KEY_SEQ, dtype: int64\nUNIT_CODE  SALE_ORDER_SUB_NO\nLK01       MD2007101802         19501\nName: KEY_SEQ, dtype: int64\nUNIT_CODE  SALE_ORDER_SUB_NO\nLK01       MD2007101802         12131\nName: KEY_SEQ, dtype: int64\nUNIT_CODE  SALE_ORDER_SUB_NO\nLK01       MD2007101802         19501\nName: KEY_SEQ, dtype: int64\nUNIT_CODE  SALE_ORDER_SUB_NO\nLK01       MD2007101802         12130\nName: KEY_SEQ, dtype: int64\nUNIT_CODE  SALE_ORDER_SUB_NO\nLJ01       MD2007101801         8990\nName: KEY_SEQ, dtype: int64\nUNIT_CODE  SALE_ORDER_SUB_NO\nLK01       MD2007101801         12134\nName: KEY_SEQ, dtype: int64\nUNIT_CODE  SALE_ORDER_SUB_NO\nLK01       MD2007101801         19502\nName: KEY_SEQ, dtype: int64\nUNIT_CODE  SALE_ORDER_SUB_NO\nLK01       MD2007101801         12134\nName: KEY_SEQ, dtype: int64\nUNIT_CODE  SALE_ORDER_SUB_NO\nLK01       MD2007101801         19502\nName: KEY_SEQ, dtype: int64\nUNIT_CODE  SALE_ORDER_SUB_NO\nLK01       MD2007101801         12133\nName: KEY_SEQ, dtype: int64\nUNIT_CODE  SALE_ORDER_SUB_NO\n                                254\nName: KEY_SEQ, dtype: int64\nUNIT_CODE  SALE_ORDER_SUB_NO\nL001                            255\nName: KEY_SEQ, dtype: int64\nUNIT_CODE  SALE_ORDER_SUB_NO\nL001                            256\nName: KEY_SEQ, dtype: int64\nUNIT_CODE  SALE_ORDER_SUB_NO\n           ND2007150102         504\nName: KEY_SEQ, dtype: int64\nUNIT_CODE  SALE_ORDER_SUB_NO\nLA02       ND2007150102         505\nName: KEY_SEQ, dtype: int64\nUNIT_CODE  SALE_ORDER_SUB_NO\nLA02       ND2007150102         6026\nName: KEY_SEQ, dtype: int64\nUNIT_CODE  SALE_ORDER_SUB_NO\nLA02       ND2007150102         505\nName: KEY_SEQ, dtype: int64\nUNIT_CODE  SALE_ORDER_SUB_NO\nLA02       ND2007150102         6026\nName: KEY_SEQ, dtype: int64\nUNIT_CODE  SALE_ORDER_SUB_NO\nLA03       ND2007150102         6027\nName: KEY_SEQ, dtype: int64\nUNIT_CODE  SALE_ORDER_SUB_NO\nLA03       ND2007150102         19503\nName: KEY_SEQ, dtype: int64\nUNIT_CODE  SALE_ORDER_SUB_NO\nLA03       ND2007150102         6027\nName: KEY_SEQ, dtype: int64\nUNIT_CODE  SALE_ORDER_SUB_NO\nLA03       ND2007150102         19503\nName: KEY_SEQ, dtype: int64\nUNIT_CODE  SALE_ORDER_SUB_NO\nLA03       ND2007150102         6028\nName: KEY_SEQ, dtype: int64\nUNIT_CODE  SALE_ORDER_SUB_NO\n           MD2007160101         9790\nName: KEY_SEQ, dtype: int64\nUNIT_CODE  SALE_ORDER_SUB_NO\nLF04       MD2007160101         8993\nName: KEY_SEQ, dtype: int64\nUNIT_CODE  SALE_ORDER_SUB_NO\nLF04       MD2007160101         19504\nName: KEY_SEQ, dtype: int64\nUNIT_CODE  SALE_ORDER_SUB_NO\nLF04       MD2007160101         8993\nName: KEY_SEQ, dtype: int64\nUNIT_CODE  SALE_ORDER_SUB_NO\nLF04       MD2007160101         19504\nName: KEY_SEQ, dtype: int64\nUNIT_CODE  SALE_ORDER_SUB_NO\n           MD2007174403         10293\nName: KEY_SEQ, dtype: int64\nUNIT_CODE  SALE_ORDER_SUB_NO\nLK01       MD2007174403         12137\nName: KEY_SEQ, dtype: int64\nUNIT_CODE  SALE_ORDER_SUB_NO\nLK01       MD2007174403         19505\nName: KEY_SEQ, dtype: int64\nUNIT_CODE  SALE_ORDER_SUB_NO\nLK01       MD2007174403         12137\nName: KEY_SEQ, dtype: int64\nUNIT_CODE  SALE_ORDER_SUB_NO\nLK01       MD2007174403         19505\nName: KEY_SEQ, dtype: int64\nUNIT_CODE  SALE_ORDER_SUB_NO\nLK01       MD2007174403         12136\nName: KEY_SEQ, dtype: int64\nUNIT_CODE  SALE_ORDER_SUB_NO\nLK01       ME2006080105         19506\nName: KEY_SEQ, dtype: int64\nUNIT_CODE  SALE_ORDER_SUB_NO\nLC01       ME2006080103         19507\nName: KEY_SEQ, dtype: int64\nUNIT_CODE  SALE_ORDER_SUB_NO\nLC01       ME2006080106         19508\nName: KEY_SEQ, dtype: int64\nUNIT_CODE  SALE_ORDER_SUB_NO\nLC01       ME2006080104         19509\nName: KEY_SEQ, dtype: int64\nUNIT_CODE  SALE_ORDER_SUB_NO\n           LD2007090101         9610\nName: KEY_SEQ, dtype: int64\nUNIT_CODE  SALE_ORDER_SUB_NO\nLG01       LD2007090101         9611\nName: KEY_SEQ, dtype: int64\nUNIT_CODE  SALE_ORDER_SUB_NO\nLG01       LD2007090101         19510\nName: KEY_SEQ, dtype: int64\nUNIT_CODE  SALE_ORDER_SUB_NO\nLG01       LD2007090101         9611\nName: KEY_SEQ, dtype: int64\nUNIT_CODE  SALE_ORDER_SUB_NO\nLG01       LD2007090101         19510\nName: KEY_SEQ, dtype: int64\nUNIT_CODE  SALE_ORDER_SUB_NO\n           LD2007160101         7631\nName: KEY_SEQ, dtype: int64\nUNIT_CODE  SALE_ORDER_SUB_NO\nLF04       LD2007160101         8995\nName: KEY_SEQ, dtype: int64\nUNIT_CODE  SALE_ORDER_SUB_NO\nLF04       LD2007160101         19511\nName: KEY_SEQ, dtype: int64\nUNIT_CODE  SALE_ORDER_SUB_NO\nLF04       LD2007160101         8995\nName: KEY_SEQ, dtype: int64\nUNIT_CODE  SALE_ORDER_SUB_NO\nLF04       LD2007160101         19511\nName: KEY_SEQ, dtype: int64\n"
    }
   ],
   "source": [
    "#tacaia2.index.get_level_values('MAT_NO')[0]==' '  #因为排序后第一行[0]为空行，所以迭代时从第二行[1]开始（上面已删除空行，不用从第二行开始了）\n",
    "OTHER_LOST_VALUE=0.00\n",
    "for mat in tacaia2.index.get_level_values('MAT_NO'):\n",
    "    for acc in ['01','33','03','31','50','51']:\n",
    "        try:\n",
    "            print(tacaia2.loc[(acc,mat),'KEY_SEQ'])\n",
    "            if acc=='01':\n",
    "                tacaia2.loc[(acc,mat),['MAT_VALUE','MAT_PRICE','LOST_VALUE','LOST_PRICE']]=list(ProducePrices(tacaia2.loc[(acc,mat),'INPUT_MAT'],acc,tacaia2.loc[(acc,mat),'MAT_TYPE'],tacaia2.loc[(acc,mat),'MAT_WT'],tacaia2.loc[(acc,mat),'MTRL_NO']).values)\n",
    "            if acc=='33':\n",
    "                if tacaia2.loc[(acc,mat),'DIVVY_FLAG']=='0':\n",
    "                    INPUT_VALUE=list(InputPrices(mat,tacaia2.loc[(acc,mat),'PRODUCT_CODE'],tacaia2.loc[(acc,mat),'MTRL_NO'],tacaia2.loc[(acc,mat),'MAT_WT']).values)\n",
    "                    tacaia2.loc[(acc,mat),['MAT_VALUE','MAT_PRICE','LOST_VALUE','LOST_PRICE']]=INPUT_VALUE[:3]\n",
    "                    OTHER_LOST_VALUE=OTHER_LOST_VALUE+INPUT_VALUE[4]\n",
    "            if acc=='03':\n",
    "                if tacaia2.loc[(acc,mat),'DIVVY_FLAG']=='0':\n",
    "                    tacaia2.loc[(acc,mat),['MAT_VALUE','MAT_PRICE','LOST_VALUE','LOST_PRICE']]=list(ProducePrices(tacaia2.loc[(acc,mat),'INPUT_MAT'],acc,tacaia2.loc[(acc,mat),'MAT_TYPE'],tacaia2.loc[(acc,mat),'MAT_WT'],tacaia2.loc[(acc,mat),'MTRL_NO']).values)\n",
    "            if acc=='31':\n",
    "                tacaia2.loc[(acc,mat),['MAT_VALUE','MAT_PRICE','LOST_VALUE','LOST_PRICE']]=list(InputPrices(mat,tacaia2.loc[(acc,mat),'PRODUCT_CODE'],tacaia2.loc[(acc,mat),'MTRL_NO'],tacaia2.loc[(acc,mat),'MAT_WT']).values[:3])\n",
    "            if acc in ['50','51']:\n",
    "                tacaia2.loc[(acc,mat),['SALE_VALUE','SALAE_PRICE']]=list(SalePrices(tacaia2.loc[(acc,mat),'PRODUCT_CODE'],tacaia2.loc[(acc,mat),'MAT_WT']).values)\n",
    "        except:\n",
    "            continue"
   ]
  },
  {
   "cell_type": "code",
   "execution_count": 35,
   "metadata": {},
   "outputs": [],
   "source": [
    "tacaia2.to_excel('tacaia2-202007-r1.xlsx')"
   ]
  },
  {
   "cell_type": "code",
   "execution_count": 41,
   "metadata": {},
   "outputs": [
    {
     "output_type": "execute_result",
     "data": {
      "text/plain": "pandas.core.series.Series"
     },
     "metadata": {},
     "execution_count": 41
    }
   ],
   "source": [
    "type(tacaia2.loc[('33','B1905047CAAABA'),'MAT_TYPE'])"
   ]
  },
  {
   "cell_type": "code",
   "execution_count": 80,
   "metadata": {},
   "outputs": [
    {
     "output_type": "error",
     "ename": "ValueError",
     "evalue": "setting an array element with a sequence",
     "traceback": [
      "\u001b[1;31m---------------------------------------------------------------------------\u001b[0m",
      "\u001b[1;31mValueError\u001b[0m                                Traceback (most recent call last)",
      "\u001b[1;32m<ipython-input-80-6a0a677882ca>\u001b[0m in \u001b[0;36m<module>\u001b[1;34m\u001b[0m\n\u001b[1;32m----> 1\u001b[1;33m \u001b[0mtacaia2\u001b[0m\u001b[1;33m[\u001b[0m\u001b[1;33m[\u001b[0m\u001b[1;34m'01'\u001b[0m\u001b[1;33m,\u001b[0m\u001b[1;33m(\u001b[0m\u001b[0mtacaia2\u001b[0m\u001b[1;33m.\u001b[0m\u001b[0mIN_MAT_NO\u001b[0m\u001b[1;33m==\u001b[0m\u001b[1;34m'B1804068AJAA'\u001b[0m\u001b[1;33m)\u001b[0m \u001b[1;33m&\u001b[0m \u001b[1;33m(\u001b[0m\u001b[0mtacaia2\u001b[0m\u001b[1;33m.\u001b[0m\u001b[0mMAT_TYPE\u001b[0m\u001b[1;33m<=\u001b[0m\u001b[1;36m3\u001b[0m\u001b[1;33m)\u001b[0m\u001b[1;33m]\u001b[0m\u001b[1;33m]\u001b[0m\u001b[1;33m.\u001b[0m\u001b[0msum\u001b[0m\u001b[1;33m(\u001b[0m\u001b[1;33m)\u001b[0m\u001b[1;33m[\u001b[0m\u001b[1;34m'MAT_WT'\u001b[0m\u001b[1;33m]\u001b[0m\u001b[1;33m\u001b[0m\u001b[1;33m\u001b[0m\u001b[0m\n\u001b[0m",
      "\u001b[1;32mI:\\Program Files\\Python\\Python37\\lib\\site-packages\\pandas\\core\\frame.py\u001b[0m in \u001b[0;36m__getitem__\u001b[1;34m(self, key)\u001b[0m\n\u001b[0;32m   2680\u001b[0m         \u001b[1;32mif\u001b[0m \u001b[0misinstance\u001b[0m\u001b[1;33m(\u001b[0m\u001b[0mkey\u001b[0m\u001b[1;33m,\u001b[0m \u001b[1;33m(\u001b[0m\u001b[0mSeries\u001b[0m\u001b[1;33m,\u001b[0m \u001b[0mnp\u001b[0m\u001b[1;33m.\u001b[0m\u001b[0mndarray\u001b[0m\u001b[1;33m,\u001b[0m \u001b[0mIndex\u001b[0m\u001b[1;33m,\u001b[0m \u001b[0mlist\u001b[0m\u001b[1;33m)\u001b[0m\u001b[1;33m)\u001b[0m\u001b[1;33m:\u001b[0m\u001b[1;33m\u001b[0m\u001b[1;33m\u001b[0m\u001b[0m\n\u001b[0;32m   2681\u001b[0m             \u001b[1;31m# either boolean or fancy integer index\u001b[0m\u001b[1;33m\u001b[0m\u001b[1;33m\u001b[0m\u001b[1;33m\u001b[0m\u001b[0m\n\u001b[1;32m-> 2682\u001b[1;33m             \u001b[1;32mreturn\u001b[0m \u001b[0mself\u001b[0m\u001b[1;33m.\u001b[0m\u001b[0m_getitem_array\u001b[0m\u001b[1;33m(\u001b[0m\u001b[0mkey\u001b[0m\u001b[1;33m)\u001b[0m\u001b[1;33m\u001b[0m\u001b[1;33m\u001b[0m\u001b[0m\n\u001b[0m\u001b[0;32m   2683\u001b[0m         \u001b[1;32melif\u001b[0m \u001b[0misinstance\u001b[0m\u001b[1;33m(\u001b[0m\u001b[0mkey\u001b[0m\u001b[1;33m,\u001b[0m \u001b[0mDataFrame\u001b[0m\u001b[1;33m)\u001b[0m\u001b[1;33m:\u001b[0m\u001b[1;33m\u001b[0m\u001b[1;33m\u001b[0m\u001b[0m\n\u001b[0;32m   2684\u001b[0m             \u001b[1;32mreturn\u001b[0m \u001b[0mself\u001b[0m\u001b[1;33m.\u001b[0m\u001b[0m_getitem_frame\u001b[0m\u001b[1;33m(\u001b[0m\u001b[0mkey\u001b[0m\u001b[1;33m)\u001b[0m\u001b[1;33m\u001b[0m\u001b[1;33m\u001b[0m\u001b[0m\n",
      "\u001b[1;32mI:\\Program Files\\Python\\Python37\\lib\\site-packages\\pandas\\core\\frame.py\u001b[0m in \u001b[0;36m_getitem_array\u001b[1;34m(self, key)\u001b[0m\n\u001b[0;32m   2707\u001b[0m     \u001b[1;32mdef\u001b[0m \u001b[0m_getitem_array\u001b[0m\u001b[1;33m(\u001b[0m\u001b[0mself\u001b[0m\u001b[1;33m,\u001b[0m \u001b[0mkey\u001b[0m\u001b[1;33m)\u001b[0m\u001b[1;33m:\u001b[0m\u001b[1;33m\u001b[0m\u001b[1;33m\u001b[0m\u001b[0m\n\u001b[0;32m   2708\u001b[0m         \u001b[1;31m# also raises Exception if object array with NA values\u001b[0m\u001b[1;33m\u001b[0m\u001b[1;33m\u001b[0m\u001b[1;33m\u001b[0m\u001b[0m\n\u001b[1;32m-> 2709\u001b[1;33m         \u001b[1;32mif\u001b[0m \u001b[0mcom\u001b[0m\u001b[1;33m.\u001b[0m\u001b[0mis_bool_indexer\u001b[0m\u001b[1;33m(\u001b[0m\u001b[0mkey\u001b[0m\u001b[1;33m)\u001b[0m\u001b[1;33m:\u001b[0m\u001b[1;33m\u001b[0m\u001b[1;33m\u001b[0m\u001b[0m\n\u001b[0m\u001b[0;32m   2710\u001b[0m             \u001b[1;31m# warning here just in case -- previously __setitem__ was\u001b[0m\u001b[1;33m\u001b[0m\u001b[1;33m\u001b[0m\u001b[1;33m\u001b[0m\u001b[0m\n\u001b[0;32m   2711\u001b[0m             \u001b[1;31m# reindexing but __getitem__ was not; it seems more reasonable to\u001b[0m\u001b[1;33m\u001b[0m\u001b[1;33m\u001b[0m\u001b[1;33m\u001b[0m\u001b[0m\n",
      "\u001b[1;32mI:\\Program Files\\Python\\Python37\\lib\\site-packages\\pandas\\core\\common.py\u001b[0m in \u001b[0;36mis_bool_indexer\u001b[1;34m(key)\u001b[0m\n\u001b[0;32m    113\u001b[0m     \u001b[1;32melif\u001b[0m \u001b[0misinstance\u001b[0m\u001b[1;33m(\u001b[0m\u001b[0mkey\u001b[0m\u001b[1;33m,\u001b[0m \u001b[0mlist\u001b[0m\u001b[1;33m)\u001b[0m\u001b[1;33m:\u001b[0m\u001b[1;33m\u001b[0m\u001b[1;33m\u001b[0m\u001b[0m\n\u001b[0;32m    114\u001b[0m         \u001b[1;32mtry\u001b[0m\u001b[1;33m:\u001b[0m\u001b[1;33m\u001b[0m\u001b[1;33m\u001b[0m\u001b[0m\n\u001b[1;32m--> 115\u001b[1;33m             \u001b[0marr\u001b[0m \u001b[1;33m=\u001b[0m \u001b[0mnp\u001b[0m\u001b[1;33m.\u001b[0m\u001b[0masarray\u001b[0m\u001b[1;33m(\u001b[0m\u001b[0mkey\u001b[0m\u001b[1;33m)\u001b[0m\u001b[1;33m\u001b[0m\u001b[1;33m\u001b[0m\u001b[0m\n\u001b[0m\u001b[0;32m    116\u001b[0m             \u001b[1;32mreturn\u001b[0m \u001b[0marr\u001b[0m\u001b[1;33m.\u001b[0m\u001b[0mdtype\u001b[0m \u001b[1;33m==\u001b[0m \u001b[0mnp\u001b[0m\u001b[1;33m.\u001b[0m\u001b[0mbool_\u001b[0m \u001b[1;32mand\u001b[0m \u001b[0mlen\u001b[0m\u001b[1;33m(\u001b[0m\u001b[0marr\u001b[0m\u001b[1;33m)\u001b[0m \u001b[1;33m==\u001b[0m \u001b[0mlen\u001b[0m\u001b[1;33m(\u001b[0m\u001b[0mkey\u001b[0m\u001b[1;33m)\u001b[0m\u001b[1;33m\u001b[0m\u001b[1;33m\u001b[0m\u001b[0m\n\u001b[0;32m    117\u001b[0m         \u001b[1;32mexcept\u001b[0m \u001b[0mTypeError\u001b[0m\u001b[1;33m:\u001b[0m  \u001b[1;31m# pragma: no cover\u001b[0m\u001b[1;33m\u001b[0m\u001b[1;33m\u001b[0m\u001b[0m\n",
      "\u001b[1;32mI:\\Program Files\\Python\\Python37\\lib\\site-packages\\numpy\\core\\numeric.py\u001b[0m in \u001b[0;36masarray\u001b[1;34m(a, dtype, order)\u001b[0m\n\u001b[0;32m    499\u001b[0m \u001b[1;33m\u001b[0m\u001b[0m\n\u001b[0;32m    500\u001b[0m     \"\"\"\n\u001b[1;32m--> 501\u001b[1;33m     \u001b[1;32mreturn\u001b[0m \u001b[0marray\u001b[0m\u001b[1;33m(\u001b[0m\u001b[0ma\u001b[0m\u001b[1;33m,\u001b[0m \u001b[0mdtype\u001b[0m\u001b[1;33m,\u001b[0m \u001b[0mcopy\u001b[0m\u001b[1;33m=\u001b[0m\u001b[1;32mFalse\u001b[0m\u001b[1;33m,\u001b[0m \u001b[0morder\u001b[0m\u001b[1;33m=\u001b[0m\u001b[0morder\u001b[0m\u001b[1;33m)\u001b[0m\u001b[1;33m\u001b[0m\u001b[1;33m\u001b[0m\u001b[0m\n\u001b[0m\u001b[0;32m    502\u001b[0m \u001b[1;33m\u001b[0m\u001b[0m\n\u001b[0;32m    503\u001b[0m \u001b[1;33m\u001b[0m\u001b[0m\n",
      "\u001b[1;31mValueError\u001b[0m: setting an array element with a sequence"
     ]
    }
   ],
   "source": [
    "tacaia2[['01',(tacaia2.IN_MAT_NO=='B1804068AJAA') & (tacaia2.MAT_TYPE<=3)]].sum()['MAT_WT']"
   ]
  },
  {
   "cell_type": "code",
   "execution_count": 77,
   "metadata": {},
   "outputs": [
    {
     "output_type": "error",
     "ename": "AttributeError",
     "evalue": "'DataFrame' object has no attribute 'ACCOUNT_TITLE'",
     "traceback": [
      "\u001b[1;31m---------------------------------------------------------------------------\u001b[0m",
      "\u001b[1;31mAttributeError\u001b[0m                            Traceback (most recent call last)",
      "\u001b[1;32m<ipython-input-77-7371c7130ea3>\u001b[0m in \u001b[0;36m<module>\u001b[1;34m\u001b[0m\n\u001b[1;32m----> 1\u001b[1;33m \u001b[0mprint\u001b[0m\u001b[1;33m(\u001b[0m\u001b[0mInputPrices\u001b[0m\u001b[1;33m(\u001b[0m\u001b[1;34m'B1804068AJAA'\u001b[0m\u001b[1;33m,\u001b[0m\u001b[1;34m'10033Z3124'\u001b[0m\u001b[1;33m,\u001b[0m\u001b[1;34m'3'\u001b[0m\u001b[1;33m,\u001b[0m\u001b[1;36m122.96\u001b[0m\u001b[1;33m,\u001b[0m\u001b[1;34m'31'\u001b[0m\u001b[1;33m)\u001b[0m\u001b[1;33m)\u001b[0m\u001b[1;33m\u001b[0m\u001b[1;33m\u001b[0m\u001b[0m\n\u001b[0m",
      "\u001b[1;32m<ipython-input-75-bf2f54e13014>\u001b[0m in \u001b[0;36mInputPrices\u001b[1;34m(MAT_NO, PRODUCT_CODE, MTRL_NO, MAT_WT, ACC_TITLE)\u001b[0m\n\u001b[0;32m     10\u001b[0m     \u001b[0mLostPercent\u001b[0m\u001b[1;33m=\u001b[0m\u001b[1;36m0.4\u001b[0m\u001b[1;31m#次板和二级品的损失百分比（以后如果要跟着系统参数表，到时可另从数据库取数，这里暂时设成常用的40%）\u001b[0m\u001b[1;33m\u001b[0m\u001b[1;33m\u001b[0m\u001b[0m\n\u001b[0;32m     11\u001b[0m     \u001b[1;31m#判断投入材料号为参数中材料号&物料形态数值大于3（即为二等品或废次）的计数是否大于0，是则分无聊形态为4和5、9计算损失金额；否则损失金额为0\u001b[0m\u001b[1;33m\u001b[0m\u001b[1;33m\u001b[0m\u001b[1;33m\u001b[0m\u001b[0m\n\u001b[1;32m---> 12\u001b[1;33m     \u001b[1;32mif\u001b[0m \u001b[0mtacaia2\u001b[0m\u001b[1;33m[\u001b[0m\u001b[1;33m(\u001b[0m\u001b[0mtacaia2\u001b[0m\u001b[1;33m.\u001b[0m\u001b[0mIN_MAT_NO\u001b[0m\u001b[1;33m==\u001b[0m\u001b[0mMAT_NO\u001b[0m\u001b[1;33m)\u001b[0m\u001b[1;33m&\u001b[0m\u001b[1;33m(\u001b[0m\u001b[0mtacaia2\u001b[0m\u001b[1;33m.\u001b[0m\u001b[0mMAT_TYPE\u001b[0m\u001b[1;33m>\u001b[0m\u001b[1;36m3\u001b[0m\u001b[1;33m)\u001b[0m \u001b[1;33m&\u001b[0m \u001b[0mtacaia2\u001b[0m\u001b[1;33m.\u001b[0m\u001b[0mACCOUNT_TITLE\u001b[0m\u001b[1;33m==\u001b[0m\u001b[1;34m'0'\u001b[0m \u001b[1;33m+\u001b[0m \u001b[0mACC_TITLE\u001b[0m\u001b[1;33m[\u001b[0m\u001b[1;36m1\u001b[0m\u001b[1;33m]\u001b[0m\u001b[1;33m]\u001b[0m\u001b[1;33m.\u001b[0m\u001b[0mcount\u001b[0m\u001b[1;33m(\u001b[0m\u001b[1;33m)\u001b[0m\u001b[1;33m>\u001b[0m\u001b[1;36m0\u001b[0m\u001b[1;33m:\u001b[0m\u001b[1;33m\u001b[0m\u001b[1;33m\u001b[0m\u001b[0m\n\u001b[0m\u001b[0;32m     13\u001b[0m         \u001b[0mLostValue\u001b[0m\u001b[1;33m=\u001b[0m\u001b[0mtacaia2\u001b[0m\u001b[1;33m[\u001b[0m\u001b[1;33m(\u001b[0m\u001b[0mtacaia2\u001b[0m\u001b[1;33m.\u001b[0m\u001b[0mIN_MAT_NO\u001b[0m\u001b[1;33m==\u001b[0m\u001b[0mMAT_NO\u001b[0m\u001b[1;33m)\u001b[0m\u001b[1;33m&\u001b[0m \u001b[1;33m(\u001b[0m\u001b[1;33m(\u001b[0m\u001b[0mtacaia2\u001b[0m\u001b[1;33m.\u001b[0m\u001b[0mMAT_TYPE\u001b[0m\u001b[1;33m==\u001b[0m\u001b[1;36m4\u001b[0m\u001b[1;33m)\u001b[0m \u001b[1;33m|\u001b[0m \u001b[1;33m(\u001b[0m\u001b[0mtacaia2\u001b[0m\u001b[1;33m.\u001b[0m\u001b[0mMAT_TYPE\u001b[0m\u001b[1;33m==\u001b[0m\u001b[1;36m5\u001b[0m\u001b[1;33m)\u001b[0m\u001b[1;33m)\u001b[0m \u001b[1;33m&\u001b[0m \u001b[0mtacaia2\u001b[0m\u001b[1;33m.\u001b[0m\u001b[0mACCOUNT_TITLE\u001b[0m\u001b[1;33m==\u001b[0m\u001b[1;34m'0'\u001b[0m \u001b[1;33m+\u001b[0m \u001b[0mACC_TITLE\u001b[0m\u001b[1;33m[\u001b[0m\u001b[1;36m1\u001b[0m\u001b[1;33m]\u001b[0m\u001b[1;33m]\u001b[0m\u001b[1;33m.\u001b[0m\u001b[0msum\u001b[0m\u001b[1;33m(\u001b[0m\u001b[1;33m)\u001b[0m\u001b[1;33m[\u001b[0m\u001b[1;34m'MAT_WT'\u001b[0m\u001b[1;33m]\u001b[0m\u001b[1;33m*\u001b[0m\u001b[0mMatPrice\u001b[0m\u001b[1;33m*\u001b[0m\u001b[0mLostPercent\u001b[0m\u001b[1;33m+\u001b[0m\u001b[0mtacaia2\u001b[0m\u001b[1;33m[\u001b[0m\u001b[1;33m(\u001b[0m\u001b[0mtacaia2\u001b[0m\u001b[1;33m.\u001b[0m\u001b[0mIN_MAT_NO\u001b[0m\u001b[1;33m==\u001b[0m\u001b[0mMAT_NO\u001b[0m\u001b[1;33m)\u001b[0m\u001b[1;33m&\u001b[0m\u001b[1;33m(\u001b[0m\u001b[0mtacaia2\u001b[0m\u001b[1;33m.\u001b[0m\u001b[0mMAT_TYPE\u001b[0m\u001b[1;33m==\u001b[0m\u001b[1;36m9\u001b[0m\u001b[1;33m)\u001b[0m \u001b[1;33m&\u001b[0m \u001b[0mtacaia2\u001b[0m\u001b[1;33m.\u001b[0m\u001b[0mACCOUNT_TITLE\u001b[0m\u001b[1;33m==\u001b[0m\u001b[1;34m'0'\u001b[0m \u001b[1;33m+\u001b[0m \u001b[0mACC_TITLE\u001b[0m\u001b[1;33m[\u001b[0m\u001b[1;36m1\u001b[0m\u001b[1;33m]\u001b[0m\u001b[1;33m]\u001b[0m\u001b[1;33m.\u001b[0m\u001b[0msum\u001b[0m\u001b[1;33m(\u001b[0m\u001b[1;33m)\u001b[0m\u001b[1;33m[\u001b[0m\u001b[1;34m'MAT_WT'\u001b[0m\u001b[1;33m]\u001b[0m\u001b[1;33m*\u001b[0m\u001b[1;33m(\u001b[0m\u001b[0mMatPrice\u001b[0m\u001b[1;33m-\u001b[0m\u001b[0mtacacj5\u001b[0m\u001b[1;33m.\u001b[0m\u001b[0mloc\u001b[0m\u001b[1;33m[\u001b[0m\u001b[1;34m'900'\u001b[0m \u001b[1;33m+\u001b[0m \u001b[0mMTRL_NO\u001b[0m \u001b[1;33m+\u001b[0m \u001b[1;34m'000000'\u001b[0m\u001b[1;33m,\u001b[0m\u001b[1;34m'CRRT_YEAR_STD_AMT'\u001b[0m\u001b[1;33m]\u001b[0m\u001b[1;33m)\u001b[0m\u001b[1;33m\u001b[0m\u001b[1;33m\u001b[0m\u001b[0m\n\u001b[0;32m     14\u001b[0m     \u001b[1;32mif\u001b[0m \u001b[0mtacaia2\u001b[0m\u001b[1;33m[\u001b[0m\u001b[1;33m(\u001b[0m\u001b[0mtacaia2\u001b[0m\u001b[1;33m.\u001b[0m\u001b[0mIN_MAT_NO\u001b[0m\u001b[1;33m==\u001b[0m\u001b[0mMAT_NO\u001b[0m\u001b[1;33m)\u001b[0m\u001b[1;33m&\u001b[0m\u001b[1;33m(\u001b[0m\u001b[0mtacaia2\u001b[0m\u001b[1;33m.\u001b[0m\u001b[0mMAT_TYPE\u001b[0m\u001b[1;33m<=\u001b[0m\u001b[1;36m3\u001b[0m\u001b[1;33m)\u001b[0m \u001b[1;33m&\u001b[0m \u001b[0mtacaia2\u001b[0m\u001b[1;33m.\u001b[0m\u001b[0mACCOUNT_TITLE\u001b[0m\u001b[1;33m==\u001b[0m\u001b[1;34m'0'\u001b[0m \u001b[1;33m+\u001b[0m \u001b[0mACC_TITLE\u001b[0m\u001b[1;33m[\u001b[0m\u001b[1;36m1\u001b[0m\u001b[1;33m]\u001b[0m\u001b[1;33m]\u001b[0m\u001b[1;33m.\u001b[0m\u001b[0mcount\u001b[0m\u001b[1;33m(\u001b[0m\u001b[1;33m)\u001b[0m\u001b[1;33m>\u001b[0m\u001b[1;36m0\u001b[0m\u001b[1;33m:\u001b[0m\u001b[1;33m\u001b[0m\u001b[1;33m\u001b[0m\u001b[0m\n",
      "\u001b[1;32mI:\\Program Files\\Python\\Python37\\lib\\site-packages\\pandas\\core\\generic.py\u001b[0m in \u001b[0;36m__getattr__\u001b[1;34m(self, name)\u001b[0m\n\u001b[0;32m   4374\u001b[0m             \u001b[1;32mif\u001b[0m \u001b[0mself\u001b[0m\u001b[1;33m.\u001b[0m\u001b[0m_info_axis\u001b[0m\u001b[1;33m.\u001b[0m\u001b[0m_can_hold_identifiers_and_holds_name\u001b[0m\u001b[1;33m(\u001b[0m\u001b[0mname\u001b[0m\u001b[1;33m)\u001b[0m\u001b[1;33m:\u001b[0m\u001b[1;33m\u001b[0m\u001b[1;33m\u001b[0m\u001b[0m\n\u001b[0;32m   4375\u001b[0m                 \u001b[1;32mreturn\u001b[0m \u001b[0mself\u001b[0m\u001b[1;33m[\u001b[0m\u001b[0mname\u001b[0m\u001b[1;33m]\u001b[0m\u001b[1;33m\u001b[0m\u001b[1;33m\u001b[0m\u001b[0m\n\u001b[1;32m-> 4376\u001b[1;33m             \u001b[1;32mreturn\u001b[0m \u001b[0mobject\u001b[0m\u001b[1;33m.\u001b[0m\u001b[0m__getattribute__\u001b[0m\u001b[1;33m(\u001b[0m\u001b[0mself\u001b[0m\u001b[1;33m,\u001b[0m \u001b[0mname\u001b[0m\u001b[1;33m)\u001b[0m\u001b[1;33m\u001b[0m\u001b[1;33m\u001b[0m\u001b[0m\n\u001b[0m\u001b[0;32m   4377\u001b[0m \u001b[1;33m\u001b[0m\u001b[0m\n\u001b[0;32m   4378\u001b[0m     \u001b[1;32mdef\u001b[0m \u001b[0m__setattr__\u001b[0m\u001b[1;33m(\u001b[0m\u001b[0mself\u001b[0m\u001b[1;33m,\u001b[0m \u001b[0mname\u001b[0m\u001b[1;33m,\u001b[0m \u001b[0mvalue\u001b[0m\u001b[1;33m)\u001b[0m\u001b[1;33m:\u001b[0m\u001b[1;33m\u001b[0m\u001b[1;33m\u001b[0m\u001b[0m\n",
      "\u001b[1;31mAttributeError\u001b[0m: 'DataFrame' object has no attribute 'ACCOUNT_TITLE'"
     ]
    }
   ],
   "source": [
    "print(InputPrices('B1804068AJAA','10033Z3124','3',122.96,'31'))"
   ]
  },
  {
   "cell_type": "code",
   "execution_count": null,
   "metadata": {},
   "outputs": [],
   "source": []
  }
 ],
 "metadata": {
  "language_info": {
   "codemirror_mode": {
    "name": "ipython",
    "version": 3
   },
   "file_extension": ".py",
   "mimetype": "text/x-python",
   "name": "python",
   "nbconvert_exporter": "python",
   "pygments_lexer": "ipython3",
   "version": "3.7.6-final"
  },
  "orig_nbformat": 2,
  "kernelspec": {
   "name": "python_defaultSpec_1597105948767",
   "display_name": "Python 3.7.1 64-bit"
  }
 },
 "nbformat": 4,
 "nbformat_minor": 2
}