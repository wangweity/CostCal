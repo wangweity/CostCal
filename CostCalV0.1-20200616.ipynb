{
 "cells": [
  {
   "cell_type": "code",
   "execution_count": 1,
   "metadata": {},
   "outputs": [],
   "source": [
    "#连接ERP的DB2数据库，获取TACAIA2（前台：ACAI25）,TACACM4(ACAC80非产成品),TACACMM(ACACMM),TACACJ5(废钢入库履历)\n",
    "import ibm_db\n",
    "import pandas as pd\n",
    "connStr='DATABASE=BHBXA1;HOSTNAME=192.168.2.28;PORT=50000;PROTOCOL=TCPIP;UID=bhbxa1;PWD=bhbxa1'\n",
    "con=ibm_db.connect(connStr,'','')\n"
   ]
  },
  {
   "cell_type": "code",
   "execution_count": 2,
   "metadata": {},
   "outputs": [],
   "source": [
    "import ibm_db_dbi"
   ]
  },
  {
   "cell_type": "code",
   "execution_count": 3,
   "metadata": {},
   "outputs": [],
   "source": [
    "conn=ibm_db_dbi.Connection(con)"
   ]
  },
  {
   "cell_type": "code",
   "execution_count": 4,
   "metadata": {
    "tags": []
   },
   "outputs": [],
   "source": [
    "tacaia2=pd.read_sql('select * from tacaia2',conn,parse_dates={'APP_TRNC_TIME':'%Y%m%d%H%M%S'})"
   ]
  },
  {
   "cell_type": "code",
   "execution_count": 5,
   "metadata": {},
   "outputs": [
    {
     "output_type": "execute_result",
     "data": {
      "text/plain": "Index(['01', '33', '03', '31', '50', '51'], dtype='object')"
     },
     "metadata": {},
     "execution_count": 5
    }
   ],
   "source": [
    "from pandas.api.types import CategoricalDtype\n",
    "tacaia2['ACCOUNT_TITLE_ITEM']=tacaia2['ACCOUNT_TITLE_ITEM'].astype(CategoricalDtype(['01','33','03','31','50','51']))#这里对账务代码是01-33-03-31-50-51的顺序，因为先有产出这个材料，再有后续的专用充当和投入或销售，这里暂不考虑一个材料号被二次以上转用的情况，如上一个木材料转用经过工序加工后，转用产出一个材料号，当期这个材料又直接被专用挂了另外的订单号的情况\n",
    "tacaia2['ACCOUNT_TITLE_ITEM'].cat.categories"
   ]
  },
  {
   "cell_type": "code",
   "execution_count": 6,
   "metadata": {},
   "outputs": [],
   "source": [
    "tacaia2.set_index(['ACCOUNT_TITLE_ITEM','MAT_NO','UNIT_CODE','SALE_ORDER_SUB_NO'],inplace=True) #将账务代码提到顺序第1位，以方便下面在同一投入账务代码下，按有投入的材料号迭代。"
   ]
  },
  {
   "cell_type": "code",
   "execution_count": 7,
   "metadata": {},
   "outputs": [],
   "source": [
    "tacaia2.insert(tacaia2.shape[1],'MAT_Value',0.00)\n",
    "tacaia2.insert(tacaia2.shape[1],'Lost_Value',0.00)"
   ]
  },
  {
   "cell_type": "code",
   "execution_count": 37,
   "metadata": {},
   "outputs": [
    {
     "output_type": "execute_result",
     "data": {
      "text/plain": "27636.38"
     },
     "metadata": {},
     "execution_count": 37
    }
   ],
   "source": [
    "tacacm4.loc['00037Z0785','PERIOD_START_N']"
   ]
  },
  {
   "cell_type": "code",
   "execution_count": null,
   "metadata": {},
   "outputs": [],
   "source": [
    "def InputPrices(MAT_NO,PRODUCT_CODE,MTRL_NO,MAT_WT):\n",
    "    if PRODUCT_CODE[0] in ['0','1','2']:\n",
    "        MatPrice=(tacacm4.loc[PRODUCT_CODE,'PRST_VRNC_AMOUNT']+tacacm4.loc[PRODUCT_CODE,'OTHR_INCM_VRNC_AMT']-tacacm4.loc[PRODUCT_CODE,'OTHER_SEND_VRNC_AMT']+tacacm4.loc[PRODUCT_CODE,'CRRT_OTPT_VRNC_AMT']+tacacm4.loc[PRODUCT_CODE,'IN_MATCH_VRNC_AMT'])/(tacacm4.loc[PRODUCT_CODE,'PERIOD_START_N']+tacacm4.loc[PRODUCT_CODE,'OTHERS_RECEIVE_N']-tacacm4.loc[PRODUCT_CODE,'OTHERS_SEND_N']+tacacm4.loc[PRODUCT_CODE,'CURRENT_N']+tacacm4.loc[PRODUCT_CODE,'IN_MATCH_N'])#投入材料单价=（期初金额+其他收入-其他支出+本期产出+本期转入）的金额/重量\n",
    "    elif PRODUCT_CODE[0] in ['3','4','5','9']:\n",
    "        MatPrice=(tacacmm.loc[PRODUCT_CODE,'START_AMOUNT']+tacacmm.loc[PRODUCT_CODE,'OTHR_INCM_ACT_AMT']-tacacmm.loc[PRODUCT_CODE,'OTHR_SEND_ACT_AMT']+tacacmm.loc[PRODUCT_CODE,'CRRT_OTPT_ACT_AMT']+tacacmm.loc[PRODUCT_CODE,'NEXT_MATCH_AMT']\n",
    ")/(tacacmm.loc[PRODUCT_CODE,'PERIOD_START_N']+tacacmm.loc[PRODUCT_CODE,'OTHERS_RECEIVE_N']-tacacmm.loc[PRODUCT_CODE,'OTHERS_SEND_N']+tacacmm.loc[PRODUCT_CODE,'CURRENT_N']+tacacmm.loc[PRODUCT_CODE,'NEXT_MATCH_USED_N']\n",
    ")#投入材料单价=（期初金额+其他收入-其他支出+本期产出+本期转入）的金额/重量\n",
    "    MatValue=MatPrice*MAT_WT\n",
    "    \n",
    "    LostPercent=0.4#次板和二级品的损失百分比（以后如果要跟着系统参数表，到时可另从数据库取数，这里暂时设成常用的40%）\n",
    "    #判断投入材料号为参数中材料号&物料形态数值大于3（即为二等品或废次）的计数是否大于0，是则分无聊形态为4和5、9计算损失金额；否则损失金额为0\n",
    "    if tacaia2[(tacaia2.IN_MAT_NO==MAT_NO)&(int(tacaia2.MAT_TYPE)>3)].count()>0:\n",
    "        LostValue=tacaia2[(tacaia2.IN_MAT_NO==MAT_NO)&(tacaia2.MAT_TYPE in ['4','5']),'MAT_WT'].sum()*MatPrice*LostPercent+tacaia2[(tacaia2.IN_MAT_NO==MAT_NO)&(tacaia2.MAT_TYPE=='9'),'MAT_WT'].sum()*(MatPrice-tacacj5.loc['900'&MTRL_NO&'000000','CRRT_YEAR_STD_AMT'])"
   ]
  },
  {
   "cell_type": "code",
   "execution_count": null,
   "metadata": {},
   "outputs": [],
   "source": [
    "def SalePrices(PRODUCT_CODE,MAT_WT):\n",
    "    if PRODUCT_CODE[0] in ['0','1','2']:\n",
    "        SalePrice=(tacacm4.loc[PRODUCT_CODE,'PRST_VRNC_AMOUNT']+tacacm4.loc[PRODUCT_CODE,'OTHR_INCM_VRNC_AMT']-tacacm4.loc[PRODUCT_CODE,'OTHER_SEND_VRNC_AMT']+tacacm4.loc[PRODUCT_CODE,'CRRT_OTPT_VRNC_AMT']+tacacm4.loc[PRODUCT_CODE,'IN_MATCH_VRNC_AMT']-tacacm4.loc[PRODUCT_CODE,'NEXT_PRSP_VRNC_AMT']-tacacm4.loc[PRODUCT_CODE,'NEXT_MATCH_VRNC_AMT'])/(tacacm4.loc[PRODUCT_CODE,'PERIOD_START_N']+tacacm4.loc[PRODUCT_CODE,'OTHERS_RECEIVE_N']-tacacm4.loc[PRODUCT_CODE,'OTHERS_SEND_N']+tacacm4.loc[PRODUCT_CODE,'CURRENT_N']+tacacm4.loc[PRODUCT_CODE,'IN_MATCH_N']-tacacm4.loc[PRODUCT_CODE,'NEXT_PRSP_USED_N']-tacacm4.loc[PRODUCT_CODE,'NEXT_MATCH_USED_N'])#销售材料单价=（期初金额+其他收入-其他支出+本期产出+本期转入-本期投入-本期转出）的金额/重量\n",
    "    elif PRODUCT_CODE[0] in ['3','4','5','9']:\n",
    "        SalePrice=(tacacmm.loc[PRODUCT_CODE,'START_AMOUNT']+tacacmm.loc[PRODUCT_CODE,'OTHR_INCM_ACT_AMT']-tacacmm.loc[PRODUCT_CODE,'OTHR_SEND_ACT_AMT']+tacacmm.loc[PRODUCT_CODE,'CRRT_OTPT_ACT_AMT']+tacacmm.loc[PRODUCT_CODE,'NEXT_MATCH_AMT']-tacacmm.loc[PRODUCT_CODE,'NEXT_PRSP_STD_AMT']-tacacmm.loc[PRODUCT_CODE,'NEXT_MATCH_AMT']\n",
    ")/(tacacmm.loc[PRODUCT_CODE,'PERIOD_START_N']+tacacmm.loc[PRODUCT_CODE,'OTHERS_RECEIVE_N']-tacacmm.loc[PRODUCT_CODE,'OTHERS_SEND_N']+tacacmm.loc[PRODUCT_CODE,'CURRENT_N']+tacacmm.loc[PRODUCT_CODE,'NEXT_MATCH_USED_N']-tacacmm.loc[PRODUCT_CODE,'NEXT_PRSP_USED_N']-tacacmm.loc[PRODUCT_CODE,'NEXT_MATCH_USED_N']\n",
    ")#销售材料单价=（期初金额+其他收入-其他支出+本期产出+本期转入-本期投入-本期转出）的金额/重量\n",
    "    SaleValue=SalePrice*MAT_WT"
   ]
  },
  {
   "cell_type": "code",
   "execution_count": null,
   "metadata": {},
   "outputs": [],
   "source": [
    "def ProducePrices(INPUT_MAT,ACC_TITLE,MAT_TYPE,MAT_WT):\n",
    "    tacaia2.loc[('3'+ACC_TITLE[1],Input_MAT),'']"
   ]
  },
  {
   "cell_type": "code",
   "execution_count": 8,
   "metadata": {},
   "outputs": [
    {
     "output_type": "execute_result",
     "data": {
      "text/plain": "FrozenList(['ACCOUNT_TITLE_ITEM', 'MAT_NO', 'UNIT_CODE', 'SALE_ORDER_SUB_NO'])"
     },
     "metadata": {},
     "execution_count": 8
    }
   ],
   "source": [
    "tacaia2.index.names"
   ]
  },
  {
   "cell_type": "code",
   "execution_count": null,
   "metadata": {},
   "outputs": [],
   "source": [
    "#tacaia2.sort_index(level=['ACCOUNT_TITLE_ITEM','MAT_NO','UNIT_CODE','SALE_ORDER_SUB_NO'],inplace=True) #跟着前面重设索引，把账务代码提到第1位，对应改变索引排序"
   ]
  },
  {
   "cell_type": "code",
   "execution_count": 8,
   "metadata": {},
   "outputs": [],
   "source": [
    "tacaia2.sort_index(level='MAT_NO',inplace=True) #如果按多层索引综合排序，不行，则单按账务代码排序"
   ]
  },
  {
   "cell_type": "code",
   "execution_count": 9,
   "metadata": {},
   "outputs": [],
   "source": [
    "from numpy import nan as NA\n",
    "tacaia2=tacaia2.dropna() #剔除第一行的空行"
   ]
  },
  {
   "cell_type": "code",
   "execution_count": null,
   "metadata": {},
   "outputs": [],
   "source": [
    "#tacaia2.loc['31','KEY_SEQ']"
   ]
  },
  {
   "cell_type": "code",
   "execution_count": 10,
   "metadata": {
    "tags": []
   },
   "outputs": [
    {
     "output_type": "execute_result",
     "data": {
      "text/plain": "'B1607078FEAEDE'"
     },
     "metadata": {},
     "execution_count": 10
    }
   ],
   "source": [
    "tacaia2.index.get_level_values('MAT_NO')[0]"
   ]
  },
  {
   "cell_type": "code",
   "execution_count": null,
   "metadata": {
    "tags": [
     "outputPrepend"
    ]
   },
   "outputs": [],
   "source": [
    "#tacaia2.index.get_level_values('MAT_NO')[0]==' '  #因为排序后第一行[0]为空行，所以迭代时从第二行[1]开始（上面已删除空行，不用从第二行开始了）\n",
    "for mat in tacaia2.loc['31'].index.get_level_values('MAT_NO'):\n",
    "    print(tacaia2.loc[('31',mat),'KEY_SEQ'])"
   ]
  },
  {
   "cell_type": "code",
   "execution_count": 12,
   "metadata": {},
   "outputs": [],
   "source": [
    "tacaia2.to_excel('tacaia2-202006.xlsx')"
   ]
  },
  {
   "cell_type": "code",
   "execution_count": null,
   "metadata": {
    "tags": []
   },
   "outputs": [],
   "source": [
    "#tacaia2.to_excel('tacaia2-202005.xlsx',sheet_name='tacaia2')\n",
    "#tacaia2.loc[('B2003125AFA','LF03','33','MD2005061901'),'PRODUCT_CODE'][0][:4] #Pandas多层索引的引用\n",
    "#[x[0] for x in tacaia2.index] #多层索引中一层所有元素的列表"
   ]
  },
  {
   "cell_type": "code",
   "execution_count": 11,
   "metadata": {
    "tags": []
   },
   "outputs": [
    {
     "output_type": "stream",
     "name": "stdout",
     "text": "202006\n"
    }
   ],
   "source": [
    "acc_period=tacaia2['ACCOUNT_PERIOD'][1]\n",
    "print(acc_period)"
   ]
  },
  {
   "cell_type": "code",
   "execution_count": 12,
   "metadata": {},
   "outputs": [],
   "source": [
    "tacacm4=pd.read_sql('select * from tacacm4 where YEAR=? and MON=?',conn,params=[acc_period[:4],acc_period[4:]])\n",
    "tacacm4.set_index(['PRODUCT_CODE'],inplace=True)\n",
    "tacacm4.drop(['REC_CREATOR', 'REC_CREATE_TIME', 'REC_REVISOR', 'REC_REVISE_TIME','ARCHIVE_FLAG', 'COMPANY_CODE', 'COMPANY_CNAME','COST_CENTER', 'STD_PRICE',\"CURRNT_STD_AMOUNT\",\"CRRT_OTPT_STD_AMT\",\"OTHR_INCM_STD_AMT\",\"SALE_STD_AMOUNT\",\"NEXT_PRSP_STD_AMT\",\"NEXT_MATCH_STD_AMT\",\"OTHER_SEND_STD_AMT\",\"PERIOD_END_STD_AMT\",\"IN_MATCH_STD_AMT\"],axis=1,inplace=True)\n",
    "tacacm4[[\"CURRENT_N\",\"CRRT_OTPT_VRNC_AMT\",\"SALE_N\",\"SALE_VRNC_AMOUNT\",\"NEXT_PRSP_USED_N\",\"NEXT_PRSP_VRNC_AMT\",\"NEXT_MATCH_USED_N\",\"NEXT_MATCH_VRNC_AMT\",\"PERIOD_END_N\",\"PERIOD_END_VRNC_AMT\",\"IN_MATCH_N\",\"IN_MATCH_VRNC_AMT\"]]=[0.00,0.00,0.00,0.00,0.00,0.00,0.00,0.00,0.00,0.00,0.00,0.00]"
   ]
  },
  {
   "cell_type": "code",
   "execution_count": 16,
   "metadata": {},
   "outputs": [],
   "source": [
    "#tacacmm.to_excel('tacacmm-202006.xlsx')"
   ]
  },
  {
   "cell_type": "code",
   "execution_count": 26,
   "metadata": {},
   "outputs": [
    {
     "output_type": "execute_result",
     "data": {
      "text/plain": "              PERIOD_END_N  PERIOD_END_VRNC_AMT\nPRODUCT_CODE                                   \n0003100002         6989.00             89829.95\n0003100003         5386.00             67926.77\n0003100004        78769.37            985215.95\n0003100006        48716.03            578597.51\n0003100719         4138.88             54112.68\n...                    ...                  ...\n2E033D0426            0.00                 0.00\n2E033D0992            0.00                 0.00\n2F434610464           0.00                 0.00\n80005,CX13            0.00                 0.00\n80005,CX16            0.00                 0.00\n\n[649 rows x 2 columns]",
      "text/html": "<div>\n<style scoped>\n    .dataframe tbody tr th:only-of-type {\n        vertical-align: middle;\n    }\n\n    .dataframe tbody tr th {\n        vertical-align: top;\n    }\n\n    .dataframe thead th {\n        text-align: right;\n    }\n</style>\n<table border=\"1\" class=\"dataframe\">\n  <thead>\n    <tr style=\"text-align: right;\">\n      <th></th>\n      <th>PERIOD_END_N</th>\n      <th>PERIOD_END_VRNC_AMT</th>\n    </tr>\n    <tr>\n      <th>PRODUCT_CODE</th>\n      <th></th>\n      <th></th>\n    </tr>\n  </thead>\n  <tbody>\n    <tr>\n      <th>0003100002</th>\n      <td>6989.00</td>\n      <td>89829.95</td>\n    </tr>\n    <tr>\n      <th>0003100003</th>\n      <td>5386.00</td>\n      <td>67926.77</td>\n    </tr>\n    <tr>\n      <th>0003100004</th>\n      <td>78769.37</td>\n      <td>985215.95</td>\n    </tr>\n    <tr>\n      <th>0003100006</th>\n      <td>48716.03</td>\n      <td>578597.51</td>\n    </tr>\n    <tr>\n      <th>0003100719</th>\n      <td>4138.88</td>\n      <td>54112.68</td>\n    </tr>\n    <tr>\n      <th>...</th>\n      <td>...</td>\n      <td>...</td>\n    </tr>\n    <tr>\n      <th>2E033D0426</th>\n      <td>0.00</td>\n      <td>0.00</td>\n    </tr>\n    <tr>\n      <th>2E033D0992</th>\n      <td>0.00</td>\n      <td>0.00</td>\n    </tr>\n    <tr>\n      <th>2F434610464</th>\n      <td>0.00</td>\n      <td>0.00</td>\n    </tr>\n    <tr>\n      <th>80005,CX13</th>\n      <td>0.00</td>\n      <td>0.00</td>\n    </tr>\n    <tr>\n      <th>80005,CX16</th>\n      <td>0.00</td>\n      <td>0.00</td>\n    </tr>\n  </tbody>\n</table>\n<p>649 rows × 2 columns</p>\n</div>"
     },
     "metadata": {},
     "execution_count": 26
    }
   ],
   "source": [
    "#tacacm4[['PERIOD_END_N','PERIOD_END_VRNC_AMT']]#test"
   ]
  },
  {
   "cell_type": "code",
   "execution_count": 23,
   "metadata": {},
   "outputs": [
    {
     "output_type": "execute_result",
     "data": {
      "text/plain": "\"tacacm4[['PERIOD_END_N','PERIOD_END_VRNC_AMT']]=[0.00,0.00]\\ntacacm4[['PERIOD_END_N','PERIOD_END_VRNC_AMT']]#test\""
     },
     "metadata": {},
     "execution_count": 23
    }
   ],
   "source": [
    "#tacacm4[['PERIOD_END_N','PERIOD_END_VRNC_AMT']]=[0.00,0.00]\n",
    "#tacacm4[['PERIOD_END_N','PERIOD_END_VRNC_AMT']]#test"
   ]
  },
  {
   "cell_type": "code",
   "execution_count": 36,
   "metadata": {},
   "outputs": [
    {
     "output_type": "execute_result",
     "data": {
      "text/plain": "Index(['REC_CREATOR', 'REC_CREATE_TIME', 'REC_REVISOR', 'REC_REVISE_TIME',\n       'ARCHIVE_FLAG', 'COMPANY_CODE', 'COMPANY_CNAME', 'YEAR', 'MON',\n       'COST_CENTER', 'STD_PRICE', 'PERIOD_START_N', 'CURRNT_STD_AMOUNT',\n       'PRST_VRNC_AMOUNT', 'CURRENT_N', 'CRRT_OTPT_STD_AMT',\n       'CRRT_OTPT_VRNC_AMT', 'OTHERS_RECEIVE_N', 'OTHR_INCM_STD_AMT',\n       'OTHR_INCM_VRNC_AMT', 'SALE_N', 'SALE_STD_AMOUNT', 'SALE_VRNC_AMOUNT',\n       'NEXT_PRSP_USED_N', 'NEXT_PRSP_STD_AMT', 'NEXT_PRSP_VRNC_AMT',\n       'NEXT_MATCH_STD_AMT', 'NEXT_MATCH_USED_N', 'NEXT_MATCH_VRNC_AMT',\n       'OTHERS_SEND_N', 'OTHER_SEND_STD_AMT', 'OTHER_SEND_VRNC_AMT',\n       'PERIOD_END_N', 'PERIOD_END_STD_AMT', 'PERIOD_END_VRNC_AMT',\n       'IN_MATCH_N', 'IN_MATCH_STD_AMT', 'IN_MATCH_VRNC_AMT'],\n      dtype='object')"
     },
     "metadata": {},
     "execution_count": 36
    }
   ],
   "source": [
    "tacacm4.columns#test"
   ]
  },
  {
   "cell_type": "code",
   "execution_count": 33,
   "metadata": {},
   "outputs": [],
   "source": [
    "tacacmm=pd.read_sql('select * from tacacmm where YEAR=? and MON=?',conn,params=[acc_period[:4],acc_period[4:]])\n",
    "tacacmm.set_index(['PRODUCT_CODE'],inplace=True)\n",
    "tacacmm.drop(['REC_CREATOR', 'REC_CREATE_TIME', 'REC_REVISOR', 'REC_REVISE_TIME','ARCHIVE_FLAG', 'COMPANY_CODE', 'COMPANY_CNAME', 'STD_PRICE'],axis=1,inplace=True)\n",
    "tacacmm[['CURRENT_N','CRRT_OTPT_ACT_AMT','NEXT_MATCH_AMT', 'NEXT_MATCH_USED_N', 'GM_N', 'GM_ACT_AMT', 'SY_N','SY_ACT_AMT', 'LL_N','LL_ACT_AMT','PERIOD_END_N', 'PERIOD_END_ACT_AMT','NEXT_PRSP_USED_N','NEXT_PRSP_STD_AMT', 'IN_MATCH_AMT', 'IN_MATCH_N']]=[0.00,0.00,0.00,0.00,0.00,0.00,0.00,0.00,0.00,0.00,0.00,0.00,0.00,0.00,0.00,0.00]"
   ]
  },
  {
   "cell_type": "code",
   "execution_count": 27,
   "metadata": {},
   "outputs": [],
   "source": [
    "tacacj5=pd.read_sql_query('select * from tacacj5 where YEAR_MON=?',conn,params=[acc_period])\n",
    "tacacj5.set_index(['PRODUCT_CODE'],inplace=True)\n",
    "tacacj5.drop(['REC_CREATOR', 'REC_CREATE_TIME', 'REC_REVISOR', 'REC_REVISE_TIME','ARCHIVE_FLAG', 'COMPANY_CODE', 'COMPANY_CNAME'],axis=1,inplace=True)"
   ]
  },
  {
   "cell_type": "code",
   "execution_count": 34,
   "metadata": {
    "tags": []
   },
   "outputs": [
    {
     "output_type": "stream",
     "name": "stdout",
     "text": "YEAR_MON PRODUCT_CODE_CNAME  CRRT_YEAR_STD_AMT\nPRODUCT_CODE                                               \n9003100187     202006                                7.5663\n9001000000     202006                                3.4070\n9001100000     202006                                3.4070\n9002000000     202006                                4.0265\n9002400000     202006                                4.0265\n             REC_CREATOR REC_CREATE_TIME REC_REVISOR REC_REVISE_TIME  \\\nPRODUCT_CODE                                                           \n0003100002        001161  20200701080348                               \n0003100003        001161  20200701080348                               \n0003100004        001161  20200701080348                               \n0003100006        001161  20200701080348                               \n0003100719        001161  20200701080348                               \n\n             ARCHIVE_FLAG COMPANY_CODE COMPANY_CNAME  YEAR MON COST_CENTER  \\\nPRODUCT_CODE                                                                 \n0003100002                          BH                2020  06               \n0003100003                          BH                2020  06               \n0003100004                          BH                2020  06               \n0003100006                          BH                2020  06               \n0003100719                          BH                2020  06               \n\n              ...  NEXT_MATCH_VRNC_AMT  OTHERS_SEND_N  OTHER_SEND_STD_AMT  \\\nPRODUCT_CODE  ...                                                           \n0003100002    ...                  0.0            0.0                 0.0   \n0003100003    ...                  0.0            0.0                 0.0   \n0003100004    ...                  0.0            0.0                 0.0   \n0003100006    ...                  0.0            0.0                 0.0   \n0003100719    ...                  0.0            0.0                 0.0   \n\n              OTHER_SEND_VRNC_AMT  PERIOD_END_N  PERIOD_END_STD_AMT  \\\nPRODUCT_CODE                                                          \n0003100002                    0.0           0.0                 0.0   \n0003100003                    0.0           0.0                 0.0   \n0003100004                    0.0           0.0                 0.0   \n0003100006                    0.0           0.0                 0.0   \n0003100719                    0.0           0.0                 0.0   \n\n              PERIOD_END_VRNC_AMT  IN_MATCH_N  IN_MATCH_STD_AMT  \\\nPRODUCT_CODE                                                      \n0003100002                    0.0         0.0               0.0   \n0003100003                    0.0         0.0               0.0   \n0003100004                    0.0         0.0               0.0   \n0003100006                    0.0         0.0               0.0   \n0003100719                    0.0         0.0               0.0   \n\n              IN_MATCH_VRNC_AMT  \nPRODUCT_CODE                     \n0003100002                  0.0  \n0003100003                  0.0  \n0003100004                  0.0  \n0003100006                  0.0  \n0003100719                  0.0  \n\n[5 rows x 38 columns]\n              YEAR MON  PERIOD_START_N  START_AMOUNT  CURRENT_N  \\\nPRODUCT_CODE                                                      \n3003100129    2020  06            0.00          0.00        0.0   \n3003100246    2020  06            0.00          0.00        0.0   \n3003100281    2020  06            0.00          0.00        0.0   \n30033Z0637    2020  06            0.00          0.00        0.0   \n30033Z11135   2020  06          904.26      17461.87        0.0   \n\n              CRRT_OTPT_ACT_AMT  OTHERS_RECEIVE_N  OTHR_INCM_ACT_AMT  \\\nPRODUCT_CODE                                                           \n3003100129                  0.0               0.0                0.0   \n3003100246                  0.0               0.0                0.0   \n3003100281                  0.0               0.0                0.0   \n30033Z0637                  0.0               0.0                0.0   \n30033Z11135                 0.0               0.0                0.0   \n\n              NEXT_MATCH_AMT  NEXT_MATCH_USED_N  ...  LL_N  LL_ACT_AMT  \\\nPRODUCT_CODE                                     ...                     \n3003100129               0.0                0.0  ...   0.0         0.0   \n3003100246               0.0                0.0  ...   0.0         0.0   \n3003100281               0.0                0.0  ...   0.0         0.0   \n30033Z0637               0.0                0.0  ...   0.0         0.0   \n30033Z11135              0.0                0.0  ...   0.0         0.0   \n\n              OTHERS_SEND_N  OTHR_SEND_ACT_AMT  PERIOD_END_N  \\\nPRODUCT_CODE                                                   \n3003100129              0.0                0.0           0.0   \n3003100246              0.0                0.0           0.0   \n3003100281              0.0                0.0           0.0   \n30033Z0637              0.0                0.0           0.0   \n30033Z11135             0.0                0.0           0.0   \n\n              PERIOD_END_ACT_AMT  NEXT_PRSP_USED_N  NEXT_PRSP_STD_AMT  \\\nPRODUCT_CODE                                                            \n3003100129                   0.0               0.0                0.0   \n3003100246                   0.0               0.0                0.0   \n3003100281                   0.0               0.0                0.0   \n30033Z0637                   0.0               0.0                0.0   \n30033Z11135                  0.0               0.0                0.0   \n\n              IN_MATCH_AMT  IN_MATCH_N  \nPRODUCT_CODE                            \n3003100129             0.0         0.0  \n3003100246             0.0         0.0  \n3003100281             0.0         0.0  \n30033Z0637             0.0         0.0  \n30033Z11135            0.0         0.0  \n\n[5 rows x 24 columns]\n"
    }
   ],
   "source": [
    "print(tacacj5.head())\n",
    "print(tacacm4.head())\n",
    "print(tacacmm.head())"
   ]
  },
  {
   "cell_type": "code",
   "execution_count": null,
   "metadata": {},
   "outputs": [],
   "source": [
    "#将ACAI25表按1、材料号升序；2、账务代码：按33 03 31 01 50 51 的顺序排列；3、销售合同号按升序排列\n",
    "#tacaia2[tacaia2['MAT_WT'].rank(method='dense',ascending=False)==3]"
   ]
  },
  {
   "cell_type": "code",
   "execution_count": null,
   "metadata": {
    "tags": []
   },
   "outputs": [],
   "source": [
    "#对账务代码自定义排序：先设排序的列表；将账务代码列的数据类型改成‘category’（astype)；用set_category，设置账务代码的顺序；用sort_values使排序生效，同时，也将材料号和销售合同升序排列\n",
    "acc_ttl_list=['33','03','31','01','50','51']\n",
    "tacaia2['ACCOUNT_TITLE_ITEM']=tacaia2['ACCOUNT_TITLE_ITEM'].astype('category')\n",
    "tacaia2['ACCOUNT_TITLE_ITEM'].cat.set_category(acc_ttl_list,inplace=True)\n",
    "tacaia2.sortvalues(['MAT_NO','ACCOUNT_TITLE_ITEM','SALE_ORDER_SUB_NO'],ascending=True,inplace=True)\n",
    "tacaia2"
   ]
  }
 ],
 "metadata": {
  "language_info": {
   "codemirror_mode": {
    "name": "ipython",
    "version": 3
   },
   "file_extension": ".py",
   "mimetype": "text/x-python",
   "name": "python",
   "nbconvert_exporter": "python",
   "pygments_lexer": "ipython3",
   "version": "3.7.6-final"
  },
  "orig_nbformat": 2,
  "kernelspec": {
   "name": "python37664bitbaseconda20e894bbf0984e0090d95a2e7211affc",
   "display_name": "Python 3.7.6 64-bit ('base': conda)"
  }
 },
 "nbformat": 4,
 "nbformat_minor": 2
}