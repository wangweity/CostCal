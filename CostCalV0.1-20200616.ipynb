{
 "cells": [
  {
   "cell_type": "code",
   "execution_count": 2,
   "metadata": {},
   "outputs": [],
   "source": [
    "#连接ERP的DB2数据库，获取TACAIA2（前台：ACAI25）,TACACM4(ACAC80非产成品),TACACMM(ACACMM),TACACJ5(废钢入库履历)\n",
    "import ibm_db\n",
    "import pandas as pd\n",
    "connStr='DATABASE=BHBXA1;HOSTNAME=192.168.2.28;PORT=50000;PROTOCOL=TCPIP;UID=bhbxa1;PWD=bhbxa1'\n",
    "con=ibm_db.connect(connStr,'','')\n"
   ]
  },
  {
   "cell_type": "code",
   "execution_count": 3,
   "metadata": {},
   "outputs": [],
   "source": [
    "import ibm_db_dbi"
   ]
  },
  {
   "cell_type": "code",
   "execution_count": 4,
   "metadata": {},
   "outputs": [],
   "source": [
    "conn=ibm_db_dbi.Connection(con)"
   ]
  },
  {
   "cell_type": "code",
   "execution_count": 5,
   "metadata": {
    "tags": []
   },
   "outputs": [],
   "source": [
    "tacaia2=pd.read_sql('select * from tacaia2',conn,parse_dates={'APP_TRNC_TIME':'%Y%m%d%H%M%S'})"
   ]
  },
  {
   "cell_type": "code",
   "execution_count": 6,
   "metadata": {},
   "outputs": [
    {
     "output_type": "execute_result",
     "data": {
      "text/plain": "Index(['01', '33', '03', '31', '50', '51'], dtype='object')"
     },
     "metadata": {},
     "execution_count": 6
    }
   ],
   "source": [
    "from pandas.api.types import CategoricalDtype\n",
    "tacaia2['ACCOUNT_TITLE_ITEM']=tacaia2['ACCOUNT_TITLE_ITEM'].astype(CategoricalDtype(['01','33','03','31','50','51']))#这里对账务代码是01-33-03-31-50-51的顺序，因为先有产出这个材料，再有后续的专用充当和投入或销售，这里暂不考虑一个材料号被二次以上转用的情况，如上一个木材料转用经过工序加工后，转用产出一个材料号，当期这个材料又直接被专用挂了另外的订单号的情况\n",
    "tacaia2['ACCOUNT_TITLE_ITEM'].cat.categories"
   ]
  },
  {
   "cell_type": "code",
   "execution_count": 7,
   "metadata": {},
   "outputs": [],
   "source": [
    "tacaia2.set_index(['ACCOUNT_TITLE_ITEM','MAT_NO','UNIT_CODE','SALE_ORDER_SUB_NO'],inplace=True) #将账务代码提到顺序第1位，以方便下面在同一投入账务代码下，按有投入的材料号迭代。"
   ]
  },
  {
   "cell_type": "code",
   "execution_count": 8,
   "metadata": {},
   "outputs": [],
   "source": [
    "tacaia2.sort_index(level='MAT_NO',inplace=True) #如果按多层索引综合排序，不行，则单按账务代码排序"
   ]
  },
  {
   "cell_type": "code",
   "execution_count": 9,
   "metadata": {},
   "outputs": [],
   "source": [
    "from numpy import nan as NA\n",
    "tacaia2=tacaia2.dropna() #剔除第一行的空行"
   ]
  },
  {
   "cell_type": "code",
   "execution_count": 10,
   "metadata": {},
   "outputs": [],
   "source": [
    "tacaia2['MAT_TYPE']=tacaia2['MAT_TYPE'].astype('int64')"
   ]
  },
  {
   "cell_type": "code",
   "execution_count": 11,
   "metadata": {},
   "outputs": [],
   "source": [
    "tacaia2.insert(tacaia2.shape[1],'MAT_VALUE',0.00)\n",
    "tacaia2.insert(tacaia2.shape[1],'MAT_PRICE',0.00)\n",
    "tacaia2.insert(tacaia2.shape[1],'LOST_VALUE',0.00)\n",
    "tacaia2.insert(tacaia2.shape[1],'LOST_PRICE',0.00)\n",
    "tacaia2.insert(tacaia2.shape[1],'SALE_VALUE',0.00)\n",
    "tacaia2.insert(tacaia2.shape[1],'SALE_PRICE',0.00)"
   ]
  },
  {
   "cell_type": "code",
   "execution_count": 12,
   "metadata": {},
   "outputs": [],
   "source": [
    "def InputPrices(MAT_NO,PRODUCT_CODE,MTRL_NO,MAT_WT,ACC_TITLE):\n",
    "    if PRODUCT_CODE[0] in ['0','1','2']:\n",
    "        MatPrice=(tacacm4.loc[PRODUCT_CODE,'PRST_VRNC_AMOUNT']+tacacm4.loc[PRODUCT_CODE,'OTHR_INCM_VRNC_AMT']-tacacm4.loc[PRODUCT_CODE,'OTHER_SEND_VRNC_AMT']+tacacm4.loc[PRODUCT_CODE,'CRRT_OTPT_VRNC_AMT']+tacacm4.loc[PRODUCT_CODE,'IN_MATCH_VRNC_AMT'])/(tacacm4.loc[PRODUCT_CODE,'PERIOD_START_N']+tacacm4.loc[PRODUCT_CODE,'OTHERS_RECEIVE_N']-tacacm4.loc[PRODUCT_CODE,'OTHERS_SEND_N']+tacacm4.loc[PRODUCT_CODE,'CURRENT_N']+tacacm4.loc[PRODUCT_CODE,'IN_MATCH_N'])#投入材料单价=（期初金额+其他收入-其他支出+本期产出+本期转入）的金额/重量\n",
    "    elif PRODUCT_CODE[0] in ['3','4','5','9']:\n",
    "        MatPrice=(tacacmm.loc[PRODUCT_CODE,'START_AMOUNT']+tacacmm.loc[PRODUCT_CODE,'OTHR_INCM_ACT_AMT']-tacacmm.loc[PRODUCT_CODE,'OTHR_SEND_ACT_AMT']+tacacmm.loc[PRODUCT_CODE,'CRRT_OTPT_ACT_AMT']+tacacmm.loc[PRODUCT_CODE,'NEXT_MATCH_AMT']\n",
    ")/(tacacmm.loc[PRODUCT_CODE,'PERIOD_START_N']+tacacmm.loc[PRODUCT_CODE,'OTHERS_RECEIVE_N']-tacacmm.loc[PRODUCT_CODE,'OTHERS_SEND_N']+tacacmm.loc[PRODUCT_CODE,'CURRENT_N']+tacacmm.loc[PRODUCT_CODE,'NEXT_MATCH_USED_N']\n",
    ")#投入材料单价=（期初金额+其他收入-其他支出+本期产出+本期转入）的金额/重量\n",
    "    else:\n",
    "        raise Exception('MAT_TYPE not NORMAL!')\n",
    "    MatValue=MatPrice*MAT_WT\n",
    "    \n",
    "    LostPercent=0.4#次板和二级品的损失百分比（以后如果要跟着系统参数表，到时可另从数据库取数，这里暂时设成常用的40%）\n",
    "    #判断投入材料号为参数中材料号&物料形态数值大于3（即为二等品或废次）的计数是否大于0，是则分无聊形态为4和5、9计算损失金额；否则损失金额为0\n",
    "    if tacaia2.loc['0' + ACC_TITLE[1]][(tacaia2.loc['0' + ACC_TITLE[1]].IN_MAT_NO==MAT_NO) &(tacaia2.loc['0' + ACC_TITLE[1]].MAT_TYPE>3)].count()['MAT_WT']>0:\n",
    "        LostValue=tacaia2.loc['0' + ACC_TITLE[1]][(tacaia2.loc['0' + ACC_TITLE[1]].IN_MAT_NO==MAT_NO) & ((tacaia2.loc['0' + ACC_TITLE[1]].MAT_TYPE==4) | (tacaia2.loc['0' + ACC_TITLE[1]].MAT_TYPE==5))].sum()['MAT_WT']*MatPrice*LostPercent+tacaia2.loc['0' + ACC_TITLE[1]][(tacaia2.loc['0' + ACC_TITLE[1]].IN_MAT_NO==MAT_NO) &(tacaia2.loc['0' + ACC_TITLE[1]].MAT_TYPE==9)].sum()['MAT_WT']*(MatPrice-tacacj5.loc['900' + MTRL_NO + '000000','CRRT_YEAR_STD_AMT'])\n",
    "    else:\n",
    "        LostValue=0.00\n",
    "\n",
    "    if tacaia2.loc['0' + ACC_TITLE[1]][(tacaia2.loc['0' + ACC_TITLE[1]].IN_MAT_NO==MAT_NO)&(tacaia2.loc['0' + ACC_TITLE[1]].MAT_TYPE<=3)].count()['MAT_WT']>0:\n",
    "        LostPrice=LostValue/tacaia2.loc['0' + ACC_TITLE[1]][(tacaia2.loc['0' + ACC_TITLE[1]].IN_MAT_NO==MAT_NO)&(tacaia2.loc['0' + ACC_TITLE[1]].MAT_TYPE<=3)].sum()['MAT_WT']\n",
    "        OtherLostValue=0#如果投入没有正品产出，需将材料损失汇总分摊到产出最多的产副品上。\n",
    "    else:\n",
    "        OtherLostValue=LostValue\n",
    "        LostPrice=0.00\n",
    "    return {\n",
    "        'Mat_Value':MatValue,\n",
    "        'Mat_Price':MatPrice,\n",
    "        'Lost_Value':LostValue,\n",
    "        'Lost_Price':LostPrice,\n",
    "        'Other_Lost_Value':OtherLostValue\n",
    "    }"
   ]
  },
  {
   "cell_type": "code",
   "execution_count": 13,
   "metadata": {},
   "outputs": [],
   "source": [
    "def SalePrices(PRODUCT_CODE,MAT_WT):\n",
    "    if PRODUCT_CODE[0] in ['0','1','2']:\n",
    "        SalePrice=(tacacm4.loc[PRODUCT_CODE,'PRST_VRNC_AMOUNT']+tacacm4.loc[PRODUCT_CODE,'OTHR_INCM_VRNC_AMT']-tacacm4.loc[PRODUCT_CODE,'OTHER_SEND_VRNC_AMT']+tacacm4.loc[PRODUCT_CODE,'CRRT_OTPT_VRNC_AMT']+tacacm4.loc[PRODUCT_CODE,'IN_MATCH_VRNC_AMT']-tacacm4.loc[PRODUCT_CODE,'NEXT_PRSP_VRNC_AMT']-tacacm4.loc[PRODUCT_CODE,'NEXT_MATCH_VRNC_AMT'])/(tacacm4.loc[PRODUCT_CODE,'PERIOD_START_N']+tacacm4.loc[PRODUCT_CODE,'OTHERS_RECEIVE_N']-tacacm4.loc[PRODUCT_CODE,'OTHERS_SEND_N']+tacacm4.loc[PRODUCT_CODE,'CURRENT_N']+tacacm4.loc[PRODUCT_CODE,'IN_MATCH_N']-tacacm4.loc[PRODUCT_CODE,'NEXT_PRSP_USED_N']-tacacm4.loc[PRODUCT_CODE,'NEXT_MATCH_USED_N'])#销售材料单价=（期初金额+其他收入-其他支出+本期产出+本期转入-本期投入-本期转出）的金额/重量\n",
    "    elif PRODUCT_CODE[0] in ['3','4','5','9']:\n",
    "        SalePrice=(tacacmm.loc[PRODUCT_CODE,'START_AMOUNT']+tacacmm.loc[PRODUCT_CODE,'OTHR_INCM_ACT_AMT']-tacacmm.loc[PRODUCT_CODE,'OTHR_SEND_ACT_AMT']+tacacmm.loc[PRODUCT_CODE,'CRRT_OTPT_ACT_AMT']+tacacmm.loc[PRODUCT_CODE,'NEXT_MATCH_AMT']-tacacmm.loc[PRODUCT_CODE,'NEXT_PRSP_STD_AMT']-tacacmm.loc[PRODUCT_CODE,'NEXT_MATCH_AMT']\n",
    ")/(tacacmm.loc[PRODUCT_CODE,'PERIOD_START_N']+tacacmm.loc[PRODUCT_CODE,'OTHERS_RECEIVE_N']-tacacmm.loc[PRODUCT_CODE,'OTHERS_SEND_N']+tacacmm.loc[PRODUCT_CODE,'CURRENT_N']+tacacmm.loc[PRODUCT_CODE,'NEXT_MATCH_USED_N']-tacacmm.loc[PRODUCT_CODE,'NEXT_PRSP_USED_N']-tacacmm.loc[PRODUCT_CODE,'NEXT_MATCH_USED_N']\n",
    ")#销售材料单价=（期初金额+其他收入-其他支出+本期产出+本期转入-本期投入-本期转出）的金额/重量\n",
    "    SaleValue=SalePrice*MAT_WT\n",
    "    return {\n",
    "        'Sale_Value':SaleValue,\n",
    "        'Sale_Price':SalePrice\n",
    "    }"
   ]
  },
  {
   "cell_type": "code",
   "execution_count": 14,
   "metadata": {},
   "outputs": [],
   "source": [
    "def ProducePrices(INPUT_MAT,ACC_TITLE,MAT_TYPE,MAT_WT,MTRL_NO):\n",
    "    #tacaia2.loc[('3'+ACC_TITLE[1],Input_MAT),'']\n",
    "    if MAT_TYPE<=3:\n",
    "        MatPrice=tacaia2.loc[('3'+ACC_TITLE[1],INPUT_MAT),'MAT_PRICE'][0]\n",
    "        MatValue=MatPrice*MAT_WT\n",
    "        LostPrice=tacaia2.loc[('3'+ACC_TITLE[1],INPUT_MAT),'LOST_PRICE'][0]\n",
    "        LostValue=LostPrice*MAT_WT\n",
    "    elif MAT_TYPE in [4,5]:\n",
    "        LostPercent=0.4#次板和二级品的损失百分比（以后如果要跟着系统参数表，到时可另从数据库取数，这里暂时设成常用的40%）\n",
    "        MatPrice=tacaia2.loc[('3'+ACC_TITLE[1],INPUT_MAT),'MAT_PRICE'][0]*(1-LostPercent)\n",
    "        MatValue=MatPrice*MAT_WT\n",
    "        LostPrice=0.00\n",
    "        LostValue=LostPrice*MAT_WT\n",
    "    elif MAT_TYPE==9:\n",
    "        MatPrice=tacacj5.loc['900' + MTRL_NO + '000000','CRRT_YEAR_STD_AMT']\n",
    "        MatValue=MatPrice*MAT_WT\n",
    "        LostPrice=0.00\n",
    "        LostValue=LostPrice*MAT_WT\n",
    "    return {\n",
    "        'Mat_Value':MatValue,\n",
    "        'Mat_Price':MatPrice,        \n",
    "        'Lost_Value':LostValue,\n",
    "        'Lost_Price':LostPrice\n",
    "    }"
   ]
  },
  {
   "cell_type": "code",
   "execution_count": 15,
   "metadata": {},
   "outputs": [],
   "source": [
    "#tacaia2.sort_index(level=['ACCOUNT_TITLE_ITEM','MAT_NO','UNIT_CODE','SALE_ORDER_SUB_NO'],inplace=True) #跟着前面重设索引，把账务代码提到第1位，对应改变索引排序"
   ]
  },
  {
   "cell_type": "code",
   "execution_count": 16,
   "metadata": {},
   "outputs": [],
   "source": [
    "#tacaia2.loc['31','KEY_SEQ']"
   ]
  },
  {
   "cell_type": "code",
   "execution_count": 17,
   "metadata": {
    "tags": []
   },
   "outputs": [],
   "source": [
    "#tacaia2.to_excel('tacaia2-202005.xlsx',sheet_name='tacaia2')\n",
    "#tacaia2.loc[('B2003125AFA','LF03','33','MD2005061901'),'PRODUCT_CODE'][0][:4] #Pandas多层索引的引用\n",
    "#[x[0] for x in tacaia2.index] #多层索引中一层所有元素的列表"
   ]
  },
  {
   "cell_type": "code",
   "execution_count": 18,
   "metadata": {
    "tags": []
   },
   "outputs": [
    {
     "output_type": "stream",
     "name": "stdout",
     "text": "202007\n"
    }
   ],
   "source": [
    "acc_period=tacaia2['ACCOUNT_PERIOD'][1]\n",
    "print(acc_period)"
   ]
  },
  {
   "cell_type": "code",
   "execution_count": 19,
   "metadata": {},
   "outputs": [],
   "source": [
    "tacacm4=pd.read_sql('select * from tacacm4 where YEAR=? and MON=?',conn,params=[acc_period[:4],acc_period[4:]])\n",
    "tacacm4.set_index(['PRODUCT_CODE'],inplace=True)\n",
    "tacacm4.drop(['REC_CREATOR', 'REC_CREATE_TIME', 'REC_REVISOR', 'REC_REVISE_TIME','ARCHIVE_FLAG', 'COMPANY_CODE', 'COMPANY_CNAME','COST_CENTER', 'STD_PRICE',\"CURRNT_STD_AMOUNT\",\"CRRT_OTPT_STD_AMT\",\"OTHR_INCM_STD_AMT\",\"SALE_STD_AMOUNT\",\"NEXT_PRSP_STD_AMT\",\"NEXT_MATCH_STD_AMT\",\"OTHER_SEND_STD_AMT\",\"PERIOD_END_STD_AMT\",\"IN_MATCH_STD_AMT\"],axis=1,inplace=True)\n",
    "tacacm4[[\"CURRENT_N\",\"CRRT_OTPT_VRNC_AMT\",\"SALE_N\",\"SALE_VRNC_AMOUNT\",\"NEXT_PRSP_USED_N\",\"NEXT_PRSP_VRNC_AMT\",\"NEXT_MATCH_USED_N\",\"NEXT_MATCH_VRNC_AMT\",\"PERIOD_END_N\",\"PERIOD_END_VRNC_AMT\",\"IN_MATCH_N\",\"IN_MATCH_VRNC_AMT\"]]=[0.00,0.00,0.00,0.00,0.00,0.00,0.00,0.00,0.00,0.00,0.00,0.00]"
   ]
  },
  {
   "cell_type": "code",
   "execution_count": 20,
   "metadata": {},
   "outputs": [],
   "source": [
    "#tacacmm.to_excel('tacacmm-202006.xlsx')"
   ]
  },
  {
   "cell_type": "code",
   "execution_count": 21,
   "metadata": {},
   "outputs": [],
   "source": [
    "#tacacm4[['PERIOD_END_N','PERIOD_END_VRNC_AMT']]#test"
   ]
  },
  {
   "cell_type": "code",
   "execution_count": 22,
   "metadata": {},
   "outputs": [],
   "source": [
    "#tacacm4[['PERIOD_END_N','PERIOD_END_VRNC_AMT']]=[0.00,0.00]\n",
    "#tacacm4[['PERIOD_END_N','PERIOD_END_VRNC_AMT']]#test"
   ]
  },
  {
   "cell_type": "code",
   "execution_count": 23,
   "metadata": {},
   "outputs": [
    {
     "output_type": "execute_result",
     "data": {
      "text/plain": "Index(['YEAR', 'MON', 'PERIOD_START_N', 'PRST_VRNC_AMOUNT', 'CURRENT_N',\n       'CRRT_OTPT_VRNC_AMT', 'OTHERS_RECEIVE_N', 'OTHR_INCM_VRNC_AMT',\n       'SALE_N', 'SALE_VRNC_AMOUNT', 'NEXT_PRSP_USED_N', 'NEXT_PRSP_VRNC_AMT',\n       'NEXT_MATCH_USED_N', 'NEXT_MATCH_VRNC_AMT', 'OTHERS_SEND_N',\n       'OTHER_SEND_VRNC_AMT', 'PERIOD_END_N', 'PERIOD_END_VRNC_AMT',\n       'IN_MATCH_N', 'IN_MATCH_VRNC_AMT'],\n      dtype='object')"
     },
     "metadata": {},
     "execution_count": 23
    }
   ],
   "source": [
    "tacacm4.columns#test"
   ]
  },
  {
   "cell_type": "code",
   "execution_count": 24,
   "metadata": {},
   "outputs": [],
   "source": [
    "tacacmm=pd.read_sql('select * from tacacmm where YEAR=? and MON=?',conn,params=[acc_period[:4],acc_period[4:]])\n",
    "tacacmm.set_index(['PRODUCT_CODE'],inplace=True)\n",
    "tacacmm.drop(['REC_CREATOR', 'REC_CREATE_TIME', 'REC_REVISOR', 'REC_REVISE_TIME','ARCHIVE_FLAG', 'COMPANY_CODE', 'COMPANY_CNAME', 'STD_PRICE'],axis=1,inplace=True)\n",
    "tacacmm[['CURRENT_N','CRRT_OTPT_ACT_AMT','NEXT_MATCH_AMT', 'NEXT_MATCH_USED_N', 'GM_N', 'GM_ACT_AMT', 'SY_N','SY_ACT_AMT', 'LL_N','LL_ACT_AMT','PERIOD_END_N', 'PERIOD_END_ACT_AMT','NEXT_PRSP_USED_N','NEXT_PRSP_STD_AMT', 'IN_MATCH_AMT', 'IN_MATCH_N']]=[0.00,0.00,0.00,0.00,0.00,0.00,0.00,0.00,0.00,0.00,0.00,0.00,0.00,0.00,0.00,0.00]"
   ]
  },
  {
   "cell_type": "code",
   "execution_count": 25,
   "metadata": {},
   "outputs": [],
   "source": [
    "tacacj5=pd.read_sql_query('select * from tacacj5 where YEAR_MON=?',conn,params=[acc_period])\n",
    "tacacj5.set_index(['PRODUCT_CODE'],inplace=True)\n",
    "tacacj5.drop(['REC_CREATOR', 'REC_CREATE_TIME', 'REC_REVISOR', 'REC_REVISE_TIME','ARCHIVE_FLAG', 'COMPANY_CODE', 'COMPANY_CNAME'],axis=1,inplace=True)"
   ]
  },
  {
   "cell_type": "code",
   "execution_count": 26,
   "metadata": {
    "tags": []
   },
   "outputs": [
    {
     "output_type": "stream",
     "name": "stdout",
     "text": "YEAR_MON PRODUCT_CODE_CNAME  CRRT_YEAR_STD_AMT\nPRODUCT_CODE                                               \n9001000000     202007                                3.5398\n9001100000     202007                                3.5398\n9002000000     202007                                4.1592\n9002400000     202007                                4.1592\n9002405893     202007                                4.1592\n              YEAR MON  PERIOD_START_N  PRST_VRNC_AMOUNT  CURRENT_N  \\\nPRODUCT_CODE                                                          \n0003100002    2020  07         6989.00          89829.95        0.0   \n0003100003    2020  07         5386.00          67926.77        0.0   \n0003100004    2020  07        78769.37         985215.95        0.0   \n0003100006    2020  07        48716.03         578597.51        0.0   \n0003100719    2020  07         4138.88          54112.68        0.0   \n\n              CRRT_OTPT_VRNC_AMT  OTHERS_RECEIVE_N  OTHR_INCM_VRNC_AMT  \\\nPRODUCT_CODE                                                             \n0003100002                   0.0            9742.0           125541.22   \n0003100003                   0.0               0.0                0.00   \n0003100004                   0.0           26519.0           342206.81   \n0003100006                   0.0          267695.0          3081659.80   \n0003100719                   0.0           31897.0           390798.12   \n\n              SALE_N  SALE_VRNC_AMOUNT  NEXT_PRSP_USED_N  NEXT_PRSP_VRNC_AMT  \\\nPRODUCT_CODE                                                                   \n0003100002       0.0               0.0               0.0                 0.0   \n0003100003       0.0               0.0               0.0                 0.0   \n0003100004       0.0               0.0               0.0                 0.0   \n0003100006       0.0               0.0               0.0                 0.0   \n0003100719       0.0               0.0               0.0                 0.0   \n\n              NEXT_MATCH_USED_N  NEXT_MATCH_VRNC_AMT  OTHERS_SEND_N  \\\nPRODUCT_CODE                                                          \n0003100002                  0.0                  0.0            0.0   \n0003100003                  0.0                  0.0            0.0   \n0003100004                  0.0                  0.0            0.0   \n0003100006                  0.0                  0.0            0.0   \n0003100719                  0.0                  0.0            0.0   \n\n              OTHER_SEND_VRNC_AMT  PERIOD_END_N  PERIOD_END_VRNC_AMT  \\\nPRODUCT_CODE                                                           \n0003100002                    0.0           0.0                  0.0   \n0003100003                    0.0           0.0                  0.0   \n0003100004                    0.0           0.0                  0.0   \n0003100006                    0.0           0.0                  0.0   \n0003100719                    0.0           0.0                  0.0   \n\n              IN_MATCH_N  IN_MATCH_VRNC_AMT  \nPRODUCT_CODE                                 \n0003100002           0.0                0.0  \n0003100003           0.0                0.0  \n0003100004           0.0                0.0  \n0003100006           0.0                0.0  \n0003100719           0.0                0.0  \n              YEAR MON  PERIOD_START_N  START_AMOUNT  CURRENT_N  \\\nPRODUCT_CODE                                                      \n3003100246    2020  07            0.00          0.00        0.0   \n3003200594    2020  07            0.00          0.00        0.0   \n30033Z0061    2020  07            0.00          0.00        0.0   \n30033Z11135   2020  07          904.26      17461.87        0.0   \n30033Z11136   2020  07           39.88        827.80        0.0   \n\n              CRRT_OTPT_ACT_AMT  OTHERS_RECEIVE_N  OTHR_INCM_ACT_AMT  \\\nPRODUCT_CODE                                                           \n3003100246                  0.0               0.0                0.0   \n3003200594                  0.0               0.0                0.0   \n30033Z0061                  0.0               0.0                0.0   \n30033Z11135                 0.0               0.0                0.0   \n30033Z11136                 0.0               0.0                0.0   \n\n              NEXT_MATCH_AMT  NEXT_MATCH_USED_N     ...      LL_N  LL_ACT_AMT  \\\nPRODUCT_CODE                                        ...                         \n3003100246               0.0                0.0     ...       0.0         0.0   \n3003200594               0.0                0.0     ...       0.0         0.0   \n30033Z0061               0.0                0.0     ...       0.0         0.0   \n30033Z11135              0.0                0.0     ...       0.0         0.0   \n30033Z11136              0.0                0.0     ...       0.0         0.0   \n\n              OTHERS_SEND_N  OTHR_SEND_ACT_AMT  PERIOD_END_N  \\\nPRODUCT_CODE                                                   \n3003100246              0.0                0.0           0.0   \n3003200594              0.0                0.0           0.0   \n30033Z0061              0.0                0.0           0.0   \n30033Z11135             0.0                0.0           0.0   \n30033Z11136             0.0                0.0           0.0   \n\n              PERIOD_END_ACT_AMT  NEXT_PRSP_USED_N  NEXT_PRSP_STD_AMT  \\\nPRODUCT_CODE                                                            \n3003100246                   0.0               0.0                0.0   \n3003200594                   0.0               0.0                0.0   \n30033Z0061                   0.0               0.0                0.0   \n30033Z11135                  0.0               0.0                0.0   \n30033Z11136                  0.0               0.0                0.0   \n\n              IN_MATCH_AMT  IN_MATCH_N  \nPRODUCT_CODE                            \n3003100246             0.0         0.0  \n3003200594             0.0         0.0  \n30033Z0061             0.0         0.0  \n30033Z11135            0.0         0.0  \n30033Z11136            0.0         0.0  \n\n[5 rows x 24 columns]\n"
    }
   ],
   "source": [
    "print(tacacj5.head())\n",
    "print(tacacm4.head())\n",
    "print(tacacmm.head())"
   ]
  },
  {
   "cell_type": "code",
   "execution_count": 27,
   "metadata": {},
   "outputs": [],
   "source": [
    "#将ACAI25表按1、材料号升序；2、账务代码：按33 03 31 01 50 51 的顺序排列；3、销售合同号按升序排列\n",
    "#tacaia2[tacaia2['MAT_WT'].rank(method='dense',ascending=False)==3]"
   ]
  },
  {
   "cell_type": "code",
   "execution_count": 28,
   "metadata": {
    "tags": []
   },
   "outputs": [
    {
     "output_type": "execute_result",
     "data": {
      "text/plain": "\"acc_ttl_list=['33','03','31','01','50','51']\\ntacaia2['ACCOUNT_TITLE_ITEM']=tacaia2['ACCOUNT_TITLE_ITEM'].astype('category')\\ntacaia2['ACCOUNT_TITLE_ITEM'].cat.set_category(acc_ttl_list,inplace=True)\\ntacaia2.sortvalues(['MAT_NO','ACCOUNT_TITLE_ITEM','SALE_ORDER_SUB_NO'],ascending=True,inplace=True)\\ntacaia2\""
     },
     "metadata": {},
     "execution_count": 28
    }
   ],
   "source": [
    "#对账务代码自定义排序：先设排序的列表；将账务代码列的数据类型改成‘category’（astype)；用set_category，设置账务代码的顺序；用sort_values使排序生效，同时，也将材料号和销售合同升序排列\n",
    "'''acc_ttl_list=['33','03','31','01','50','51']\n",
    "tacaia2['ACCOUNT_TITLE_ITEM']=tacaia2['ACCOUNT_TITLE_ITEM'].astype('category')\n",
    "tacaia2['ACCOUNT_TITLE_ITEM'].cat.set_category(acc_ttl_list,inplace=True)\n",
    "tacaia2.sortvalues(['MAT_NO','ACCOUNT_TITLE_ITEM','SALE_ORDER_SUB_NO'],ascending=True,inplace=True)\n",
    "tacaia2'''"
   ]
  },
  {
   "cell_type": "code",
   "execution_count": 38,
   "metadata": {},
   "outputs": [],
   "source": [
    "def WriteSFC(PRODUCT_CODE,ACC_TITLE,MAT_VALUE,LOST_VALUE,SALE_VALUE,WT):\n",
    "    if PRODUCT_CODE[0] in ['0','1','2']:\n",
    "        SFCColumnName={\n",
    "            'df':tacacm4,\n",
    "            'Num':{\n",
    "                '01':'CURRENT_N',\n",
    "                '33':'NEXT_MATCH_USED_N',\n",
    "                '03':'IN_MATCH_N',\n",
    "                '31':'NEXT_PRSP_USED_N',\n",
    "                '50':'SALE_N',\n",
    "                '51':'SALE_N' \n",
    "            },\n",
    "            'Value':{\n",
    "                '01':'CRRT_OTPT_VRNC_AMT',\n",
    "                '33':'NEXT_MATCH_VRNC_AMT',\n",
    "                '03':'IN_MATCH_VRNC_AMT',\n",
    "                '31':'NEXT_PRSP_VRNC_AMT',\n",
    "                '50':'SALE_VRNC_AMOUNT',\n",
    "                '51':'SALE_VRNC_AMOUNT'\n",
    "            }\n",
    "            \n",
    "        }\n",
    "        \n",
    "    elif PRODUCT_CODE[0] in ['3','4','5','9']:\n",
    "        SFCColumnName={\n",
    "            'df':tacacmm,\n",
    "            'Num':{\n",
    "                '01':'CURRENT_N',\n",
    "                '33':'NEXT_MATCH_USED_N',\n",
    "                '03':'IN_MATCH_N',\n",
    "                '31':'NEXT_PRSP_USED_N',\n",
    "                '50':'GM_N',\n",
    "                '51':'SY_N' \n",
    "            },\n",
    "            'Value':{\n",
    "                '01':'CRRT_OTPT_ACT_AMT',\n",
    "                '33':'NEXT_MATCH_AMT',\n",
    "                '03':'IN_MATCH_AMT',\n",
    "                '31':'NEXT_PRSP_STD_AMT',\n",
    "                '50':'GM_ACT_AMT',\n",
    "                '51':'SY_ACT_AMT'\n",
    "            }\n",
    "        }\n",
    "\n",
    "    SFCValue={\n",
    "            '01':MAT_VALUE+LOST_VALUE,\n",
    "            '03':MAT_VALUE+LOST_VALUE,\n",
    "            '31':MAT_VALUE,\n",
    "            '33':MAT_VALUE,\n",
    "            '50':SALE_VALUE,\n",
    "            '51':SALE_VALUE\n",
    "        }\n",
    "    SFCColumnName['df'].loc[PRODUCT_CODE,SFCColumnName['Num'][ACC_TITLE]]+=WT\n",
    "    SFCColumnName['df'].loc[PRODUCT_CODE,SFCColumnName['Value'][ACC_TITLE]]+=SFCValue[ACC_TITLE]"
   ]
  },
  {
   "cell_type": "code",
   "execution_count": 39,
   "metadata": {
    "tags": [
     "outputPrepend"
    ]
   },
   "outputs": [
    {
     "output_type": "stream",
     "name": "stdout",
     "text": "e: KEY_SEQ, dtype: int64\nNo.97525\nNo.97526\nNo.97527\nNo.97528\nNo.97529\nNo.97530\nUNIT_CODE  SALE_ORDER_SUB_NO\nLA03       MD2007280801         6021\nName: KEY_SEQ, dtype: int64\nNo.97531\nNo.97532\nNo.97533\nNo.97534\nNo.97535\nNo.97536\nUNIT_CODE  SALE_ORDER_SUB_NO\nLA01       MD2007280801         4464\nName: KEY_SEQ, dtype: int64\nNo.97537\nNo.97538\nNo.97539\nNo.97540\nNo.97541\nNo.97542\nUNIT_CODE  SALE_ORDER_SUB_NO\nLA01       MD2007280801         4465\nName: KEY_SEQ, dtype: int64\nNo.97543\nNo.97544\nNo.97545\nUNIT_CODE  SALE_ORDER_SUB_NO\nLA01       MD2007280801         6022\nName: KEY_SEQ, dtype: int64\nNo.97546\nNo.97547\nNo.97548\nUNIT_CODE  SALE_ORDER_SUB_NO\nLA01       MD2007280801         4465\nName: KEY_SEQ, dtype: int64\nNo.97549\nNo.97550\nNo.97551\nUNIT_CODE  SALE_ORDER_SUB_NO\nLA01       MD2007280801         6022\nName: KEY_SEQ, dtype: int64\nNo.97552\nNo.97553\nNo.97554\nUNIT_CODE  SALE_ORDER_SUB_NO\nLA03       MD2007280801         6023\nName: KEY_SEQ, dtype: int64\nNo.97555\nNo.97556\nNo.97557\nNo.97558\nNo.97559\nNo.97560\nUNIT_CODE  SALE_ORDER_SUB_NO\nLA03       MD2007280801         19521\n           MD2007280801         19564\nName: KEY_SEQ, dtype: int64\nNo.97561\nNo.97562\nNo.97563\nNo.97564\nNo.97565\nNo.97566\nUNIT_CODE  SALE_ORDER_SUB_NO\nLA03       MD2007280801         19521\n           MD2007280801         19564\nName: KEY_SEQ, dtype: int64\nNo.97567\nNo.97568\nNo.97569\nNo.97570\nNo.97571\nNo.97572\nUNIT_CODE  SALE_ORDER_SUB_NO\nLA03       MD2007280801         6024\nName: KEY_SEQ, dtype: int64\nNo.97573\nNo.97574\nNo.97575\nNo.97576\nNo.97577\nNo.97578\nUNIT_CODE  SALE_ORDER_SUB_NO\nLA03       MD2007280801         6025\nName: KEY_SEQ, dtype: int64\nNo.97579\nNo.97580\nNo.97581\nNo.97582\nNo.97583\nNo.97584\nUNIT_CODE  SALE_ORDER_SUB_NO\nLA01       MD2007280801         4466\nName: KEY_SEQ, dtype: int64\nNo.97585\nNo.97586\nNo.97587\nNo.97588\nNo.97589\nNo.97590\nUNIT_CODE  SALE_ORDER_SUB_NO\nLA01       MD2007280801         4467\nName: KEY_SEQ, dtype: int64\nNo.97591\nNo.97592\nNo.97593\nNo.97594\nNo.97595\nNo.97596\nUNIT_CODE  SALE_ORDER_SUB_NO\nLA01       MD2007280801         4468\nName: KEY_SEQ, dtype: int64\nNo.97597\nNo.97598\nNo.97599\nNo.97600\nNo.97601\nNo.97602\nNo.97603\nNo.97604\nNo.97605\nUNIT_CODE  SALE_ORDER_SUB_NO\n                                244\nName: KEY_SEQ, dtype: int64\nNo.97606\nNo.97607\nNo.97608\nUNIT_CODE  SALE_ORDER_SUB_NO\nL001                            245\nName: KEY_SEQ, dtype: int64\nNo.97609\nNo.97610\nNo.97611\nUNIT_CODE  SALE_ORDER_SUB_NO\nL001       MD2007243101         13397\nName: KEY_SEQ, dtype: int64\nNo.97612\nNo.97613\nNo.97614\nUNIT_CODE  SALE_ORDER_SUB_NO\nL001                            245\nName: KEY_SEQ, dtype: int64\nNo.97615\nNo.97616\nNo.97617\nUNIT_CODE  SALE_ORDER_SUB_NO\nL001       MD2007243101         13397\nName: KEY_SEQ, dtype: int64\nNo.97618\nNo.97619\nNo.97620\nUNIT_CODE  SALE_ORDER_SUB_NO\nLA01       MD2007243101         4470\nName: KEY_SEQ, dtype: int64\nNo.97621\nNo.97622\nNo.97623\nNo.97624\nNo.97625\nNo.97626\nUNIT_CODE  SALE_ORDER_SUB_NO\nLA01       MD2007243101         4471\nName: KEY_SEQ, dtype: int64\nNo.97627\nNo.97628\nNo.97629\nNo.97630\nNo.97631\nNo.97632\nUNIT_CODE  SALE_ORDER_SUB_NO\nLA01       MD2007243101         4474\nName: KEY_SEQ, dtype: int64\nNo.97633\nNo.97634\nNo.97635\nNo.97636\nNo.97637\nNo.97638\nUNIT_CODE  SALE_ORDER_SUB_NO\nLA01       MD2007243101         4472\nName: KEY_SEQ, dtype: int64\nNo.97639\nNo.97640\nNo.97641\nNo.97642\nNo.97643\nNo.97644\nUNIT_CODE  SALE_ORDER_SUB_NO\nLA01       MD2007243101         4473\nName: KEY_SEQ, dtype: int64\nNo.97645\nNo.97646\nNo.97647\nNo.97648\nUNIT_CODE  SALE_ORDER_SUB_NO\nLA01       MD2007243101         19499\nName: KEY_SEQ, dtype: int64\nNo.97649\nNo.97650\nUNIT_CODE  SALE_ORDER_SUB_NO\nLA01       MD2007243101         4473\nName: KEY_SEQ, dtype: int64\nNo.97651\nNo.97652\nNo.97653\nNo.97654\nUNIT_CODE  SALE_ORDER_SUB_NO\nLA01       MD2007243101         19499\nName: KEY_SEQ, dtype: int64\nNo.97655\nNo.97656\nNo.97657\nNo.97658\nNo.97659\nUNIT_CODE  SALE_ORDER_SUB_NO\n                                246\nName: KEY_SEQ, dtype: int64\nNo.97660\nNo.97661\nNo.97662\nUNIT_CODE  SALE_ORDER_SUB_NO\nL001                            247\nName: KEY_SEQ, dtype: int64\nNo.97663\nNo.97664\nNo.97665\nUNIT_CODE  SALE_ORDER_SUB_NO\nL001       ND2007290401         13400\n           ND2007290402         13398\n           ND2007290403         13401\n           ND2007290404         13399\nName: KEY_SEQ, dtype: int64\nNo.97666\nNo.97667\nNo.97668\nUNIT_CODE  SALE_ORDER_SUB_NO\nL001                            247\nName: KEY_SEQ, dtype: int64\nNo.97669\nNo.97670\nNo.97671\nUNIT_CODE  SALE_ORDER_SUB_NO\nL001       ND2007290401         13400\n           ND2007290402         13398\n           ND2007290403         13401\n           ND2007290404         13399\nName: KEY_SEQ, dtype: int64\nNo.97672\nNo.97673\nNo.97674\nUNIT_CODE  SALE_ORDER_SUB_NO\nL001                            247\nName: KEY_SEQ, dtype: int64\nNo.97675\nNo.97676\nNo.97677\nUNIT_CODE  SALE_ORDER_SUB_NO\nL001       ND2007290401         13400\n           ND2007290402         13398\n           ND2007290403         13401\n           ND2007290404         13399\nName: KEY_SEQ, dtype: int64\nNo.97678\nNo.97679\nNo.97680\nUNIT_CODE  SALE_ORDER_SUB_NO\nL001                            247\nName: KEY_SEQ, dtype: int64\nNo.97681\nNo.97682\nNo.97683\nUNIT_CODE  SALE_ORDER_SUB_NO\nL001       ND2007290401         13400\n           ND2007290402         13398\n           ND2007290403         13401\n           ND2007290404         13399\nName: KEY_SEQ, dtype: int64\nNo.97684\nNo.97685\nNo.97686\nUNIT_CODE  SALE_ORDER_SUB_NO\nL001                            247\nName: KEY_SEQ, dtype: int64\nNo.97687\nNo.97688\nNo.97689\nUNIT_CODE  SALE_ORDER_SUB_NO\nL001       ND2007290401         13400\n           ND2007290402         13398\n           ND2007290403         13401\n           ND2007290404         13399\nName: KEY_SEQ, dtype: int64\nNo.97690\nNo.97691\nNo.97692\nUNIT_CODE  SALE_ORDER_SUB_NO\nLA01       ND2007290402         4476\nName: KEY_SEQ, dtype: int64\nNo.97693\nNo.97694\nNo.97695\nNo.97696\nNo.97697\nNo.97698\nUNIT_CODE  SALE_ORDER_SUB_NO\nLA01       ND2007290402         4477\nName: KEY_SEQ, dtype: int64\nNo.97699\nNo.97700\nNo.97701\nNo.97702\nNo.97703\nNo.97704\nUNIT_CODE  SALE_ORDER_SUB_NO\nLA01       ND2007290402         4478\nName: KEY_SEQ, dtype: int64\nNo.97705\nNo.97706\nNo.97707\nNo.97708\nNo.97709\nNo.97710\nUNIT_CODE  SALE_ORDER_SUB_NO\nLA01       ND2007290401         4479\nName: KEY_SEQ, dtype: int64\nNo.97711\nNo.97712\nNo.97713\nNo.97714\nNo.97715\nNo.97716\nUNIT_CODE  SALE_ORDER_SUB_NO\nLA01       ND2007290401         4480\nName: KEY_SEQ, dtype: int64\nNo.97717\nNo.97718\nNo.97719\nNo.97720\nNo.97721\nNo.97722\nUNIT_CODE  SALE_ORDER_SUB_NO\nLA01       ND2007290403         4481\nName: KEY_SEQ, dtype: int64\nNo.97723\nNo.97724\nNo.97725\nNo.97726\nNo.97727\nNo.97728\nUNIT_CODE  SALE_ORDER_SUB_NO\nLA01       ND2007290402         4482\nName: KEY_SEQ, dtype: int64\nNo.97729\nNo.97730\nNo.97731\nNo.97732\nNo.97733\nNo.97734\nUNIT_CODE  SALE_ORDER_SUB_NO\nLA01       ND2007290404         4483\nName: KEY_SEQ, dtype: int64\nNo.97735\nNo.97736\nNo.97737\nNo.97738\nNo.97739\nNo.97740\nNo.97741\nNo.97742\nNo.97743\nUNIT_CODE  SALE_ORDER_SUB_NO\nLA01       ND1809030402         13402\nName: KEY_SEQ, dtype: int64\nNo.97744\nNo.97745\nNo.97746\nUNIT_CODE  SALE_ORDER_SUB_NO\nLA01       ND1809030402         4485\nName: KEY_SEQ, dtype: int64\nNo.97747\nNo.97748\nNo.97749\nNo.97750\nNo.97751\nNo.97752\nUNIT_CODE  SALE_ORDER_SUB_NO\nLA01       ND1809030402         4486\nName: KEY_SEQ, dtype: int64\nNo.97753\nNo.97754\nNo.97755\nNo.97756\nNo.97757\nNo.97758\nUNIT_CODE  SALE_ORDER_SUB_NO\nLA01       ND1809030402         4487\nName: KEY_SEQ, dtype: int64\nNo.97759\nNo.97760\nNo.97761\nNo.97762\nNo.97763\nNo.97764\nUNIT_CODE  SALE_ORDER_SUB_NO\nLA01       ND1809030402         4488\nName: KEY_SEQ, dtype: int64\nNo.97765\nNo.97766\nNo.97767\nNo.97768\nNo.97769\nNo.97770\nNo.97771\nNo.97772\nNo.97773\nUNIT_CODE  SALE_ORDER_SUB_NO\n                                96\nName: KEY_SEQ, dtype: int64\nNo.97774\nNo.97775\nNo.97776\nUNIT_CODE  SALE_ORDER_SUB_NO\nL001                            97\nName: KEY_SEQ, dtype: int64\nNo.97777\nNo.97778\nNo.97779\nNo.97780\nNo.97781\nNo.97782\nUNIT_CODE  SALE_ORDER_SUB_NO\nL001                            98\nName: KEY_SEQ, dtype: int64\nNo.97783\nNo.97784\nNo.97785\nNo.97786\nNo.97787\nNo.97788\nUNIT_CODE  SALE_ORDER_SUB_NO\nL001                            99\nName: KEY_SEQ, dtype: int64\nNo.97789\nNo.97790\nNo.97791\nNo.97792\nNo.97793\nNo.97794\nNo.97795\nNo.97796\nNo.97797\nUNIT_CODE  SALE_ORDER_SUB_NO\n                                100\nName: KEY_SEQ, dtype: int64\nNo.97798\nNo.97799\nNo.97800\nUNIT_CODE  SALE_ORDER_SUB_NO\nL001                            101\nName: KEY_SEQ, dtype: int64\nNo.97801\nNo.97802\nNo.97803\nNo.97804\nNo.97805\nNo.97806\nUNIT_CODE  SALE_ORDER_SUB_NO\nL001                            102\nName: KEY_SEQ, dtype: int64\nNo.97807\nNo.97808\nNo.97809\nNo.97810\nNo.97811\nNo.97812\nNo.97813\nNo.97814\nNo.97815\nUNIT_CODE  SALE_ORDER_SUB_NO\n                                248\nName: KEY_SEQ, dtype: int64\nNo.97816\nNo.97817\nNo.97818\nUNIT_CODE  SALE_ORDER_SUB_NO\nL001                            249\nName: KEY_SEQ, dtype: int64\nNo.97819\nNo.97820\nNo.97821\nUNIT_CODE  SALE_ORDER_SUB_NO\nL001       MD2007310501         13404\n           MD2007310502         13403\nName: KEY_SEQ, dtype: int64\nNo.97822\nNo.97823\nNo.97824\nUNIT_CODE  SALE_ORDER_SUB_NO\nL001                            249\nName: KEY_SEQ, dtype: int64\nNo.97825\nNo.97826\nNo.97827\nUNIT_CODE  SALE_ORDER_SUB_NO\nL001       MD2007310501         13404\n           MD2007310502         13403\nName: KEY_SEQ, dtype: int64\nNo.97828\nNo.97829\nNo.97830\nUNIT_CODE  SALE_ORDER_SUB_NO\nL001                            249\nName: KEY_SEQ, dtype: int64\nNo.97831\nNo.97832\nNo.97833\nUNIT_CODE  SALE_ORDER_SUB_NO\nL001       MD2007310501         13404\n           MD2007310502         13403\nName: KEY_SEQ, dtype: int64\nNo.97834\nNo.97835\nNo.97836\nUNIT_CODE  SALE_ORDER_SUB_NO\nLA01       MD2007310501         4490\nName: KEY_SEQ, dtype: int64\nNo.97837\nNo.97838\nNo.97839\nNo.97840\nNo.97841\nNo.97842\nUNIT_CODE  SALE_ORDER_SUB_NO\nLA01       MD2007310501         4491\nName: KEY_SEQ, dtype: int64\nNo.97843\nNo.97844\nNo.97845\nNo.97846\nNo.97847\nNo.97848\nUNIT_CODE  SALE_ORDER_SUB_NO\nLA01       MD2007310501         4492\nName: KEY_SEQ, dtype: int64\nNo.97849\nNo.97850\nNo.97851\nNo.97852\nNo.97853\nNo.97854\nUNIT_CODE  SALE_ORDER_SUB_NO\nLA01       MD2007310501         4493\nName: KEY_SEQ, dtype: int64\nNo.97855\nNo.97856\nNo.97857\nNo.97858\nNo.97859\nNo.97860\nUNIT_CODE  SALE_ORDER_SUB_NO\nLA01       MD2007310501         4494\nName: KEY_SEQ, dtype: int64\nNo.97861\nNo.97862\nNo.97863\nNo.97864\nNo.97865\nNo.97866\nUNIT_CODE  SALE_ORDER_SUB_NO\nLA01       MD2007310502         4495\nName: KEY_SEQ, dtype: int64\nNo.97867\nNo.97868\nNo.97869\nNo.97870\nNo.97871\nNo.97872\nNo.97873\nNo.97874\nNo.97875\nUNIT_CODE  SALE_ORDER_SUB_NO\n                                250\nName: KEY_SEQ, dtype: int64\nNo.97876\nNo.97877\nNo.97878\nUNIT_CODE  SALE_ORDER_SUB_NO\nL001                            251\nName: KEY_SEQ, dtype: int64\nNo.97879\nNo.97880\nNo.97881\nNo.97882\nNo.97883\nNo.97884\nUNIT_CODE  SALE_ORDER_SUB_NO\nL001                            252\nName: KEY_SEQ, dtype: int64\nNo.97885\nNo.97886\nNo.97887\nNo.97888\nNo.97889\nNo.97890\nUNIT_CODE  SALE_ORDER_SUB_NO\nL001                            253\nName: KEY_SEQ, dtype: int64\nNo.97891\nNo.97892\nNo.97893\nNo.97894\nNo.97895\nNo.97896\nNo.97897\nNo.97898\nNo.97899\nNo.97900\nUNIT_CODE  SALE_ORDER_SUB_NO\nLA03       FD2007300102         19512\nName: KEY_SEQ, dtype: int64\nNo.97901\nNo.97902\nNo.97903\nNo.97904\nNo.97905\nNo.97906\nUNIT_CODE  SALE_ORDER_SUB_NO\nLK01       FD2007300102         19513\nName: KEY_SEQ, dtype: int64\nNo.97907\nNo.97908\nNo.97909\nNo.97910\nNo.97911\nNo.97912\nUNIT_CODE  SALE_ORDER_SUB_NO\nLA01       FD2007070101         19514\n           FD2007300102         19516\n           FD2007300201         19515\nName: KEY_SEQ, dtype: int64\nNo.97913\nNo.97914\nNo.97915\nNo.97916\nNo.97917\nNo.97918\nUNIT_CODE  SALE_ORDER_SUB_NO\nLA01       FD2007070101         19514\n           FD2007300102         19516\n           FD2007300201         19515\nName: KEY_SEQ, dtype: int64\nNo.97919\nNo.97920\nNo.97921\nNo.97922\nNo.97923\nNo.97924\nUNIT_CODE  SALE_ORDER_SUB_NO\nLA01       FD2007070101         19514\n           FD2007300102         19516\n           FD2007300201         19515\nName: KEY_SEQ, dtype: int64\nNo.97925\nNo.97926\nNo.97927\nNo.97928\nNo.97929\nNo.97930\nUNIT_CODE  SALE_ORDER_SUB_NO\n           FD2007300102         19517\nName: KEY_SEQ, dtype: int64\nNo.97931\nNo.97932\nNo.97933\nNo.97934\nNo.97935\nNo.97936\nUNIT_CODE  SALE_ORDER_SUB_NO\nLC02       FD2007300101         19519\n           FD2007300102         19518\nName: KEY_SEQ, dtype: int64\nNo.97937\nNo.97938\nNo.97939\nNo.97940\nNo.97941\nNo.97942\nUNIT_CODE  SALE_ORDER_SUB_NO\nLC02       FD2007300101         19519\n           FD2007300102         19518\nName: KEY_SEQ, dtype: int64\nNo.97943\nNo.97944\nNo.97945\nNo.97946\nNo.97947\nUNIT_CODE  SALE_ORDER_SUB_NO\nLJ01       MD2007060101         8986\nName: KEY_SEQ, dtype: int64\nNo.97948\nNo.97949\nNo.97950\nUNIT_CODE  SALE_ORDER_SUB_NO\nLK01       MD2007060101         12128\nName: KEY_SEQ, dtype: int64\nNo.97951\nNo.97952\nNo.97953\nNo.97954\nUNIT_CODE  SALE_ORDER_SUB_NO\nLK01       MD2007060101         19500\nName: KEY_SEQ, dtype: int64\nNo.97955\nNo.97956\nUNIT_CODE  SALE_ORDER_SUB_NO\nLK01       MD2007060101         12128\nName: KEY_SEQ, dtype: int64\nNo.97957\nNo.97958\nNo.97959\nNo.97960\nUNIT_CODE  SALE_ORDER_SUB_NO\nLK01       MD2007060101         19500\nName: KEY_SEQ, dtype: int64\nNo.97961\nNo.97962\nUNIT_CODE  SALE_ORDER_SUB_NO\nLK01       MD2007060101         12127\nName: KEY_SEQ, dtype: int64\nNo.97963\nNo.97964\nNo.97965\nNo.97966\nNo.97967\nNo.97968\nNo.97969\nNo.97970\nNo.97971\nUNIT_CODE  SALE_ORDER_SUB_NO\nLJ01       MD2007101802         8988\nName: KEY_SEQ, dtype: int64\nNo.97972\nNo.97973\nNo.97974\nUNIT_CODE  SALE_ORDER_SUB_NO\nLK01       MD2007101802         12131\nName: KEY_SEQ, dtype: int64\nNo.97975\nNo.97976\nNo.97977\nNo.97978\nUNIT_CODE  SALE_ORDER_SUB_NO\nLK01       MD2007101802         19501\nName: KEY_SEQ, dtype: int64\nNo.97979\nNo.97980\nUNIT_CODE  SALE_ORDER_SUB_NO\nLK01       MD2007101802         12131\nName: KEY_SEQ, dtype: int64\nNo.97981\nNo.97982\nNo.97983\nNo.97984\nUNIT_CODE  SALE_ORDER_SUB_NO\nLK01       MD2007101802         19501\nName: KEY_SEQ, dtype: int64\nNo.97985\nNo.97986\nUNIT_CODE  SALE_ORDER_SUB_NO\nLK01       MD2007101802         12130\nName: KEY_SEQ, dtype: int64\nNo.97987\nNo.97988\nNo.97989\nNo.97990\nNo.97991\nNo.97992\nNo.97993\nNo.97994\nNo.97995\nUNIT_CODE  SALE_ORDER_SUB_NO\nLJ01       MD2007101801         8990\nName: KEY_SEQ, dtype: int64\nNo.97996\nNo.97997\nNo.97998\nUNIT_CODE  SALE_ORDER_SUB_NO\nLK01       MD2007101801         12134\nName: KEY_SEQ, dtype: int64\nNo.97999\nNo.98000\nNo.98001\nNo.98002\nUNIT_CODE  SALE_ORDER_SUB_NO\nLK01       MD2007101801         19502\nName: KEY_SEQ, dtype: int64\nNo.98003\nNo.98004\nUNIT_CODE  SALE_ORDER_SUB_NO\nLK01       MD2007101801         12134\nName: KEY_SEQ, dtype: int64\nNo.98005\nNo.98006\nNo.98007\nNo.98008\nUNIT_CODE  SALE_ORDER_SUB_NO\nLK01       MD2007101801         19502\nName: KEY_SEQ, dtype: int64\nNo.98009\nNo.98010\nUNIT_CODE  SALE_ORDER_SUB_NO\nLK01       MD2007101801         12133\nName: KEY_SEQ, dtype: int64\nNo.98011\nNo.98012\nNo.98013\nNo.98014\nNo.98015\nNo.98016\nNo.98017\nNo.98018\nNo.98019\nUNIT_CODE  SALE_ORDER_SUB_NO\n                                254\nName: KEY_SEQ, dtype: int64\nNo.98020\nNo.98021\nNo.98022\nUNIT_CODE  SALE_ORDER_SUB_NO\nL001                            255\nName: KEY_SEQ, dtype: int64\nNo.98023\nNo.98024\nNo.98025\nNo.98026\nNo.98027\nNo.98028\nUNIT_CODE  SALE_ORDER_SUB_NO\nL001                            256\nName: KEY_SEQ, dtype: int64\nNo.98029\nNo.98030\nNo.98031\nNo.98032\nNo.98033\nNo.98034\nNo.98035\nNo.98036\nNo.98037\nUNIT_CODE  SALE_ORDER_SUB_NO\n           ND2007150102         504\nName: KEY_SEQ, dtype: int64\nNo.98038\nNo.98039\nNo.98040\nUNIT_CODE  SALE_ORDER_SUB_NO\nLA02       ND2007150102         505\nName: KEY_SEQ, dtype: int64\nNo.98041\nNo.98042\nNo.98043\nUNIT_CODE  SALE_ORDER_SUB_NO\nLA02       ND2007150102         6026\nName: KEY_SEQ, dtype: int64\nNo.98044\nNo.98045\nNo.98046\nUNIT_CODE  SALE_ORDER_SUB_NO\nLA02       ND2007150102         505\nName: KEY_SEQ, dtype: int64\nNo.98047\nNo.98048\nNo.98049\nUNIT_CODE  SALE_ORDER_SUB_NO\nLA02       ND2007150102         6026\nName: KEY_SEQ, dtype: int64\nNo.98050\nNo.98051\nNo.98052\nUNIT_CODE  SALE_ORDER_SUB_NO\nLA03       ND2007150102         6027\nName: KEY_SEQ, dtype: int64\nNo.98053\nNo.98054\nNo.98055\nNo.98056\nUNIT_CODE  SALE_ORDER_SUB_NO\nLA03       ND2007150102         19503\nName: KEY_SEQ, dtype: int64\nNo.98057\nNo.98058\nUNIT_CODE  SALE_ORDER_SUB_NO\nLA03       ND2007150102         6027\nName: KEY_SEQ, dtype: int64\nNo.98059\nNo.98060\nNo.98061\nNo.98062\nUNIT_CODE  SALE_ORDER_SUB_NO\nLA03       ND2007150102         19503\nName: KEY_SEQ, dtype: int64\nNo.98063\nNo.98064\nUNIT_CODE  SALE_ORDER_SUB_NO\nLA03       ND2007150102         6028\nName: KEY_SEQ, dtype: int64\nNo.98065\nNo.98066\nNo.98067\nNo.98068\nNo.98069\nNo.98070\nNo.98071\nNo.98072\nNo.98073\nUNIT_CODE  SALE_ORDER_SUB_NO\n           MD2007160101         9790\nName: KEY_SEQ, dtype: int64\nNo.98074\nNo.98075\nNo.98076\nUNIT_CODE  SALE_ORDER_SUB_NO\nLF04       MD2007160101         8993\nName: KEY_SEQ, dtype: int64\nNo.98077\nNo.98078\nNo.98079\nNo.98080\nUNIT_CODE  SALE_ORDER_SUB_NO\nLF04       MD2007160101         19504\nName: KEY_SEQ, dtype: int64\nNo.98081\nNo.98082\nUNIT_CODE  SALE_ORDER_SUB_NO\nLF04       MD2007160101         8993\nName: KEY_SEQ, dtype: int64\nNo.98083\nNo.98084\nNo.98085\nNo.98086\nUNIT_CODE  SALE_ORDER_SUB_NO\nLF04       MD2007160101         19504\nName: KEY_SEQ, dtype: int64\nNo.98087\nNo.98088\nNo.98089\nNo.98090\nNo.98091\nUNIT_CODE  SALE_ORDER_SUB_NO\n           MD2007174403         10293\nName: KEY_SEQ, dtype: int64\nNo.98092\nNo.98093\nNo.98094\nUNIT_CODE  SALE_ORDER_SUB_NO\nLK01       MD2007174403         12137\nName: KEY_SEQ, dtype: int64\nNo.98095\nNo.98096\nNo.98097\nNo.98098\nUNIT_CODE  SALE_ORDER_SUB_NO\nLK01       MD2007174403         19505\nName: KEY_SEQ, dtype: int64\nNo.98099\nNo.98100\nUNIT_CODE  SALE_ORDER_SUB_NO\nLK01       MD2007174403         12137\nName: KEY_SEQ, dtype: int64\nNo.98101\nNo.98102\nNo.98103\nNo.98104\nUNIT_CODE  SALE_ORDER_SUB_NO\nLK01       MD2007174403         19505\nName: KEY_SEQ, dtype: int64\nNo.98105\nNo.98106\nUNIT_CODE  SALE_ORDER_SUB_NO\nLK01       MD2007174403         12136\nName: KEY_SEQ, dtype: int64\nNo.98107\nNo.98108\nNo.98109\nNo.98110\nNo.98111\nNo.98112\nNo.98113\nNo.98114\nNo.98115\nNo.98116\nNo.98117\nUNIT_CODE  SALE_ORDER_SUB_NO\nLK01       ME2006080105         19506\nName: KEY_SEQ, dtype: int64\nNo.98118\nNo.98119\nNo.98120\nNo.98121\nNo.98122\nNo.98123\nUNIT_CODE  SALE_ORDER_SUB_NO\nLC01       ME2006080103         19507\nName: KEY_SEQ, dtype: int64\nNo.98124\nNo.98125\nNo.98126\nNo.98127\nNo.98128\nNo.98129\nUNIT_CODE  SALE_ORDER_SUB_NO\nLC01       ME2006080106         19508\nName: KEY_SEQ, dtype: int64\nNo.98130\nNo.98131\nNo.98132\nNo.98133\nNo.98134\nNo.98135\nUNIT_CODE  SALE_ORDER_SUB_NO\nLC01       ME2006080104         19509\nName: KEY_SEQ, dtype: int64\nNo.98136\nNo.98137\nNo.98138\nNo.98139\nUNIT_CODE  SALE_ORDER_SUB_NO\n           LD2007090101         9610\nName: KEY_SEQ, dtype: int64\nNo.98140\nNo.98141\nNo.98142\nUNIT_CODE  SALE_ORDER_SUB_NO\nLG01       LD2007090101         9611\nName: KEY_SEQ, dtype: int64\nNo.98143\nNo.98144\nNo.98145\nNo.98146\nUNIT_CODE  SALE_ORDER_SUB_NO\nLG01       LD2007090101         19510\nName: KEY_SEQ, dtype: int64\nNo.98147\nNo.98148\nUNIT_CODE  SALE_ORDER_SUB_NO\nLG01       LD2007090101         9611\nName: KEY_SEQ, dtype: int64\nNo.98149\nNo.98150\nNo.98151\nNo.98152\nUNIT_CODE  SALE_ORDER_SUB_NO\nLG01       LD2007090101         19510\nName: KEY_SEQ, dtype: int64\nNo.98153\nNo.98154\nNo.98155\nNo.98156\nNo.98157\nUNIT_CODE  SALE_ORDER_SUB_NO\n           LD2007160101         7631\nName: KEY_SEQ, dtype: int64\nNo.98158\nNo.98159\nNo.98160\nUNIT_CODE  SALE_ORDER_SUB_NO\nLF04       LD2007160101         8995\nName: KEY_SEQ, dtype: int64\nNo.98161\nNo.98162\nNo.98163\nNo.98164\nUNIT_CODE  SALE_ORDER_SUB_NO\nLF04       LD2007160101         19511\nName: KEY_SEQ, dtype: int64\nNo.98165\nNo.98166\nUNIT_CODE  SALE_ORDER_SUB_NO\nLF04       LD2007160101         8995\nName: KEY_SEQ, dtype: int64\nNo.98167\nNo.98168\nNo.98169\nNo.98170\nUNIT_CODE  SALE_ORDER_SUB_NO\nLF04       LD2007160101         19511\nName: KEY_SEQ, dtype: int64\nNo.98171\n"
    },
    {
     "output_type": "error",
     "ename": "ValueError",
     "evalue": "Location based indexing can only have [integer, integer slice (START point is INCLUDED, END point is EXCLUDED), listlike of integers, boolean array] types",
     "traceback": [
      "\u001b[1;31m---------------------------------------------------------------------------\u001b[0m",
      "\u001b[1;31mValueError\u001b[0m                                Traceback (most recent call last)",
      "\u001b[1;32mI:\\Program Files\\Python\\Python37\\lib\\site-packages\\pandas\\core\\indexing.py\u001b[0m in \u001b[0;36m_has_valid_tuple\u001b[1;34m(self, key)\u001b[0m\n\u001b[0;32m    221\u001b[0m             \u001b[1;32mtry\u001b[0m\u001b[1;33m:\u001b[0m\u001b[1;33m\u001b[0m\u001b[1;33m\u001b[0m\u001b[0m\n\u001b[1;32m--> 222\u001b[1;33m                 \u001b[0mself\u001b[0m\u001b[1;33m.\u001b[0m\u001b[0m_validate_key\u001b[0m\u001b[1;33m(\u001b[0m\u001b[0mk\u001b[0m\u001b[1;33m,\u001b[0m \u001b[0mi\u001b[0m\u001b[1;33m)\u001b[0m\u001b[1;33m\u001b[0m\u001b[1;33m\u001b[0m\u001b[0m\n\u001b[0m\u001b[0;32m    223\u001b[0m             \u001b[1;32mexcept\u001b[0m \u001b[0mValueError\u001b[0m\u001b[1;33m:\u001b[0m\u001b[1;33m\u001b[0m\u001b[1;33m\u001b[0m\u001b[0m\n",
      "\u001b[1;32mI:\\Program Files\\Python\\Python37\\lib\\site-packages\\pandas\\core\\indexing.py\u001b[0m in \u001b[0;36m_validate_key\u001b[1;34m(self, key, axis)\u001b[0m\n\u001b[0;32m   1970\u001b[0m             raise ValueError(\"Can only index by location with \"\n\u001b[1;32m-> 1971\u001b[1;33m                              \"a [{types}]\".format(types=self._valid_types))\n\u001b[0m\u001b[0;32m   1972\u001b[0m \u001b[1;33m\u001b[0m\u001b[0m\n",
      "\u001b[1;31mValueError\u001b[0m: Can only index by location with a [integer, integer slice (START point is INCLUDED, END point is EXCLUDED), listlike of integers, boolean array]",
      "\nDuring handling of the above exception, another exception occurred:\n",
      "\u001b[1;31mValueError\u001b[0m                                Traceback (most recent call last)",
      "\u001b[1;32m<ipython-input-39-ee13504d134d>\u001b[0m in \u001b[0;36m<module>\u001b[1;34m\u001b[0m\n\u001b[0;32m     28\u001b[0m         \u001b[1;32mexcept\u001b[0m\u001b[1;33m:\u001b[0m\u001b[1;33m\u001b[0m\u001b[1;33m\u001b[0m\u001b[0m\n\u001b[0;32m     29\u001b[0m             \u001b[1;32mcontinue\u001b[0m\u001b[1;33m\u001b[0m\u001b[1;33m\u001b[0m\u001b[0m\n\u001b[1;32m---> 30\u001b[1;33m \u001b[0mtacacmm\u001b[0m\u001b[1;33m.\u001b[0m\u001b[0miloc\u001b[0m\u001b[1;33m[\u001b[0m\u001b[0mtacacmm\u001b[0m\u001b[1;33m[\u001b[0m\u001b[1;34m'CRRT_OTPT_ACT_AMT'\u001b[0m\u001b[1;33m]\u001b[0m\u001b[1;33m.\u001b[0m\u001b[0mrank\u001b[0m\u001b[1;33m(\u001b[0m\u001b[0mascending\u001b[0m\u001b[1;33m=\u001b[0m\u001b[1;32mFalse\u001b[0m\u001b[1;33m)\u001b[0m\u001b[1;33m[\u001b[0m\u001b[1;36m0\u001b[0m\u001b[1;33m]\u001b[0m\u001b[1;33m,\u001b[0m\u001b[0mtacacmm\u001b[0m\u001b[1;33m.\u001b[0m\u001b[0mcolumns\u001b[0m\u001b[1;33m.\u001b[0m\u001b[0mget_loc\u001b[0m\u001b[1;33m(\u001b[0m\u001b[1;34m'CRRT_OTPT_ACT_AMT'\u001b[0m\u001b[1;33m)\u001b[0m\u001b[1;33m]\u001b[0m\u001b[1;33m+=\u001b[0m\u001b[0mOTHER_LOST_VALUE\u001b[0m\u001b[1;33m\u001b[0m\u001b[1;33m\u001b[0m\u001b[0m\n\u001b[0m",
      "\u001b[1;32mI:\\Program Files\\Python\\Python37\\lib\\site-packages\\pandas\\core\\indexing.py\u001b[0m in \u001b[0;36m__getitem__\u001b[1;34m(self, key)\u001b[0m\n\u001b[0;32m   1470\u001b[0m             \u001b[1;32mexcept\u001b[0m \u001b[1;33m(\u001b[0m\u001b[0mKeyError\u001b[0m\u001b[1;33m,\u001b[0m \u001b[0mIndexError\u001b[0m\u001b[1;33m)\u001b[0m\u001b[1;33m:\u001b[0m\u001b[1;33m\u001b[0m\u001b[1;33m\u001b[0m\u001b[0m\n\u001b[0;32m   1471\u001b[0m                 \u001b[1;32mpass\u001b[0m\u001b[1;33m\u001b[0m\u001b[1;33m\u001b[0m\u001b[0m\n\u001b[1;32m-> 1472\u001b[1;33m             \u001b[1;32mreturn\u001b[0m \u001b[0mself\u001b[0m\u001b[1;33m.\u001b[0m\u001b[0m_getitem_tuple\u001b[0m\u001b[1;33m(\u001b[0m\u001b[0mkey\u001b[0m\u001b[1;33m)\u001b[0m\u001b[1;33m\u001b[0m\u001b[1;33m\u001b[0m\u001b[0m\n\u001b[0m\u001b[0;32m   1473\u001b[0m         \u001b[1;32melse\u001b[0m\u001b[1;33m:\u001b[0m\u001b[1;33m\u001b[0m\u001b[1;33m\u001b[0m\u001b[0m\n\u001b[0;32m   1474\u001b[0m             \u001b[1;31m# we by definition only have the 0th axis\u001b[0m\u001b[1;33m\u001b[0m\u001b[1;33m\u001b[0m\u001b[1;33m\u001b[0m\u001b[0m\n",
      "\u001b[1;32mI:\\Program Files\\Python\\Python37\\lib\\site-packages\\pandas\\core\\indexing.py\u001b[0m in \u001b[0;36m_getitem_tuple\u001b[1;34m(self, tup)\u001b[0m\n\u001b[0;32m   2011\u001b[0m     \u001b[1;32mdef\u001b[0m \u001b[0m_getitem_tuple\u001b[0m\u001b[1;33m(\u001b[0m\u001b[0mself\u001b[0m\u001b[1;33m,\u001b[0m \u001b[0mtup\u001b[0m\u001b[1;33m)\u001b[0m\u001b[1;33m:\u001b[0m\u001b[1;33m\u001b[0m\u001b[1;33m\u001b[0m\u001b[0m\n\u001b[0;32m   2012\u001b[0m \u001b[1;33m\u001b[0m\u001b[0m\n\u001b[1;32m-> 2013\u001b[1;33m         \u001b[0mself\u001b[0m\u001b[1;33m.\u001b[0m\u001b[0m_has_valid_tuple\u001b[0m\u001b[1;33m(\u001b[0m\u001b[0mtup\u001b[0m\u001b[1;33m)\u001b[0m\u001b[1;33m\u001b[0m\u001b[1;33m\u001b[0m\u001b[0m\n\u001b[0m\u001b[0;32m   2014\u001b[0m         \u001b[1;32mtry\u001b[0m\u001b[1;33m:\u001b[0m\u001b[1;33m\u001b[0m\u001b[1;33m\u001b[0m\u001b[0m\n\u001b[0;32m   2015\u001b[0m             \u001b[1;32mreturn\u001b[0m \u001b[0mself\u001b[0m\u001b[1;33m.\u001b[0m\u001b[0m_getitem_lowerdim\u001b[0m\u001b[1;33m(\u001b[0m\u001b[0mtup\u001b[0m\u001b[1;33m)\u001b[0m\u001b[1;33m\u001b[0m\u001b[1;33m\u001b[0m\u001b[0m\n",
      "\u001b[1;32mI:\\Program Files\\Python\\Python37\\lib\\site-packages\\pandas\\core\\indexing.py\u001b[0m in \u001b[0;36m_has_valid_tuple\u001b[1;34m(self, key)\u001b[0m\n\u001b[0;32m    224\u001b[0m                 raise ValueError(\"Location based indexing can only have \"\n\u001b[0;32m    225\u001b[0m                                  \u001b[1;34m\"[{types}] types\"\u001b[0m\u001b[1;33m\u001b[0m\u001b[1;33m\u001b[0m\u001b[0m\n\u001b[1;32m--> 226\u001b[1;33m                                  .format(types=self._valid_types))\n\u001b[0m\u001b[0;32m    227\u001b[0m \u001b[1;33m\u001b[0m\u001b[0m\n\u001b[0;32m    228\u001b[0m     \u001b[1;32mdef\u001b[0m \u001b[0m_is_nested_tuple_indexer\u001b[0m\u001b[1;33m(\u001b[0m\u001b[0mself\u001b[0m\u001b[1;33m,\u001b[0m \u001b[0mtup\u001b[0m\u001b[1;33m)\u001b[0m\u001b[1;33m:\u001b[0m\u001b[1;33m\u001b[0m\u001b[1;33m\u001b[0m\u001b[0m\n",
      "\u001b[1;31mValueError\u001b[0m: Location based indexing can only have [integer, integer slice (START point is INCLUDED, END point is EXCLUDED), listlike of integers, boolean array] types"
     ]
    }
   ],
   "source": [
    "#tacaia2.index.get_level_values('MAT_NO')[0]==' '  #因为排序后第一行[0]为空行，所以迭代时从第二行[1]开始（上面已删除空行，不用从第二行开始了）\n",
    "OTHER_LOST_VALUE=0.00\n",
    "n=0\n",
    "for mat in tacaia2.index.get_level_values('MAT_NO'):\n",
    "    for acc in ['01','33','03','31','50','51']:\n",
    "        print('No.' + str(n))\n",
    "        n=n+1\n",
    "        try:\n",
    "            print(tacaia2.loc[(acc,mat),'KEY_SEQ'])\n",
    "            if acc=='01':\n",
    "                tacaia2.loc[(acc,mat),['MAT_VALUE','MAT_PRICE','LOST_VALUE','LOST_PRICE']]=list(ProducePrices(tacaia2.loc[(acc,mat),'IN_MAT_NO'][0],acc,tacaia2.loc[(acc,mat),'MAT_TYPE'][0],tacaia2.loc[(acc,mat),'MAT_WT'][0],tacaia2.loc[(acc,mat),'MTRL_NO'][0]).values())\n",
    "            if acc=='33':\n",
    "                if tacaia2.loc[(acc,mat),'DIVVY_FLAG'][0]=='0':\n",
    "                    INPUT_VALUE=list(InputPrices(mat,tacaia2.loc[(acc,mat),'PRODUCT_CODE'][0],tacaia2.loc[(acc,mat),'MTRL_NO'][0],tacaia2.loc[(acc,mat),'MAT_WT'][0],acc).values())\n",
    "                    tacaia2.loc[(acc,mat),['MAT_VALUE','MAT_PRICE','LOST_VALUE','LOST_PRICE']]=INPUT_VALUE[:4]\n",
    "                    OTHER_LOST_VALUE=OTHER_LOST_VALUE+INPUT_VALUE[4]\n",
    "            if acc=='03':\n",
    "                if tacaia2.loc[(acc,mat),'DIVVY_FLAG'][0]=='0':\n",
    "                    tacaia2.loc[(acc,mat),['MAT_VALUE','MAT_PRICE','LOST_VALUE','LOST_PRICE']]=list(ProducePrices(tacaia2.loc[(acc,mat),'IN_MAT_NO'][0],acc,tacaia2.loc[(acc,mat),'MAT_TYPE'][0],tacaia2.loc[(acc,mat),'MAT_WT'][0],tacaia2.loc[(acc,mat),'MTRL_NO'][0]).values())\n",
    "            if acc=='31':\n",
    "                INPUT_VALUE=list(InputPrices(mat,tacaia2.loc[(acc,mat),'PRODUCT_CODE'][0],tacaia2.loc[(acc,mat),'MTRL_NO'][0],tacaia2.loc[(acc,mat),'MAT_WT'][0],acc).values())\n",
    "                tacaia2.loc[(acc,mat),['MAT_VALUE','MAT_PRICE','LOST_VALUE','LOST_PRICE']]=INPUT_VALUE[:4]\n",
    "                OTHER_LOST_VALUE=OTHER_LOST_VALUE+INPUT_VALUE[4]\n",
    "            if acc in ['50','51']:\n",
    "                tacaia2.loc[(acc,mat),['SALE_VALUE','SALE_PRICE']]=list(SalePrices(tacaia2.loc[(acc,mat),'PRODUCT_CODE'][0],tacaia2.loc[(acc,mat),'MAT_WT'][0]).values())\n",
    "            \n",
    "            WriteSFC(tacaia2.loc[(acc,mat),'PRODUCT_CODE'][0],acc,tacaia2.loc[(acc,mat),'MAT_VALUE'][0],tacaia2.loc[(acc,mat),'LOST_VALUE'][0],tacaia2.loc[(acc,mat),'SALE_VALUE'][0],tacaia2.loc[(acc,mat),'MAT_WT'][0])\n",
    "        except:\n",
    "            continue\n",
    "tacacmm.iloc[tacacmm['CRRT_OTPT_ACT_AMT'].rank(ascending=False)[0],tacacmm.columns.get_loc('CRRT_OTPT_ACT_AMT')]+=OTHER_LOST_VALUE"
   ]
  },
  {
   "cell_type": "code",
   "execution_count": 47,
   "metadata": {},
   "outputs": [],
   "source": [
    "tacaia2.to_excel('tacaia2-202007-r4.xlsx',merge_cells=False)"
   ]
  },
  {
   "cell_type": "code",
   "execution_count": 41,
   "metadata": {
    "tags": []
   },
   "outputs": [
    {
     "output_type": "stream",
     "name": "stdout",
     "text": "UNIT_CODE  SALE_ORDER_SUB_NO\nLA03       MD2007173301         4497\nName: KEY_SEQ, dtype: int64\n"
    }
   ],
   "source": [
    "print(tacaia2.loc[('01','B1804068AJAAA'),'KEY_SEQ'])"
   ]
  },
  {
   "cell_type": "code",
   "execution_count": 42,
   "metadata": {},
   "outputs": [
    {
     "output_type": "execute_result",
     "data": {
      "text/plain": "[733.8710846369604,\n 6.867593904519562,\n -17.661798137235056,\n -0.1652797879209719]"
     },
     "metadata": {},
     "execution_count": 42
    }
   ],
   "source": [
    "list(ProducePrices(tacaia2.loc[('01','B1804068AJAAA'),'IN_MAT_NO'][0],'01',tacaia2.loc[('01','B1804068AJAAA'),'MAT_TYPE'][0],tacaia2.loc[('01','B1804068AJAAA'),'MAT_WT'][0],tacaia2.loc[('01','B1804068AJAAA'),'MTRL_NO'][0]).values())"
   ]
  },
  {
   "cell_type": "code",
   "execution_count": 43,
   "metadata": {},
   "outputs": [
    {
     "output_type": "execute_result",
     "data": {
      "text/plain": "[180.52064322369077, 0.6344743540829846, 0.0, 0.0, 0.0]"
     },
     "metadata": {},
     "execution_count": 43
    }
   ],
   "source": [
    "list(InputPrices('B2007077AC','10068Z10993','6',284.52,'31').values())[:5]"
   ]
  },
  {
   "cell_type": "code",
   "execution_count": 44,
   "metadata": {},
   "outputs": [
    {
     "output_type": "execute_result",
     "data": {
      "text/plain": "'10033Z3124'"
     },
     "metadata": {},
     "execution_count": 44
    }
   ],
   "source": [
    "tacaia2.loc[('31','B1804068AJAA'),'PRODUCT_CODE'][0]"
   ]
  },
  {
   "cell_type": "code",
   "execution_count": 79,
   "metadata": {},
   "outputs": [
    {
     "output_type": "execute_result",
     "data": {
      "text/plain": "                                                             REC_CREATOR  \\\nACCOUNT_TITLE_ITEM MAT_NO        UNIT_CODE SALE_ORDER_SUB_NO               \n33                 B1804068AJAA  LA01      MD2007173301           001161   \n03                 B1804068AJAA  LA01      MD2007173301           001161   \n31                 B1804068AJAA  LA01      MD2007173301           001161   \n01                 B1804068AJAAA LA03      MD2007173301           001161   \n50                 B1804068AJAAA LA03      MD2007173301           001161   \n\n                                                             REC_CREATE_TIME  \\\nACCOUNT_TITLE_ITEM MAT_NO        UNIT_CODE SALE_ORDER_SUB_NO                   \n33                 B1804068AJAA  LA01      MD2007173301       20200803132002   \n03                 B1804068AJAA  LA01      MD2007173301       20200803132002   \n31                 B1804068AJAA  LA01      MD2007173301       20200803132002   \n01                 B1804068AJAAA LA03      MD2007173301       20200803132002   \n50                 B1804068AJAAA LA03      MD2007173301       20200803132002   \n\n                                                             REC_REVISOR  \\\nACCOUNT_TITLE_ITEM MAT_NO        UNIT_CODE SALE_ORDER_SUB_NO               \n33                 B1804068AJAA  LA01      MD2007173301                    \n03                 B1804068AJAA  LA01      MD2007173301                    \n31                 B1804068AJAA  LA01      MD2007173301                    \n01                 B1804068AJAAA LA03      MD2007173301                    \n50                 B1804068AJAAA LA03      MD2007173301                    \n\n                                                             REC_REVISE_TIME  \\\nACCOUNT_TITLE_ITEM MAT_NO        UNIT_CODE SALE_ORDER_SUB_NO                   \n33                 B1804068AJAA  LA01      MD2007173301                        \n03                 B1804068AJAA  LA01      MD2007173301                        \n31                 B1804068AJAA  LA01      MD2007173301                        \n01                 B1804068AJAAA LA03      MD2007173301                        \n50                 B1804068AJAAA LA03      MD2007173301                        \n\n                                                             ARCHIVE_FLAG  \\\nACCOUNT_TITLE_ITEM MAT_NO        UNIT_CODE SALE_ORDER_SUB_NO                \n33                 B1804068AJAA  LA01      MD2007173301                     \n03                 B1804068AJAA  LA01      MD2007173301                     \n31                 B1804068AJAA  LA01      MD2007173301                     \n01                 B1804068AJAAA LA03      MD2007173301                     \n50                 B1804068AJAAA LA03      MD2007173301                     \n\n                                                             COMPANY_CODE  \\\nACCOUNT_TITLE_ITEM MAT_NO        UNIT_CODE SALE_ORDER_SUB_NO                \n33                 B1804068AJAA  LA01      MD2007173301                BH   \n03                 B1804068AJAA  LA01      MD2007173301                BH   \n31                 B1804068AJAA  LA01      MD2007173301                BH   \n01                 B1804068AJAAA LA03      MD2007173301                BH   \n50                 B1804068AJAAA LA03      MD2007173301                BH   \n\n                                                             COMPANY_CNAME  \\\nACCOUNT_TITLE_ITEM MAT_NO        UNIT_CODE SALE_ORDER_SUB_NO                 \n33                 B1804068AJAA  LA01      MD2007173301                      \n03                 B1804068AJAA  LA01      MD2007173301                      \n31                 B1804068AJAA  LA01      MD2007173301                      \n01                 B1804068AJAAA LA03      MD2007173301                      \n50                 B1804068AJAAA LA03      MD2007173301                      \n\n                                                               WHOLE_BACKLOG  \\\nACCOUNT_TITLE_ITEM MAT_NO        UNIT_CODE SALE_ORDER_SUB_NO                   \n33                 B1804068AJAA  LA01      MD2007173301       L0L4L1L2L3LK9A   \n03                 B1804068AJAA  LA01      MD2007173301       L0L4L1L2L3LK9A   \n31                 B1804068AJAA  LA01      MD2007173301       L0L4L1L2L3LK9A   \n01                 B1804068AJAAA LA03      MD2007173301       L0L4L1L2L3LK9A   \n50                 B1804068AJAAA LA03      MD2007173301       L0L4L1L2L3LK9A   \n\n                                                             WHOLE_BACKLOG_ACT  \\\nACCOUNT_TITLE_ITEM MAT_NO        UNIT_CODE SALE_ORDER_SUB_NO                     \n33                 B1804068AJAA  LA01      MD2007173301                   LWL1   \n03                 B1804068AJAA  LA01      MD2007173301                   LWL1   \n31                 B1804068AJAA  LA01      MD2007173301                   LWL1   \n01                 B1804068AJAAA LA03      MD2007173301                 LWL1L3   \n50                 B1804068AJAAA LA03      MD2007173301                 LWL1L3   \n\n                                                             JOB_CODE  \\\nACCOUNT_TITLE_ITEM MAT_NO        UNIT_CODE SALE_ORDER_SUB_NO            \n33                 B1804068AJAA  LA01      MD2007173301          LA10   \n03                 B1804068AJAA  LA01      MD2007173301          LA10   \n31                 B1804068AJAA  LA01      MD2007173301          LA18   \n01                 B1804068AJAAA LA03      MD2007173301          LA18   \n50                 B1804068AJAAA LA03      MD2007173301          LA18   \n\n                                                                ...      \\\nACCOUNT_TITLE_ITEM MAT_NO        UNIT_CODE SALE_ORDER_SUB_NO    ...       \n33                 B1804068AJAA  LA01      MD2007173301         ...       \n03                 B1804068AJAA  LA01      MD2007173301         ...       \n31                 B1804068AJAA  LA01      MD2007173301         ...       \n01                 B1804068AJAAA LA03      MD2007173301         ...       \n50                 B1804068AJAAA LA03      MD2007173301         ...       \n\n                                                             SURFACE_PLATE_CODE  \\\nACCOUNT_TITLE_ITEM MAT_NO        UNIT_CODE SALE_ORDER_SUB_NO                      \n33                 B1804068AJAA  LA01      MD2007173301                       1   \n03                 B1804068AJAA  LA01      MD2007173301                       1   \n31                 B1804068AJAA  LA01      MD2007173301                       1   \n01                 B1804068AJAAA LA03      MD2007173301                       1   \n50                 B1804068AJAAA LA03      MD2007173301                       1   \n\n                                                             STD_CODE  \\\nACCOUNT_TITLE_ITEM MAT_NO        UNIT_CODE SALE_ORDER_SUB_NO            \n33                 B1804068AJAA  LA01      MD2007173301                 \n03                 B1804068AJAA  LA01      MD2007173301                 \n31                 B1804068AJAA  LA01      MD2007173301            F1   \n01                 B1804068AJAAA LA03      MD2007173301            F1   \n50                 B1804068AJAAA LA03      MD2007173301                 \n\n                                                             UNDERLAY_CODE  \\\nACCOUNT_TITLE_ITEM MAT_NO        UNIT_CODE SALE_ORDER_SUB_NO                 \n33                 B1804068AJAA  LA01      MD2007173301                      \n03                 B1804068AJAA  LA01      MD2007173301                      \n31                 B1804068AJAA  LA01      MD2007173301              AM001   \n01                 B1804068AJAAA LA03      MD2007173301              AM001   \n50                 B1804068AJAAA LA03      MD2007173301                      \n\n                                                              SLEEVE_STYLE  \\\nACCOUNT_TITLE_ITEM MAT_NO        UNIT_CODE SALE_ORDER_SUB_NO                 \n33                 B1804068AJAA  LA01      MD2007173301                      \n03                 B1804068AJAA  LA01      MD2007173301                      \n31                 B1804068AJAA  LA01      MD2007173301                      \n01                 B1804068AJAAA LA03      MD2007173301                      \n50                 B1804068AJAAA LA03      MD2007173301                      \n\n                                                               MAT_VALUE  \\\nACCOUNT_TITLE_ITEM MAT_NO        UNIT_CODE SALE_ORDER_SUB_NO               \n33                 B1804068AJAA  LA01      MD2007173301         0.000000   \n03                 B1804068AJAA  LA01      MD2007173301         1.000000   \n31                 B1804068AJAA  LA01      MD2007173301       844.439346   \n01                 B1804068AJAAA LA03      MD2007173301       733.871085   \n50                 B1804068AJAAA LA03      MD2007173301         0.000000   \n\n                                                             MAT_PRICE  \\\nACCOUNT_TITLE_ITEM MAT_NO        UNIT_CODE SALE_ORDER_SUB_NO             \n33                 B1804068AJAA  LA01      MD2007173301       0.000000   \n03                 B1804068AJAA  LA01      MD2007173301       2.000000   \n31                 B1804068AJAA  LA01      MD2007173301       6.867594   \n01                 B1804068AJAAA LA03      MD2007173301       6.867594   \n50                 B1804068AJAAA LA03      MD2007173301       0.000000   \n\n                                                             LOST_VALUE  \\\nACCOUNT_TITLE_ITEM MAT_NO        UNIT_CODE SALE_ORDER_SUB_NO              \n33                 B1804068AJAA  LA01      MD2007173301        0.000000   \n03                 B1804068AJAA  LA01      MD2007173301        0.000000   \n31                 B1804068AJAA  LA01      MD2007173301      -17.661798   \n01                 B1804068AJAAA LA03      MD2007173301      -17.661798   \n50                 B1804068AJAAA LA03      MD2007173301        0.000000   \n\n                                                             LOST_PRICE  \\\nACCOUNT_TITLE_ITEM MAT_NO        UNIT_CODE SALE_ORDER_SUB_NO              \n33                 B1804068AJAA  LA01      MD2007173301         0.00000   \n03                 B1804068AJAA  LA01      MD2007173301         0.00000   \n31                 B1804068AJAA  LA01      MD2007173301        -0.16528   \n01                 B1804068AJAAA LA03      MD2007173301        -0.16528   \n50                 B1804068AJAAA LA03      MD2007173301         0.00000   \n\n                                                              SALE_VALUE  \\\nACCOUNT_TITLE_ITEM MAT_NO        UNIT_CODE SALE_ORDER_SUB_NO               \n33                 B1804068AJAA  LA01      MD2007173301         0.000000   \n03                 B1804068AJAA  LA01      MD2007173301         0.000000   \n31                 B1804068AJAA  LA01      MD2007173301         0.000000   \n01                 B1804068AJAAA LA03      MD2007173301         0.000000   \n50                 B1804068AJAAA LA03      MD2007173301       716.209286   \n\n                                                             SALE_PRICE  \nACCOUNT_TITLE_ITEM MAT_NO        UNIT_CODE SALE_ORDER_SUB_NO             \n33                 B1804068AJAA  LA01      MD2007173301        0.000000  \n03                 B1804068AJAA  LA01      MD2007173301        0.000000  \n31                 B1804068AJAA  LA01      MD2007173301        0.000000  \n01                 B1804068AJAAA LA03      MD2007173301        0.000000  \n50                 B1804068AJAAA LA03      MD2007173301        6.702314  \n\n[5 rows x 78 columns]",
      "text/html": "<div>\n<style scoped>\n    .dataframe tbody tr th:only-of-type {\n        vertical-align: middle;\n    }\n\n    .dataframe tbody tr th {\n        vertical-align: top;\n    }\n\n    .dataframe thead th {\n        text-align: right;\n    }\n</style>\n<table border=\"1\" class=\"dataframe\">\n  <thead>\n    <tr style=\"text-align: right;\">\n      <th></th>\n      <th></th>\n      <th></th>\n      <th></th>\n      <th>REC_CREATOR</th>\n      <th>REC_CREATE_TIME</th>\n      <th>REC_REVISOR</th>\n      <th>REC_REVISE_TIME</th>\n      <th>ARCHIVE_FLAG</th>\n      <th>COMPANY_CODE</th>\n      <th>COMPANY_CNAME</th>\n      <th>WHOLE_BACKLOG</th>\n      <th>WHOLE_BACKLOG_ACT</th>\n      <th>JOB_CODE</th>\n      <th>...</th>\n      <th>SURFACE_PLATE_CODE</th>\n      <th>STD_CODE</th>\n      <th>UNDERLAY_CODE</th>\n      <th>SLEEVE_STYLE</th>\n      <th>MAT_VALUE</th>\n      <th>MAT_PRICE</th>\n      <th>LOST_VALUE</th>\n      <th>LOST_PRICE</th>\n      <th>SALE_VALUE</th>\n      <th>SALE_PRICE</th>\n    </tr>\n    <tr>\n      <th>ACCOUNT_TITLE_ITEM</th>\n      <th>MAT_NO</th>\n      <th>UNIT_CODE</th>\n      <th>SALE_ORDER_SUB_NO</th>\n      <th></th>\n      <th></th>\n      <th></th>\n      <th></th>\n      <th></th>\n      <th></th>\n      <th></th>\n      <th></th>\n      <th></th>\n      <th></th>\n      <th></th>\n      <th></th>\n      <th></th>\n      <th></th>\n      <th></th>\n      <th></th>\n      <th></th>\n      <th></th>\n      <th></th>\n      <th></th>\n      <th></th>\n    </tr>\n  </thead>\n  <tbody>\n    <tr>\n      <th>33</th>\n      <th>B1804068AJAA</th>\n      <th>LA01</th>\n      <th>MD2007173301</th>\n      <td>001161</td>\n      <td>20200803132002</td>\n      <td></td>\n      <td></td>\n      <td></td>\n      <td>BH</td>\n      <td></td>\n      <td>L0L4L1L2L3LK9A</td>\n      <td>LWL1</td>\n      <td>LA10</td>\n      <td>...</td>\n      <td>1</td>\n      <td></td>\n      <td></td>\n      <td></td>\n      <td>0.000000</td>\n      <td>0.000000</td>\n      <td>0.000000</td>\n      <td>0.00000</td>\n      <td>0.000000</td>\n      <td>0.000000</td>\n    </tr>\n    <tr>\n      <th>03</th>\n      <th>B1804068AJAA</th>\n      <th>LA01</th>\n      <th>MD2007173301</th>\n      <td>001161</td>\n      <td>20200803132002</td>\n      <td></td>\n      <td></td>\n      <td></td>\n      <td>BH</td>\n      <td></td>\n      <td>L0L4L1L2L3LK9A</td>\n      <td>LWL1</td>\n      <td>LA10</td>\n      <td>...</td>\n      <td>1</td>\n      <td></td>\n      <td></td>\n      <td></td>\n      <td>1.000000</td>\n      <td>2.000000</td>\n      <td>0.000000</td>\n      <td>0.00000</td>\n      <td>0.000000</td>\n      <td>0.000000</td>\n    </tr>\n    <tr>\n      <th>31</th>\n      <th>B1804068AJAA</th>\n      <th>LA01</th>\n      <th>MD2007173301</th>\n      <td>001161</td>\n      <td>20200803132002</td>\n      <td></td>\n      <td></td>\n      <td></td>\n      <td>BH</td>\n      <td></td>\n      <td>L0L4L1L2L3LK9A</td>\n      <td>LWL1</td>\n      <td>LA18</td>\n      <td>...</td>\n      <td>1</td>\n      <td>F1</td>\n      <td>AM001</td>\n      <td></td>\n      <td>844.439346</td>\n      <td>6.867594</td>\n      <td>-17.661798</td>\n      <td>-0.16528</td>\n      <td>0.000000</td>\n      <td>0.000000</td>\n    </tr>\n    <tr>\n      <th>01</th>\n      <th>B1804068AJAAA</th>\n      <th>LA03</th>\n      <th>MD2007173301</th>\n      <td>001161</td>\n      <td>20200803132002</td>\n      <td></td>\n      <td></td>\n      <td></td>\n      <td>BH</td>\n      <td></td>\n      <td>L0L4L1L2L3LK9A</td>\n      <td>LWL1L3</td>\n      <td>LA18</td>\n      <td>...</td>\n      <td>1</td>\n      <td>F1</td>\n      <td>AM001</td>\n      <td></td>\n      <td>733.871085</td>\n      <td>6.867594</td>\n      <td>-17.661798</td>\n      <td>-0.16528</td>\n      <td>0.000000</td>\n      <td>0.000000</td>\n    </tr>\n    <tr>\n      <th>50</th>\n      <th>B1804068AJAAA</th>\n      <th>LA03</th>\n      <th>MD2007173301</th>\n      <td>001161</td>\n      <td>20200803132002</td>\n      <td></td>\n      <td></td>\n      <td></td>\n      <td>BH</td>\n      <td></td>\n      <td>L0L4L1L2L3LK9A</td>\n      <td>LWL1L3</td>\n      <td>LA18</td>\n      <td>...</td>\n      <td>1</td>\n      <td></td>\n      <td></td>\n      <td></td>\n      <td>0.000000</td>\n      <td>0.000000</td>\n      <td>0.000000</td>\n      <td>0.00000</td>\n      <td>716.209286</td>\n      <td>6.702314</td>\n    </tr>\n  </tbody>\n</table>\n<p>5 rows × 78 columns</p>\n</div>"
     },
     "metadata": {},
     "execution_count": 79
    }
   ],
   "source": [
    "tacaia2.head()"
   ]
  },
  {
   "cell_type": "code",
   "execution_count": 46,
   "metadata": {},
   "outputs": [],
   "source": [
    "tacaia2.loc[('31','B1804068AJAA'),['MAT_VALUE','MAT_PRICE','LOST_VALUE','LOST_PRICE']]=list(InputPrices('B1804068AJAA','10033Z3124','3',122.96,'31').values())[:4]"
   ]
  },
  {
   "cell_type": "code",
   "execution_count": 80,
   "metadata": {},
   "outputs": [
    {
     "output_type": "execute_result",
     "data": {
      "text/plain": "'B1804068A'"
     },
     "metadata": {},
     "execution_count": 80
    }
   ],
   "source": [
    "tacaia2.ix[1,'IN_MAT_NO']"
   ]
  }
 ],
 "metadata": {
  "language_info": {
   "codemirror_mode": {
    "name": "ipython",
    "version": 3
   },
   "file_extension": ".py",
   "mimetype": "text/x-python",
   "name": "python",
   "nbconvert_exporter": "python",
   "pygments_lexer": "ipython3",
   "version": "3.7.1-final"
  },
  "orig_nbformat": 2,
  "kernelspec": {
   "name": "python_defaultSpec_1597625217819",
   "display_name": "Python 3.7.1 64-bit"
  }
 },
 "nbformat": 4,
 "nbformat_minor": 2
}