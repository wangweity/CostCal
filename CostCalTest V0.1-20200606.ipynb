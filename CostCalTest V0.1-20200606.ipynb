{
 "cells": [
  {
   "cell_type": "code",
   "execution_count": 1,
   "metadata": {},
   "outputs": [],
   "source": [
    "import xlwings as xw"
   ]
  },
  {
   "cell_type": "code",
   "execution_count": 2,
   "metadata": {},
   "outputs": [
    {
     "output_type": "stream",
     "name": "stdout",
     "text": "13314\n55\n['主键序号', '会计期', '系统标识', '系交易时间', '当前工序代码', '机组代码', '原销售合同号', '销售合同号', '投入材料号', '材料号', '成本中心', '帐务代码(科目)', '产副品代码', '材料重量', '数量', '面积', '后全程工序代码', '牌号（钢级）', '品名代码', '计划子项号', '材料标识号', '成品标记', '质量等级代码（业务）', '物料形态', '审核标记', '产出实绩类型', '检核状态', '实际全程工序途径码', '作业代码路径', '作业代码中文名称', '错误信息1', '全程工序途径码', '作业代码', '入口材料标识号', '颜色代码', '生成时间', '表面精度代码', '批次号', '订单重量', '包装箱类型', '包装箱个数', '保护膜1类型', '保护膜1数量', '保护膜2类型', '保护膜2数量', '材料规格厚MM', '材料规格宽MM', '长度(MM)', '成本类别码', '分摊标志', '材料件数(根数)', '订单加工方式', '资源性质', '牌号代码', '合同结案标志']\n年\n年月\n"
    }
   ],
   "source": [
    "app=xw.App(visible=True,add_book=False)\n",
    "app.display_alerts=False\n",
    "app.screen_updating=True\n",
    "#后期可以加入address和filename的input输入来替换下行的打开文件名\n",
    "wb=app.books.open(r'ACAI25-3-202005(1).xls')\n",
    "acaiSh=wb.sheets('Sheet')\n",
    "rng=acaiSh.range('A1').expand()\n",
    "nrows=rng.rows.count\n",
    "ncolumns=rng.columns.count\n",
    "print(nrows)\n",
    "print(ncolumns)\n",
    "title=acaiSh.range('A1:BC1').value\n",
    "print(title)\n",
    "#print(acaiSh.range('A1:BC1').value)\n",
    "sfcSh=wb.sheets('收发存')\n",
    "print(sfcSh.range('A1').value)\n",
    "fgSh=wb.sheets('废钢单价')\n",
    "print(fgSh.range('A1').value)"
   ]
  },
  {
   "cell_type": "code",
   "execution_count": 3,
   "metadata": {},
   "outputs": [
    {
     "output_type": "stream",
     "name": "stdout",
     "text": "11.0\n12.0\n"
    },
    {
     "output_type": "execute_result",
     "data": {
      "text/plain": "True"
     },
     "metadata": {},
     "execution_count": 3
    }
   ],
   "source": [
    "#降ACAI25表按1、材料号升序；2、账务代码：按31 01 33 03 50 51 的顺序排列；3、销售合同号按升序排列\n",
    "CustomListNum=app.api.customlistcount\n",
    "print(CustomListNum)\n",
    "app.api.addcustomlist(['33  转用充当投入','03  转用充当产出','31  下工序投入','01  产出','50  国内销售','51  国外销售'])\n",
    "print(app.api.customlistcount)\n",
    "acaiSh.range('A2:BC' + str(nrows)).api.Sort(Key1=acaiSh.cells(2,title.index('销售合同号')+1).api,Order1=1,Header=1)"
   ]
  },
  {
   "cell_type": "code",
   "execution_count": 4,
   "metadata": {},
   "outputs": [
    {
     "output_type": "execute_result",
     "data": {
      "text/plain": "True"
     },
     "metadata": {},
     "execution_count": 4
    }
   ],
   "source": [
    "acaiSh.range('A2:BC' + str(nrows)).api.Sort(Key1=acaiSh.cells(2,title.index('帐务代码(科目)')+1).api,OrderCustom=app.api.getcustomlistnum(['33  转用充当投入', '03  转用充当产出', '31  下工序投入', '01  产出', '50  国内销售', '51  国外销售'])+1,Header=1)"
   ]
  },
  {
   "cell_type": "code",
   "execution_count": 8,
   "metadata": {},
   "outputs": [
    {
     "output_type": "execute_result",
     "data": {
      "text/plain": "True"
     },
     "metadata": {},
     "execution_count": 8
    }
   ],
   "source": [
    "acaiSh.range('A2:BC' + str(nrows)).api.Sort(Key1=acaiSh.cells(2,title.index('材料号')+1).api,Order1=1,Header=1)\n",
    "#app.api.DeleteCustomList(ListNum=CustomListNum+1)"
   ]
  },
  {
   "cell_type": "code",
   "execution_count": 6,
   "metadata": {
    "tags": [
     "outputPrepend"
    ]
   },
   "outputs": [],
   "source": [
    "sfcQltColNum={'33  转用充当投入':'R', '03  转用充当产出':'N', '31  下工序投入':'P', '01  产出':'L', '50  国内销售':'T', '51  国外销售':'V'}\n",
    "sfcValColNum={'33  转用充当投入':'S', '03  转用充当产出':'O', '31  下工序投入':'Q', '01  产出':'M', '50  国内销售':'U', '51  国外销售':'W'}\n",
    "ProdCodeNum=sfcSh.range('C2:C' + str(sfcSh.range('C2').end('down').row)).value"
   ]
  },
  {
   "cell_type": "code",
   "execution_count": 7,
   "metadata": {},
   "outputs": [
    {
     "output_type": "error",
     "ename": "SyntaxError",
     "evalue": "invalid syntax (<ipython-input-7-f9d3cae9c21e>, line 6)",
     "traceback": [
      "\u001b[1;36m  File \u001b[1;32m\"<ipython-input-7-f9d3cae9c21e>\"\u001b[1;36m, line \u001b[1;32m6\u001b[0m\n\u001b[1;33m    if acaiSh.cells(i,title.index('帐务代码(科目)')+1)='33  转用充当投入':\u001b[0m\n\u001b[1;37m                                                ^\u001b[0m\n\u001b[1;31mSyntaxError\u001b[0m\u001b[1;31m:\u001b[0m invalid syntax\n"
     ]
    }
   ],
   "source": [
    "'''遍历各材料号，在ACAI25表上计算材料成本的直接材料成本和副产出扣减成本，分两列列示；在收发存工作表上在账务代码列示各项目的数量金额和单价\n",
    "'如果账务代码为转用投入，判断下一个材料号是否与本材料号相同（是否需计算成本，小部分分摊标志失效的原因），如果相同，不分摊，只在收发存上相应账务代码下的对应产副品加上数量；如果不相同，需分摊，同投入相同处理\n",
    "'如果账务代码为需分摊投入或销售则投入、销售单价取期初+其他收入-其他支出（包括带金额的转用充当）+产出的加权平均单价；再do while 下面材料号为其子材料，看是否有二级品、次板、废品产出，有则计算材料损失和正品材料重量，由此计算材料损失单价，计入数组（分别设材料号、材料成本单价、材料损失单价数组，同时新加元素，使对应的材料号与单价的数组编号相同，可按字典方式使用）\n",
    "'产出材料，判断物料形态，若为正品，则成本为材料重量*（材料成本单价+材料损失单价）；若不为正品，则计算相应材料价值'''\n",
    "for i in range(2,nrows):\n",
    "    if acaiSh.cells(i,title.index('帐务代码(科目)')+1)=='33  转用充当投入':\n",
    "        if acaiSh.cells(i+1,title.index('材料号')+1)==acaiSh.cells(i+1,title.index('材料号')+1):\n",
    "            "
   ]
  },
  {
   "cell_type": "code",
   "execution_count": 2,
   "metadata": {},
   "outputs": [],
   "source": [
    "import pandas as pd\n",
    "df=pd.read_excel('ACAI25-3-202005(1).xls',index_col=None)"
   ]
  },
  {
   "cell_type": "code",
   "execution_count": 3,
   "metadata": {},
   "outputs": [
    {
     "output_type": "execute_result",
     "data": {
      "text/plain": "        主键序号       会计期      系统标识         系交易时间  当前工序代码        机组代码  \\\n174  11597.0  202005.0  PM  生产系统  2.019113e+13     NaN  LH01  喷砂机组   \n175  11598.0  202005.0  PM  生产系统  2.019113e+13     NaN  LH01  喷砂机组   \n176   3844.0  202005.0  PM  生产系统  2.019113e+13     NaN  LH01  喷砂机组   \n180  11587.0  202005.0  PM  生产系统  2.019113e+13     NaN  LH01  喷砂机组   \n181  11588.0  202005.0  PM  生产系统  2.019113e+13     NaN  LH01  喷砂机组   \n\n           原销售合同号         销售合同号          投入材料号             材料号  ...   材料规格厚MM  \\\n174  MD1911113404  MD2005133111     B1904161BG     B1904161BGA  ...      0.95   \n175  MD1911113404  MD2005133111     B1904161BG     B1904161BGA  ...      0.95   \n176  MD1911113404  MD2005133111     B1904161BG     B1904161BGA  ...      0.95   \n180  MD1911113404  MD2005133111  B1904161BHEBB  B1904161BHEBBA  ...      0.95   \n181  MD1911113404  MD2005133111  B1904161BHEBB  B1904161BHEBBA  ...      0.95   \n\n    材料规格宽MM  长度(MM)  成本类别码        分摊标志  材料件数(根数)   订单加工方式     资源性质 牌号代码 合同结案标志  \n174  1219.0  2600.0    NaN      1  不分摊       3.0  0  开平订单  M  产品销售  NaN    1.0  \n175  1219.0  2600.0    NaN      1  不分摊       3.0  0  开平订单  M  产品销售  NaN    1.0  \n176  1219.0  2600.0    NaN  0  经过工序-分摊       3.0  0  开平订单  M  产品销售  NaN    1.0  \n180  1219.0  3048.0    NaN      1  不分摊       2.0  0  开平订单  M  产品销售  NaN    1.0  \n181  1219.0  3048.0    NaN      1  不分摊       2.0  0  开平订单  M  产品销售  NaN    1.0  \n\n[5 rows x 55 columns]",
      "text/html": "<div>\n<style scoped>\n    .dataframe tbody tr th:only-of-type {\n        vertical-align: middle;\n    }\n\n    .dataframe tbody tr th {\n        vertical-align: top;\n    }\n\n    .dataframe thead th {\n        text-align: right;\n    }\n</style>\n<table border=\"1\" class=\"dataframe\">\n  <thead>\n    <tr style=\"text-align: right;\">\n      <th></th>\n      <th>主键序号</th>\n      <th>会计期</th>\n      <th>系统标识</th>\n      <th>系交易时间</th>\n      <th>当前工序代码</th>\n      <th>机组代码</th>\n      <th>原销售合同号</th>\n      <th>销售合同号</th>\n      <th>投入材料号</th>\n      <th>材料号</th>\n      <th>...</th>\n      <th>材料规格厚MM</th>\n      <th>材料规格宽MM</th>\n      <th>长度(MM)</th>\n      <th>成本类别码</th>\n      <th>分摊标志</th>\n      <th>材料件数(根数)</th>\n      <th>订单加工方式</th>\n      <th>资源性质</th>\n      <th>牌号代码</th>\n      <th>合同结案标志</th>\n    </tr>\n  </thead>\n  <tbody>\n    <tr>\n      <th>174</th>\n      <td>11597.0</td>\n      <td>202005.0</td>\n      <td>PM  生产系统</td>\n      <td>2.019113e+13</td>\n      <td>NaN</td>\n      <td>LH01  喷砂机组</td>\n      <td>MD1911113404</td>\n      <td>MD2005133111</td>\n      <td>B1904161BG</td>\n      <td>B1904161BGA</td>\n      <td>...</td>\n      <td>0.95</td>\n      <td>1219.0</td>\n      <td>2600.0</td>\n      <td>NaN</td>\n      <td>1  不分摊</td>\n      <td>3.0</td>\n      <td>0  开平订单</td>\n      <td>M  产品销售</td>\n      <td>NaN</td>\n      <td>1.0</td>\n    </tr>\n    <tr>\n      <th>175</th>\n      <td>11598.0</td>\n      <td>202005.0</td>\n      <td>PM  生产系统</td>\n      <td>2.019113e+13</td>\n      <td>NaN</td>\n      <td>LH01  喷砂机组</td>\n      <td>MD1911113404</td>\n      <td>MD2005133111</td>\n      <td>B1904161BG</td>\n      <td>B1904161BGA</td>\n      <td>...</td>\n      <td>0.95</td>\n      <td>1219.0</td>\n      <td>2600.0</td>\n      <td>NaN</td>\n      <td>1  不分摊</td>\n      <td>3.0</td>\n      <td>0  开平订单</td>\n      <td>M  产品销售</td>\n      <td>NaN</td>\n      <td>1.0</td>\n    </tr>\n    <tr>\n      <th>176</th>\n      <td>3844.0</td>\n      <td>202005.0</td>\n      <td>PM  生产系统</td>\n      <td>2.019113e+13</td>\n      <td>NaN</td>\n      <td>LH01  喷砂机组</td>\n      <td>MD1911113404</td>\n      <td>MD2005133111</td>\n      <td>B1904161BG</td>\n      <td>B1904161BGA</td>\n      <td>...</td>\n      <td>0.95</td>\n      <td>1219.0</td>\n      <td>2600.0</td>\n      <td>NaN</td>\n      <td>0  经过工序-分摊</td>\n      <td>3.0</td>\n      <td>0  开平订单</td>\n      <td>M  产品销售</td>\n      <td>NaN</td>\n      <td>1.0</td>\n    </tr>\n    <tr>\n      <th>180</th>\n      <td>11587.0</td>\n      <td>202005.0</td>\n      <td>PM  生产系统</td>\n      <td>2.019113e+13</td>\n      <td>NaN</td>\n      <td>LH01  喷砂机组</td>\n      <td>MD1911113404</td>\n      <td>MD2005133111</td>\n      <td>B1904161BHEBB</td>\n      <td>B1904161BHEBBA</td>\n      <td>...</td>\n      <td>0.95</td>\n      <td>1219.0</td>\n      <td>3048.0</td>\n      <td>NaN</td>\n      <td>1  不分摊</td>\n      <td>2.0</td>\n      <td>0  开平订单</td>\n      <td>M  产品销售</td>\n      <td>NaN</td>\n      <td>1.0</td>\n    </tr>\n    <tr>\n      <th>181</th>\n      <td>11588.0</td>\n      <td>202005.0</td>\n      <td>PM  生产系统</td>\n      <td>2.019113e+13</td>\n      <td>NaN</td>\n      <td>LH01  喷砂机组</td>\n      <td>MD1911113404</td>\n      <td>MD2005133111</td>\n      <td>B1904161BHEBB</td>\n      <td>B1904161BHEBBA</td>\n      <td>...</td>\n      <td>0.95</td>\n      <td>1219.0</td>\n      <td>3048.0</td>\n      <td>NaN</td>\n      <td>1  不分摊</td>\n      <td>2.0</td>\n      <td>0  开平订单</td>\n      <td>M  产品销售</td>\n      <td>NaN</td>\n      <td>1.0</td>\n    </tr>\n  </tbody>\n</table>\n<p>5 rows × 55 columns</p>\n</div>"
     },
     "metadata": {},
     "execution_count": 3
    }
   ],
   "source": [
    "df[df['机组代码'].isin(['LH01  喷砂机组','LB01  72镜面机组'])].head()"
   ]
  },
  {
   "cell_type": "code",
   "execution_count": 4,
   "metadata": {},
   "outputs": [
    {
     "output_type": "execute_result",
     "data": {
      "text/plain": "13260    P2005002AA\n13262    P2005002AB\n13264    P2005002AC\nName: 材料号, dtype: object"
     },
     "metadata": {},
     "execution_count": 4
    }
   ],
   "source": [
    "df['材料号'][(df['帐务代码(科目)']=='01  产出') & (df['机组代码']=='LC02  48镜面机组2') & (df['销售合同号']=='LD2005110101')]"
   ]
  },
  {
   "cell_type": "code",
   "execution_count": 16,
   "metadata": {},
   "outputs": [
    {
     "output_type": "execute_result",
     "data": {
      "text/plain": "0    14.0\n1    14.0\n2    16.0\n3    16.0\n4    12.0\nName: 材料号, dtype: float64"
     },
     "metadata": {},
     "execution_count": 16
    }
   ],
   "source": [
    "#df['材料号长度']=df['材料号'].map(len)\n",
    "df['材料号'].str.len().head()"
   ]
  }
 ],
 "metadata": {
  "language_info": {
   "codemirror_mode": {
    "name": "ipython",
    "version": 3
   },
   "file_extension": ".py",
   "mimetype": "text/x-python",
   "name": "python",
   "nbconvert_exporter": "python",
   "pygments_lexer": "ipython3",
   "version": "3.7.1-final"
  },
  "orig_nbformat": 2,
  "kernelspec": {
   "name": "python37164bit35e9e4e8f1f14f41ae506b089450d436",
   "display_name": "Python 3.7.1 64-bit"
  }
 },
 "nbformat": 4,
 "nbformat_minor": 2
}