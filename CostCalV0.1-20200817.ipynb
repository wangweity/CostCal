{
 "cells": [
  {
   "cell_type": "code",
   "execution_count": 1,
   "metadata": {},
   "outputs": [],
   "source": [
    "#连接ERP的DB2数据库，获取TACAIA2（前台：ACAI25）,TACACM4(ACAC80非产成品),TACACMM(ACACMM),TACACJ5(废钢入库履历)\n",
    "import ibm_db\n",
    "import pandas as pd\n",
    "connStr='DATABASE=BHBXA1;HOSTNAME=192.168.2.28;PORT=50000;PROTOCOL=TCPIP;UID=bhbxa1;PWD=bhbxa1'\n",
    "con=ibm_db.connect(connStr,'','')\n"
   ]
  },
  {
   "cell_type": "code",
   "execution_count": 2,
   "metadata": {},
   "outputs": [],
   "source": [
    "import ibm_db_dbi"
   ]
  },
  {
   "cell_type": "code",
   "execution_count": 3,
   "metadata": {},
   "outputs": [],
   "source": [
    "conn=ibm_db_dbi.Connection(con)"
   ]
  },
  {
   "cell_type": "code",
   "execution_count": 4,
   "metadata": {
    "tags": []
   },
   "outputs": [],
   "source": [
    "tacaia2=pd.read_sql('select * from tacaia2',conn,parse_dates={'APP_TRNC_TIME':'%Y%m%d%H%M%S'})"
   ]
  },
  {
   "cell_type": "code",
   "execution_count": 5,
   "metadata": {},
   "outputs": [
    {
     "output_type": "execute_result",
     "data": {
      "text/plain": "Index(['01', '33', '03', '31', '50', '51'], dtype='object')"
     },
     "metadata": {},
     "execution_count": 5
    }
   ],
   "source": [
    "from pandas.api.types import CategoricalDtype\n",
    "tacaia2['ACCOUNT_TITLE_ITEM']=tacaia2['ACCOUNT_TITLE_ITEM'].astype(CategoricalDtype(['01','33','03','31','50','51']))#这里对账务代码是01-33-03-31-50-51的顺序，因为先有产出这个材料，再有后续的专用充当和投入或销售，这里暂不考虑一个材料号被二次以上转用的情况，如上一个木材料转用经过工序加工后，转用产出一个材料号，当期这个材料又直接被专用挂了另外的订单号的情况\n",
    "tacaia2['ACCOUNT_TITLE_ITEM'].cat.categories"
   ]
  },
  {
   "cell_type": "code",
   "execution_count": 6,
   "metadata": {},
   "outputs": [],
   "source": [
    "tacaia2.set_index(['ACCOUNT_TITLE_ITEM','MAT_NO','UNIT_CODE','SALE_ORDER_SUB_NO'],inplace=True) #将账务代码提到顺序第1位，以方便下面在同一投入账务代码下，按有投入的材料号迭代。"
   ]
  },
  {
   "cell_type": "code",
   "execution_count": 7,
   "metadata": {},
   "outputs": [],
   "source": [
    "tacaia2.sort_index(level='MAT_NO',inplace=True) #如果按多层索引综合排序，不行，则单按账务代码排序"
   ]
  },
  {
   "cell_type": "code",
   "execution_count": 8,
   "metadata": {},
   "outputs": [],
   "source": [
    "from numpy import nan as NA\n",
    "tacaia2=tacaia2.dropna() #剔除第一行的空行"
   ]
  },
  {
   "cell_type": "code",
   "execution_count": 65,
   "metadata": {},
   "outputs": [],
   "source": [
    "tacaia2['MAT_TYPE']=tacaia2['MAT_TYPE'].astype('int64')"
   ]
  },
  {
   "cell_type": "code",
   "execution_count": 10,
   "metadata": {},
   "outputs": [],
   "source": [
    "tacaia2.insert(tacaia2.shape[1],'MAT_VALUE',0.00)\n",
    "tacaia2.insert(tacaia2.shape[1],'MAT_PRICE',0.00)\n",
    "tacaia2.insert(tacaia2.shape[1],'LOST_VALUE',0.00)\n",
    "tacaia2.insert(tacaia2.shape[1],'LOST_PRICE',0.00)\n",
    "tacaia2.insert(tacaia2.shape[1],'SALE_VALUE',0.00)\n",
    "tacaia2.insert(tacaia2.shape[1],'SALE_PRICE',0.00)"
   ]
  },
  {
   "cell_type": "code",
   "execution_count": 66,
   "metadata": {},
   "outputs": [],
   "source": [
    "def InputPrices(MAT_NO,PRODUCT_CODE,MTRL_NO,MAT_WT,ACC_TITLE):\n",
    "    if PRODUCT_CODE[0] in ['0','1','2']:\n",
    "        MatPrice=(tacacm4.loc[PRODUCT_CODE,'PRST_VRNC_AMOUNT']+tacacm4.loc[PRODUCT_CODE,'OTHR_INCM_VRNC_AMT']-tacacm4.loc[PRODUCT_CODE,'OTHER_SEND_VRNC_AMT']+tacacm4.loc[PRODUCT_CODE,'CRRT_OTPT_VRNC_AMT']+tacacm4.loc[PRODUCT_CODE,'IN_MATCH_VRNC_AMT'])/(tacacm4.loc[PRODUCT_CODE,'PERIOD_START_N']+tacacm4.loc[PRODUCT_CODE,'OTHERS_RECEIVE_N']-tacacm4.loc[PRODUCT_CODE,'OTHERS_SEND_N']+tacacm4.loc[PRODUCT_CODE,'CURRENT_N']+tacacm4.loc[PRODUCT_CODE,'IN_MATCH_N'])#投入材料单价=（期初金额+其他收入-其他支出+本期产出+本期转入）的金额/重量\n",
    "    elif PRODUCT_CODE[0] in ['3','4','5','9']:\n",
    "        MatPrice=(tacacmm.loc[PRODUCT_CODE,'START_AMOUNT']+tacacmm.loc[PRODUCT_CODE,'OTHR_INCM_ACT_AMT']-tacacmm.loc[PRODUCT_CODE,'OTHR_SEND_ACT_AMT']+tacacmm.loc[PRODUCT_CODE,'CRRT_OTPT_ACT_AMT']+tacacmm.loc[PRODUCT_CODE,'NEXT_MATCH_AMT']\n",
    ")/(tacacmm.loc[PRODUCT_CODE,'PERIOD_START_N']+tacacmm.loc[PRODUCT_CODE,'OTHERS_RECEIVE_N']-tacacmm.loc[PRODUCT_CODE,'OTHERS_SEND_N']+tacacmm.loc[PRODUCT_CODE,'CURRENT_N']+tacacmm.loc[PRODUCT_CODE,'NEXT_MATCH_USED_N']\n",
    ")#投入材料单价=（期初金额+其他收入-其他支出+本期产出+本期转入）的金额/重量\n",
    "    else:\n",
    "        raise Exception('MAT_TYPE not NORMAL!')\n",
    "    MatValue=MatPrice*MAT_WT\n",
    "    \n",
    "    LostPercent=0.4#次板和二级品的损失百分比（以后如果要跟着系统参数表，到时可另从数据库取数，这里暂时设成常用的40%）\n",
    "    #判断投入材料号为参数中材料号&物料形态数值大于3（即为二等品或废次）的计数是否大于0，是则分无聊形态为4和5、9计算损失金额；否则损失金额为0\n",
    "    if tacaia2.loc['0' + ACC_TITLE[1]][(tacaia2.loc['0' + ACC_TITLE[1]].IN_MAT_NO==MAT_NO) &(tacaia2.loc['0' + ACC_TITLE[1]].MAT_TYPE >3)].count()['MAT_WT']>0:\n",
    "        LostValue=tacaia2.loc['0' + ACC_TITLE[1]][(tacaia2.loc['0' + ACC_TITLE[1]].IN_MAT_NO==MAT_NO) & ((tacaia2.loc['0' + ACC_TITLE[1]].MAT_TYPE==4) | (tacaia2.loc['0' + ACC_TITLE[1]].MAT_TYPE==5))].sum()['MAT_WT']*MatPrice*LostPercent+tacaia2.loc['0' + ACC_TITLE[1]][(tacaia2.loc['0' + ACC_TITLE[1]].IN_MAT_NO==MAT_NO) &(tacaia2.loc['0' + ACC_TITLE[1]].MAT_TYPE==9)].sum()['MAT_WT']*(MatPrice-tacacj5.loc['900' + MTRL_NO + '000000','CRRT_YEAR_STD_AMT'])\n",
    "    else:\n",
    "        LostValue=0.00\n",
    "\n",
    "    if tacaia2.loc['0' + ACC_TITLE[1]][(tacaia2.loc['0' + ACC_TITLE[1]].IN_MAT_NO==MAT_NO)&(tacaia2.loc['0' + ACC_TITLE[1]].MAT_TYPE <=3)].count()['MAT_WT']>0:\n",
    "        LostPrice=LostValue/tacaia2.loc['0' + ACC_TITLE[1]][(tacaia2.loc['0' + ACC_TITLE[1]].IN_MAT_NO==MAT_NO)&(tacaia2.loc['0' + ACC_TITLE[1]].MAT_TYPE <=3)].sum()['MAT_WT']\n",
    "        OtherLostValue=0#如果投入没有正品产出，需将材料损失汇总分摊到产出最多的产副品上。\n",
    "    else:\n",
    "        OtherLostValue=LostValue\n",
    "        LostPrice=0.00\n",
    "    return {\n",
    "        'Mat_Value':MatValue,\n",
    "        'Mat_Price':MatPrice,\n",
    "        'Lost_Value':LostValue,\n",
    "        'Lost_Price':LostPrice,\n",
    "        'Other_Lost_Value':OtherLostValue\n",
    "    }"
   ]
  },
  {
   "cell_type": "code",
   "execution_count": 67,
   "metadata": {},
   "outputs": [],
   "source": [
    "def SalePrices(PRODUCT_CODE,MAT_WT):\n",
    "    if PRODUCT_CODE[0] in ['0','1','2']:\n",
    "        SalePrice=(tacacm4.loc[PRODUCT_CODE,'PRST_VRNC_AMOUNT']+tacacm4.loc[PRODUCT_CODE,'OTHR_INCM_VRNC_AMT']-tacacm4.loc[PRODUCT_CODE,'OTHER_SEND_VRNC_AMT']+tacacm4.loc[PRODUCT_CODE,'CRRT_OTPT_VRNC_AMT']+tacacm4.loc[PRODUCT_CODE,'IN_MATCH_VRNC_AMT']-tacacm4.loc[PRODUCT_CODE,'NEXT_PRSP_VRNC_AMT']-tacacm4.loc[PRODUCT_CODE,'NEXT_MATCH_VRNC_AMT'])/(tacacm4.loc[PRODUCT_CODE,'PERIOD_START_N']+tacacm4.loc[PRODUCT_CODE,'OTHERS_RECEIVE_N']-tacacm4.loc[PRODUCT_CODE,'OTHERS_SEND_N']+tacacm4.loc[PRODUCT_CODE,'CURRENT_N']+tacacm4.loc[PRODUCT_CODE,'IN_MATCH_N']-tacacm4.loc[PRODUCT_CODE,'NEXT_PRSP_USED_N']-tacacm4.loc[PRODUCT_CODE,'NEXT_MATCH_USED_N'])#销售材料单价=（期初金额+其他收入-其他支出+本期产出+本期转入-本期投入-本期转出）的金额/重量\n",
    "    elif PRODUCT_CODE[0] in ['3','4','5','9']:\n",
    "        SalePrice=(tacacmm.loc[PRODUCT_CODE,'START_AMOUNT']+tacacmm.loc[PRODUCT_CODE,'OTHR_INCM_ACT_AMT']-tacacmm.loc[PRODUCT_CODE,'OTHR_SEND_ACT_AMT']+tacacmm.loc[PRODUCT_CODE,'CRRT_OTPT_ACT_AMT']+tacacmm.loc[PRODUCT_CODE,'NEXT_MATCH_AMT']-tacacmm.loc[PRODUCT_CODE,'NEXT_PRSP_STD_AMT']-tacacmm.loc[PRODUCT_CODE,'NEXT_MATCH_AMT']\n",
    ")/(tacacmm.loc[PRODUCT_CODE,'PERIOD_START_N']+tacacmm.loc[PRODUCT_CODE,'OTHERS_RECEIVE_N']-tacacmm.loc[PRODUCT_CODE,'OTHERS_SEND_N']+tacacmm.loc[PRODUCT_CODE,'CURRENT_N']+tacacmm.loc[PRODUCT_CODE,'NEXT_MATCH_USED_N']-tacacmm.loc[PRODUCT_CODE,'NEXT_PRSP_USED_N']-tacacmm.loc[PRODUCT_CODE,'NEXT_MATCH_USED_N']\n",
    ")#销售材料单价=（期初金额+其他收入-其他支出+本期产出+本期转入-本期投入-本期转出）的金额/重量\n",
    "    SaleValue=SalePrice*MAT_WT\n",
    "    return {\n",
    "        'Sale_Value':SaleValue,\n",
    "        'Sale_Price':SalePrice\n",
    "    }"
   ]
  },
  {
   "cell_type": "code",
   "execution_count": 68,
   "metadata": {},
   "outputs": [],
   "source": [
    "def ProducePrices(INPUT_MAT,ACC_TITLE,MAT_TYPE,MAT_WT,MTRL_NO):\n",
    "    #tacaia2.loc[('3'+ACC_TITLE[1],Input_MAT),'']\n",
    "    if MAT_TYPE <=3:\n",
    "        MatPrice=tacaia2.loc[('3'+ACC_TITLE[1],INPUT_MAT),'MAT_PRICE'][0]\n",
    "        MatValue=MatPrice*MAT_WT\n",
    "        LostPrice=tacaia2.loc[('3'+ACC_TITLE[1],INPUT_MAT),'LOST_PRICE'][0]\n",
    "        LostValue=LostPrice*MAT_WT\n",
    "    elif MAT_TYPE==4|MAT_TYPE==5:\n",
    "        LostPercent=0.4#次板和二级品的损失百分比（以后如果要跟着系统参数表，到时可另从数据库取数，这里暂时设成常用的40%）\n",
    "        MatPrice=tacaia2.loc[('3'+ACC_TITLE[1],INPUT_MAT),'MAT_PRICE'][0]*(1-LostPercent)\n",
    "        MatValue=MatPrice*MAT_WT\n",
    "        LostPrice=0.00\n",
    "        LostValue=LostPrice*MAT_WT\n",
    "    elif MAT_TYPE==9:\n",
    "        MatPrice=tacacj5.loc['900' + MTRL_NO + '000000','CRRT_YEAR_STD_AMT']\n",
    "        MatValue=MatPrice*MAT_WT\n",
    "        LostPrice=0.00\n",
    "        LostValue=LostPrice*MAT_WT\n",
    "    return {\n",
    "        'Mat_Value':MatValue,\n",
    "        'Mat_Price':MatPrice,        \n",
    "        'Lost_Value':LostValue,\n",
    "        'Lost_Price':LostPrice\n",
    "    }"
   ]
  },
  {
   "cell_type": "code",
   "execution_count": 14,
   "metadata": {},
   "outputs": [],
   "source": [
    "#tacaia2.sort_index(level=['ACCOUNT_TITLE_ITEM','MAT_NO','UNIT_CODE','SALE_ORDER_SUB_NO'],inplace=True) #跟着前面重设索引，把账务代码提到第1位，对应改变索引排序"
   ]
  },
  {
   "cell_type": "code",
   "execution_count": 15,
   "metadata": {},
   "outputs": [],
   "source": [
    "#tacaia2.loc['31','KEY_SEQ']"
   ]
  },
  {
   "cell_type": "code",
   "execution_count": 16,
   "metadata": {
    "tags": []
   },
   "outputs": [],
   "source": [
    "#tacaia2.to_excel('tacaia2-202005.xlsx',sheet_name='tacaia2')\n",
    "#tacaia2.loc[('B2003125AFA','LF03','33','MD2005061901'),'PRODUCT_CODE'][0][:4] #Pandas多层索引的引用\n",
    "#[x[0] for x in tacaia2.index] #多层索引中一层所有元素的列表"
   ]
  },
  {
   "cell_type": "code",
   "execution_count": 17,
   "metadata": {
    "tags": []
   },
   "outputs": [
    {
     "output_type": "stream",
     "name": "stdout",
     "text": "202007\n"
    }
   ],
   "source": [
    "acc_period=tacaia2['ACCOUNT_PERIOD'][1]\n",
    "print(acc_period)"
   ]
  },
  {
   "cell_type": "code",
   "execution_count": 18,
   "metadata": {},
   "outputs": [],
   "source": [
    "tacacm4=pd.read_sql('select * from tacacm4 where YEAR=? and MON=?',conn,params=[acc_period[:4],acc_period[4:]])\n",
    "tacacm4.set_index(['PRODUCT_CODE'],inplace=True)\n",
    "tacacm4.drop(['REC_CREATOR', 'REC_CREATE_TIME', 'REC_REVISOR', 'REC_REVISE_TIME','ARCHIVE_FLAG', 'COMPANY_CODE', 'COMPANY_CNAME','COST_CENTER', 'STD_PRICE',\"CURRNT_STD_AMOUNT\",\"CRRT_OTPT_STD_AMT\",\"OTHR_INCM_STD_AMT\",\"SALE_STD_AMOUNT\",\"NEXT_PRSP_STD_AMT\",\"NEXT_MATCH_STD_AMT\",\"OTHER_SEND_STD_AMT\",\"PERIOD_END_STD_AMT\",\"IN_MATCH_STD_AMT\"],axis=1,inplace=True)\n",
    "tacacm4[[\"CURRENT_N\",\"CRRT_OTPT_VRNC_AMT\",\"SALE_N\",\"SALE_VRNC_AMOUNT\",\"NEXT_PRSP_USED_N\",\"NEXT_PRSP_VRNC_AMT\",\"NEXT_MATCH_USED_N\",\"NEXT_MATCH_VRNC_AMT\",\"PERIOD_END_N\",\"PERIOD_END_VRNC_AMT\",\"IN_MATCH_N\",\"IN_MATCH_VRNC_AMT\"]]=[0.00,0.00,0.00,0.00,0.00,0.00,0.00,0.00,0.00,0.00,0.00,0.00]"
   ]
  },
  {
   "cell_type": "code",
   "execution_count": 19,
   "metadata": {},
   "outputs": [],
   "source": [
    "#tacacmm.to_excel('tacacmm-202006.xlsx')"
   ]
  },
  {
   "cell_type": "code",
   "execution_count": 20,
   "metadata": {},
   "outputs": [],
   "source": [
    "#tacacm4[['PERIOD_END_N','PERIOD_END_VRNC_AMT']]#test"
   ]
  },
  {
   "cell_type": "code",
   "execution_count": 21,
   "metadata": {},
   "outputs": [],
   "source": [
    "#tacacm4[['PERIOD_END_N','PERIOD_END_VRNC_AMT']]=[0.00,0.00]\n",
    "#tacacm4[['PERIOD_END_N','PERIOD_END_VRNC_AMT']]#test"
   ]
  },
  {
   "cell_type": "code",
   "execution_count": 22,
   "metadata": {},
   "outputs": [
    {
     "output_type": "execute_result",
     "data": {
      "text/plain": "Index(['YEAR', 'MON', 'PERIOD_START_N', 'PRST_VRNC_AMOUNT', 'CURRENT_N',\n       'CRRT_OTPT_VRNC_AMT', 'OTHERS_RECEIVE_N', 'OTHR_INCM_VRNC_AMT',\n       'SALE_N', 'SALE_VRNC_AMOUNT', 'NEXT_PRSP_USED_N', 'NEXT_PRSP_VRNC_AMT',\n       'NEXT_MATCH_USED_N', 'NEXT_MATCH_VRNC_AMT', 'OTHERS_SEND_N',\n       'OTHER_SEND_VRNC_AMT', 'PERIOD_END_N', 'PERIOD_END_VRNC_AMT',\n       'IN_MATCH_N', 'IN_MATCH_VRNC_AMT'],\n      dtype='object')"
     },
     "metadata": {},
     "execution_count": 22
    }
   ],
   "source": [
    "tacacm4.columns#test"
   ]
  },
  {
   "cell_type": "code",
   "execution_count": 23,
   "metadata": {},
   "outputs": [],
   "source": [
    "tacacmm=pd.read_sql('select * from tacacmm where YEAR=? and MON=?',conn,params=[acc_period[:4],acc_period[4:]])\n",
    "tacacmm.set_index(['PRODUCT_CODE'],inplace=True)\n",
    "tacacmm.drop(['REC_CREATOR', 'REC_CREATE_TIME', 'REC_REVISOR', 'REC_REVISE_TIME','ARCHIVE_FLAG', 'COMPANY_CODE', 'COMPANY_CNAME', 'STD_PRICE'],axis=1,inplace=True)\n",
    "tacacmm[['CURRENT_N','CRRT_OTPT_ACT_AMT','NEXT_MATCH_AMT', 'NEXT_MATCH_USED_N', 'GM_N', 'GM_ACT_AMT', 'SY_N','SY_ACT_AMT', 'LL_N','LL_ACT_AMT','PERIOD_END_N', 'PERIOD_END_ACT_AMT','NEXT_PRSP_USED_N','NEXT_PRSP_STD_AMT', 'IN_MATCH_AMT', 'IN_MATCH_N']]=[0.00,0.00,0.00,0.00,0.00,0.00,0.00,0.00,0.00,0.00,0.00,0.00,0.00,0.00,0.00,0.00]"
   ]
  },
  {
   "cell_type": "code",
   "execution_count": 24,
   "metadata": {},
   "outputs": [],
   "source": [
    "tacacj5=pd.read_sql_query('select * from tacacj5 where YEAR_MON=?',conn,params=[acc_period])\n",
    "tacacj5.set_index(['PRODUCT_CODE'],inplace=True)\n",
    "tacacj5.drop(['REC_CREATOR', 'REC_CREATE_TIME', 'REC_REVISOR', 'REC_REVISE_TIME','ARCHIVE_FLAG', 'COMPANY_CODE', 'COMPANY_CNAME'],axis=1,inplace=True)"
   ]
  },
  {
   "cell_type": "code",
   "execution_count": 25,
   "metadata": {
    "tags": []
   },
   "outputs": [
    {
     "output_type": "stream",
     "name": "stdout",
     "text": "YEAR_MON PRODUCT_CODE_CNAME  CRRT_YEAR_STD_AMT\nPRODUCT_CODE                                               \n9001000000     202007                                3.5398\n9001100000     202007                                3.5398\n9002000000     202007                                4.1592\n9002400000     202007                                4.1592\n9002405893     202007                                4.1592\n              YEAR MON  PERIOD_START_N  PRST_VRNC_AMOUNT  CURRENT_N  \\\nPRODUCT_CODE                                                          \n0003100002    2020  07         6989.00          89829.95        0.0   \n0003100003    2020  07         5386.00          67926.77        0.0   \n0003100004    2020  07        78769.37         985215.95        0.0   \n0003100006    2020  07        48716.03         578597.51        0.0   \n0003100719    2020  07         4138.88          54112.68        0.0   \n\n              CRRT_OTPT_VRNC_AMT  OTHERS_RECEIVE_N  OTHR_INCM_VRNC_AMT  \\\nPRODUCT_CODE                                                             \n0003100002                   0.0            9742.0           125541.22   \n0003100003                   0.0               0.0                0.00   \n0003100004                   0.0           26519.0           342206.81   \n0003100006                   0.0          267695.0          3081659.80   \n0003100719                   0.0           31897.0           390798.12   \n\n              SALE_N  SALE_VRNC_AMOUNT  NEXT_PRSP_USED_N  NEXT_PRSP_VRNC_AMT  \\\nPRODUCT_CODE                                                                   \n0003100002       0.0               0.0               0.0                 0.0   \n0003100003       0.0               0.0               0.0                 0.0   \n0003100004       0.0               0.0               0.0                 0.0   \n0003100006       0.0               0.0               0.0                 0.0   \n0003100719       0.0               0.0               0.0                 0.0   \n\n              NEXT_MATCH_USED_N  NEXT_MATCH_VRNC_AMT  OTHERS_SEND_N  \\\nPRODUCT_CODE                                                          \n0003100002                  0.0                  0.0            0.0   \n0003100003                  0.0                  0.0            0.0   \n0003100004                  0.0                  0.0            0.0   \n0003100006                  0.0                  0.0            0.0   \n0003100719                  0.0                  0.0            0.0   \n\n              OTHER_SEND_VRNC_AMT  PERIOD_END_N  PERIOD_END_VRNC_AMT  \\\nPRODUCT_CODE                                                           \n0003100002                    0.0           0.0                  0.0   \n0003100003                    0.0           0.0                  0.0   \n0003100004                    0.0           0.0                  0.0   \n0003100006                    0.0           0.0                  0.0   \n0003100719                    0.0           0.0                  0.0   \n\n              IN_MATCH_N  IN_MATCH_VRNC_AMT  \nPRODUCT_CODE                                 \n0003100002           0.0                0.0  \n0003100003           0.0                0.0  \n0003100004           0.0                0.0  \n0003100006           0.0                0.0  \n0003100719           0.0                0.0  \n              YEAR MON  PERIOD_START_N  START_AMOUNT  CURRENT_N  \\\nPRODUCT_CODE                                                      \n3003100246    2020  07            0.00          0.00        0.0   \n3003200594    2020  07            0.00          0.00        0.0   \n30033Z0061    2020  07            0.00          0.00        0.0   \n30033Z11135   2020  07          904.26      17461.87        0.0   \n30033Z11136   2020  07           39.88        827.80        0.0   \n\n              CRRT_OTPT_ACT_AMT  OTHERS_RECEIVE_N  OTHR_INCM_ACT_AMT  \\\nPRODUCT_CODE                                                           \n3003100246                  0.0               0.0                0.0   \n3003200594                  0.0               0.0                0.0   \n30033Z0061                  0.0               0.0                0.0   \n30033Z11135                 0.0               0.0                0.0   \n30033Z11136                 0.0               0.0                0.0   \n\n              NEXT_MATCH_AMT  NEXT_MATCH_USED_N     ...      LL_N  LL_ACT_AMT  \\\nPRODUCT_CODE                                        ...                         \n3003100246               0.0                0.0     ...       0.0         0.0   \n3003200594               0.0                0.0     ...       0.0         0.0   \n30033Z0061               0.0                0.0     ...       0.0         0.0   \n30033Z11135              0.0                0.0     ...       0.0         0.0   \n30033Z11136              0.0                0.0     ...       0.0         0.0   \n\n              OTHERS_SEND_N  OTHR_SEND_ACT_AMT  PERIOD_END_N  \\\nPRODUCT_CODE                                                   \n3003100246              0.0                0.0           0.0   \n3003200594              0.0                0.0           0.0   \n30033Z0061              0.0                0.0           0.0   \n30033Z11135             0.0                0.0           0.0   \n30033Z11136             0.0                0.0           0.0   \n\n              PERIOD_END_ACT_AMT  NEXT_PRSP_USED_N  NEXT_PRSP_STD_AMT  \\\nPRODUCT_CODE                                                            \n3003100246                   0.0               0.0                0.0   \n3003200594                   0.0               0.0                0.0   \n30033Z0061                   0.0               0.0                0.0   \n30033Z11135                  0.0               0.0                0.0   \n30033Z11136                  0.0               0.0                0.0   \n\n              IN_MATCH_AMT  IN_MATCH_N  \nPRODUCT_CODE                            \n3003100246             0.0         0.0  \n3003200594             0.0         0.0  \n30033Z0061             0.0         0.0  \n30033Z11135            0.0         0.0  \n30033Z11136            0.0         0.0  \n\n[5 rows x 24 columns]\n"
    }
   ],
   "source": [
    "print(tacacj5.head())\n",
    "print(tacacm4.head())\n",
    "print(tacacmm.head())"
   ]
  },
  {
   "cell_type": "code",
   "execution_count": 26,
   "metadata": {},
   "outputs": [],
   "source": [
    "#将ACAI25表按1、材料号升序；2、账务代码：按33 03 31 01 50 51 的顺序排列；3、销售合同号按升序排列\n",
    "#tacaia2[tacaia2['MAT_WT'].rank(method='dense',ascending=False)==3]"
   ]
  },
  {
   "cell_type": "code",
   "execution_count": 27,
   "metadata": {
    "tags": []
   },
   "outputs": [
    {
     "output_type": "execute_result",
     "data": {
      "text/plain": "\"acc_ttl_list=['33','03','31','01','50','51']\\ntacaia2['ACCOUNT_TITLE_ITEM']=tacaia2['ACCOUNT_TITLE_ITEM'].astype('category')\\ntacaia2['ACCOUNT_TITLE_ITEM'].cat.set_category(acc_ttl_list,inplace=True)\\ntacaia2.sortvalues(['MAT_NO','ACCOUNT_TITLE_ITEM','SALE_ORDER_SUB_NO'],ascending=True,inplace=True)\\ntacaia2\""
     },
     "metadata": {},
     "execution_count": 27
    }
   ],
   "source": [
    "#对账务代码自定义排序：先设排序的列表；将账务代码列的数据类型改成‘category’（astype)；用set_category，设置账务代码的顺序；用sort_values使排序生效，同时，也将材料号和销售合同升序排列\n",
    "'''acc_ttl_list=['33','03','31','01','50','51']\n",
    "tacaia2['ACCOUNT_TITLE_ITEM']=tacaia2['ACCOUNT_TITLE_ITEM'].astype('category')\n",
    "tacaia2['ACCOUNT_TITLE_ITEM'].cat.set_category(acc_ttl_list,inplace=True)\n",
    "tacaia2.sortvalues(['MAT_NO','ACCOUNT_TITLE_ITEM','SALE_ORDER_SUB_NO'],ascending=True,inplace=True)\n",
    "tacaia2'''"
   ]
  },
  {
   "cell_type": "code",
   "execution_count": 28,
   "metadata": {},
   "outputs": [],
   "source": [
    "def WriteSFC(PRODUCT_CODE,ACC_TITLE,MAT_VALUE,LOST_VALUE,SALE_VALUE,WT):\n",
    "    if PRODUCT_CODE[0] in ['0','1','2']:\n",
    "        SFCColumnName={\n",
    "            'df':tacacm4,\n",
    "            'Num':{\n",
    "                '01':'CURRENT_N',\n",
    "                '33':'NEXT_MATCH_USED_N',\n",
    "                '03':'IN_MATCH_N',\n",
    "                '31':'NEXT_PRSP_USED_N',\n",
    "                '50':'SALE_N',\n",
    "                '51':'SALE_N' \n",
    "            },\n",
    "            'Value':{\n",
    "                '01':'CRRT_OTPT_VRNC_AMT',\n",
    "                '33':'NEXT_MATCH_VRNC_AMT',\n",
    "                '03':'IN_MATCH_VRNC_AMT',\n",
    "                '31':'NEXT_PRSP_VRNC_AMT',\n",
    "                '50':'SALE_VRNC_AMOUNT',\n",
    "                '51':'SALE_VRNC_AMOUNT'\n",
    "            }\n",
    "            \n",
    "        }\n",
    "        \n",
    "    elif PRODUCT_CODE[0] in ['3','4','5','9']:\n",
    "        SFCColumnName={\n",
    "            'df':tacacmm,\n",
    "            'Num':{\n",
    "                '01':'CURRENT_N',\n",
    "                '33':'NEXT_MATCH_USED_N',\n",
    "                '03':'IN_MATCH_N',\n",
    "                '31':'NEXT_PRSP_USED_N',\n",
    "                '50':'GM_N',\n",
    "                '51':'SY_N' \n",
    "            },\n",
    "            'Value':{\n",
    "                '01':'CRRT_OTPT_ACT_AMT',\n",
    "                '33':'NEXT_MATCH_AMT',\n",
    "                '03':'IN_MATCH_AMT',\n",
    "                '31':'NEXT_PRSP_STD_AMT',\n",
    "                '50':'GM_ACT_AMT',\n",
    "                '51':'SY_ACT_AMT'\n",
    "            }\n",
    "        }\n",
    "\n",
    "    SFCValue={\n",
    "            '01':MAT_VALUE+LOST_VALUE,\n",
    "            '03':MAT_VALUE+LOST_VALUE,\n",
    "            '31':MAT_VALUE,\n",
    "            '33':MAT_VALUE,\n",
    "            '50':SALE_VALUE,\n",
    "            '51':SALE_VALUE\n",
    "        }\n",
    "    SFCColumnName['df'].loc[PRODUCT_CODE,SFCColumnName['Num'][ACC_TITLE]]+=WT\n",
    "    SFCColumnName['df'].loc[PRODUCT_CODE,SFCColumnName['Value'][ACC_TITLE]]+=SFCValue[ACC_TITLE]"
   ]
  },
  {
   "cell_type": "code",
   "execution_count": 52,
   "metadata": {},
   "outputs": [
    {
     "output_type": "execute_result",
     "data": {
      "text/plain": "MAT_VALUE     1\nMAT_PRICE     2\nLOST_VALUE    3\nLOST_PRICE    4\nName: (01, B1804068AJAAA, LA03, MD2007173301), dtype: object"
     },
     "metadata": {},
     "execution_count": 52
    }
   ],
   "source": [
    "tacaia2.iloc[3,[72,73,74,75]]"
   ]
  },
  {
   "cell_type": "code",
   "execution_count": 29,
   "metadata": {
    "tags": []
   },
   "outputs": [
    {
     "output_type": "stream",
     "name": "stdout",
     "text": "No.0\nNo.1\nNo.2\n"
    },
    {
     "output_type": "error",
     "ename": "TypeError",
     "evalue": "'>' not supported between instances of 'str' and 'int'",
     "traceback": [
      "\u001b[1;31m---------------------------------------------------------------------------\u001b[0m",
      "\u001b[1;31mTypeError\u001b[0m                                 Traceback (most recent call last)",
      "\u001b[1;32m<ipython-input-29-7ad429fcd572>\u001b[0m in \u001b[0;36m<module>\u001b[1;34m\u001b[0m\n\u001b[0;32m     21\u001b[0m             \u001b[0mtacaia2\u001b[0m\u001b[1;33m.\u001b[0m\u001b[0mix\u001b[0m\u001b[1;33m[\u001b[0m\u001b[0mn\u001b[0m\u001b[1;33m,\u001b[0m\u001b[1;33m[\u001b[0m\u001b[1;34m'MAT_VALUE'\u001b[0m\u001b[1;33m,\u001b[0m\u001b[1;34m'MAT_PRICE'\u001b[0m\u001b[1;33m,\u001b[0m\u001b[1;34m'LOST_VALUE'\u001b[0m\u001b[1;33m,\u001b[0m\u001b[1;34m'LOST_PRICE'\u001b[0m\u001b[1;33m]\u001b[0m\u001b[1;33m]\u001b[0m\u001b[1;33m=\u001b[0m\u001b[0mlist\u001b[0m\u001b[1;33m(\u001b[0m\u001b[0mProducePrices\u001b[0m\u001b[1;33m(\u001b[0m\u001b[0min_mat\u001b[0m\u001b[1;33m,\u001b[0m\u001b[0macc\u001b[0m\u001b[1;33m,\u001b[0m\u001b[0mmat_type\u001b[0m\u001b[1;33m,\u001b[0m\u001b[0mmat_wt\u001b[0m\u001b[1;33m,\u001b[0m\u001b[0mmtrl_no\u001b[0m\u001b[1;33m)\u001b[0m\u001b[1;33m.\u001b[0m\u001b[0mvalues\u001b[0m\u001b[1;33m(\u001b[0m\u001b[1;33m)\u001b[0m\u001b[1;33m)\u001b[0m\u001b[1;33m\u001b[0m\u001b[1;33m\u001b[0m\u001b[0m\n\u001b[0;32m     22\u001b[0m     \u001b[1;32melif\u001b[0m \u001b[0macc\u001b[0m\u001b[1;33m==\u001b[0m\u001b[1;34m'31'\u001b[0m\u001b[1;33m:\u001b[0m\u001b[1;33m\u001b[0m\u001b[1;33m\u001b[0m\u001b[0m\n\u001b[1;32m---> 23\u001b[1;33m         \u001b[0mINPUT_VALUE\u001b[0m\u001b[1;33m=\u001b[0m\u001b[0mlist\u001b[0m\u001b[1;33m(\u001b[0m\u001b[0mInputPrices\u001b[0m\u001b[1;33m(\u001b[0m\u001b[0mmat\u001b[0m\u001b[1;33m,\u001b[0m\u001b[0mprod_code\u001b[0m\u001b[1;33m,\u001b[0m\u001b[0mmtrl_no\u001b[0m\u001b[1;33m,\u001b[0m\u001b[0mmat_wt\u001b[0m\u001b[1;33m,\u001b[0m\u001b[0macc\u001b[0m\u001b[1;33m)\u001b[0m\u001b[1;33m.\u001b[0m\u001b[0mvalues\u001b[0m\u001b[1;33m(\u001b[0m\u001b[1;33m)\u001b[0m\u001b[1;33m)\u001b[0m\u001b[1;33m\u001b[0m\u001b[1;33m\u001b[0m\u001b[0m\n\u001b[0m\u001b[0;32m     24\u001b[0m         \u001b[0mtacaia2\u001b[0m\u001b[1;33m.\u001b[0m\u001b[0mix\u001b[0m\u001b[1;33m[\u001b[0m\u001b[0mn\u001b[0m\u001b[1;33m,\u001b[0m\u001b[1;33m[\u001b[0m\u001b[1;34m'MAT_VALUE'\u001b[0m\u001b[1;33m,\u001b[0m\u001b[1;34m'MAT_PRICE'\u001b[0m\u001b[1;33m,\u001b[0m\u001b[1;34m'LOST_VALUE'\u001b[0m\u001b[1;33m,\u001b[0m\u001b[1;34m'LOST_PRICE'\u001b[0m\u001b[1;33m]\u001b[0m\u001b[1;33m]\u001b[0m\u001b[1;33m=\u001b[0m\u001b[0mINPUT_VALUE\u001b[0m\u001b[1;33m[\u001b[0m\u001b[1;33m:\u001b[0m\u001b[1;36m4\u001b[0m\u001b[1;33m]\u001b[0m\u001b[1;33m\u001b[0m\u001b[1;33m\u001b[0m\u001b[0m\n\u001b[0;32m     25\u001b[0m         \u001b[0mOTHER_LOST_VALUE\u001b[0m\u001b[1;33m=\u001b[0m\u001b[0mOTHER_LOST_VALUE\u001b[0m\u001b[1;33m+\u001b[0m\u001b[0mINPUT_VALUE\u001b[0m\u001b[1;33m[\u001b[0m\u001b[1;36m4\u001b[0m\u001b[1;33m]\u001b[0m\u001b[1;33m\u001b[0m\u001b[1;33m\u001b[0m\u001b[0m\n",
      "\u001b[1;32m<ipython-input-11-d7eb34a05967>\u001b[0m in \u001b[0;36mInputPrices\u001b[1;34m(MAT_NO, PRODUCT_CODE, MTRL_NO, MAT_WT, ACC_TITLE)\u001b[0m\n\u001b[0;32m     12\u001b[0m     \u001b[0mLostPercent\u001b[0m\u001b[1;33m=\u001b[0m\u001b[1;36m0.4\u001b[0m\u001b[1;31m#次板和二级品的损失百分比（以后如果要跟着系统参数表，到时可另从数据库取数，这里暂时设成常用的40%）\u001b[0m\u001b[1;33m\u001b[0m\u001b[1;33m\u001b[0m\u001b[0m\n\u001b[0;32m     13\u001b[0m     \u001b[1;31m#判断投入材料号为参数中材料号&物料形态数值大于3（即为二等品或废次）的计数是否大于0，是则分无聊形态为4和5、9计算损失金额；否则损失金额为0\u001b[0m\u001b[1;33m\u001b[0m\u001b[1;33m\u001b[0m\u001b[1;33m\u001b[0m\u001b[0m\n\u001b[1;32m---> 14\u001b[1;33m     \u001b[1;32mif\u001b[0m \u001b[0mtacaia2\u001b[0m\u001b[1;33m.\u001b[0m\u001b[0mloc\u001b[0m\u001b[1;33m[\u001b[0m\u001b[1;34m'0'\u001b[0m \u001b[1;33m+\u001b[0m \u001b[0mACC_TITLE\u001b[0m\u001b[1;33m[\u001b[0m\u001b[1;36m1\u001b[0m\u001b[1;33m]\u001b[0m\u001b[1;33m]\u001b[0m\u001b[1;33m[\u001b[0m\u001b[1;33m(\u001b[0m\u001b[0mtacaia2\u001b[0m\u001b[1;33m.\u001b[0m\u001b[0mloc\u001b[0m\u001b[1;33m[\u001b[0m\u001b[1;34m'0'\u001b[0m \u001b[1;33m+\u001b[0m \u001b[0mACC_TITLE\u001b[0m\u001b[1;33m[\u001b[0m\u001b[1;36m1\u001b[0m\u001b[1;33m]\u001b[0m\u001b[1;33m]\u001b[0m\u001b[1;33m.\u001b[0m\u001b[0mIN_MAT_NO\u001b[0m\u001b[1;33m==\u001b[0m\u001b[0mMAT_NO\u001b[0m\u001b[1;33m)\u001b[0m \u001b[1;33m&\u001b[0m\u001b[1;33m(\u001b[0m\u001b[0mtacaia2\u001b[0m\u001b[1;33m.\u001b[0m\u001b[0mloc\u001b[0m\u001b[1;33m[\u001b[0m\u001b[1;34m'0'\u001b[0m \u001b[1;33m+\u001b[0m \u001b[0mACC_TITLE\u001b[0m\u001b[1;33m[\u001b[0m\u001b[1;36m1\u001b[0m\u001b[1;33m]\u001b[0m\u001b[1;33m]\u001b[0m\u001b[1;33m.\u001b[0m\u001b[0mMAT_TYPE\u001b[0m\u001b[1;33m>\u001b[0m\u001b[1;36m3\u001b[0m\u001b[1;33m)\u001b[0m\u001b[1;33m]\u001b[0m\u001b[1;33m.\u001b[0m\u001b[0mcount\u001b[0m\u001b[1;33m(\u001b[0m\u001b[1;33m)\u001b[0m\u001b[1;33m[\u001b[0m\u001b[1;34m'MAT_WT'\u001b[0m\u001b[1;33m]\u001b[0m\u001b[1;33m>\u001b[0m\u001b[1;36m0\u001b[0m\u001b[1;33m:\u001b[0m\u001b[1;33m\u001b[0m\u001b[1;33m\u001b[0m\u001b[0m\n\u001b[0m\u001b[0;32m     15\u001b[0m         \u001b[0mLostValue\u001b[0m\u001b[1;33m=\u001b[0m\u001b[0mtacaia2\u001b[0m\u001b[1;33m.\u001b[0m\u001b[0mloc\u001b[0m\u001b[1;33m[\u001b[0m\u001b[1;34m'0'\u001b[0m \u001b[1;33m+\u001b[0m \u001b[0mACC_TITLE\u001b[0m\u001b[1;33m[\u001b[0m\u001b[1;36m1\u001b[0m\u001b[1;33m]\u001b[0m\u001b[1;33m]\u001b[0m\u001b[1;33m[\u001b[0m\u001b[1;33m(\u001b[0m\u001b[0mtacaia2\u001b[0m\u001b[1;33m.\u001b[0m\u001b[0mloc\u001b[0m\u001b[1;33m[\u001b[0m\u001b[1;34m'0'\u001b[0m \u001b[1;33m+\u001b[0m \u001b[0mACC_TITLE\u001b[0m\u001b[1;33m[\u001b[0m\u001b[1;36m1\u001b[0m\u001b[1;33m]\u001b[0m\u001b[1;33m]\u001b[0m\u001b[1;33m.\u001b[0m\u001b[0mIN_MAT_NO\u001b[0m\u001b[1;33m==\u001b[0m\u001b[0mMAT_NO\u001b[0m\u001b[1;33m)\u001b[0m \u001b[1;33m&\u001b[0m \u001b[1;33m(\u001b[0m\u001b[1;33m(\u001b[0m\u001b[0mtacaia2\u001b[0m\u001b[1;33m.\u001b[0m\u001b[0mloc\u001b[0m\u001b[1;33m[\u001b[0m\u001b[1;34m'0'\u001b[0m \u001b[1;33m+\u001b[0m \u001b[0mACC_TITLE\u001b[0m\u001b[1;33m[\u001b[0m\u001b[1;36m1\u001b[0m\u001b[1;33m]\u001b[0m\u001b[1;33m]\u001b[0m\u001b[1;33m.\u001b[0m\u001b[0mMAT_TYPE\u001b[0m\u001b[1;33m==\u001b[0m\u001b[1;36m4\u001b[0m\u001b[1;33m)\u001b[0m \u001b[1;33m|\u001b[0m \u001b[1;33m(\u001b[0m\u001b[0mtacaia2\u001b[0m\u001b[1;33m.\u001b[0m\u001b[0mloc\u001b[0m\u001b[1;33m[\u001b[0m\u001b[1;34m'0'\u001b[0m \u001b[1;33m+\u001b[0m \u001b[0mACC_TITLE\u001b[0m\u001b[1;33m[\u001b[0m\u001b[1;36m1\u001b[0m\u001b[1;33m]\u001b[0m\u001b[1;33m]\u001b[0m\u001b[1;33m.\u001b[0m\u001b[0mMAT_TYPE\u001b[0m\u001b[1;33m==\u001b[0m\u001b[1;36m5\u001b[0m\u001b[1;33m)\u001b[0m\u001b[1;33m)\u001b[0m\u001b[1;33m]\u001b[0m\u001b[1;33m.\u001b[0m\u001b[0msum\u001b[0m\u001b[1;33m(\u001b[0m\u001b[1;33m)\u001b[0m\u001b[1;33m[\u001b[0m\u001b[1;34m'MAT_WT'\u001b[0m\u001b[1;33m]\u001b[0m\u001b[1;33m*\u001b[0m\u001b[0mMatPrice\u001b[0m\u001b[1;33m*\u001b[0m\u001b[0mLostPercent\u001b[0m\u001b[1;33m+\u001b[0m\u001b[0mtacaia2\u001b[0m\u001b[1;33m.\u001b[0m\u001b[0mloc\u001b[0m\u001b[1;33m[\u001b[0m\u001b[1;34m'0'\u001b[0m \u001b[1;33m+\u001b[0m \u001b[0mACC_TITLE\u001b[0m\u001b[1;33m[\u001b[0m\u001b[1;36m1\u001b[0m\u001b[1;33m]\u001b[0m\u001b[1;33m]\u001b[0m\u001b[1;33m[\u001b[0m\u001b[1;33m(\u001b[0m\u001b[0mtacaia2\u001b[0m\u001b[1;33m.\u001b[0m\u001b[0mloc\u001b[0m\u001b[1;33m[\u001b[0m\u001b[1;34m'0'\u001b[0m \u001b[1;33m+\u001b[0m \u001b[0mACC_TITLE\u001b[0m\u001b[1;33m[\u001b[0m\u001b[1;36m1\u001b[0m\u001b[1;33m]\u001b[0m\u001b[1;33m]\u001b[0m\u001b[1;33m.\u001b[0m\u001b[0mIN_MAT_NO\u001b[0m\u001b[1;33m==\u001b[0m\u001b[0mMAT_NO\u001b[0m\u001b[1;33m)\u001b[0m \u001b[1;33m&\u001b[0m\u001b[1;33m(\u001b[0m\u001b[0mtacaia2\u001b[0m\u001b[1;33m.\u001b[0m\u001b[0mloc\u001b[0m\u001b[1;33m[\u001b[0m\u001b[1;34m'0'\u001b[0m \u001b[1;33m+\u001b[0m \u001b[0mACC_TITLE\u001b[0m\u001b[1;33m[\u001b[0m\u001b[1;36m1\u001b[0m\u001b[1;33m]\u001b[0m\u001b[1;33m]\u001b[0m\u001b[1;33m.\u001b[0m\u001b[0mMAT_TYPE\u001b[0m\u001b[1;33m==\u001b[0m\u001b[1;36m9\u001b[0m\u001b[1;33m)\u001b[0m\u001b[1;33m]\u001b[0m\u001b[1;33m.\u001b[0m\u001b[0msum\u001b[0m\u001b[1;33m(\u001b[0m\u001b[1;33m)\u001b[0m\u001b[1;33m[\u001b[0m\u001b[1;34m'MAT_WT'\u001b[0m\u001b[1;33m]\u001b[0m\u001b[1;33m*\u001b[0m\u001b[1;33m(\u001b[0m\u001b[0mMatPrice\u001b[0m\u001b[1;33m-\u001b[0m\u001b[0mtacacj5\u001b[0m\u001b[1;33m.\u001b[0m\u001b[0mloc\u001b[0m\u001b[1;33m[\u001b[0m\u001b[1;34m'900'\u001b[0m \u001b[1;33m+\u001b[0m \u001b[0mMTRL_NO\u001b[0m \u001b[1;33m+\u001b[0m \u001b[1;34m'000000'\u001b[0m\u001b[1;33m,\u001b[0m\u001b[1;34m'CRRT_YEAR_STD_AMT'\u001b[0m\u001b[1;33m]\u001b[0m\u001b[1;33m)\u001b[0m\u001b[1;33m\u001b[0m\u001b[1;33m\u001b[0m\u001b[0m\n\u001b[0;32m     16\u001b[0m     \u001b[1;32melse\u001b[0m\u001b[1;33m:\u001b[0m\u001b[1;33m\u001b[0m\u001b[1;33m\u001b[0m\u001b[0m\n",
      "\u001b[1;32mI:\\Program Files\\Python\\Python37\\lib\\site-packages\\pandas\\core\\ops.py\u001b[0m in \u001b[0;36mwrapper\u001b[1;34m(self, other, axis)\u001b[0m\n\u001b[0;32m   1281\u001b[0m \u001b[1;33m\u001b[0m\u001b[0m\n\u001b[0;32m   1282\u001b[0m             \u001b[1;32mwith\u001b[0m \u001b[0mnp\u001b[0m\u001b[1;33m.\u001b[0m\u001b[0merrstate\u001b[0m\u001b[1;33m(\u001b[0m\u001b[0mall\u001b[0m\u001b[1;33m=\u001b[0m\u001b[1;34m'ignore'\u001b[0m\u001b[1;33m)\u001b[0m\u001b[1;33m:\u001b[0m\u001b[1;33m\u001b[0m\u001b[1;33m\u001b[0m\u001b[0m\n\u001b[1;32m-> 1283\u001b[1;33m                 \u001b[0mres\u001b[0m \u001b[1;33m=\u001b[0m \u001b[0mna_op\u001b[0m\u001b[1;33m(\u001b[0m\u001b[0mvalues\u001b[0m\u001b[1;33m,\u001b[0m \u001b[0mother\u001b[0m\u001b[1;33m)\u001b[0m\u001b[1;33m\u001b[0m\u001b[1;33m\u001b[0m\u001b[0m\n\u001b[0m\u001b[0;32m   1284\u001b[0m             \u001b[1;32mif\u001b[0m \u001b[0mis_scalar\u001b[0m\u001b[1;33m(\u001b[0m\u001b[0mres\u001b[0m\u001b[1;33m)\u001b[0m\u001b[1;33m:\u001b[0m\u001b[1;33m\u001b[0m\u001b[1;33m\u001b[0m\u001b[0m\n\u001b[0;32m   1285\u001b[0m                 raise TypeError('Could not compare {typ} type with Series'\n",
      "\u001b[1;32mI:\\Program Files\\Python\\Python37\\lib\\site-packages\\pandas\\core\\ops.py\u001b[0m in \u001b[0;36mna_op\u001b[1;34m(x, y)\u001b[0m\n\u001b[0;32m   1141\u001b[0m \u001b[1;33m\u001b[0m\u001b[0m\n\u001b[0;32m   1142\u001b[0m         \u001b[1;32melif\u001b[0m \u001b[0mis_object_dtype\u001b[0m\u001b[1;33m(\u001b[0m\u001b[0mx\u001b[0m\u001b[1;33m.\u001b[0m\u001b[0mdtype\u001b[0m\u001b[1;33m)\u001b[0m\u001b[1;33m:\u001b[0m\u001b[1;33m\u001b[0m\u001b[1;33m\u001b[0m\u001b[0m\n\u001b[1;32m-> 1143\u001b[1;33m             \u001b[0mresult\u001b[0m \u001b[1;33m=\u001b[0m \u001b[0m_comp_method_OBJECT_ARRAY\u001b[0m\u001b[1;33m(\u001b[0m\u001b[0mop\u001b[0m\u001b[1;33m,\u001b[0m \u001b[0mx\u001b[0m\u001b[1;33m,\u001b[0m \u001b[0my\u001b[0m\u001b[1;33m)\u001b[0m\u001b[1;33m\u001b[0m\u001b[1;33m\u001b[0m\u001b[0m\n\u001b[0m\u001b[0;32m   1144\u001b[0m \u001b[1;33m\u001b[0m\u001b[0m\n\u001b[0;32m   1145\u001b[0m         \u001b[1;32melif\u001b[0m \u001b[0mis_datetimelike_v_numeric\u001b[0m\u001b[1;33m(\u001b[0m\u001b[0mx\u001b[0m\u001b[1;33m,\u001b[0m \u001b[0my\u001b[0m\u001b[1;33m)\u001b[0m\u001b[1;33m:\u001b[0m\u001b[1;33m\u001b[0m\u001b[1;33m\u001b[0m\u001b[0m\n",
      "\u001b[1;32mI:\\Program Files\\Python\\Python37\\lib\\site-packages\\pandas\\core\\ops.py\u001b[0m in \u001b[0;36m_comp_method_OBJECT_ARRAY\u001b[1;34m(op, x, y)\u001b[0m\n\u001b[0;32m   1120\u001b[0m         \u001b[0mresult\u001b[0m \u001b[1;33m=\u001b[0m \u001b[0mlibops\u001b[0m\u001b[1;33m.\u001b[0m\u001b[0mvec_compare\u001b[0m\u001b[1;33m(\u001b[0m\u001b[0mx\u001b[0m\u001b[1;33m,\u001b[0m \u001b[0my\u001b[0m\u001b[1;33m,\u001b[0m \u001b[0mop\u001b[0m\u001b[1;33m)\u001b[0m\u001b[1;33m\u001b[0m\u001b[1;33m\u001b[0m\u001b[0m\n\u001b[0;32m   1121\u001b[0m     \u001b[1;32melse\u001b[0m\u001b[1;33m:\u001b[0m\u001b[1;33m\u001b[0m\u001b[1;33m\u001b[0m\u001b[0m\n\u001b[1;32m-> 1122\u001b[1;33m         \u001b[0mresult\u001b[0m \u001b[1;33m=\u001b[0m \u001b[0mlibops\u001b[0m\u001b[1;33m.\u001b[0m\u001b[0mscalar_compare\u001b[0m\u001b[1;33m(\u001b[0m\u001b[0mx\u001b[0m\u001b[1;33m,\u001b[0m \u001b[0my\u001b[0m\u001b[1;33m,\u001b[0m \u001b[0mop\u001b[0m\u001b[1;33m)\u001b[0m\u001b[1;33m\u001b[0m\u001b[1;33m\u001b[0m\u001b[0m\n\u001b[0m\u001b[0;32m   1123\u001b[0m     \u001b[1;32mreturn\u001b[0m \u001b[0mresult\u001b[0m\u001b[1;33m\u001b[0m\u001b[1;33m\u001b[0m\u001b[0m\n\u001b[0;32m   1124\u001b[0m \u001b[1;33m\u001b[0m\u001b[0m\n",
      "\u001b[1;32mpandas\\_libs\\ops.pyx\u001b[0m in \u001b[0;36mpandas._libs.ops.scalar_compare\u001b[1;34m()\u001b[0m\n",
      "\u001b[1;31mTypeError\u001b[0m: '>' not supported between instances of 'str' and 'int'"
     ]
    }
   ],
   "source": [
    "OTHER_LOST_VALUE=0.00\n",
    "for n in range(0,tacaia2.KEY_SEQ.count()-1):\n",
    "    print('No.' + str(n))\n",
    "    acc=tacaia2.index[n][0]\n",
    "    mat=tacaia2.index[n][1]\n",
    "    in_mat=tacaia2.iloc[n,tacaia2.columns.get_loc('IN_MAT_NO')]\n",
    "    mat_type=tacaia2.iloc[n,tacaia2.columns.get_loc('MAT_TYPE')]\n",
    "    mat_wt=tacaia2.iloc[n,tacaia2.columns.get_loc('MAT_WT')]\n",
    "    mtrl_no=tacaia2.iloc[n,tacaia2.columns.get_loc('MTRL_NO')]\n",
    "    div_flag=tacaia2.iloc[n,tacaia2.columns.get_loc('DIVVY_FLAG')]\n",
    "    prod_code=tacaia2.iloc[n,tacaia2.columns.get_loc('PRODUCT_CODE')]\n",
    "    column_num_MAT_VALUE=tacaia2.columns.get_loc('MAT_VALUE')\n",
    "    column_num_MAT_PRICE=tacaia2.columns.get_loc('MAT_PRICE')\n",
    "    column_num_LOST_VALUE=tacaia2.columns.get_loc('LOST_VALUE')\n",
    "    column_num_LOST_PRICE=tacaia2.columns.get_loc('LOST_PRICE')\n",
    "    column_num_SALE_VALUE=tacaia2.columns.get_loc('SALE_VALUE')\n",
    "    column_num_SALE_PRICE=tacaia2.columns.get_loc('SALE_PRICE')\n",
    "    if acc=='01': #或者acaia2.iloc[n].name[1]\n",
    "        tacaia2.iloc[n,[column_num_MAT_VALUE,column_num_MAT_PRICE,column_num_LOST_VALUE,column_num_LOST_PRICE]]=list(ProducePrices(in_mat,acc,mat_type,mat_wt,mtrl_no).values())\n",
    "    elif acc=='33':\n",
    "        if div_flag=='0':\n",
    "            INPUT_VALUE=list(InputPrices(mat,prod_code,mtrl_no,mat_wt,acc).values())\n",
    "            tacaia2.iloc[n,[column_num_MAT_VALUE,column_num_MAT_PRICE,column_num_LOST_VALUE,column_num_LOST_PRICE]]=INPUT_VALUE[:4]\n",
    "            OTHER_LOST_VALUE=OTHER_LOST_VALUE+INPUT_VALUE[4]\n",
    "    elif acc=='03':\n",
    "        if div_flag=='0':\n",
    "            tacaia2.iloc[n,[column_num_MAT_VALUE,column_num_MAT_PRICE,column_num_LOST_VALUE,column_num_LOST_PRICE]]=list(ProducePrices(in_mat,acc,mat_type,mat_wt,mtrl_no).values())\n",
    "    elif acc=='31':\n",
    "        INPUT_VALUE=list(InputPrices(mat,prod_code,mtrl_no,mat_wt,acc).values())\n",
    "        tacaia2.iloc[n,[column_num_MAT_VALUE,column_num_MAT_PRICE,column_num_LOST_VALUE,column_num_LOST_PRICE]]=INPUT_VALUE[:4]\n",
    "        OTHER_LOST_VALUE=OTHER_LOST_VALUE+INPUT_VALUE[4]\n",
    "    elif acc in ['50','51']:\n",
    "        tacaia2.iloc[n,[column_num_SALE_VALUE,column_num_SALE_PRICE]]=list(SalePrices(prod_code,mat_wt).values())\n",
    "            \n",
    "    WriteSFC(prod_code,acc,tacaia2.iloc[n,column_num_MAT_VALUE],tacaia2.iloc[n,column_num_LOST_VALUE],tacaia2.iloc[n,column_num_SALE_VALUE],mat_wt)\n",
    "\n",
    "tacacmm.iloc[tacacmm['CRRT_OTPT_ACT_AMT'].rank(ascending=False)[0],tacacmm.columns.get_loc('CRRT_OTPT_ACT_AMT')]+=OTHER_LOST_VALUE"
   ]
  },
  {
   "cell_type": "code",
   "execution_count": 30,
   "metadata": {},
   "outputs": [],
   "source": [
    "tacaia2.to_excel('tacaia2-202007-r5.xlsx',merge_cells=False)"
   ]
  },
  {
   "cell_type": "code",
   "execution_count": 31,
   "metadata": {
    "tags": []
   },
   "outputs": [
    {
     "output_type": "stream",
     "name": "stdout",
     "text": "UNIT_CODE  SALE_ORDER_SUB_NO\nLA03       MD2007173301         4497\nName: KEY_SEQ, dtype: int64\n"
    }
   ],
   "source": [
    "print(tacaia2.loc[('01','B1804068AJAAA'),'KEY_SEQ'])"
   ]
  },
  {
   "cell_type": "code",
   "execution_count": 69,
   "metadata": {},
   "outputs": [
    {
     "output_type": "execute_result",
     "data": {
      "text/plain": "[0.0, 0.0, 0.0, 0.0]"
     },
     "metadata": {},
     "execution_count": 69
    }
   ],
   "source": [
    "list(ProducePrices(tacaia2.loc[('01','B1804068AJAAA'),'IN_MAT_NO'][0],'01',tacaia2.loc[('01','B1804068AJAAA'),'MAT_TYPE'][0],tacaia2.loc[('01','B1804068AJAAA'),'MAT_WT'][0],tacaia2.loc[('01','B1804068AJAAA'),'MTRL_NO'][0]).values())"
   ]
  },
  {
   "cell_type": "code",
   "execution_count": 72,
   "metadata": {},
   "outputs": [
    {
     "output_type": "execute_result",
     "data": {
      "text/plain": "0"
     },
     "metadata": {},
     "execution_count": 72
    }
   ],
   "source": [
    "tacaia2.loc['0' + '1'][(tacaia2.loc['0' + '1'].IN_MAT_NO=='B2007077AC') &(tacaia2.loc['0' + '1'].MAT_TYPE >3)].count()['MAT_WT']"
   ]
  },
  {
   "cell_type": "code",
   "execution_count": 71,
   "metadata": {},
   "outputs": [
    {
     "output_type": "execute_result",
     "data": {
      "text/plain": "[nan, nan, 0.0, 0.0, 0.0]"
     },
     "metadata": {},
     "execution_count": 71
    }
   ],
   "source": [
    "list(InputPrices('B2007077AC','10068Z10993','6',284.52,'31').values())[:5]"
   ]
  },
  {
   "cell_type": "code",
   "execution_count": 34,
   "metadata": {},
   "outputs": [
    {
     "output_type": "execute_result",
     "data": {
      "text/plain": "'10033Z3124'"
     },
     "metadata": {},
     "execution_count": 34
    }
   ],
   "source": [
    "tacaia2.loc[('31','B1804068AJAA'),'PRODUCT_CODE'][0]"
   ]
  },
  {
   "cell_type": "code",
   "execution_count": 35,
   "metadata": {},
   "outputs": [
    {
     "output_type": "execute_result",
     "data": {
      "text/plain": "                                                             REC_CREATOR  \\\nACCOUNT_TITLE_ITEM MAT_NO        UNIT_CODE SALE_ORDER_SUB_NO               \n33                 B1804068AJAA  LA01      MD2007173301           001161   \n03                 B1804068AJAA  LA01      MD2007173301           001161   \n31                 B1804068AJAA  LA01      MD2007173301           001161   \n01                 B1804068AJAAA LA03      MD2007173301           001161   \n50                 B1804068AJAAA LA03      MD2007173301           001161   \n\n                                                             REC_CREATE_TIME  \\\nACCOUNT_TITLE_ITEM MAT_NO        UNIT_CODE SALE_ORDER_SUB_NO                   \n33                 B1804068AJAA  LA01      MD2007173301       20200803132002   \n03                 B1804068AJAA  LA01      MD2007173301       20200803132002   \n31                 B1804068AJAA  LA01      MD2007173301       20200803132002   \n01                 B1804068AJAAA LA03      MD2007173301       20200803132002   \n50                 B1804068AJAAA LA03      MD2007173301       20200803132002   \n\n                                                             REC_REVISOR  \\\nACCOUNT_TITLE_ITEM MAT_NO        UNIT_CODE SALE_ORDER_SUB_NO               \n33                 B1804068AJAA  LA01      MD2007173301                    \n03                 B1804068AJAA  LA01      MD2007173301                    \n31                 B1804068AJAA  LA01      MD2007173301                    \n01                 B1804068AJAAA LA03      MD2007173301                    \n50                 B1804068AJAAA LA03      MD2007173301                    \n\n                                                             REC_REVISE_TIME  \\\nACCOUNT_TITLE_ITEM MAT_NO        UNIT_CODE SALE_ORDER_SUB_NO                   \n33                 B1804068AJAA  LA01      MD2007173301                        \n03                 B1804068AJAA  LA01      MD2007173301                        \n31                 B1804068AJAA  LA01      MD2007173301                        \n01                 B1804068AJAAA LA03      MD2007173301                        \n50                 B1804068AJAAA LA03      MD2007173301                        \n\n                                                             ARCHIVE_FLAG  \\\nACCOUNT_TITLE_ITEM MAT_NO        UNIT_CODE SALE_ORDER_SUB_NO                \n33                 B1804068AJAA  LA01      MD2007173301                     \n03                 B1804068AJAA  LA01      MD2007173301                     \n31                 B1804068AJAA  LA01      MD2007173301                     \n01                 B1804068AJAAA LA03      MD2007173301                     \n50                 B1804068AJAAA LA03      MD2007173301                     \n\n                                                             COMPANY_CODE  \\\nACCOUNT_TITLE_ITEM MAT_NO        UNIT_CODE SALE_ORDER_SUB_NO                \n33                 B1804068AJAA  LA01      MD2007173301                BH   \n03                 B1804068AJAA  LA01      MD2007173301                BH   \n31                 B1804068AJAA  LA01      MD2007173301                BH   \n01                 B1804068AJAAA LA03      MD2007173301                BH   \n50                 B1804068AJAAA LA03      MD2007173301                BH   \n\n                                                             COMPANY_CNAME  \\\nACCOUNT_TITLE_ITEM MAT_NO        UNIT_CODE SALE_ORDER_SUB_NO                 \n33                 B1804068AJAA  LA01      MD2007173301                      \n03                 B1804068AJAA  LA01      MD2007173301                      \n31                 B1804068AJAA  LA01      MD2007173301                      \n01                 B1804068AJAAA LA03      MD2007173301                      \n50                 B1804068AJAAA LA03      MD2007173301                      \n\n                                                               WHOLE_BACKLOG  \\\nACCOUNT_TITLE_ITEM MAT_NO        UNIT_CODE SALE_ORDER_SUB_NO                   \n33                 B1804068AJAA  LA01      MD2007173301       L0L4L1L2L3LK9A   \n03                 B1804068AJAA  LA01      MD2007173301       L0L4L1L2L3LK9A   \n31                 B1804068AJAA  LA01      MD2007173301       L0L4L1L2L3LK9A   \n01                 B1804068AJAAA LA03      MD2007173301       L0L4L1L2L3LK9A   \n50                 B1804068AJAAA LA03      MD2007173301       L0L4L1L2L3LK9A   \n\n                                                             WHOLE_BACKLOG_ACT  \\\nACCOUNT_TITLE_ITEM MAT_NO        UNIT_CODE SALE_ORDER_SUB_NO                     \n33                 B1804068AJAA  LA01      MD2007173301                   LWL1   \n03                 B1804068AJAA  LA01      MD2007173301                   LWL1   \n31                 B1804068AJAA  LA01      MD2007173301                   LWL1   \n01                 B1804068AJAAA LA03      MD2007173301                 LWL1L3   \n50                 B1804068AJAAA LA03      MD2007173301                 LWL1L3   \n\n                                                             JOB_CODE  \\\nACCOUNT_TITLE_ITEM MAT_NO        UNIT_CODE SALE_ORDER_SUB_NO            \n33                 B1804068AJAA  LA01      MD2007173301          LA10   \n03                 B1804068AJAA  LA01      MD2007173301          LA10   \n31                 B1804068AJAA  LA01      MD2007173301          LA18   \n01                 B1804068AJAAA LA03      MD2007173301          LA18   \n50                 B1804068AJAAA LA03      MD2007173301          LA18   \n\n                                                                ...      \\\nACCOUNT_TITLE_ITEM MAT_NO        UNIT_CODE SALE_ORDER_SUB_NO    ...       \n33                 B1804068AJAA  LA01      MD2007173301         ...       \n03                 B1804068AJAA  LA01      MD2007173301         ...       \n31                 B1804068AJAA  LA01      MD2007173301         ...       \n01                 B1804068AJAAA LA03      MD2007173301         ...       \n50                 B1804068AJAAA LA03      MD2007173301         ...       \n\n                                                             SURFACE_PLATE_CODE  \\\nACCOUNT_TITLE_ITEM MAT_NO        UNIT_CODE SALE_ORDER_SUB_NO                      \n33                 B1804068AJAA  LA01      MD2007173301                       1   \n03                 B1804068AJAA  LA01      MD2007173301                       1   \n31                 B1804068AJAA  LA01      MD2007173301                       1   \n01                 B1804068AJAAA LA03      MD2007173301                       1   \n50                 B1804068AJAAA LA03      MD2007173301                       1   \n\n                                                             STD_CODE  \\\nACCOUNT_TITLE_ITEM MAT_NO        UNIT_CODE SALE_ORDER_SUB_NO            \n33                 B1804068AJAA  LA01      MD2007173301                 \n03                 B1804068AJAA  LA01      MD2007173301                 \n31                 B1804068AJAA  LA01      MD2007173301            F1   \n01                 B1804068AJAAA LA03      MD2007173301            F1   \n50                 B1804068AJAAA LA03      MD2007173301                 \n\n                                                             UNDERLAY_CODE  \\\nACCOUNT_TITLE_ITEM MAT_NO        UNIT_CODE SALE_ORDER_SUB_NO                 \n33                 B1804068AJAA  LA01      MD2007173301                      \n03                 B1804068AJAA  LA01      MD2007173301                      \n31                 B1804068AJAA  LA01      MD2007173301              AM001   \n01                 B1804068AJAAA LA03      MD2007173301              AM001   \n50                 B1804068AJAAA LA03      MD2007173301                      \n\n                                                              SLEEVE_STYLE  \\\nACCOUNT_TITLE_ITEM MAT_NO        UNIT_CODE SALE_ORDER_SUB_NO                 \n33                 B1804068AJAA  LA01      MD2007173301                      \n03                 B1804068AJAA  LA01      MD2007173301                      \n31                 B1804068AJAA  LA01      MD2007173301                      \n01                 B1804068AJAAA LA03      MD2007173301                      \n50                 B1804068AJAAA LA03      MD2007173301                      \n\n                                                             MAT_VALUE  \\\nACCOUNT_TITLE_ITEM MAT_NO        UNIT_CODE SALE_ORDER_SUB_NO             \n33                 B1804068AJAA  LA01      MD2007173301            0.0   \n03                 B1804068AJAA  LA01      MD2007173301            0.0   \n31                 B1804068AJAA  LA01      MD2007173301            0.0   \n01                 B1804068AJAAA LA03      MD2007173301            0.0   \n50                 B1804068AJAAA LA03      MD2007173301            0.0   \n\n                                                             MAT_PRICE  \\\nACCOUNT_TITLE_ITEM MAT_NO        UNIT_CODE SALE_ORDER_SUB_NO             \n33                 B1804068AJAA  LA01      MD2007173301            0.0   \n03                 B1804068AJAA  LA01      MD2007173301            0.0   \n31                 B1804068AJAA  LA01      MD2007173301            0.0   \n01                 B1804068AJAAA LA03      MD2007173301            0.0   \n50                 B1804068AJAAA LA03      MD2007173301            0.0   \n\n                                                             LOST_VALUE  \\\nACCOUNT_TITLE_ITEM MAT_NO        UNIT_CODE SALE_ORDER_SUB_NO              \n33                 B1804068AJAA  LA01      MD2007173301             0.0   \n03                 B1804068AJAA  LA01      MD2007173301             0.0   \n31                 B1804068AJAA  LA01      MD2007173301             0.0   \n01                 B1804068AJAAA LA03      MD2007173301             0.0   \n50                 B1804068AJAAA LA03      MD2007173301             0.0   \n\n                                                             LOST_PRICE  \\\nACCOUNT_TITLE_ITEM MAT_NO        UNIT_CODE SALE_ORDER_SUB_NO              \n33                 B1804068AJAA  LA01      MD2007173301             0.0   \n03                 B1804068AJAA  LA01      MD2007173301             0.0   \n31                 B1804068AJAA  LA01      MD2007173301             0.0   \n01                 B1804068AJAAA LA03      MD2007173301             0.0   \n50                 B1804068AJAAA LA03      MD2007173301             0.0   \n\n                                                             SALE_VALUE  \\\nACCOUNT_TITLE_ITEM MAT_NO        UNIT_CODE SALE_ORDER_SUB_NO              \n33                 B1804068AJAA  LA01      MD2007173301             0.0   \n03                 B1804068AJAA  LA01      MD2007173301             0.0   \n31                 B1804068AJAA  LA01      MD2007173301             0.0   \n01                 B1804068AJAAA LA03      MD2007173301             0.0   \n50                 B1804068AJAAA LA03      MD2007173301             0.0   \n\n                                                             SALE_PRICE  \nACCOUNT_TITLE_ITEM MAT_NO        UNIT_CODE SALE_ORDER_SUB_NO             \n33                 B1804068AJAA  LA01      MD2007173301             0.0  \n03                 B1804068AJAA  LA01      MD2007173301             0.0  \n31                 B1804068AJAA  LA01      MD2007173301             0.0  \n01                 B1804068AJAAA LA03      MD2007173301             0.0  \n50                 B1804068AJAAA LA03      MD2007173301             0.0  \n\n[5 rows x 78 columns]",
      "text/html": "<div>\n<style scoped>\n    .dataframe tbody tr th:only-of-type {\n        vertical-align: middle;\n    }\n\n    .dataframe tbody tr th {\n        vertical-align: top;\n    }\n\n    .dataframe thead th {\n        text-align: right;\n    }\n</style>\n<table border=\"1\" class=\"dataframe\">\n  <thead>\n    <tr style=\"text-align: right;\">\n      <th></th>\n      <th></th>\n      <th></th>\n      <th></th>\n      <th>REC_CREATOR</th>\n      <th>REC_CREATE_TIME</th>\n      <th>REC_REVISOR</th>\n      <th>REC_REVISE_TIME</th>\n      <th>ARCHIVE_FLAG</th>\n      <th>COMPANY_CODE</th>\n      <th>COMPANY_CNAME</th>\n      <th>WHOLE_BACKLOG</th>\n      <th>WHOLE_BACKLOG_ACT</th>\n      <th>JOB_CODE</th>\n      <th>...</th>\n      <th>SURFACE_PLATE_CODE</th>\n      <th>STD_CODE</th>\n      <th>UNDERLAY_CODE</th>\n      <th>SLEEVE_STYLE</th>\n      <th>MAT_VALUE</th>\n      <th>MAT_PRICE</th>\n      <th>LOST_VALUE</th>\n      <th>LOST_PRICE</th>\n      <th>SALE_VALUE</th>\n      <th>SALE_PRICE</th>\n    </tr>\n    <tr>\n      <th>ACCOUNT_TITLE_ITEM</th>\n      <th>MAT_NO</th>\n      <th>UNIT_CODE</th>\n      <th>SALE_ORDER_SUB_NO</th>\n      <th></th>\n      <th></th>\n      <th></th>\n      <th></th>\n      <th></th>\n      <th></th>\n      <th></th>\n      <th></th>\n      <th></th>\n      <th></th>\n      <th></th>\n      <th></th>\n      <th></th>\n      <th></th>\n      <th></th>\n      <th></th>\n      <th></th>\n      <th></th>\n      <th></th>\n      <th></th>\n      <th></th>\n    </tr>\n  </thead>\n  <tbody>\n    <tr>\n      <th>33</th>\n      <th>B1804068AJAA</th>\n      <th>LA01</th>\n      <th>MD2007173301</th>\n      <td>001161</td>\n      <td>20200803132002</td>\n      <td></td>\n      <td></td>\n      <td></td>\n      <td>BH</td>\n      <td></td>\n      <td>L0L4L1L2L3LK9A</td>\n      <td>LWL1</td>\n      <td>LA10</td>\n      <td>...</td>\n      <td>1</td>\n      <td></td>\n      <td></td>\n      <td></td>\n      <td>0.0</td>\n      <td>0.0</td>\n      <td>0.0</td>\n      <td>0.0</td>\n      <td>0.0</td>\n      <td>0.0</td>\n    </tr>\n    <tr>\n      <th>03</th>\n      <th>B1804068AJAA</th>\n      <th>LA01</th>\n      <th>MD2007173301</th>\n      <td>001161</td>\n      <td>20200803132002</td>\n      <td></td>\n      <td></td>\n      <td></td>\n      <td>BH</td>\n      <td></td>\n      <td>L0L4L1L2L3LK9A</td>\n      <td>LWL1</td>\n      <td>LA10</td>\n      <td>...</td>\n      <td>1</td>\n      <td></td>\n      <td></td>\n      <td></td>\n      <td>0.0</td>\n      <td>0.0</td>\n      <td>0.0</td>\n      <td>0.0</td>\n      <td>0.0</td>\n      <td>0.0</td>\n    </tr>\n    <tr>\n      <th>31</th>\n      <th>B1804068AJAA</th>\n      <th>LA01</th>\n      <th>MD2007173301</th>\n      <td>001161</td>\n      <td>20200803132002</td>\n      <td></td>\n      <td></td>\n      <td></td>\n      <td>BH</td>\n      <td></td>\n      <td>L0L4L1L2L3LK9A</td>\n      <td>LWL1</td>\n      <td>LA18</td>\n      <td>...</td>\n      <td>1</td>\n      <td>F1</td>\n      <td>AM001</td>\n      <td></td>\n      <td>0.0</td>\n      <td>0.0</td>\n      <td>0.0</td>\n      <td>0.0</td>\n      <td>0.0</td>\n      <td>0.0</td>\n    </tr>\n    <tr>\n      <th>01</th>\n      <th>B1804068AJAAA</th>\n      <th>LA03</th>\n      <th>MD2007173301</th>\n      <td>001161</td>\n      <td>20200803132002</td>\n      <td></td>\n      <td></td>\n      <td></td>\n      <td>BH</td>\n      <td></td>\n      <td>L0L4L1L2L3LK9A</td>\n      <td>LWL1L3</td>\n      <td>LA18</td>\n      <td>...</td>\n      <td>1</td>\n      <td>F1</td>\n      <td>AM001</td>\n      <td></td>\n      <td>0.0</td>\n      <td>0.0</td>\n      <td>0.0</td>\n      <td>0.0</td>\n      <td>0.0</td>\n      <td>0.0</td>\n    </tr>\n    <tr>\n      <th>50</th>\n      <th>B1804068AJAAA</th>\n      <th>LA03</th>\n      <th>MD2007173301</th>\n      <td>001161</td>\n      <td>20200803132002</td>\n      <td></td>\n      <td></td>\n      <td></td>\n      <td>BH</td>\n      <td></td>\n      <td>L0L4L1L2L3LK9A</td>\n      <td>LWL1L3</td>\n      <td>LA18</td>\n      <td>...</td>\n      <td>1</td>\n      <td></td>\n      <td></td>\n      <td></td>\n      <td>0.0</td>\n      <td>0.0</td>\n      <td>0.0</td>\n      <td>0.0</td>\n      <td>0.0</td>\n      <td>0.0</td>\n    </tr>\n  </tbody>\n</table>\n<p>5 rows × 78 columns</p>\n</div>"
     },
     "metadata": {},
     "execution_count": 35
    }
   ],
   "source": [
    "tacaia2.head()"
   ]
  },
  {
   "cell_type": "code",
   "execution_count": 73,
   "metadata": {},
   "outputs": [],
   "source": [
    "tacaia2.loc[('31','B1804068AJAA'),['MAT_VALUE','MAT_PRICE','LOST_VALUE','LOST_PRICE']]=list(InputPrices('B1804068AJAA','10033Z3124','3',122.96,'31').values())[:4]"
   ]
  },
  {
   "cell_type": "code",
   "execution_count": 76,
   "metadata": {},
   "outputs": [
    {
     "output_type": "error",
     "ename": "KeyError",
     "evalue": "'B1907017ADG'",
     "traceback": [
      "\u001b[1;31m---------------------------------------------------------------------------\u001b[0m",
      "\u001b[1;31mKeyError\u001b[0m                                  Traceback (most recent call last)",
      "\u001b[1;32mI:\\Program Files\\Python\\Python37\\lib\\site-packages\\pandas\\core\\indexes\\base.py\u001b[0m in \u001b[0;36mget_loc\u001b[1;34m(self, key, method, tolerance)\u001b[0m\n\u001b[0;32m   3077\u001b[0m             \u001b[1;32mtry\u001b[0m\u001b[1;33m:\u001b[0m\u001b[1;33m\u001b[0m\u001b[1;33m\u001b[0m\u001b[0m\n\u001b[1;32m-> 3078\u001b[1;33m                 \u001b[1;32mreturn\u001b[0m \u001b[0mself\u001b[0m\u001b[1;33m.\u001b[0m\u001b[0m_engine\u001b[0m\u001b[1;33m.\u001b[0m\u001b[0mget_loc\u001b[0m\u001b[1;33m(\u001b[0m\u001b[0mkey\u001b[0m\u001b[1;33m)\u001b[0m\u001b[1;33m\u001b[0m\u001b[1;33m\u001b[0m\u001b[0m\n\u001b[0m\u001b[0;32m   3079\u001b[0m             \u001b[1;32mexcept\u001b[0m \u001b[0mKeyError\u001b[0m\u001b[1;33m:\u001b[0m\u001b[1;33m\u001b[0m\u001b[1;33m\u001b[0m\u001b[0m\n",
      "\u001b[1;32mpandas\\_libs\\index.pyx\u001b[0m in \u001b[0;36mpandas._libs.index.IndexEngine.get_loc\u001b[1;34m()\u001b[0m\n",
      "\u001b[1;32mpandas\\_libs\\index.pyx\u001b[0m in \u001b[0;36mpandas._libs.index.IndexEngine.get_loc\u001b[1;34m()\u001b[0m\n",
      "\u001b[1;32mpandas\\_libs\\hashtable_class_helper.pxi\u001b[0m in \u001b[0;36mpandas._libs.hashtable.PyObjectHashTable.get_item\u001b[1;34m()\u001b[0m\n",
      "\u001b[1;32mpandas\\_libs\\hashtable_class_helper.pxi\u001b[0m in \u001b[0;36mpandas._libs.hashtable.PyObjectHashTable.get_item\u001b[1;34m()\u001b[0m\n",
      "\u001b[1;31mKeyError\u001b[0m: 'B1907017ADG'",
      "\nDuring handling of the above exception, another exception occurred:\n",
      "\u001b[1;31mKeyError\u001b[0m                                  Traceback (most recent call last)",
      "\u001b[1;32m<ipython-input-76-b715edb5fe87>\u001b[0m in \u001b[0;36m<module>\u001b[1;34m\u001b[0m\n\u001b[1;32m----> 1\u001b[1;33m \u001b[0mProducePrices\u001b[0m\u001b[1;33m(\u001b[0m\u001b[1;34m'B1907017ADG'\u001b[0m\u001b[1;33m,\u001b[0m\u001b[1;34m'01'\u001b[0m\u001b[1;33m,\u001b[0m\u001b[1;36m3\u001b[0m\u001b[1;33m,\u001b[0m\u001b[1;36m594.23\u001b[0m\u001b[1;33m,\u001b[0m\u001b[1;34m'5'\u001b[0m\u001b[1;33m)\u001b[0m\u001b[1;33m\u001b[0m\u001b[1;33m\u001b[0m\u001b[0m\n\u001b[0m",
      "\u001b[1;32m<ipython-input-68-1927296fb247>\u001b[0m in \u001b[0;36mProducePrices\u001b[1;34m(INPUT_MAT, ACC_TITLE, MAT_TYPE, MAT_WT, MTRL_NO)\u001b[0m\n\u001b[0;32m      2\u001b[0m     \u001b[1;31m#tacaia2.loc[('3'+ACC_TITLE[1],Input_MAT),'']\u001b[0m\u001b[1;33m\u001b[0m\u001b[1;33m\u001b[0m\u001b[1;33m\u001b[0m\u001b[0m\n\u001b[0;32m      3\u001b[0m     \u001b[1;32mif\u001b[0m \u001b[0mMAT_TYPE\u001b[0m \u001b[1;33m<=\u001b[0m\u001b[1;36m3\u001b[0m\u001b[1;33m:\u001b[0m\u001b[1;33m\u001b[0m\u001b[1;33m\u001b[0m\u001b[0m\n\u001b[1;32m----> 4\u001b[1;33m         \u001b[0mMatPrice\u001b[0m\u001b[1;33m=\u001b[0m\u001b[0mtacaia2\u001b[0m\u001b[1;33m.\u001b[0m\u001b[0mloc\u001b[0m\u001b[1;33m[\u001b[0m\u001b[1;33m(\u001b[0m\u001b[1;34m'3'\u001b[0m\u001b[1;33m+\u001b[0m\u001b[0mACC_TITLE\u001b[0m\u001b[1;33m[\u001b[0m\u001b[1;36m1\u001b[0m\u001b[1;33m]\u001b[0m\u001b[1;33m,\u001b[0m\u001b[0mINPUT_MAT\u001b[0m\u001b[1;33m)\u001b[0m\u001b[1;33m,\u001b[0m\u001b[1;34m'MAT_PRICE'\u001b[0m\u001b[1;33m]\u001b[0m\u001b[1;33m[\u001b[0m\u001b[1;36m0\u001b[0m\u001b[1;33m]\u001b[0m\u001b[1;33m\u001b[0m\u001b[1;33m\u001b[0m\u001b[0m\n\u001b[0m\u001b[0;32m      5\u001b[0m         \u001b[0mMatValue\u001b[0m\u001b[1;33m=\u001b[0m\u001b[0mMatPrice\u001b[0m\u001b[1;33m*\u001b[0m\u001b[0mMAT_WT\u001b[0m\u001b[1;33m\u001b[0m\u001b[1;33m\u001b[0m\u001b[0m\n\u001b[0;32m      6\u001b[0m         \u001b[0mLostPrice\u001b[0m\u001b[1;33m=\u001b[0m\u001b[0mtacaia2\u001b[0m\u001b[1;33m.\u001b[0m\u001b[0mloc\u001b[0m\u001b[1;33m[\u001b[0m\u001b[1;33m(\u001b[0m\u001b[1;34m'3'\u001b[0m\u001b[1;33m+\u001b[0m\u001b[0mACC_TITLE\u001b[0m\u001b[1;33m[\u001b[0m\u001b[1;36m1\u001b[0m\u001b[1;33m]\u001b[0m\u001b[1;33m,\u001b[0m\u001b[0mINPUT_MAT\u001b[0m\u001b[1;33m)\u001b[0m\u001b[1;33m,\u001b[0m\u001b[1;34m'LOST_PRICE'\u001b[0m\u001b[1;33m]\u001b[0m\u001b[1;33m[\u001b[0m\u001b[1;36m0\u001b[0m\u001b[1;33m]\u001b[0m\u001b[1;33m\u001b[0m\u001b[1;33m\u001b[0m\u001b[0m\n",
      "\u001b[1;32mI:\\Program Files\\Python\\Python37\\lib\\site-packages\\pandas\\core\\indexing.py\u001b[0m in \u001b[0;36m__getitem__\u001b[1;34m(self, key)\u001b[0m\n\u001b[0;32m   1470\u001b[0m             \u001b[1;32mexcept\u001b[0m \u001b[1;33m(\u001b[0m\u001b[0mKeyError\u001b[0m\u001b[1;33m,\u001b[0m \u001b[0mIndexError\u001b[0m\u001b[1;33m)\u001b[0m\u001b[1;33m:\u001b[0m\u001b[1;33m\u001b[0m\u001b[1;33m\u001b[0m\u001b[0m\n\u001b[0;32m   1471\u001b[0m                 \u001b[1;32mpass\u001b[0m\u001b[1;33m\u001b[0m\u001b[1;33m\u001b[0m\u001b[0m\n\u001b[1;32m-> 1472\u001b[1;33m             \u001b[1;32mreturn\u001b[0m \u001b[0mself\u001b[0m\u001b[1;33m.\u001b[0m\u001b[0m_getitem_tuple\u001b[0m\u001b[1;33m(\u001b[0m\u001b[0mkey\u001b[0m\u001b[1;33m)\u001b[0m\u001b[1;33m\u001b[0m\u001b[1;33m\u001b[0m\u001b[0m\n\u001b[0m\u001b[0;32m   1473\u001b[0m         \u001b[1;32melse\u001b[0m\u001b[1;33m:\u001b[0m\u001b[1;33m\u001b[0m\u001b[1;33m\u001b[0m\u001b[0m\n\u001b[0;32m   1474\u001b[0m             \u001b[1;31m# we by definition only have the 0th axis\u001b[0m\u001b[1;33m\u001b[0m\u001b[1;33m\u001b[0m\u001b[1;33m\u001b[0m\u001b[0m\n",
      "\u001b[1;32mI:\\Program Files\\Python\\Python37\\lib\\site-packages\\pandas\\core\\indexing.py\u001b[0m in \u001b[0;36m_getitem_tuple\u001b[1;34m(self, tup)\u001b[0m\n\u001b[0;32m    868\u001b[0m     \u001b[1;32mdef\u001b[0m \u001b[0m_getitem_tuple\u001b[0m\u001b[1;33m(\u001b[0m\u001b[0mself\u001b[0m\u001b[1;33m,\u001b[0m \u001b[0mtup\u001b[0m\u001b[1;33m)\u001b[0m\u001b[1;33m:\u001b[0m\u001b[1;33m\u001b[0m\u001b[1;33m\u001b[0m\u001b[0m\n\u001b[0;32m    869\u001b[0m         \u001b[1;32mtry\u001b[0m\u001b[1;33m:\u001b[0m\u001b[1;33m\u001b[0m\u001b[1;33m\u001b[0m\u001b[0m\n\u001b[1;32m--> 870\u001b[1;33m             \u001b[1;32mreturn\u001b[0m \u001b[0mself\u001b[0m\u001b[1;33m.\u001b[0m\u001b[0m_getitem_lowerdim\u001b[0m\u001b[1;33m(\u001b[0m\u001b[0mtup\u001b[0m\u001b[1;33m)\u001b[0m\u001b[1;33m\u001b[0m\u001b[1;33m\u001b[0m\u001b[0m\n\u001b[0m\u001b[0;32m    871\u001b[0m         \u001b[1;32mexcept\u001b[0m \u001b[0mIndexingError\u001b[0m\u001b[1;33m:\u001b[0m\u001b[1;33m\u001b[0m\u001b[1;33m\u001b[0m\u001b[0m\n\u001b[0;32m    872\u001b[0m             \u001b[1;32mpass\u001b[0m\u001b[1;33m\u001b[0m\u001b[1;33m\u001b[0m\u001b[0m\n",
      "\u001b[1;32mI:\\Program Files\\Python\\Python37\\lib\\site-packages\\pandas\\core\\indexing.py\u001b[0m in \u001b[0;36m_getitem_lowerdim\u001b[1;34m(self, tup)\u001b[0m\n\u001b[0;32m    977\u001b[0m         \u001b[1;31m# we may have a nested tuples indexer here\u001b[0m\u001b[1;33m\u001b[0m\u001b[1;33m\u001b[0m\u001b[1;33m\u001b[0m\u001b[0m\n\u001b[0;32m    978\u001b[0m         \u001b[1;32mif\u001b[0m \u001b[0mself\u001b[0m\u001b[1;33m.\u001b[0m\u001b[0m_is_nested_tuple_indexer\u001b[0m\u001b[1;33m(\u001b[0m\u001b[0mtup\u001b[0m\u001b[1;33m)\u001b[0m\u001b[1;33m:\u001b[0m\u001b[1;33m\u001b[0m\u001b[1;33m\u001b[0m\u001b[0m\n\u001b[1;32m--> 979\u001b[1;33m             \u001b[1;32mreturn\u001b[0m \u001b[0mself\u001b[0m\u001b[1;33m.\u001b[0m\u001b[0m_getitem_nested_tuple\u001b[0m\u001b[1;33m(\u001b[0m\u001b[0mtup\u001b[0m\u001b[1;33m)\u001b[0m\u001b[1;33m\u001b[0m\u001b[1;33m\u001b[0m\u001b[0m\n\u001b[0m\u001b[0;32m    980\u001b[0m \u001b[1;33m\u001b[0m\u001b[0m\n\u001b[0;32m    981\u001b[0m         \u001b[1;31m# we maybe be using a tuple to represent multiple dimensions here\u001b[0m\u001b[1;33m\u001b[0m\u001b[1;33m\u001b[0m\u001b[1;33m\u001b[0m\u001b[0m\n",
      "\u001b[1;32mI:\\Program Files\\Python\\Python37\\lib\\site-packages\\pandas\\core\\indexing.py\u001b[0m in \u001b[0;36m_getitem_nested_tuple\u001b[1;34m(self, tup)\u001b[0m\n\u001b[0;32m   1056\u001b[0m \u001b[1;33m\u001b[0m\u001b[0m\n\u001b[0;32m   1057\u001b[0m             \u001b[0mcurrent_ndim\u001b[0m \u001b[1;33m=\u001b[0m \u001b[0mobj\u001b[0m\u001b[1;33m.\u001b[0m\u001b[0mndim\u001b[0m\u001b[1;33m\u001b[0m\u001b[1;33m\u001b[0m\u001b[0m\n\u001b[1;32m-> 1058\u001b[1;33m             \u001b[0mobj\u001b[0m \u001b[1;33m=\u001b[0m \u001b[0mgetattr\u001b[0m\u001b[1;33m(\u001b[0m\u001b[0mobj\u001b[0m\u001b[1;33m,\u001b[0m \u001b[0mself\u001b[0m\u001b[1;33m.\u001b[0m\u001b[0mname\u001b[0m\u001b[1;33m)\u001b[0m\u001b[1;33m.\u001b[0m\u001b[0m_getitem_axis\u001b[0m\u001b[1;33m(\u001b[0m\u001b[0mkey\u001b[0m\u001b[1;33m,\u001b[0m \u001b[0maxis\u001b[0m\u001b[1;33m=\u001b[0m\u001b[0maxis\u001b[0m\u001b[1;33m)\u001b[0m\u001b[1;33m\u001b[0m\u001b[1;33m\u001b[0m\u001b[0m\n\u001b[0m\u001b[0;32m   1059\u001b[0m             \u001b[0maxis\u001b[0m \u001b[1;33m+=\u001b[0m \u001b[1;36m1\u001b[0m\u001b[1;33m\u001b[0m\u001b[1;33m\u001b[0m\u001b[0m\n\u001b[0;32m   1060\u001b[0m \u001b[1;33m\u001b[0m\u001b[0m\n",
      "\u001b[1;32mI:\\Program Files\\Python\\Python37\\lib\\site-packages\\pandas\\core\\indexing.py\u001b[0m in \u001b[0;36m_getitem_axis\u001b[1;34m(self, key, axis)\u001b[0m\n\u001b[0;32m   1910\u001b[0m         \u001b[1;31m# fall thru to straight lookup\u001b[0m\u001b[1;33m\u001b[0m\u001b[1;33m\u001b[0m\u001b[1;33m\u001b[0m\u001b[0m\n\u001b[0;32m   1911\u001b[0m         \u001b[0mself\u001b[0m\u001b[1;33m.\u001b[0m\u001b[0m_validate_key\u001b[0m\u001b[1;33m(\u001b[0m\u001b[0mkey\u001b[0m\u001b[1;33m,\u001b[0m \u001b[0maxis\u001b[0m\u001b[1;33m)\u001b[0m\u001b[1;33m\u001b[0m\u001b[1;33m\u001b[0m\u001b[0m\n\u001b[1;32m-> 1912\u001b[1;33m         \u001b[1;32mreturn\u001b[0m \u001b[0mself\u001b[0m\u001b[1;33m.\u001b[0m\u001b[0m_get_label\u001b[0m\u001b[1;33m(\u001b[0m\u001b[0mkey\u001b[0m\u001b[1;33m,\u001b[0m \u001b[0maxis\u001b[0m\u001b[1;33m=\u001b[0m\u001b[0maxis\u001b[0m\u001b[1;33m)\u001b[0m\u001b[1;33m\u001b[0m\u001b[1;33m\u001b[0m\u001b[0m\n\u001b[0m\u001b[0;32m   1913\u001b[0m \u001b[1;33m\u001b[0m\u001b[0m\n\u001b[0;32m   1914\u001b[0m \u001b[1;33m\u001b[0m\u001b[0m\n",
      "\u001b[1;32mI:\\Program Files\\Python\\Python37\\lib\\site-packages\\pandas\\core\\indexing.py\u001b[0m in \u001b[0;36m_get_label\u001b[1;34m(self, label, axis)\u001b[0m\n\u001b[0;32m    138\u001b[0m             \u001b[1;32mraise\u001b[0m \u001b[0mIndexingError\u001b[0m\u001b[1;33m(\u001b[0m\u001b[1;34m'no slices here, handle elsewhere'\u001b[0m\u001b[1;33m)\u001b[0m\u001b[1;33m\u001b[0m\u001b[1;33m\u001b[0m\u001b[0m\n\u001b[0;32m    139\u001b[0m \u001b[1;33m\u001b[0m\u001b[0m\n\u001b[1;32m--> 140\u001b[1;33m         \u001b[1;32mreturn\u001b[0m \u001b[0mself\u001b[0m\u001b[1;33m.\u001b[0m\u001b[0mobj\u001b[0m\u001b[1;33m.\u001b[0m\u001b[0m_xs\u001b[0m\u001b[1;33m(\u001b[0m\u001b[0mlabel\u001b[0m\u001b[1;33m,\u001b[0m \u001b[0maxis\u001b[0m\u001b[1;33m=\u001b[0m\u001b[0maxis\u001b[0m\u001b[1;33m)\u001b[0m\u001b[1;33m\u001b[0m\u001b[1;33m\u001b[0m\u001b[0m\n\u001b[0m\u001b[0;32m    141\u001b[0m \u001b[1;33m\u001b[0m\u001b[0m\n\u001b[0;32m    142\u001b[0m     \u001b[1;32mdef\u001b[0m \u001b[0m_get_loc\u001b[0m\u001b[1;33m(\u001b[0m\u001b[0mself\u001b[0m\u001b[1;33m,\u001b[0m \u001b[0mkey\u001b[0m\u001b[1;33m,\u001b[0m \u001b[0maxis\u001b[0m\u001b[1;33m=\u001b[0m\u001b[1;32mNone\u001b[0m\u001b[1;33m)\u001b[0m\u001b[1;33m:\u001b[0m\u001b[1;33m\u001b[0m\u001b[1;33m\u001b[0m\u001b[0m\n",
      "\u001b[1;32mI:\\Program Files\\Python\\Python37\\lib\\site-packages\\pandas\\core\\generic.py\u001b[0m in \u001b[0;36mxs\u001b[1;34m(self, key, axis, level, drop_level)\u001b[0m\n\u001b[0;32m   2983\u001b[0m         \u001b[1;32mif\u001b[0m \u001b[0misinstance\u001b[0m\u001b[1;33m(\u001b[0m\u001b[0mindex\u001b[0m\u001b[1;33m,\u001b[0m \u001b[0mMultiIndex\u001b[0m\u001b[1;33m)\u001b[0m\u001b[1;33m:\u001b[0m\u001b[1;33m\u001b[0m\u001b[1;33m\u001b[0m\u001b[0m\n\u001b[0;32m   2984\u001b[0m             loc, new_index = self.index.get_loc_level(key,\n\u001b[1;32m-> 2985\u001b[1;33m                                                       drop_level=drop_level)\n\u001b[0m\u001b[0;32m   2986\u001b[0m         \u001b[1;32melse\u001b[0m\u001b[1;33m:\u001b[0m\u001b[1;33m\u001b[0m\u001b[1;33m\u001b[0m\u001b[0m\n\u001b[0;32m   2987\u001b[0m             \u001b[0mloc\u001b[0m \u001b[1;33m=\u001b[0m \u001b[0mself\u001b[0m\u001b[1;33m.\u001b[0m\u001b[0mindex\u001b[0m\u001b[1;33m.\u001b[0m\u001b[0mget_loc\u001b[0m\u001b[1;33m(\u001b[0m\u001b[0mkey\u001b[0m\u001b[1;33m)\u001b[0m\u001b[1;33m\u001b[0m\u001b[1;33m\u001b[0m\u001b[0m\n",
      "\u001b[1;32mI:\\Program Files\\Python\\Python37\\lib\\site-packages\\pandas\\core\\indexes\\multi.py\u001b[0m in \u001b[0;36mget_loc_level\u001b[1;34m(self, key, level, drop_level)\u001b[0m\n\u001b[0;32m   2385\u001b[0m                     \u001b[1;32mreturn\u001b[0m \u001b[1;33m(\u001b[0m\u001b[0mself\u001b[0m\u001b[1;33m.\u001b[0m\u001b[0m_engine\u001b[0m\u001b[1;33m.\u001b[0m\u001b[0mget_loc\u001b[0m\u001b[1;33m(\u001b[0m\u001b[0mkey\u001b[0m\u001b[1;33m)\u001b[0m\u001b[1;33m,\u001b[0m \u001b[1;32mNone\u001b[0m\u001b[1;33m)\u001b[0m\u001b[1;33m\u001b[0m\u001b[1;33m\u001b[0m\u001b[0m\n\u001b[0;32m   2386\u001b[0m                 \u001b[1;32melse\u001b[0m\u001b[1;33m:\u001b[0m\u001b[1;33m\u001b[0m\u001b[1;33m\u001b[0m\u001b[0m\n\u001b[1;32m-> 2387\u001b[1;33m                     \u001b[1;32mreturn\u001b[0m \u001b[0mpartial_selection\u001b[0m\u001b[1;33m(\u001b[0m\u001b[0mkey\u001b[0m\u001b[1;33m)\u001b[0m\u001b[1;33m\u001b[0m\u001b[1;33m\u001b[0m\u001b[0m\n\u001b[0m\u001b[0;32m   2388\u001b[0m             \u001b[1;32melse\u001b[0m\u001b[1;33m:\u001b[0m\u001b[1;33m\u001b[0m\u001b[1;33m\u001b[0m\u001b[0m\n\u001b[0;32m   2389\u001b[0m                 \u001b[0mindexer\u001b[0m \u001b[1;33m=\u001b[0m \u001b[1;32mNone\u001b[0m\u001b[1;33m\u001b[0m\u001b[1;33m\u001b[0m\u001b[0m\n",
      "\u001b[1;32mI:\\Program Files\\Python\\Python37\\lib\\site-packages\\pandas\\core\\indexes\\multi.py\u001b[0m in \u001b[0;36mpartial_selection\u001b[1;34m(key, indexer)\u001b[0m\n\u001b[0;32m   2375\u001b[0m                 \u001b[1;32mdef\u001b[0m \u001b[0mpartial_selection\u001b[0m\u001b[1;33m(\u001b[0m\u001b[0mkey\u001b[0m\u001b[1;33m,\u001b[0m \u001b[0mindexer\u001b[0m\u001b[1;33m=\u001b[0m\u001b[1;32mNone\u001b[0m\u001b[1;33m)\u001b[0m\u001b[1;33m:\u001b[0m\u001b[1;33m\u001b[0m\u001b[1;33m\u001b[0m\u001b[0m\n\u001b[0;32m   2376\u001b[0m                     \u001b[1;32mif\u001b[0m \u001b[0mindexer\u001b[0m \u001b[1;32mis\u001b[0m \u001b[1;32mNone\u001b[0m\u001b[1;33m:\u001b[0m\u001b[1;33m\u001b[0m\u001b[1;33m\u001b[0m\u001b[0m\n\u001b[1;32m-> 2377\u001b[1;33m                         \u001b[0mindexer\u001b[0m \u001b[1;33m=\u001b[0m \u001b[0mself\u001b[0m\u001b[1;33m.\u001b[0m\u001b[0mget_loc\u001b[0m\u001b[1;33m(\u001b[0m\u001b[0mkey\u001b[0m\u001b[1;33m)\u001b[0m\u001b[1;33m\u001b[0m\u001b[1;33m\u001b[0m\u001b[0m\n\u001b[0m\u001b[0;32m   2378\u001b[0m                     ilevels = [i for i in range(len(key))\n\u001b[0;32m   2379\u001b[0m                                if key[i] != slice(None, None)]\n",
      "\u001b[1;32mI:\\Program Files\\Python\\Python37\\lib\\site-packages\\pandas\\core\\indexes\\multi.py\u001b[0m in \u001b[0;36mget_loc\u001b[1;34m(self, key, method)\u001b[0m\n\u001b[0;32m   2272\u001b[0m \u001b[1;33m\u001b[0m\u001b[0m\n\u001b[0;32m   2273\u001b[0m         \u001b[1;32mfor\u001b[0m \u001b[0mi\u001b[0m\u001b[1;33m,\u001b[0m \u001b[0mk\u001b[0m \u001b[1;32min\u001b[0m \u001b[0menumerate\u001b[0m\u001b[1;33m(\u001b[0m\u001b[0mfollow_key\u001b[0m\u001b[1;33m,\u001b[0m \u001b[0mlen\u001b[0m\u001b[1;33m(\u001b[0m\u001b[0mlead_key\u001b[0m\u001b[1;33m)\u001b[0m\u001b[1;33m)\u001b[0m\u001b[1;33m:\u001b[0m\u001b[1;33m\u001b[0m\u001b[1;33m\u001b[0m\u001b[0m\n\u001b[1;32m-> 2274\u001b[1;33m             \u001b[0mmask\u001b[0m \u001b[1;33m=\u001b[0m \u001b[0mself\u001b[0m\u001b[1;33m.\u001b[0m\u001b[0mlabels\u001b[0m\u001b[1;33m[\u001b[0m\u001b[0mi\u001b[0m\u001b[1;33m]\u001b[0m\u001b[1;33m[\u001b[0m\u001b[0mloc\u001b[0m\u001b[1;33m]\u001b[0m \u001b[1;33m==\u001b[0m \u001b[0mself\u001b[0m\u001b[1;33m.\u001b[0m\u001b[0mlevels\u001b[0m\u001b[1;33m[\u001b[0m\u001b[0mi\u001b[0m\u001b[1;33m]\u001b[0m\u001b[1;33m.\u001b[0m\u001b[0mget_loc\u001b[0m\u001b[1;33m(\u001b[0m\u001b[0mk\u001b[0m\u001b[1;33m)\u001b[0m\u001b[1;33m\u001b[0m\u001b[1;33m\u001b[0m\u001b[0m\n\u001b[0m\u001b[0;32m   2275\u001b[0m             \u001b[1;32mif\u001b[0m \u001b[1;32mnot\u001b[0m \u001b[0mmask\u001b[0m\u001b[1;33m.\u001b[0m\u001b[0mall\u001b[0m\u001b[1;33m(\u001b[0m\u001b[1;33m)\u001b[0m\u001b[1;33m:\u001b[0m\u001b[1;33m\u001b[0m\u001b[1;33m\u001b[0m\u001b[0m\n\u001b[0;32m   2276\u001b[0m                 \u001b[0mloc\u001b[0m \u001b[1;33m=\u001b[0m \u001b[0mloc\u001b[0m\u001b[1;33m[\u001b[0m\u001b[0mmask\u001b[0m\u001b[1;33m]\u001b[0m\u001b[1;33m\u001b[0m\u001b[1;33m\u001b[0m\u001b[0m\n",
      "\u001b[1;32mI:\\Program Files\\Python\\Python37\\lib\\site-packages\\pandas\\core\\indexes\\base.py\u001b[0m in \u001b[0;36mget_loc\u001b[1;34m(self, key, method, tolerance)\u001b[0m\n\u001b[0;32m   3078\u001b[0m                 \u001b[1;32mreturn\u001b[0m \u001b[0mself\u001b[0m\u001b[1;33m.\u001b[0m\u001b[0m_engine\u001b[0m\u001b[1;33m.\u001b[0m\u001b[0mget_loc\u001b[0m\u001b[1;33m(\u001b[0m\u001b[0mkey\u001b[0m\u001b[1;33m)\u001b[0m\u001b[1;33m\u001b[0m\u001b[1;33m\u001b[0m\u001b[0m\n\u001b[0;32m   3079\u001b[0m             \u001b[1;32mexcept\u001b[0m \u001b[0mKeyError\u001b[0m\u001b[1;33m:\u001b[0m\u001b[1;33m\u001b[0m\u001b[1;33m\u001b[0m\u001b[0m\n\u001b[1;32m-> 3080\u001b[1;33m                 \u001b[1;32mreturn\u001b[0m \u001b[0mself\u001b[0m\u001b[1;33m.\u001b[0m\u001b[0m_engine\u001b[0m\u001b[1;33m.\u001b[0m\u001b[0mget_loc\u001b[0m\u001b[1;33m(\u001b[0m\u001b[0mself\u001b[0m\u001b[1;33m.\u001b[0m\u001b[0m_maybe_cast_indexer\u001b[0m\u001b[1;33m(\u001b[0m\u001b[0mkey\u001b[0m\u001b[1;33m)\u001b[0m\u001b[1;33m)\u001b[0m\u001b[1;33m\u001b[0m\u001b[1;33m\u001b[0m\u001b[0m\n\u001b[0m\u001b[0;32m   3081\u001b[0m \u001b[1;33m\u001b[0m\u001b[0m\n\u001b[0;32m   3082\u001b[0m         \u001b[0mindexer\u001b[0m \u001b[1;33m=\u001b[0m \u001b[0mself\u001b[0m\u001b[1;33m.\u001b[0m\u001b[0mget_indexer\u001b[0m\u001b[1;33m(\u001b[0m\u001b[1;33m[\u001b[0m\u001b[0mkey\u001b[0m\u001b[1;33m]\u001b[0m\u001b[1;33m,\u001b[0m \u001b[0mmethod\u001b[0m\u001b[1;33m=\u001b[0m\u001b[0mmethod\u001b[0m\u001b[1;33m,\u001b[0m \u001b[0mtolerance\u001b[0m\u001b[1;33m=\u001b[0m\u001b[0mtolerance\u001b[0m\u001b[1;33m)\u001b[0m\u001b[1;33m\u001b[0m\u001b[1;33m\u001b[0m\u001b[0m\n",
      "\u001b[1;32mpandas\\_libs\\index.pyx\u001b[0m in \u001b[0;36mpandas._libs.index.IndexEngine.get_loc\u001b[1;34m()\u001b[0m\n",
      "\u001b[1;32mpandas\\_libs\\index.pyx\u001b[0m in \u001b[0;36mpandas._libs.index.IndexEngine.get_loc\u001b[1;34m()\u001b[0m\n",
      "\u001b[1;32mpandas\\_libs\\hashtable_class_helper.pxi\u001b[0m in \u001b[0;36mpandas._libs.hashtable.PyObjectHashTable.get_item\u001b[1;34m()\u001b[0m\n",
      "\u001b[1;32mpandas\\_libs\\hashtable_class_helper.pxi\u001b[0m in \u001b[0;36mpandas._libs.hashtable.PyObjectHashTable.get_item\u001b[1;34m()\u001b[0m\n",
      "\u001b[1;31mKeyError\u001b[0m: 'B1907017ADG'"
     ]
    }
   ],
   "source": [
    "ProducePrices('B1907017ADG','01',3,594.23,'5')"
   ]
  }
 ],
 "metadata": {
  "language_info": {
   "codemirror_mode": {
    "name": "ipython",
    "version": 3
   },
   "file_extension": ".py",
   "mimetype": "text/x-python",
   "name": "python",
   "nbconvert_exporter": "python",
   "pygments_lexer": "ipython3",
   "version": "3.7.1-final"
  },
  "orig_nbformat": 2,
  "kernelspec": {
   "name": "python_defaultSpec_1597796402909",
   "display_name": "Python 3.7.1 64-bit"
  }
 },
 "nbformat": 4,
 "nbformat_minor": 2
}